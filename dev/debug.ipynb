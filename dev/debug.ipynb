{
 "cells": [
  {
   "cell_type": "code",
   "execution_count": 1,
   "metadata": {},
   "outputs": [],
   "source": [
    "import torch\n",
    "from pathlib import Path\n",
    "import argparse"
   ]
  },
  {
   "cell_type": "code",
   "execution_count": 23,
   "metadata": {},
   "outputs": [],
   "source": [
    "import pandas as pd\n",
    "df = pd.DataFrame({'num_legs': [2, 4, 8, 0],\n",
    "                'num_wings': [2, 0, 0, 0],\n",
    "                'num_specimen_seen': [10, 2, 1, 8]},\n",
    "                index=['falcon', 'dog', 'spider', 'fish'])"
   ]
  },
  {
   "cell_type": "code",
   "execution_count": 2,
   "metadata": {},
   "outputs": [],
   "source": [
    "import numpy as np"
   ]
  },
  {
   "cell_type": "code",
   "execution_count": 8,
   "metadata": {},
   "outputs": [
    {
     "data": {
      "text/plain": [
       "{0, 1}"
      ]
     },
     "execution_count": 8,
     "metadata": {},
     "output_type": "execute_result"
    }
   ],
   "source": [
    "set(torch.from_numpy(np.array([1,0,1,0,1,0,0,1])).cuda().long().cpu().numpy())"
   ]
  },
  {
   "cell_type": "code",
   "execution_count": 29,
   "metadata": {},
   "outputs": [
    {
     "data": {
      "text/html": [
       "<div>\n",
       "<style scoped>\n",
       "    .dataframe tbody tr th:only-of-type {\n",
       "        vertical-align: middle;\n",
       "    }\n",
       "\n",
       "    .dataframe tbody tr th {\n",
       "        vertical-align: top;\n",
       "    }\n",
       "\n",
       "    .dataframe thead th {\n",
       "        text-align: right;\n",
       "    }\n",
       "</style>\n",
       "<table border=\"1\" class=\"dataframe\">\n",
       "  <thead>\n",
       "    <tr style=\"text-align: right;\">\n",
       "      <th></th>\n",
       "      <th>num_legs</th>\n",
       "      <th>num_wings</th>\n",
       "      <th>num_specimen_seen</th>\n",
       "    </tr>\n",
       "  </thead>\n",
       "  <tbody>\n",
       "    <tr>\n",
       "      <th>fish</th>\n",
       "      <td>0</td>\n",
       "      <td>0</td>\n",
       "      <td>8</td>\n",
       "    </tr>\n",
       "    <tr>\n",
       "      <th>spider</th>\n",
       "      <td>8</td>\n",
       "      <td>0</td>\n",
       "      <td>1</td>\n",
       "    </tr>\n",
       "  </tbody>\n",
       "</table>\n",
       "</div>"
      ],
      "text/plain": [
       "        num_legs  num_wings  num_specimen_seen\n",
       "fish           0          0                  8\n",
       "spider         8          0                  1"
      ]
     },
     "execution_count": 29,
     "metadata": {},
     "output_type": "execute_result"
    }
   ],
   "source": [
    "\n",
    "df.sample(n=min(2, len(df)), random_state=1)"
   ]
  },
  {
   "cell_type": "code",
   "execution_count": 43,
   "metadata": {},
   "outputs": [],
   "source": [
    "class Model(torch.nn.Module):\n",
    "    def __init__(self, input_dim):\n",
    "        super(Model, self).__init__()\n",
    "        self.layer1 = torch.nn.Linear(input_dim, 2)\n",
    "        self.layer2 = torch.nn.Linear(2, 2)\n",
    "        self.layer3 = torch.nn.Linear(2, 2)\n",
    "        \n",
    "    def forward(self, x):\n",
    "        x = self.layer1(x)\n",
    "        x = self.layer2(x)\n",
    "        x = self.layer3(x)\n",
    "        return x\n",
    "    \n",
    "    def hidden(self, x):\n",
    "        x = self.layer1(x)\n",
    "        x = self.layer2(x)\n",
    "        return x"
   ]
  },
  {
   "cell_type": "code",
   "execution_count": 70,
   "metadata": {},
   "outputs": [],
   "source": [
    "_model = Model(2)"
   ]
  },
  {
   "cell_type": "code",
   "execution_count": 45,
   "metadata": {},
   "outputs": [
    {
     "data": {
      "text/plain": [
       "Model(\n",
       "  (layer1): Linear(in_features=2, out_features=2, bias=True)\n",
       "  (layer2): Linear(in_features=2, out_features=2, bias=True)\n",
       "  (layer3): Linear(in_features=2, out_features=2, bias=True)\n",
       ")"
      ]
     },
     "execution_count": 45,
     "metadata": {},
     "output_type": "execute_result"
    }
   ],
   "source": [
    "_model"
   ]
  },
  {
   "cell_type": "code",
   "execution_count": 46,
   "metadata": {},
   "outputs": [],
   "source": [
    "from torch import optim"
   ]
  },
  {
   "cell_type": "code",
   "execution_count": 58,
   "metadata": {},
   "outputs": [],
   "source": [
    "parameters = [\n",
    "    {\"params\":_model.layer1.parameters()},\n",
    "    {\"params\":_model.layer2.parameters(),}\n",
    "]"
   ]
  },
  {
   "cell_type": "code",
   "execution_count": 71,
   "metadata": {},
   "outputs": [],
   "source": [
    "optimizer = optim.Adam(_model.parameters())"
   ]
  },
  {
   "cell_type": "code",
   "execution_count": 72,
   "metadata": {},
   "outputs": [
    {
     "name": "stdout",
     "output_type": "stream",
     "text": [
      "layer1.weight None\n",
      "layer1.bias None\n",
      "layer2.weight None\n",
      "layer2.bias None\n",
      "layer3.weight tensor([[-0.0660, -0.0946],\n",
      "        [-0.0660, -0.0946]])\n",
      "layer3.bias tensor([0.5000, 0.5000])\n"
     ]
    }
   ],
   "source": [
    "# loss = torch.mean(_model(torch.randn(10, 2)))\n",
    "\n",
    "_hidden = _model.hidden(torch.randn(10, 2)).detach()\n",
    "\n",
    "\n",
    "loss = torch.mean(_model.layer3(_hidden))\n",
    "loss.backward()\n",
    "\n",
    "for name, param in _model.named_parameters():\n",
    "    print(name, param.grad)"
   ]
  },
  {
   "cell_type": "code",
   "execution_count": 74,
   "metadata": {},
   "outputs": [],
   "source": [
    "optimizer.step()\n",
    "optimizer.zero_grad()"
   ]
  },
  {
   "cell_type": "code",
   "execution_count": 75,
   "metadata": {},
   "outputs": [
    {
     "name": "stdout",
     "output_type": "stream",
     "text": [
      "layer1.weight None\n",
      "layer1.bias None\n",
      "layer2.weight None\n",
      "layer2.bias None\n",
      "layer3.weight tensor([[0., 0.],\n",
      "        [0., 0.]])\n",
      "layer3.bias tensor([0., 0.])\n"
     ]
    }
   ],
   "source": [
    "for name, param in _model.named_parameters():\n",
    "    print(name, param.grad)"
   ]
  },
  {
   "cell_type": "code",
   "execution_count": 63,
   "metadata": {},
   "outputs": [],
   "source": [
    "zero_grad_parameters = [\n",
    "    {\"params\":_model.layer3.parameters(),}\n",
    "]"
   ]
  },
  {
   "cell_type": "code",
   "execution_count": 64,
   "metadata": {},
   "outputs": [],
   "source": [
    "def zero_grad(param_groups):\n",
    "    r\"\"\"Clears the gradients of all optimized :class:`torch.Tensor` s.\"\"\"\n",
    "    for group in param_groups:\n",
    "        for p in group['params']:\n",
    "            if p.grad is not None:\n",
    "                p.grad.detach_()\n",
    "                p.grad.zero_()"
   ]
  },
  {
   "cell_type": "code",
   "execution_count": 65,
   "metadata": {},
   "outputs": [],
   "source": [
    "zero_grad(zero_grad_parameters)"
   ]
  },
  {
   "cell_type": "code",
   "execution_count": 66,
   "metadata": {},
   "outputs": [
    {
     "name": "stdout",
     "output_type": "stream",
     "text": [
      "layer1.weight tensor([[-0.0037,  0.0078],\n",
      "        [ 0.0003, -0.0007]])\n",
      "layer1.bias tensor([ 0.0443, -0.0038])\n",
      "layer2.weight tensor([[-0.0349,  0.0052],\n",
      "        [ 0.1550, -0.0230]])\n",
      "layer2.bias tensor([-0.1076,  0.4787])\n",
      "layer3.weight tensor([[0., 0.],\n",
      "        [0., 0.]])\n",
      "layer3.bias tensor([0., 0.])\n"
     ]
    }
   ],
   "source": [
    "for name, param in _model.named_parameters():\n",
    "    print(name, param.grad)"
   ]
  },
  {
   "cell_type": "code",
   "execution_count": 78,
   "metadata": {},
   "outputs": [
    {
     "data": {
      "text/plain": [
       "2"
      ]
     },
     "execution_count": 78,
     "metadata": {},
     "output_type": "execute_result"
    }
   ],
   "source": [
    "11 % 3"
   ]
  },
  {
   "cell_type": "code",
   "execution_count": null,
   "metadata": {},
   "outputs": [],
   "source": []
  },
  {
   "cell_type": "code",
   "execution_count": 22,
   "metadata": {},
   "outputs": [],
   "source": [
    "import shutil"
   ]
  },
  {
   "cell_type": "code",
   "execution_count": 5,
   "metadata": {},
   "outputs": [],
   "source": [
    "vars = {\n",
    "    \"asd\":1\n",
    "}"
   ]
  },
  {
   "cell_type": "code",
   "execution_count": 8,
   "metadata": {},
   "outputs": [],
   "source": [
    "import yaml"
   ]
  },
  {
   "cell_type": "code",
   "execution_count": 11,
   "metadata": {},
   "outputs": [],
   "source": [
    "with open(r\"D:\\Project\\Fair_NLP_Classification\\dev\\results\\dev\\Moji\\dev_fcl\\opt.yaml\", 'r') as f:\n",
    "    f = yaml.full_load(f)"
   ]
  },
  {
   "cell_type": "code",
   "execution_count": 18,
   "metadata": {},
   "outputs": [
    {
     "data": {
      "text/plain": [
       "Namespace(BT=None, BTObj=None, DyBT=None, DyBTObj=None, DyBTalpha=0.1, DyBTinit='original', FCL=True, INLP=False, INLP_by_class=False, INLP_discriminator_reweighting=None, INLP_min_acc=0.0, INLP_n=300, activation_function='Tanh', adv_BT=None, adv_BTObj=None, adv_activation_function='ReLu', adv_batch_norm=False, adv_batch_size=1024, adv_checkpoint_interval=1, adv_debiasing=False, adv_decoupling=False, adv_diverse_lambda=0.0, adv_dropout=0, adv_epochs=100, adv_epochs_since_improvement=5, adv_gated=False, adv_gated_mapping=None, adv_hidden_size=300, adv_lambda=1, adv_level='last_hidden', adv_lr=0.001, adv_n_hidden=2, adv_num_classes=2, adv_num_subDiscriminator=1, adv_test_batch_size=1024, adv_uniform_label=False, adv_update_frequency='Batch', base_seed=1, batch_norm=False, batch_size=1024, checkpoint_interval=1, data_dir=None, dataset='Moji', device_id=0, dropout=0, emb_size=2304, encoder_architecture='Fixed', epochs=100, epochs_since_improvement=5, exp_id='dev_fcl', fcl_base_temperature_g=0.01, fcl_base_temperature_y=0.01, fcl_lambda_g=0.5, fcl_lambda_y=0.5, fcl_temperature_g=0.01, fcl_temperature_y=0.01, full_label=True, gated=False, gated_mapping=None, hidden_size=300, log_file='./results/dev\\\\Moji\\\\dev_fcl\\\\output.log', log_interval=50, log_level='INFO', lr=0.003, model_dir='./results/dev\\\\Moji\\\\dev_fcl\\\\models', n_hidden=2, no_log=False, num_classes=2, num_workers=0, project_dir='dev', results_dir='./results/', start_time='2022-03-13 08:34:34', test_batch_size=1024)"
      ]
     },
     "execution_count": 18,
     "metadata": {},
     "output_type": "execute_result"
    }
   ],
   "source": [
    "argparse.Namespace(**f)"
   ]
  },
  {
   "cell_type": "code",
   "execution_count": 15,
   "metadata": {},
   "outputs": [
    {
     "data": {
      "text/plain": [
       "dict_keys(['BT', 'BTObj', 'DyBT', 'DyBTObj', 'DyBTalpha', 'DyBTinit', 'FCL', 'INLP', 'INLP_by_class', 'INLP_discriminator_reweighting', 'INLP_min_acc', 'INLP_n', 'activation_function', 'adv_BT', 'adv_BTObj', 'adv_activation_function', 'adv_batch_norm', 'adv_batch_size', 'adv_checkpoint_interval', 'adv_debiasing', 'adv_decoupling', 'adv_diverse_lambda', 'adv_dropout', 'adv_epochs', 'adv_epochs_since_improvement', 'adv_gated', 'adv_gated_mapping', 'adv_hidden_size', 'adv_lambda', 'adv_level', 'adv_lr', 'adv_n_hidden', 'adv_num_classes', 'adv_num_subDiscriminator', 'adv_test_batch_size', 'adv_uniform_label', 'adv_update_frequency', 'base_seed', 'batch_norm', 'batch_size', 'checkpoint_interval', 'data_dir', 'dataset', 'device_id', 'dropout', 'emb_size', 'encoder_architecture', 'epochs', 'epochs_since_improvement', 'exp_id', 'fcl_base_temperature_g', 'fcl_base_temperature_y', 'fcl_lambda_g', 'fcl_lambda_y', 'fcl_temperature_g', 'fcl_temperature_y', 'full_label', 'gated', 'gated_mapping', 'hidden_size', 'log_file', 'log_interval', 'log_level', 'lr', 'model_dir', 'n_hidden', 'no_log', 'num_classes', 'num_workers', 'project_dir', 'results_dir', 'start_time', 'test_batch_size'])"
      ]
     },
     "execution_count": 15,
     "metadata": {},
     "output_type": "execute_result"
    }
   ],
   "source": [
    "f.keys()"
   ]
  },
  {
   "cell_type": "code",
   "execution_count": 17,
   "metadata": {},
   "outputs": [
    {
     "data": {
      "text/plain": [
       "bool"
      ]
     },
     "execution_count": 17,
     "metadata": {},
     "output_type": "execute_result"
    }
   ],
   "source": [
    "type(f[\"adv_debiasing\"])"
   ]
  },
  {
   "cell_type": "code",
   "execution_count": 21,
   "metadata": {},
   "outputs": [
    {
     "name": "stdout",
     "output_type": "stream",
     "text": [
      "{'1': 1, '2': 2}\n"
     ]
    }
   ],
   "source": [
    "_tmp_dict = {\"1\":1}\n",
    "_tmp_dict.update({\"2\":2})\n",
    "print(_tmp_dict)"
   ]
  },
  {
   "cell_type": "code",
   "execution_count": 6,
   "metadata": {},
   "outputs": [
    {
     "data": {
      "text/plain": [
       "{'asd': 1}"
      ]
     },
     "execution_count": 6,
     "metadata": {},
     "output_type": "execute_result"
    }
   ],
   "source": [
    "vars"
   ]
  },
  {
   "cell_type": "code",
   "execution_count": 7,
   "metadata": {},
   "outputs": [
    {
     "data": {
      "text/plain": [
       "Namespace(asd=1)"
      ]
     },
     "execution_count": 7,
     "metadata": {},
     "output_type": "execute_result"
    }
   ],
   "source": [
    "argparse.Namespace(**vars)"
   ]
  },
  {
   "cell_type": "code",
   "execution_count": 3,
   "metadata": {},
   "outputs": [
    {
     "ename": "TypeError",
     "evalue": "vars() argument must have __dict__ attribute",
     "output_type": "error",
     "traceback": [
      "\u001b[1;31m---------------------------------------------------------------------------\u001b[0m",
      "\u001b[1;31mTypeError\u001b[0m                                 Traceback (most recent call last)",
      "\u001b[1;32m~\\AppData\\Local\\Temp/ipykernel_34084/1101720499.py\u001b[0m in \u001b[0;36m<module>\u001b[1;34m\u001b[0m\n\u001b[1;32m----> 1\u001b[1;33m \u001b[0margparse\u001b[0m\u001b[1;33m.\u001b[0m\u001b[0mNamespace\u001b[0m\u001b[1;33m(\u001b[0m\u001b[1;33m**\u001b[0m\u001b[0mvars\u001b[0m\u001b[1;33m(\u001b[0m\u001b[1;33m{\u001b[0m\u001b[1;34m\"K\"\u001b[0m\u001b[1;33m:\u001b[0m\u001b[1;36m1\u001b[0m\u001b[1;33m}\u001b[0m\u001b[1;33m)\u001b[0m\u001b[1;33m)\u001b[0m\u001b[1;33m\u001b[0m\u001b[1;33m\u001b[0m\u001b[0m\n\u001b[0m",
      "\u001b[1;31mTypeError\u001b[0m: vars() argument must have __dict__ attribute"
     ]
    }
   ],
   "source": [
    "argparse.Namespace()"
   ]
  },
  {
   "cell_type": "code",
   "execution_count": 4,
   "metadata": {},
   "outputs": [
    {
     "ename": "TypeError",
     "evalue": "vars() argument must have __dict__ attribute",
     "output_type": "error",
     "traceback": [
      "\u001b[1;31m---------------------------------------------------------------------------\u001b[0m",
      "\u001b[1;31mTypeError\u001b[0m                                 Traceback (most recent call last)",
      "\u001b[1;32m~\\AppData\\Local\\Temp/ipykernel_34084/837072024.py\u001b[0m in \u001b[0;36m<module>\u001b[1;34m\u001b[0m\n\u001b[1;32m----> 1\u001b[1;33m \u001b[0mvars\u001b[0m\u001b[1;33m(\u001b[0m\u001b[1;33m{\u001b[0m\u001b[1;34m\"K\"\u001b[0m\u001b[1;33m:\u001b[0m\u001b[1;36m1\u001b[0m\u001b[1;33m}\u001b[0m\u001b[1;33m)\u001b[0m\u001b[1;33m\u001b[0m\u001b[1;33m\u001b[0m\u001b[0m\n\u001b[0m",
      "\u001b[1;31mTypeError\u001b[0m: vars() argument must have __dict__ attribute"
     ]
    }
   ],
   "source": [
    "vars({\"K\":1})"
   ]
  },
  {
   "cell_type": "code",
   "execution_count": null,
   "metadata": {},
   "outputs": [],
   "source": []
  },
  {
   "cell_type": "code",
   "execution_count": 2,
   "metadata": {},
   "outputs": [],
   "source": [
    "checkpoint_dir = Path(r\"logs\\Bios_both\\both_adv\\models\")"
   ]
  },
  {
   "cell_type": "code",
   "execution_count": 3,
   "metadata": {},
   "outputs": [],
   "source": [
    "_epoch_results = torch.load(checkpoint_dir / \"checkpoint_epoch18.pth.tar\")"
   ]
  },
  {
   "cell_type": "code",
   "execution_count": 4,
   "metadata": {},
   "outputs": [
    {
     "data": {
      "text/plain": [
       "dict_keys(['epoch', 'epochs_since_improvement', 'loss', 'dev_predictions', 'test_predictions', 'dev_evaluations', 'test_evaluations'])"
      ]
     },
     "execution_count": 4,
     "metadata": {},
     "output_type": "execute_result"
    }
   ],
   "source": [
    "_epoch_results.keys()"
   ]
  },
  {
   "cell_type": "code",
   "execution_count": 5,
   "metadata": {},
   "outputs": [
    {
     "data": {
      "text/plain": [
       "{'rms_TPR': 0.43560272485196483,\n",
       " 'accuracy': 0.8031215772179627,\n",
       " 'macro_fscore': 0.7283969094156552,\n",
       " 'micro_fscore': 0.8031215772179627}"
      ]
     },
     "execution_count": 5,
     "metadata": {},
     "output_type": "execute_result"
    }
   ],
   "source": [
    "_epoch_results[\"dev_evaluations\"]"
   ]
  },
  {
   "cell_type": "code",
   "execution_count": 6,
   "metadata": {},
   "outputs": [],
   "source": [
    "# Load Bios dataset\n",
    "import pandas as pd\n",
    "\n",
    "data_dir = Path(r\"D:\\Project\\Minding_Imbalance_in_Discriminator_Training\\data\\bios\")\n",
    "\n",
    "bios_dev_df = pd.read_pickle(data_dir / \"bios_dev_df.pkl\")\n",
    "bios_test_df = pd.read_pickle(data_dir / \"bios_test_df.pkl\")"
   ]
  },
  {
   "cell_type": "code",
   "execution_count": 7,
   "metadata": {},
   "outputs": [],
   "source": [
    "def return_y_g(my_df):\n",
    "    my_df = my_df[my_df[\"economy_label\"]!=\"Unknown\"]\n",
    "    return my_df[\"profession_class\"].to_numpy(), my_df[\"intersection_class\"].to_numpy()"
   ]
  },
  {
   "cell_type": "code",
   "execution_count": 8,
   "metadata": {},
   "outputs": [],
   "source": [
    "dev_y, dev_g = return_y_g(bios_dev_df)\n",
    "test_y, test_g = return_y_g(bios_test_df)"
   ]
  },
  {
   "cell_type": "code",
   "execution_count": 11,
   "metadata": {},
   "outputs": [],
   "source": [
    "from src.evaluator import gap_eval_scores"
   ]
  },
  {
   "cell_type": "code",
   "execution_count": 12,
   "metadata": {},
   "outputs": [
    {
     "data": {
      "text/plain": [
       "{'accuracy': 0.8031215772179627,\n",
       " 'macro_fscore': 0.7283969094156552,\n",
       " 'micro_fscore': 0.8031215772179627,\n",
       " 'TPR_GAP': 0.43560272485196483,\n",
       " 'FPR_GAP': 0.005944258843174327,\n",
       " 'PPR_GAP': 0.039407736760176205}"
      ]
     },
     "execution_count": 12,
     "metadata": {},
     "output_type": "execute_result"
    }
   ],
   "source": [
    "gap_eval_scores(\n",
    "    y_pred = _epoch_results[\"dev_predictions\"], \n",
    "    y_true = dev_y, \n",
    "    protected_attribute = dev_g)"
   ]
  },
  {
   "cell_type": "code",
   "execution_count": 13,
   "metadata": {},
   "outputs": [
    {
     "data": {
      "text/plain": [
       "{'accuracy': 0.8068291982334566,\n",
       " 'macro_fscore': 0.7401184913339307,\n",
       " 'micro_fscore': 0.8068291982334566,\n",
       " 'TPR_GAP': 0.4340048368332264,\n",
       " 'FPR_GAP': 0.006683039984137971,\n",
       " 'PPR_GAP': 0.04327407716322931}"
      ]
     },
     "execution_count": 13,
     "metadata": {},
     "output_type": "execute_result"
    }
   ],
   "source": [
    "gap_eval_scores(\n",
    "    y_pred = _epoch_results[\"test_predictions\"], \n",
    "    y_true = test_y, \n",
    "    protected_attribute = test_g)"
   ]
  },
  {
   "cell_type": "code",
   "execution_count": null,
   "metadata": {},
   "outputs": [],
   "source": []
  },
  {
   "cell_type": "code",
   "execution_count": 1,
   "metadata": {},
   "outputs": [],
   "source": [
    "import torch"
   ]
  },
  {
   "cell_type": "code",
   "execution_count": 6,
   "metadata": {},
   "outputs": [
    {
     "data": {
      "text/plain": [
       "tensor([[0.3813, 0.4044],\n",
       "        [0.5354, 0.5314],\n",
       "        [0.2815, 0.2595],\n",
       "        [0.1855, 0.4117],\n",
       "        [0.6113, 0.1589],\n",
       "        [0.0065, 0.0567],\n",
       "        [0.2697, 0.1700]])"
      ]
     },
     "execution_count": 6,
     "metadata": {},
     "output_type": "execute_result"
    }
   ],
   "source": [
    "torch.cat([torch.rand((3,2)), torch.rand((4,2))], dim=0)"
   ]
  },
  {
   "cell_type": "code",
   "execution_count": 7,
   "metadata": {},
   "outputs": [],
   "source": [
    "items = [0,1,2,3,4,5,6,7,8]\n",
    "\n",
    "lb_dict = {\n",
    "    (1,item):i for i, item in enumerate(items)\n",
    "}"
   ]
  },
  {
   "cell_type": "code",
   "execution_count": 8,
   "metadata": {},
   "outputs": [
    {
     "data": {
      "text/plain": [
       "{(1, 0): 0,\n",
       " (1, 1): 1,\n",
       " (1, 2): 2,\n",
       " (1, 3): 3,\n",
       " (1, 4): 4,\n",
       " (1, 5): 5,\n",
       " (1, 6): 6,\n",
       " (1, 7): 7,\n",
       " (1, 8): 8}"
      ]
     },
     "execution_count": 8,
     "metadata": {},
     "output_type": "execute_result"
    }
   ],
   "source": [
    "lb_dict"
   ]
  },
  {
   "cell_type": "code",
   "execution_count": 10,
   "metadata": {},
   "outputs": [
    {
     "ename": "SyntaxError",
     "evalue": "invalid syntax (Temp/ipykernel_27468/1820016294.py, line 1)",
     "output_type": "error",
     "traceback": [
      "\u001b[1;36m  File \u001b[1;32m\"C:\\Users\\emano\\AppData\\Local\\Temp/ipykernel_27468/1820016294.py\"\u001b[1;36m, line \u001b[1;32m1\u001b[0m\n\u001b[1;33m    lb_dict[(1, item)]+=1 for item in items\u001b[0m\n\u001b[1;37m                            ^\u001b[0m\n\u001b[1;31mSyntaxError\u001b[0m\u001b[1;31m:\u001b[0m invalid syntax\n"
     ]
    }
   ],
   "source": [
    "[lb_dict[(1, item)]+=1 for item in items]\n",
    "\n",
    "lb_dict"
   ]
  },
  {
   "cell_type": "code",
   "execution_count": 13,
   "metadata": {},
   "outputs": [
    {
     "data": {
      "text/plain": [
       "(3,)"
      ]
     },
     "execution_count": 13,
     "metadata": {},
     "output_type": "execute_result"
    }
   ],
   "source": [
    "import numpy as np\n",
    "np.array([1,2,3]).shape"
   ]
  },
  {
   "cell_type": "code",
   "execution_count": 17,
   "metadata": {},
   "outputs": [],
   "source": [
    "tt = torch.tensor(\n",
    "    [\n",
    "        [\n",
    "        [1,2,3],\n",
    "        [4,5,6]\n",
    "    ]]\n",
    ")"
   ]
  },
  {
   "cell_type": "code",
   "execution_count": 18,
   "metadata": {},
   "outputs": [
    {
     "data": {
      "text/plain": [
       "tensor([[[1, 2, 3],\n",
       "         [4, 5, 6]]])"
      ]
     },
     "execution_count": 18,
     "metadata": {},
     "output_type": "execute_result"
    }
   ],
   "source": [
    "tt"
   ]
  },
  {
   "cell_type": "code",
   "execution_count": 19,
   "metadata": {},
   "outputs": [
    {
     "data": {
      "text/plain": [
       "tensor([[1, 2, 3],\n",
       "        [4, 5, 6]])"
      ]
     },
     "execution_count": 19,
     "metadata": {},
     "output_type": "execute_result"
    }
   ],
   "source": [
    "tt.squeeze()"
   ]
  },
  {
   "cell_type": "code",
   "execution_count": null,
   "metadata": {},
   "outputs": [],
   "source": []
  }
 ],
 "metadata": {
  "interpreter": {
   "hash": "086b6e2ac5931a4f7a51b812f0475290a145e7d51f3e22b53c52adf5c273fe30"
  },
  "kernelspec": {
   "display_name": "Python 3.7.12 ('py37')",
   "language": "python",
   "name": "python3"
  },
  "language_info": {
   "codemirror_mode": {
    "name": "ipython",
    "version": 3
   },
   "file_extension": ".py",
   "mimetype": "text/x-python",
   "name": "python",
   "nbconvert_exporter": "python",
   "pygments_lexer": "ipython3",
   "version": "3.7.12"
  },
  "orig_nbformat": 4
 },
 "nbformat": 4,
 "nbformat_minor": 2
}
