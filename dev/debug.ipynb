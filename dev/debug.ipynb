{
 "cells": [
  {
   "cell_type": "code",
   "execution_count": 1,
   "metadata": {},
   "outputs": [],
   "source": [
    "import torch\n",
    "from pathlib import Path"
   ]
  },
  {
   "cell_type": "code",
   "execution_count": 2,
   "metadata": {},
   "outputs": [],
   "source": [
    "checkpoint_dir = Path(r\"logs\\Bios_both\\both_adv\\models\")"
   ]
  },
  {
   "cell_type": "code",
   "execution_count": 3,
   "metadata": {},
   "outputs": [],
   "source": [
    "_epoch_results = torch.load(checkpoint_dir / \"checkpoint_epoch18.pth.tar\")"
   ]
  },
  {
   "cell_type": "code",
   "execution_count": 4,
   "metadata": {},
   "outputs": [
    {
     "data": {
      "text/plain": [
       "dict_keys(['epoch', 'epochs_since_improvement', 'loss', 'dev_predictions', 'test_predictions', 'dev_evaluations', 'test_evaluations'])"
      ]
     },
     "execution_count": 4,
     "metadata": {},
     "output_type": "execute_result"
    }
   ],
   "source": [
    "_epoch_results.keys()"
   ]
  },
  {
   "cell_type": "code",
   "execution_count": 5,
   "metadata": {},
   "outputs": [
    {
     "data": {
      "text/plain": [
       "{'rms_TPR': 0.43560272485196483,\n",
       " 'accuracy': 0.8031215772179627,\n",
       " 'macro_fscore': 0.7283969094156552,\n",
       " 'micro_fscore': 0.8031215772179627}"
      ]
     },
     "execution_count": 5,
     "metadata": {},
     "output_type": "execute_result"
    }
   ],
   "source": [
    "_epoch_results[\"dev_evaluations\"]"
   ]
  },
  {
   "cell_type": "code",
   "execution_count": 6,
   "metadata": {},
   "outputs": [],
   "source": [
    "# Load Bios dataset\n",
    "import pandas as pd\n",
    "\n",
    "data_dir = Path(r\"D:\\Project\\Minding_Imbalance_in_Discriminator_Training\\data\\bios\")\n",
    "\n",
    "bios_dev_df = pd.read_pickle(data_dir / \"bios_dev_df.pkl\")\n",
    "bios_test_df = pd.read_pickle(data_dir / \"bios_test_df.pkl\")"
   ]
  },
  {
   "cell_type": "code",
   "execution_count": 7,
   "metadata": {},
   "outputs": [],
   "source": [
    "def return_y_g(my_df):\n",
    "    my_df = my_df[my_df[\"economy_label\"]!=\"Unknown\"]\n",
    "    return my_df[\"profession_class\"].to_numpy(), my_df[\"intersection_class\"].to_numpy()"
   ]
  },
  {
   "cell_type": "code",
   "execution_count": 8,
   "metadata": {},
   "outputs": [],
   "source": [
    "dev_y, dev_g = return_y_g(bios_dev_df)\n",
    "test_y, test_g = return_y_g(bios_test_df)"
   ]
  },
  {
   "cell_type": "code",
   "execution_count": 11,
   "metadata": {},
   "outputs": [],
   "source": [
    "from src.evaluator import gap_eval_scores"
   ]
  },
  {
   "cell_type": "code",
   "execution_count": 12,
   "metadata": {},
   "outputs": [
    {
     "data": {
      "text/plain": [
       "{'accuracy': 0.8031215772179627,\n",
       " 'macro_fscore': 0.7283969094156552,\n",
       " 'micro_fscore': 0.8031215772179627,\n",
       " 'TPR_GAP': 0.43560272485196483,\n",
       " 'FPR_GAP': 0.005944258843174327,\n",
       " 'PPR_GAP': 0.039407736760176205}"
      ]
     },
     "execution_count": 12,
     "metadata": {},
     "output_type": "execute_result"
    }
   ],
   "source": [
    "gap_eval_scores(\n",
    "    y_pred = _epoch_results[\"dev_predictions\"], \n",
    "    y_true = dev_y, \n",
    "    protected_attribute = dev_g)"
   ]
  },
  {
   "cell_type": "code",
   "execution_count": 13,
   "metadata": {},
   "outputs": [
    {
     "data": {
      "text/plain": [
       "{'accuracy': 0.8068291982334566,\n",
       " 'macro_fscore': 0.7401184913339307,\n",
       " 'micro_fscore': 0.8068291982334566,\n",
       " 'TPR_GAP': 0.4340048368332264,\n",
       " 'FPR_GAP': 0.006683039984137971,\n",
       " 'PPR_GAP': 0.04327407716322931}"
      ]
     },
     "execution_count": 13,
     "metadata": {},
     "output_type": "execute_result"
    }
   ],
   "source": [
    "gap_eval_scores(\n",
    "    y_pred = _epoch_results[\"test_predictions\"], \n",
    "    y_true = test_y, \n",
    "    protected_attribute = test_g)"
   ]
  },
  {
   "cell_type": "code",
   "execution_count": null,
   "metadata": {},
   "outputs": [],
   "source": []
  },
  {
   "cell_type": "code",
   "execution_count": 1,
   "metadata": {},
   "outputs": [],
   "source": [
    "import torch"
   ]
  },
  {
   "cell_type": "code",
   "execution_count": 6,
   "metadata": {},
   "outputs": [
    {
     "data": {
      "text/plain": [
       "tensor([[0.3813, 0.4044],\n",
       "        [0.5354, 0.5314],\n",
       "        [0.2815, 0.2595],\n",
       "        [0.1855, 0.4117],\n",
       "        [0.6113, 0.1589],\n",
       "        [0.0065, 0.0567],\n",
       "        [0.2697, 0.1700]])"
      ]
     },
     "execution_count": 6,
     "metadata": {},
     "output_type": "execute_result"
    }
   ],
   "source": [
    "torch.cat([torch.rand((3,2)), torch.rand((4,2))], dim=0)"
   ]
  },
  {
   "cell_type": "code",
   "execution_count": 7,
   "metadata": {},
   "outputs": [],
   "source": [
    "items = [0,1,2,3,4,5,6,7,8]\n",
    "\n",
    "lb_dict = {\n",
    "    (1,item):i for i, item in enumerate(items)\n",
    "}"
   ]
  },
  {
   "cell_type": "code",
   "execution_count": 8,
   "metadata": {},
   "outputs": [
    {
     "data": {
      "text/plain": [
       "{(1, 0): 0,\n",
       " (1, 1): 1,\n",
       " (1, 2): 2,\n",
       " (1, 3): 3,\n",
       " (1, 4): 4,\n",
       " (1, 5): 5,\n",
       " (1, 6): 6,\n",
       " (1, 7): 7,\n",
       " (1, 8): 8}"
      ]
     },
     "execution_count": 8,
     "metadata": {},
     "output_type": "execute_result"
    }
   ],
   "source": [
    "lb_dict"
   ]
  },
  {
   "cell_type": "code",
   "execution_count": 10,
   "metadata": {},
   "outputs": [
    {
     "ename": "SyntaxError",
     "evalue": "invalid syntax (Temp/ipykernel_27468/1820016294.py, line 1)",
     "output_type": "error",
     "traceback": [
      "\u001b[1;36m  File \u001b[1;32m\"C:\\Users\\emano\\AppData\\Local\\Temp/ipykernel_27468/1820016294.py\"\u001b[1;36m, line \u001b[1;32m1\u001b[0m\n\u001b[1;33m    lb_dict[(1, item)]+=1 for item in items\u001b[0m\n\u001b[1;37m                            ^\u001b[0m\n\u001b[1;31mSyntaxError\u001b[0m\u001b[1;31m:\u001b[0m invalid syntax\n"
     ]
    }
   ],
   "source": [
    "[lb_dict[(1, item)]+=1 for item in items]\n",
    "\n",
    "lb_dict"
   ]
  },
  {
   "cell_type": "code",
   "execution_count": 13,
   "metadata": {},
   "outputs": [
    {
     "data": {
      "text/plain": [
       "(3,)"
      ]
     },
     "execution_count": 13,
     "metadata": {},
     "output_type": "execute_result"
    }
   ],
   "source": [
    "import numpy as np\n",
    "np.array([1,2,3]).shape"
   ]
  },
  {
   "cell_type": "code",
   "execution_count": 17,
   "metadata": {},
   "outputs": [],
   "source": [
    "tt = torch.tensor(\n",
    "    [\n",
    "        [\n",
    "        [1,2,3],\n",
    "        [4,5,6]\n",
    "    ]]\n",
    ")"
   ]
  },
  {
   "cell_type": "code",
   "execution_count": 18,
   "metadata": {},
   "outputs": [
    {
     "data": {
      "text/plain": [
       "tensor([[[1, 2, 3],\n",
       "         [4, 5, 6]]])"
      ]
     },
     "execution_count": 18,
     "metadata": {},
     "output_type": "execute_result"
    }
   ],
   "source": [
    "tt"
   ]
  },
  {
   "cell_type": "code",
   "execution_count": 19,
   "metadata": {},
   "outputs": [
    {
     "data": {
      "text/plain": [
       "tensor([[1, 2, 3],\n",
       "        [4, 5, 6]])"
      ]
     },
     "execution_count": 19,
     "metadata": {},
     "output_type": "execute_result"
    }
   ],
   "source": [
    "tt.squeeze()"
   ]
  },
  {
   "cell_type": "code",
   "execution_count": null,
   "metadata": {},
   "outputs": [],
   "source": []
  }
 ],
 "metadata": {
  "interpreter": {
   "hash": "086b6e2ac5931a4f7a51b812f0475290a145e7d51f3e22b53c52adf5c273fe30"
  },
  "kernelspec": {
   "display_name": "Python 3.7.12 ('py37')",
   "language": "python",
   "name": "python3"
  },
  "language_info": {
   "codemirror_mode": {
    "name": "ipython",
    "version": 3
   },
   "file_extension": ".py",
   "mimetype": "text/x-python",
   "name": "python",
   "nbconvert_exporter": "python",
   "pygments_lexer": "ipython3",
   "version": "3.7.12"
  },
  "orig_nbformat": 4
 },
 "nbformat": 4,
 "nbformat_minor": 2
}
