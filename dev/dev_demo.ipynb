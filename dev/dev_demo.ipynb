{
 "cells": [
  {
   "cell_type": "markdown",
   "metadata": {},
   "source": [
    "# FairCLS\n",
    "[![Open In Colab](https://colab.research.google.com/assets/colab-badge.svg)](https://colab.research.google.com/github/HanXudong/Fair_NLP_Classification/blob/main/demo.ipynb)"
   ]
  },
  {
   "cell_type": "markdown",
   "metadata": {},
   "source": [
    "## 1. Installation"
   ]
  },
  {
   "cell_type": "code",
   "execution_count": 1,
   "metadata": {},
   "outputs": [],
   "source": [
    "# !pip install dist\\faircls-0.0.1-py3-none-any.whl"
   ]
  },
  {
   "cell_type": "code",
   "execution_count": 2,
   "metadata": {},
   "outputs": [],
   "source": [
    "import faircls"
   ]
  },
  {
   "cell_type": "markdown",
   "metadata": {},
   "source": [
    "## 2. Prepare Dataset"
   ]
  },
  {
   "cell_type": "code",
   "execution_count": 3,
   "metadata": {},
   "outputs": [],
   "source": [
    "# !wget --load-cookies /tmp/cookies.txt \"https://docs.google.com/uc?export=download&confirm=$(wget --quiet --save-cookies /tmp/cookies.txt --keep-session-cookies --no-check-certificate 'https://docs.google.com/uc?export=download&id=1j4f6N4AncY4hER6xUuXFkB9m8SvPcKT8' -O- | sed -rn 's/.*confirm=([0-9A-Za-z_]+).*/\\1\\n/p')&id=1j4f6N4AncY4hER6xUuXFkB9m8SvPcKT8\" -O sample_data.tar.gz && rm -rf /tmp/cookies.txt"
   ]
  },
  {
   "cell_type": "code",
   "execution_count": 4,
   "metadata": {},
   "outputs": [],
   "source": [
    "# !tar -xvf  'test.tar' -C 'content/cell_images'\n",
    "# !tar -xvf sample_data.tar.gz "
   ]
  },
  {
   "cell_type": "markdown",
   "metadata": {},
   "source": [
    "## 3. Standard Usage"
   ]
  },
  {
   "cell_type": "code",
   "execution_count": 5,
   "metadata": {},
   "outputs": [],
   "source": [
    "args = {\n",
    "    \"dataset\":\"Moji\",\n",
    "    \"data_dir\":\"../data/Sample\",\n",
    "    \"device\":-1,\n",
    "}"
   ]
  },
  {
   "cell_type": "code",
   "execution_count": 6,
   "metadata": {},
   "outputs": [
    {
     "name": "stderr",
     "output_type": "stream",
     "text": [
      "INFO:root:Unexpected args: ['--ip=127.0.0.1', '--stdin=9020', '--control=9018', '--hb=9017', '--Session.signature_scheme=\"hmac-sha256\"', '--Session.key=b\"2bccf941-17da-4ca5-bcb4-150916c389e9\"', '--shell=9019', '--transport=\"tcp\"', '--iopub=9021']\n",
      "INFO:root:Logging to ./results/dev\\Moji\\test\\output.log\n",
      "WARNING:root:Log file already exists, will append\n"
     ]
    },
    {
     "name": "stdout",
     "output_type": "stream",
     "text": [
      "2022-03-24 14:30:41 [INFO ]  ======================================== 2022-03-24 14:30:41 ========================================\n",
      "2022-03-24 14:30:41 [INFO ]  Base directory is ./results/dev\\Moji\\test\n",
      "2022-03-24 14:30:41 [WARNING]  ./results/dev\\Moji\\test\\opt.yaml already exists, moved to ./results/dev\\Moji\\test\\old_opts\\opt_2022_03_24__14_30_10.yaml\n",
      "Loaded data shapes: (8000, 2304), (8000,), (8000,)\n",
      "Loaded data shapes: (2000, 2304), (2000,), (2000,)\n",
      "Loaded data shapes: (2000, 2304), (2000,), (2000,)\n"
     ]
    }
   ],
   "source": [
    "options = faircls.BaseOptions()\n",
    "state = options.get_state(args=args, silence=True)"
   ]
  },
  {
   "cell_type": "markdown",
   "metadata": {},
   "source": [
    "### Init Model"
   ]
  },
  {
   "cell_type": "code",
   "execution_count": 7,
   "metadata": {},
   "outputs": [
    {
     "name": "stdout",
     "output_type": "stream",
     "text": [
      "2022-03-24 14:30:41 [INFO ]  MLP( \n",
      "2022-03-24 14:30:41 [INFO ]    (output_layer): Linear(in_features=300, out_features=2, bias=True)\n",
      "2022-03-24 14:30:41 [INFO ]    (AF): Tanh()\n",
      "2022-03-24 14:30:41 [INFO ]    (hidden_layers): ModuleList(\n",
      "2022-03-24 14:30:41 [INFO ]      (0): Linear(in_features=2304, out_features=300, bias=True)\n",
      "2022-03-24 14:30:41 [INFO ]      (1): Tanh()\n",
      "2022-03-24 14:30:41 [INFO ]      (2): Linear(in_features=300, out_features=300, bias=True)\n",
      "2022-03-24 14:30:41 [INFO ]      (3): Tanh()\n",
      "2022-03-24 14:30:41 [INFO ]    )\n",
      "2022-03-24 14:30:41 [INFO ]    (criterion): CrossEntropyLoss()\n",
      "2022-03-24 14:30:41 [INFO ]  )\n",
      "2022-03-24 14:30:41 [INFO ]  Total number of parameters: 782402 \n",
      "\n"
     ]
    }
   ],
   "source": [
    "# Init Model\n",
    "model = faircls.networks.get_main_model(state)"
   ]
  },
  {
   "cell_type": "markdown",
   "metadata": {},
   "source": [
    "### Train the vanilla model"
   ]
  },
  {
   "cell_type": "code",
   "execution_count": 8,
   "metadata": {},
   "outputs": [
    {
     "name": "stdout",
     "output_type": "stream",
     "text": [
      "2022-03-24 14:30:43 [INFO ]  Epoch:    0 [      0/   8000 ( 0%)]\tLoss: 0.6940\t Data Time: 0.01s\tTrain Time: 1.60s\n",
      "2022-03-24 14:30:43 [INFO ]  Evaluation at Epoch 0\n",
      "2022-03-24 14:30:43 [INFO ]  Validation accuracy: 74.15\tmacro_fscore: 74.06\tmicro_fscore: 74.15\tTPR_GAP: 10.32\tFPR_GAP: 10.32\tPPR_GAP: 7.30\t\n",
      "2022-03-24 14:30:43 [INFO ]  Test accuracy: 74.60\tmacro_fscore: 74.48\tmicro_fscore: 74.60\tTPR_GAP: 14.96\tFPR_GAP: 14.96\tPPR_GAP: 9.20\t\n",
      "2022-03-24 14:30:43 [INFO ]  Epoch:    1 [      0/   8000 ( 0%)]\tLoss: 0.4995\t Data Time: 0.01s\tTrain Time: 0.00s\n",
      "2022-03-24 14:30:43 [INFO ]  Evaluation at Epoch 1\n",
      "2022-03-24 14:30:43 [INFO ]  Validation accuracy: 75.30\tmacro_fscore: 75.27\tmicro_fscore: 75.30\tTPR_GAP: 13.00\tFPR_GAP: 13.00\tPPR_GAP: 10.40\t\n",
      "2022-03-24 14:30:43 [INFO ]  Test accuracy: 76.10\tmacro_fscore: 76.03\tmicro_fscore: 76.10\tTPR_GAP: 15.27\tFPR_GAP: 15.27\tPPR_GAP: 10.80\t\n",
      "2022-03-24 14:30:43 [INFO ]  Epoch:    2 [      0/   8000 ( 0%)]\tLoss: 0.4959\t Data Time: 0.01s\tTrain Time: 0.00s\n",
      "2022-03-24 14:30:43 [INFO ]  Epochs since last improvement: 1\n",
      "2022-03-24 14:30:43 [INFO ]  Evaluation at Epoch 2\n",
      "2022-03-24 14:30:43 [INFO ]  Validation accuracy: 75.10\tmacro_fscore: 75.09\tmicro_fscore: 75.10\tTPR_GAP: 12.76\tFPR_GAP: 12.76\tPPR_GAP: 9.60\t\n",
      "2022-03-24 14:30:43 [INFO ]  Test accuracy: 75.90\tmacro_fscore: 75.88\tmicro_fscore: 75.90\tTPR_GAP: 13.65\tFPR_GAP: 13.65\tPPR_GAP: 8.60\t\n",
      "2022-03-24 14:30:43 [INFO ]  Epoch:    3 [      0/   8000 ( 0%)]\tLoss: 0.4656\t Data Time: 0.01s\tTrain Time: 0.00s\n",
      "2022-03-24 14:30:43 [INFO ]  Epochs since last improvement: 2\n",
      "2022-03-24 14:30:43 [INFO ]  Evaluation at Epoch 3\n",
      "2022-03-24 14:30:43 [INFO ]  Validation accuracy: 74.60\tmacro_fscore: 74.59\tmicro_fscore: 74.60\tTPR_GAP: 13.21\tFPR_GAP: 13.21\tPPR_GAP: 10.80\t\n",
      "2022-03-24 14:30:43 [INFO ]  Test accuracy: 75.20\tmacro_fscore: 75.17\tmicro_fscore: 75.20\tTPR_GAP: 14.29\tFPR_GAP: 14.29\tPPR_GAP: 9.80\t\n",
      "2022-03-24 14:30:43 [INFO ]  Epoch:    4 [      0/   8000 ( 0%)]\tLoss: 0.4427\t Data Time: 0.01s\tTrain Time: 0.00s\n",
      "2022-03-24 14:30:43 [INFO ]  Epochs since last improvement: 3\n",
      "2022-03-24 14:30:43 [INFO ]  Evaluation at Epoch 4\n",
      "2022-03-24 14:30:43 [INFO ]  Validation accuracy: 73.55\tmacro_fscore: 73.39\tmicro_fscore: 73.55\tTPR_GAP: 8.14\tFPR_GAP: 8.14\tPPR_GAP: 4.90\t\n",
      "2022-03-24 14:30:43 [INFO ]  Test accuracy: 73.40\tmacro_fscore: 73.34\tmicro_fscore: 73.40\tTPR_GAP: 12.34\tFPR_GAP: 12.34\tPPR_GAP: 3.60\t\n",
      "2022-03-24 14:30:43 [INFO ]  Epoch:    5 [      0/   8000 ( 0%)]\tLoss: 0.4741\t Data Time: 0.01s\tTrain Time: 0.00s\n",
      "2022-03-24 14:30:44 [INFO ]  Epochs since last improvement: 4\n",
      "2022-03-24 14:30:44 [INFO ]  Evaluation at Epoch 5\n",
      "2022-03-24 14:30:44 [INFO ]  Validation accuracy: 73.90\tmacro_fscore: 73.78\tmicro_fscore: 73.90\tTPR_GAP: 12.17\tFPR_GAP: 12.17\tPPR_GAP: 8.80\t\n",
      "2022-03-24 14:30:44 [INFO ]  Test accuracy: 74.70\tmacro_fscore: 74.52\tmicro_fscore: 74.70\tTPR_GAP: 13.04\tFPR_GAP: 13.04\tPPR_GAP: 8.60\t\n",
      "2022-03-24 14:30:44 [INFO ]  Epoch:    6 [      0/   8000 ( 0%)]\tLoss: 0.4509\t Data Time: 0.01s\tTrain Time: 0.00s\n",
      "2022-03-24 14:30:44 [INFO ]  Epochs since last improvement: 5\n",
      "2022-03-24 14:30:44 [INFO ]  Evaluation at Epoch 6\n",
      "2022-03-24 14:30:44 [INFO ]  Validation accuracy: 70.95\tmacro_fscore: 70.58\tmicro_fscore: 70.95\tTPR_GAP: 8.55\tFPR_GAP: 8.55\tPPR_GAP: 4.10\t\n",
      "2022-03-24 14:30:44 [INFO ]  Test accuracy: 72.45\tmacro_fscore: 72.15\tmicro_fscore: 72.45\tTPR_GAP: 11.60\tFPR_GAP: 11.60\tPPR_GAP: 1.50\t\n"
     ]
    }
   ],
   "source": [
    "model.train_self()"
   ]
  },
  {
   "cell_type": "markdown",
   "metadata": {},
   "source": [
    "### Debiase"
   ]
  },
  {
   "cell_type": "code",
   "execution_count": 13,
   "metadata": {},
   "outputs": [
    {
     "name": "stdout",
     "output_type": "stream",
     "text": [
      "2022-03-24 14:34:35 [INFO ]  Unexpected args: ['--ip=127.0.0.1', '--stdin=9020', '--control=9018', '--hb=9017', '--Session.signature_scheme=\"hmac-sha256\"', '--Session.key=b\"2bccf941-17da-4ca5-bcb4-150916c389e9\"', '--shell=9019', '--transport=\"tcp\"', '--iopub=9021']\n",
      "2022-03-24 14:34:35 [INFO ]  Logging to ./results/dev\\Moji\\test\\output.log\n",
      "2022-03-24 14:34:35 [WARNING]  Log file already exists, will append\n",
      "2022-03-24 14:34:35 [INFO ]  ======================================== 2022-03-24 14:34:35 ========================================\n",
      "2022-03-24 14:34:35 [INFO ]  Base directory is ./results/dev\\Moji\\test\n",
      "2022-03-24 14:34:35 [INFO ]  Options: \n",
      "2022-03-24 14:34:35 [INFO ]  \tBT: true\n",
      "2022-03-24 14:34:35 [INFO ]  \tBTObj: EO\n",
      "2022-03-24 14:34:35 [INFO ]  \tDyBT: null\n",
      "2022-03-24 14:34:35 [INFO ]  \tDyBTObj: null\n",
      "2022-03-24 14:34:35 [INFO ]  \tDyBTalpha: 0.1\n",
      "2022-03-24 14:34:35 [INFO ]  \tDyBTinit: original\n",
      "2022-03-24 14:34:35 [INFO ]  \tFCL: false\n",
      "2022-03-24 14:34:35 [INFO ]  \tFCLObj: g\n",
      "2022-03-24 14:34:35 [INFO ]  \tINLP: false\n",
      "2022-03-24 14:34:35 [INFO ]  \tINLP_by_class: false\n",
      "2022-03-24 14:34:35 [INFO ]  \tINLP_discriminator_reweighting: null\n",
      "2022-03-24 14:34:35 [INFO ]  \tINLP_min_acc: 0.0\n",
      "2022-03-24 14:34:35 [INFO ]  \tINLP_n: 300\n",
      "2022-03-24 14:34:35 [INFO ]  \tactivation_function: Tanh\n",
      "2022-03-24 14:34:35 [INFO ]  \tadv_BT: null\n",
      "2022-03-24 14:34:35 [INFO ]  \tadv_BTObj: null\n",
      "2022-03-24 14:34:35 [INFO ]  \tadv_activation_function: ReLu\n",
      "2022-03-24 14:34:35 [INFO ]  \tadv_batch_norm: false\n",
      "2022-03-24 14:34:35 [INFO ]  \tadv_batch_size: 1024\n",
      "2022-03-24 14:34:35 [INFO ]  \tadv_checkpoint_interval: 1\n",
      "2022-03-24 14:34:35 [INFO ]  \tadv_debiasing: false\n",
      "2022-03-24 14:34:35 [INFO ]  \tadv_decoupling: false\n",
      "2022-03-24 14:34:35 [INFO ]  \tadv_diverse_lambda: 0.0\n",
      "2022-03-24 14:34:35 [INFO ]  \tadv_dropout: 0\n",
      "2022-03-24 14:34:35 [INFO ]  \tadv_epochs: 100\n",
      "2022-03-24 14:34:35 [INFO ]  \tadv_epochs_since_improvement: 5\n",
      "2022-03-24 14:34:35 [INFO ]  \tadv_gated: false\n",
      "2022-03-24 14:34:35 [INFO ]  \tadv_gated_mapping: null\n",
      "2022-03-24 14:34:35 [INFO ]  \tadv_hidden_size: 300\n",
      "2022-03-24 14:34:35 [INFO ]  \tadv_lambda: 1\n",
      "2022-03-24 14:34:35 [INFO ]  \tadv_level: last_hidden\n",
      "2022-03-24 14:34:35 [INFO ]  \tadv_lr: 0.001\n",
      "2022-03-24 14:34:35 [INFO ]  \tadv_n_hidden: 2\n",
      "2022-03-24 14:34:35 [INFO ]  \tadv_num_subDiscriminator: 1\n",
      "2022-03-24 14:34:35 [INFO ]  \tadv_test_batch_size: 1024\n",
      "2022-03-24 14:34:35 [INFO ]  \tadv_uniform_label: false\n",
      "2022-03-24 14:34:35 [INFO ]  \tadv_update_frequency: Batch\n",
      "2022-03-24 14:34:35 [INFO ]  \tbase_seed: 1\n",
      "2022-03-24 14:34:35 [INFO ]  \tbatch_norm: false\n",
      "2022-03-24 14:34:35 [INFO ]  \tbatch_size: 1024\n",
      "2022-03-24 14:34:35 [INFO ]  \tcheckpoint_interval: 1\n",
      "2022-03-24 14:34:35 [INFO ]  \tclassification_head_update_frequency: 1\n",
      "2022-03-24 14:34:35 [INFO ]  \tconf_file: null\n",
      "2022-03-24 14:34:35 [INFO ]  \tdata_dir: ../data/Sample\n",
      "2022-03-24 14:34:35 [INFO ]  \tdataset: Moji\n",
      "2022-03-24 14:34:35 [INFO ]  \tdevice: -1\n",
      "2022-03-24 14:34:35 [INFO ]  \tdevice_id: 0\n",
      "2022-03-24 14:34:35 [INFO ]  \tdropout: 0\n",
      "2022-03-24 14:34:35 [INFO ]  \temb_size: 2304\n",
      "2022-03-24 14:34:35 [INFO ]  \tencoder_architecture: Fixed\n",
      "2022-03-24 14:34:35 [INFO ]  \tepochs: 100\n",
      "2022-03-24 14:34:35 [INFO ]  \tepochs_since_improvement: 5\n",
      "2022-03-24 14:34:35 [INFO ]  \texp_id: test\n",
      "2022-03-24 14:34:35 [INFO ]  \tf: C:\\Users\\emano\\AppData\\Local\\Temp\\tmp-24936GQtdFB5S6lpO.json\n",
      "2022-03-24 14:34:35 [INFO ]  \tfcl_base_temperature_g: 0.01\n",
      "2022-03-24 14:34:35 [INFO ]  \tfcl_base_temperature_y: 0.01\n",
      "2022-03-24 14:34:35 [INFO ]  \tfcl_lambda_g: 0.1\n",
      "2022-03-24 14:34:35 [INFO ]  \tfcl_lambda_y: 0.1\n",
      "2022-03-24 14:34:35 [INFO ]  \tfcl_temperature_g: 0.01\n",
      "2022-03-24 14:34:35 [INFO ]  \tfcl_temperature_y: 0.01\n",
      "2022-03-24 14:34:35 [INFO ]  \tfull_label: true\n",
      "2022-03-24 14:34:35 [INFO ]  \tgated: false\n",
      "2022-03-24 14:34:35 [INFO ]  \tgated_mapping: null\n",
      "2022-03-24 14:34:35 [INFO ]  \thidden_size: 300\n",
      "2022-03-24 14:34:35 [INFO ]  \tlog_file: ./results/dev\\Moji\\test\\output.log\n",
      "2022-03-24 14:34:35 [INFO ]  \tlog_interval: 50\n",
      "2022-03-24 14:34:35 [INFO ]  \tlog_level: INFO\n",
      "2022-03-24 14:34:35 [INFO ]  \tlr: 0.003\n",
      "2022-03-24 14:34:35 [INFO ]  \tmodel_dir: ./results/dev\\Moji\\test\\models\n",
      "2022-03-24 14:34:35 [INFO ]  \tn_hidden: 2\n",
      "2022-03-24 14:34:35 [INFO ]  \tno_log: false\n",
      "2022-03-24 14:34:35 [INFO ]  \tnum_classes: 2\n",
      "2022-03-24 14:34:35 [INFO ]  \tnum_groups: 2\n",
      "2022-03-24 14:34:35 [INFO ]  \tnum_workers: 0\n",
      "2022-03-24 14:34:35 [INFO ]  \tproject_dir: dev\n",
      "2022-03-24 14:34:35 [INFO ]  \tresults_dir: ./results/\n",
      "2022-03-24 14:34:35 [INFO ]  \tstart_time: '2022-03-24 14:34:35'\n",
      "2022-03-24 14:34:35 [INFO ]  \ttest_batch_size: 1024\n",
      "2022-03-24 14:34:35 [INFO ]  \t\n",
      "2022-03-24 14:34:35 [WARNING]  ./results/dev\\Moji\\test\\opt.yaml already exists, moved to ./results/dev\\Moji\\test\\old_opts\\opt_2022_03_24__14_34_26.yaml\n",
      "2022-03-24 14:34:35 [INFO ]  dataloaders need to be initialized!\n"
     ]
    }
   ],
   "source": [
    "debiasing_args = {\n",
    "    \"dataset\":\"Moji\",\n",
    "    \"data_dir\":\"../data/Sample\",\n",
    "    \"device\":-1,\n",
    "    # \"adv_debiasing\":True,\n",
    "    \"BT\":True,\n",
    "    \"BTObj\":\"EO\",\n",
    "}\n",
    "\n",
    "debias_options = faircls.BaseOptions()\n",
    "debias_state = debias_options.get_state(args=debiasing_args, silence=False)"
   ]
  }
 ],
 "metadata": {
  "interpreter": {
   "hash": "086b6e2ac5931a4f7a51b812f0475290a145e7d51f3e22b53c52adf5c273fe30"
  },
  "kernelspec": {
   "display_name": "Python 3.7.12 ('py37')",
   "language": "python",
   "name": "python3"
  },
  "language_info": {
   "codemirror_mode": {
    "name": "ipython",
    "version": 3
   },
   "file_extension": ".py",
   "mimetype": "text/x-python",
   "name": "python",
   "nbconvert_exporter": "python",
   "pygments_lexer": "ipython3",
   "version": "3.7.12"
  },
  "orig_nbformat": 4
 },
 "nbformat": 4,
 "nbformat_minor": 2
}
