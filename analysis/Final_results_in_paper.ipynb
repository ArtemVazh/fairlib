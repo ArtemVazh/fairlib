{
 "cells": [
  {
   "cell_type": "code",
   "execution_count": 1,
   "metadata": {},
   "outputs": [],
   "source": [
    "# from src.utils import model_selection, create_plots\n",
    "from src.utils import create_plots, model_comparasion\n",
    "# Replace model_selection with model_selection_parallel \n",
    "from src.load_results import model_selection_parallel as model_selection"
   ]
  },
  {
   "cell_type": "code",
   "execution_count": 2,
   "metadata": {},
   "outputs": [],
   "source": [
    "# results dir and methods\n",
    "import os\n",
    "from pathlib import Path\n",
    "import pandas as pd\n"
   ]
  },
  {
   "cell_type": "code",
   "execution_count": 3,
   "metadata": {},
   "outputs": [],
   "source": [
    "def retrive_results(\n",
    "    dataset,\n",
    "    log_dir=\"results\"\n",
    "):\n",
    "    log_dir = Path(log_dir)\n",
    "    results = {}\n",
    "    for root, dirs, files in os.walk(log_dir):\n",
    "        for file in files:\n",
    "            if file.startswith(dataset):\n",
    "                pre_len = len(dataset)+len(str(log_dir))+2\n",
    "                file_path = os.path.join(root, file)\n",
    "                mehtod = str(os.path.join(root, file))[pre_len:-7]\n",
    "                results[mehtod] = pd.read_pickle(file_path)\n",
    "    return results\n"
   ]
  },
  {
   "cell_type": "code",
   "execution_count": 4,
   "metadata": {},
   "outputs": [],
   "source": [
    "results = retrive_results(\"Moji\")"
   ]
  },
  {
   "cell_type": "code",
   "execution_count": 5,
   "metadata": {},
   "outputs": [
    {
     "data": {
      "text/html": [
       "<div>\n",
       "<style scoped>\n",
       "    .dataframe tbody tr th:only-of-type {\n",
       "        vertical-align: middle;\n",
       "    }\n",
       "\n",
       "    .dataframe tbody tr th {\n",
       "        vertical-align: top;\n",
       "    }\n",
       "\n",
       "    .dataframe thead th {\n",
       "        text-align: right;\n",
       "    }\n",
       "</style>\n",
       "<table border=\"1\" class=\"dataframe\">\n",
       "  <thead>\n",
       "    <tr style=\"text-align: right;\">\n",
       "      <th></th>\n",
       "      <th>index</th>\n",
       "      <th>test_rms_TPR mean</th>\n",
       "      <th>test_accuracy mean</th>\n",
       "      <th>Models</th>\n",
       "    </tr>\n",
       "  </thead>\n",
       "  <tbody>\n",
       "    <tr>\n",
       "      <th>0</th>\n",
       "      <td>31</td>\n",
       "      <td>0.893286</td>\n",
       "      <td>0.756414</td>\n",
       "      <td>Adv</td>\n",
       "    </tr>\n",
       "    <tr>\n",
       "      <th>1</th>\n",
       "      <td>32</td>\n",
       "      <td>0.907539</td>\n",
       "      <td>0.752063</td>\n",
       "      <td>Adv</td>\n",
       "    </tr>\n",
       "    <tr>\n",
       "      <th>2</th>\n",
       "      <td>33</td>\n",
       "      <td>0.910219</td>\n",
       "      <td>0.751538</td>\n",
       "      <td>Adv</td>\n",
       "    </tr>\n",
       "    <tr>\n",
       "      <th>3</th>\n",
       "      <td>35</td>\n",
       "      <td>0.917136</td>\n",
       "      <td>0.744886</td>\n",
       "      <td>Adv</td>\n",
       "    </tr>\n",
       "    <tr>\n",
       "      <th>4</th>\n",
       "      <td>39</td>\n",
       "      <td>0.918185</td>\n",
       "      <td>0.737609</td>\n",
       "      <td>Adv</td>\n",
       "    </tr>\n",
       "    <tr>\n",
       "      <th>...</th>\n",
       "      <td>...</td>\n",
       "      <td>...</td>\n",
       "      <td>...</td>\n",
       "      <td>...</td>\n",
       "    </tr>\n",
       "    <tr>\n",
       "      <th>130</th>\n",
       "      <td>50</td>\n",
       "      <td>0.910246</td>\n",
       "      <td>0.754564</td>\n",
       "      <td>OldFairBatch</td>\n",
       "    </tr>\n",
       "    <tr>\n",
       "      <th>131</th>\n",
       "      <td>57</td>\n",
       "      <td>0.865403</td>\n",
       "      <td>0.759002</td>\n",
       "      <td>OldFairBatch</td>\n",
       "    </tr>\n",
       "    <tr>\n",
       "      <th>132</th>\n",
       "      <td>58</td>\n",
       "      <td>0.930986</td>\n",
       "      <td>0.744686</td>\n",
       "      <td>OldFairBatch</td>\n",
       "    </tr>\n",
       "    <tr>\n",
       "      <th>133</th>\n",
       "      <td>65</td>\n",
       "      <td>0.842093</td>\n",
       "      <td>0.766567</td>\n",
       "      <td>OldFairBatch</td>\n",
       "    </tr>\n",
       "    <tr>\n",
       "      <th>134</th>\n",
       "      <td>66</td>\n",
       "      <td>0.850078</td>\n",
       "      <td>0.764566</td>\n",
       "      <td>OldFairBatch</td>\n",
       "    </tr>\n",
       "  </tbody>\n",
       "</table>\n",
       "<p>135 rows × 4 columns</p>\n",
       "</div>"
      ],
      "text/plain": [
       "     index  test_rms_TPR mean  test_accuracy mean        Models\n",
       "0       31           0.893286            0.756414           Adv\n",
       "1       32           0.907539            0.752063           Adv\n",
       "2       33           0.910219            0.751538           Adv\n",
       "3       35           0.917136            0.744886           Adv\n",
       "4       39           0.918185            0.737609           Adv\n",
       "..     ...                ...                 ...           ...\n",
       "130     50           0.910246            0.754564  OldFairBatch\n",
       "131     57           0.865403            0.759002  OldFairBatch\n",
       "132     58           0.930986            0.744686  OldFairBatch\n",
       "133     65           0.842093            0.766567  OldFairBatch\n",
       "134     66           0.850078            0.764566  OldFairBatch\n",
       "\n",
       "[135 rows x 4 columns]"
      ]
     },
     "execution_count": 5,
     "metadata": {},
     "output_type": "execute_result"
    },
    {
     "data": {
      "image/png": "[encoded data removed]",
      "text/plain": [
       "<Figure size 459.75x360 with 1 Axes>"
      ]
     },
     "metadata": {
      "needs_background": "light"
     },
     "output_type": "display_data"
    }
   ],
   "source": [
    "model_comparasion(results)"
   ]
  },
  {
   "cell_type": "code",
   "execution_count": null,
   "metadata": {},
   "outputs": [],
   "source": []
  },
  {
   "cell_type": "code",
   "execution_count": null,
   "metadata": {},
   "outputs": [],
   "source": []
  },
  {
   "cell_type": "code",
   "execution_count": null,
   "metadata": {},
   "outputs": [],
   "source": []
  },
  {
   "cell_type": "code",
   "execution_count": null,
   "metadata": {},
   "outputs": [],
   "source": []
  },
  {
   "cell_type": "code",
   "execution_count": null,
   "metadata": {},
   "outputs": [],
   "source": []
  },
  {
   "cell_type": "code",
   "execution_count": null,
   "metadata": {},
   "outputs": [],
   "source": []
  },
  {
   "cell_type": "code",
   "execution_count": null,
   "metadata": {},
   "outputs": [],
   "source": []
  }
 ],
 "metadata": {
  "interpreter": {
   "hash": "086b6e2ac5931a4f7a51b812f0475290a145e7d51f3e22b53c52adf5c273fe30"
  },
  "kernelspec": {
   "display_name": "Python 3.7.12 ('py37')",
   "language": "python",
   "name": "python3"
  },
  "language_info": {
   "codemirror_mode": {
    "name": "ipython",
    "version": 3
   },
   "file_extension": ".py",
   "mimetype": "text/x-python",
   "name": "python",
   "nbconvert_exporter": "python",
   "pygments_lexer": "ipython3",
   "version": "3.7.12"
  },
  "orig_nbformat": 4
 },
 "nbformat": 4,
 "nbformat_minor": 2
}
