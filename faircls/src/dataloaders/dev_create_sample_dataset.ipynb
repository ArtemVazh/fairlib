{
 "cells": [
  {
   "cell_type": "code",
   "execution_count": 5,
   "metadata": {},
   "outputs": [],
   "source": [
    "import numpy as np\n",
    "import os\n",
    "\n",
    "\n",
    "def read_data_file(input_file: str):\n",
    "    vecs = np.load(input_file)\n",
    "\n",
    "    np.random.shuffle(vecs)\n",
    "\n",
    "    return vecs[:2000], vecs[40000:40500], vecs[42000:42500]"
   ]
  },
  {
   "cell_type": "code",
   "execution_count": 7,
   "metadata": {},
   "outputs": [],
   "source": [
    "in_dir = \"D:\\\\Project\\\\User_gender_removal\\\\data\\\\deepmoji\"\n",
    "out_dir = \"D:\\\\Project\\\\Fair_NLP_Classification\\\\data\\\\Sample\""
   ]
  },
  {
   "cell_type": "code",
   "execution_count": null,
   "metadata": {},
   "outputs": [],
   "source": [
    "for split in ['pos_pos', 'pos_neg', 'neg_pos', 'neg_neg']:\n",
    "    train, dev, test = read_data_file(in_dir + '\\\\' + split + '.npy')\n",
    "    for split_dir, data in zip(['train', 'dev', 'test'], [train, dev, test]):\n",
    "        os.makedirs(out_dir + '\\\\' + split_dir, exist_ok=True)\n",
    "        np.save(out_dir + '\\\\' + split_dir + '\\\\' + split + '.npy', data)"
   ]
  }
 ],
 "metadata": {
  "interpreter": {
   "hash": "086b6e2ac5931a4f7a51b812f0475290a145e7d51f3e22b53c52adf5c273fe30"
  },
  "kernelspec": {
   "display_name": "Python 3.7.12 ('py37')",
   "language": "python",
   "name": "python3"
  },
  "language_info": {
   "codemirror_mode": {
    "name": "ipython",
    "version": 3
   },
   "file_extension": ".py",
   "mimetype": "text/x-python",
   "name": "python",
   "nbconvert_exporter": "python",
   "pygments_lexer": "ipython3",
   "version": "3.7.12"
  },
  "orig_nbformat": 4
 },
 "nbformat": 4,
 "nbformat_minor": 2
}
