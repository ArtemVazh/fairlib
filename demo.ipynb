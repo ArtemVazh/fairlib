{
 "cells": [
  {
   "cell_type": "markdown",
   "metadata": {},
   "source": [
    "# FairCLS\n",
    "[![Open In Colab](https://colab.research.google.com/assets/colab-badge.svg)](https://colab.research.google.com/github/googlecolab/colabtools/blob/master/notebooks/colab-github-demo.ipynb)"
   ]
  },
  {
   "cell_type": "markdown",
   "metadata": {},
   "source": [
    "## "
   ]
  },
  {
   "cell_type": "code",
   "execution_count": 1,
   "metadata": {},
   "outputs": [],
   "source": [
    "import faircls"
   ]
  },
  {
   "cell_type": "code",
   "execution_count": 2,
   "metadata": {},
   "outputs": [],
   "source": [
    "args = {\n",
    "    \"dataset\":\"Bios_both\"\n",
    "}"
   ]
  },
  {
   "cell_type": "code",
   "execution_count": 3,
   "metadata": {},
   "outputs": [
    {
     "name": "stderr",
     "output_type": "stream",
     "text": [
      "INFO:root:Unexpected args: ['--ip=127.0.0.1', '--stdin=9033', '--control=9031', '--hb=9030', '--Session.signature_scheme=\"hmac-sha256\"', '--Session.key=b\"45f24611-67fc-4e2f-9cc1-55fd186c9afa\"', '--shell=9032', '--transport=\"tcp\"', '--iopub=9034']\n",
      "INFO:root:Logging to ./results/dev\\Bios_both\\test\\output.log\n",
      "WARNING:root:Log file already exists, will append\n"
     ]
    },
    {
     "name": "stdout",
     "output_type": "stream",
     "text": [
      "2022-03-24 10:53:59 [INFO ]  ======================================== 2022-03-24 10:53:59 ========================================\n",
      "2022-03-24 10:53:59 [INFO ]  Base directory is ./results/dev\\Bios_both\\test\n",
      "2022-03-24 10:53:59 [INFO ]  Options: \n",
      "2022-03-24 10:53:59 [INFO ]  \tBT: null\n",
      "2022-03-24 10:53:59 [INFO ]  \tBTObj: null\n",
      "2022-03-24 10:53:59 [INFO ]  \tDyBT: null\n",
      "2022-03-24 10:53:59 [INFO ]  \tDyBTObj: null\n",
      "2022-03-24 10:53:59 [INFO ]  \tDyBTalpha: 0.1\n",
      "2022-03-24 10:53:59 [INFO ]  \tDyBTinit: original\n",
      "2022-03-24 10:53:59 [INFO ]  \tFCL: false\n",
      "2022-03-24 10:53:59 [INFO ]  \tFCLObj: g\n",
      "2022-03-24 10:53:59 [INFO ]  \tINLP: false\n",
      "2022-03-24 10:53:59 [INFO ]  \tINLP_by_class: false\n",
      "2022-03-24 10:53:59 [INFO ]  \tINLP_discriminator_reweighting: null\n",
      "2022-03-24 10:53:59 [INFO ]  \tINLP_min_acc: 0.0\n",
      "2022-03-24 10:53:59 [INFO ]  \tINLP_n: 300\n",
      "2022-03-24 10:53:59 [INFO ]  \tactivation_function: Tanh\n",
      "2022-03-24 10:53:59 [INFO ]  \tadv_BT: null\n",
      "2022-03-24 10:53:59 [INFO ]  \tadv_BTObj: null\n",
      "2022-03-24 10:53:59 [INFO ]  \tadv_activation_function: ReLu\n",
      "2022-03-24 10:53:59 [INFO ]  \tadv_batch_norm: false\n",
      "2022-03-24 10:53:59 [INFO ]  \tadv_batch_size: 1024\n",
      "2022-03-24 10:53:59 [INFO ]  \tadv_checkpoint_interval: 1\n",
      "2022-03-24 10:53:59 [INFO ]  \tadv_debiasing: false\n",
      "2022-03-24 10:53:59 [INFO ]  \tadv_decoupling: false\n",
      "2022-03-24 10:53:59 [INFO ]  \tadv_diverse_lambda: 0.0\n",
      "2022-03-24 10:53:59 [INFO ]  \tadv_dropout: 0\n",
      "2022-03-24 10:53:59 [INFO ]  \tadv_epochs: 100\n",
      "2022-03-24 10:53:59 [INFO ]  \tadv_epochs_since_improvement: 5\n",
      "2022-03-24 10:53:59 [INFO ]  \tadv_gated: false\n",
      "2022-03-24 10:53:59 [INFO ]  \tadv_gated_mapping: null\n",
      "2022-03-24 10:53:59 [INFO ]  \tadv_hidden_size: 300\n",
      "2022-03-24 10:53:59 [INFO ]  \tadv_lambda: 1\n",
      "2022-03-24 10:53:59 [INFO ]  \tadv_level: last_hidden\n",
      "2022-03-24 10:53:59 [INFO ]  \tadv_lr: 0.001\n",
      "2022-03-24 10:53:59 [INFO ]  \tadv_n_hidden: 2\n",
      "2022-03-24 10:53:59 [INFO ]  \tadv_num_subDiscriminator: 1\n",
      "2022-03-24 10:53:59 [INFO ]  \tadv_test_batch_size: 1024\n",
      "2022-03-24 10:53:59 [INFO ]  \tadv_uniform_label: false\n",
      "2022-03-24 10:53:59 [INFO ]  \tadv_update_frequency: Batch\n",
      "2022-03-24 10:53:59 [INFO ]  \tbase_seed: 1\n",
      "2022-03-24 10:53:59 [INFO ]  \tbatch_norm: false\n",
      "2022-03-24 10:53:59 [INFO ]  \tbatch_size: 1024\n",
      "2022-03-24 10:53:59 [INFO ]  \tcheckpoint_interval: 1\n",
      "2022-03-24 10:53:59 [INFO ]  \tclassification_head_update_frequency: 1\n",
      "2022-03-24 10:53:59 [INFO ]  \tconf_file: null\n",
      "2022-03-24 10:53:59 [INFO ]  \tdata_dir: null\n",
      "2022-03-24 10:53:59 [INFO ]  \tdataset: Bios_both\n",
      "2022-03-24 10:53:59 [INFO ]  \tdevice_id: 0\n",
      "2022-03-24 10:53:59 [INFO ]  \tdropout: 0\n",
      "2022-03-24 10:53:59 [INFO ]  \temb_size: 2304\n",
      "2022-03-24 10:53:59 [INFO ]  \tencoder_architecture: Fixed\n",
      "2022-03-24 10:53:59 [INFO ]  \tepochs: 100\n",
      "2022-03-24 10:53:59 [INFO ]  \tepochs_since_improvement: 5\n",
      "2022-03-24 10:53:59 [INFO ]  \texp_id: test\n",
      "2022-03-24 10:53:59 [INFO ]  \tf: C:\\Users\\emano\\AppData\\Local\\Temp\\tmp-32804IIjXc8rjfNAP.json\n",
      "2022-03-24 10:53:59 [INFO ]  \tfcl_base_temperature_g: 0.01\n",
      "2022-03-24 10:53:59 [INFO ]  \tfcl_base_temperature_y: 0.01\n",
      "2022-03-24 10:53:59 [INFO ]  \tfcl_lambda_g: 0.1\n",
      "2022-03-24 10:53:59 [INFO ]  \tfcl_lambda_y: 0.1\n",
      "2022-03-24 10:53:59 [INFO ]  \tfcl_temperature_g: 0.01\n",
      "2022-03-24 10:53:59 [INFO ]  \tfcl_temperature_y: 0.01\n",
      "2022-03-24 10:53:59 [INFO ]  \tfull_label: true\n",
      "2022-03-24 10:53:59 [INFO ]  \tgated: false\n",
      "2022-03-24 10:53:59 [INFO ]  \tgated_mapping: null\n",
      "2022-03-24 10:53:59 [INFO ]  \thidden_size: 300\n",
      "2022-03-24 10:53:59 [INFO ]  \tlog_file: ./results/dev\\Bios_both\\test\\output.log\n",
      "2022-03-24 10:53:59 [INFO ]  \tlog_interval: 50\n",
      "2022-03-24 10:53:59 [INFO ]  \tlog_level: INFO\n",
      "2022-03-24 10:53:59 [INFO ]  \tlr: 0.003\n",
      "2022-03-24 10:53:59 [INFO ]  \tmodel_dir: ./results/dev\\Bios_both\\test\\models\n",
      "2022-03-24 10:53:59 [INFO ]  \tn_hidden: 2\n",
      "2022-03-24 10:53:59 [INFO ]  \tno_log: false\n",
      "2022-03-24 10:53:59 [INFO ]  \tnum_classes: 2\n",
      "2022-03-24 10:53:59 [INFO ]  \tnum_groups: 2\n",
      "2022-03-24 10:53:59 [INFO ]  \tnum_workers: 0\n",
      "2022-03-24 10:53:59 [INFO ]  \tproject_dir: dev\n",
      "2022-03-24 10:53:59 [INFO ]  \tresults_dir: ./results/\n",
      "2022-03-24 10:53:59 [INFO ]  \tstart_time: '2022-03-24 10:53:59'\n",
      "2022-03-24 10:53:59 [INFO ]  \ttest_batch_size: 1024\n",
      "2022-03-24 10:53:59 [INFO ]  \t\n",
      "2022-03-24 10:53:59 [WARNING]  ./results/dev\\Bios_both\\test\\opt.yaml already exists, moved to ./results/dev\\Bios_both\\test\\old_opts\\opt_2022_03_24__10_45_44.yaml\n",
      "Loaded data shapes: (72578, 768), (72578,), (72578,)\n",
      "Loaded data shapes: (10956, 768), (10956,), (10956,)\n",
      "Loaded data shapes: (27851, 768), (27851,), (27851,)\n",
      "2022-03-24 10:54:04 [INFO ]  train dataset size:\t72578\n",
      "2022-03-24 10:54:04 [INFO ]  validation dataset size: \t10956\n",
      "2022-03-24 10:54:04 [INFO ]  test dataset size: \t27851\n",
      "2022-03-24 10:54:04 [INFO ]  datasets built!\n"
     ]
    }
   ],
   "source": [
    "options = faircls.BaseOptions()\n",
    "state = options.get_state(args=args)"
   ]
  },
  {
   "cell_type": "code",
   "execution_count": 4,
   "metadata": {},
   "outputs": [
    {
     "data": {
      "text/plain": [
       "'Bios_both'"
      ]
     },
     "execution_count": 4,
     "metadata": {},
     "output_type": "execute_result"
    }
   ],
   "source": [
    "state.dataset"
   ]
  }
 ],
 "metadata": {
  "interpreter": {
   "hash": "086b6e2ac5931a4f7a51b812f0475290a145e7d51f3e22b53c52adf5c273fe30"
  },
  "kernelspec": {
   "display_name": "Python 3.7.12 ('py37')",
   "language": "python",
   "name": "python3"
  },
  "language_info": {
   "codemirror_mode": {
    "name": "ipython",
    "version": 3
   },
   "file_extension": ".py",
   "mimetype": "text/x-python",
   "name": "python",
   "nbconvert_exporter": "python",
   "pygments_lexer": "ipython3",
   "version": "3.7.12"
  },
  "orig_nbformat": 4
 },
 "nbformat": 4,
 "nbformat_minor": 2
}
