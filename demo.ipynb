{
  "cells": [
    {
      "cell_type": "markdown",
      "metadata": {
        "id": "3WJebPGI95-j"
      },
      "source": [
        "# FairCLS\n",
        "[![Open In Colab](https://colab.research.google.com/assets/colab-badge.svg)](https://colab.research.google.com/github/HanXudong/Fair_NLP_Classification/blob/main/demo.ipynb)"
      ]
    },
    {
      "cell_type": "markdown",
      "metadata": {
        "id": "C65ClWrG95-m"
      },
      "source": [
        "## 1. Installation\n",
        "\n",
        "Download the whl file for installation https://drive.google.com/file/d/1l3GmCm6UxbUh1QvMnfSrysdthFaFU-Eh/view?usp=sharing"
      ]
    },
    {
      "cell_type": "code",
      "source": [
        "!wget --no-check-certificate 'https://docs.google.com/uc?export=download&id=1l3GmCm6UxbUh1QvMnfSrysdthFaFU-Eh' -O 'faircls-0.0.1-py3-none-any.whl'"
      ],
      "metadata": {
        "colab": {
          "base_uri": "https://localhost:8080/"
        },
        "id": "Hb_9RPxSOK0C",
        "outputId": "608afaa1-19ff-408b-d01b-1f7a119eb7b6"
      },
      "execution_count": null,
      "outputs": [
        {
          "output_type": "stream",
          "name": "stdout",
          "text": [
            "--2022-03-24 09:56:26--  https://docs.google.com/uc?export=download&id=1l3GmCm6UxbUh1QvMnfSrysdthFaFU-Eh\n",
            "Resolving docs.google.com (docs.google.com)... 173.194.214.138, 173.194.214.101, 173.194.214.113, ...\n",
            "Connecting to docs.google.com (docs.google.com)|173.194.214.138|:443... connected.\n",
            "HTTP request sent, awaiting response... 303 See Other\n",
            "Location: https://doc-0g-0k-docs.googleusercontent.com/docs/securesc/ha0ro937gcuc7l7deffksulhg5h7mbp1/3hcj3r8rucrdaqoebqe4mph22m8d9gii/1648115775000/17527887236587461918/*/1l3GmCm6UxbUh1QvMnfSrysdthFaFU-Eh?e=download [following]\n",
            "Warning: wildcards not supported in HTTP.\n",
            "--2022-03-24 09:56:27--  https://doc-0g-0k-docs.googleusercontent.com/docs/securesc/ha0ro937gcuc7l7deffksulhg5h7mbp1/3hcj3r8rucrdaqoebqe4mph22m8d9gii/1648115775000/17527887236587461918/*/1l3GmCm6UxbUh1QvMnfSrysdthFaFU-Eh?e=download\n",
            "Resolving doc-0g-0k-docs.googleusercontent.com (doc-0g-0k-docs.googleusercontent.com)... 142.251.107.132, 2607:f8b0:400c:c32::84\n",
            "Connecting to doc-0g-0k-docs.googleusercontent.com (doc-0g-0k-docs.googleusercontent.com)|142.251.107.132|:443... connected.\n",
            "HTTP request sent, awaiting response... 200 OK\n",
            "Length: 58866 (57K) [application/x-zip]\n",
            "Saving to: ‘faircls-0.0.1-py3-none-any.whl’\n",
            "\n",
            "faircls-0.0.1-py3-n 100%[===================>]  57.49K  --.-KB/s    in 0s      \n",
            "\n",
            "2022-03-24 09:56:27 (117 MB/s) - ‘faircls-0.0.1-py3-none-any.whl’ saved [58866/58866]\n",
            "\n"
          ]
        }
      ]
    },
    {
      "cell_type": "code",
      "execution_count": null,
      "metadata": {
        "colab": {
          "base_uri": "https://localhost:8080/"
        },
        "id": "AO7QSP_g95-m",
        "outputId": "902157f5-164b-475c-c3a5-fee0cc26bf70"
      },
      "outputs": [
        {
          "output_type": "stream",
          "name": "stdout",
          "text": [
            "Processing ./faircls-0.0.1-py3-none-any.whl\n",
            "Requirement already satisfied: pandas in /usr/local/lib/python3.7/dist-packages (from faircls==0.0.1) (1.3.5)\n",
            "Requirement already satisfied: tqdm in /usr/local/lib/python3.7/dist-packages (from faircls==0.0.1) (4.63.0)\n",
            "Requirement already satisfied: numpy in /usr/local/lib/python3.7/dist-packages (from faircls==0.0.1) (1.21.5)\n",
            "Requirement already satisfied: torch in /usr/local/lib/python3.7/dist-packages (from faircls==0.0.1) (1.10.0+cu111)\n",
            "Requirement already satisfied: PyYAML in /usr/local/lib/python3.7/dist-packages (from faircls==0.0.1) (6.0)\n",
            "Requirement already satisfied: transformers in /usr/local/lib/python3.7/dist-packages (from faircls==0.0.1) (4.17.0)\n",
            "Requirement already satisfied: matplotlib in /usr/local/lib/python3.7/dist-packages (from faircls==0.0.1) (3.2.2)\n",
            "Requirement already satisfied: seaborn in /usr/local/lib/python3.7/dist-packages (from faircls==0.0.1) (0.11.2)\n",
            "Requirement already satisfied: scikit-learn in /usr/local/lib/python3.7/dist-packages (from faircls==0.0.1) (1.0.2)\n",
            "Requirement already satisfied: docopt in /usr/local/lib/python3.7/dist-packages (from faircls==0.0.1) (0.6.2)\n",
            "Requirement already satisfied: pickle5 in /usr/local/lib/python3.7/dist-packages (from faircls==0.0.1) (0.0.12)\n",
            "Requirement already satisfied: python-dateutil>=2.1 in /usr/local/lib/python3.7/dist-packages (from matplotlib->faircls==0.0.1) (2.8.2)\n",
            "Requirement already satisfied: kiwisolver>=1.0.1 in /usr/local/lib/python3.7/dist-packages (from matplotlib->faircls==0.0.1) (1.4.0)\n",
            "Requirement already satisfied: pyparsing!=2.0.4,!=2.1.2,!=2.1.6,>=2.0.1 in /usr/local/lib/python3.7/dist-packages (from matplotlib->faircls==0.0.1) (3.0.7)\n",
            "Requirement already satisfied: cycler>=0.10 in /usr/local/lib/python3.7/dist-packages (from matplotlib->faircls==0.0.1) (0.11.0)\n",
            "Requirement already satisfied: typing-extensions in /usr/local/lib/python3.7/dist-packages (from kiwisolver>=1.0.1->matplotlib->faircls==0.0.1) (3.10.0.2)\n",
            "Requirement already satisfied: six>=1.5 in /usr/local/lib/python3.7/dist-packages (from python-dateutil>=2.1->matplotlib->faircls==0.0.1) (1.15.0)\n",
            "Requirement already satisfied: pytz>=2017.3 in /usr/local/lib/python3.7/dist-packages (from pandas->faircls==0.0.1) (2018.9)\n",
            "Requirement already satisfied: threadpoolctl>=2.0.0 in /usr/local/lib/python3.7/dist-packages (from scikit-learn->faircls==0.0.1) (3.1.0)\n",
            "Requirement already satisfied: scipy>=1.1.0 in /usr/local/lib/python3.7/dist-packages (from scikit-learn->faircls==0.0.1) (1.4.1)\n",
            "Requirement already satisfied: joblib>=0.11 in /usr/local/lib/python3.7/dist-packages (from scikit-learn->faircls==0.0.1) (1.1.0)\n",
            "Requirement already satisfied: requests in /usr/local/lib/python3.7/dist-packages (from transformers->faircls==0.0.1) (2.23.0)\n",
            "Requirement already satisfied: packaging>=20.0 in /usr/local/lib/python3.7/dist-packages (from transformers->faircls==0.0.1) (21.3)\n",
            "Requirement already satisfied: importlib-metadata in /usr/local/lib/python3.7/dist-packages (from transformers->faircls==0.0.1) (4.11.3)\n",
            "Requirement already satisfied: sacremoses in /usr/local/lib/python3.7/dist-packages (from transformers->faircls==0.0.1) (0.0.49)\n",
            "Requirement already satisfied: filelock in /usr/local/lib/python3.7/dist-packages (from transformers->faircls==0.0.1) (3.6.0)\n",
            "Requirement already satisfied: huggingface-hub<1.0,>=0.1.0 in /usr/local/lib/python3.7/dist-packages (from transformers->faircls==0.0.1) (0.4.0)\n",
            "Requirement already satisfied: tokenizers!=0.11.3,>=0.11.1 in /usr/local/lib/python3.7/dist-packages (from transformers->faircls==0.0.1) (0.11.6)\n",
            "Requirement already satisfied: regex!=2019.12.17 in /usr/local/lib/python3.7/dist-packages (from transformers->faircls==0.0.1) (2019.12.20)\n",
            "Requirement already satisfied: zipp>=0.5 in /usr/local/lib/python3.7/dist-packages (from importlib-metadata->transformers->faircls==0.0.1) (3.7.0)\n",
            "Requirement already satisfied: idna<3,>=2.5 in /usr/local/lib/python3.7/dist-packages (from requests->transformers->faircls==0.0.1) (2.10)\n",
            "Requirement already satisfied: chardet<4,>=3.0.2 in /usr/local/lib/python3.7/dist-packages (from requests->transformers->faircls==0.0.1) (3.0.4)\n",
            "Requirement already satisfied: certifi>=2017.4.17 in /usr/local/lib/python3.7/dist-packages (from requests->transformers->faircls==0.0.1) (2021.10.8)\n",
            "Requirement already satisfied: urllib3!=1.25.0,!=1.25.1,<1.26,>=1.21.1 in /usr/local/lib/python3.7/dist-packages (from requests->transformers->faircls==0.0.1) (1.24.3)\n",
            "Requirement already satisfied: click in /usr/local/lib/python3.7/dist-packages (from sacremoses->transformers->faircls==0.0.1) (7.1.2)\n",
            "faircls is already installed with the same version as the provided wheel. Use --force-reinstall to force an installation of the wheel.\n"
          ]
        }
      ],
      "source": [
        "!pip install faircls-0.0.1-py3-none-any.whl"
      ]
    },
    {
      "cell_type": "code",
      "execution_count": null,
      "metadata": {
        "id": "ieklwXXP95-n"
      },
      "outputs": [],
      "source": [
        "import faircls"
      ]
    },
    {
      "cell_type": "markdown",
      "metadata": {
        "id": "99Nw_gKT95-n"
      },
      "source": [
        "## 2. Prepare Dataset\n",
        "\n",
        "For demostration purpose, we provide a tiny synthetic dataset in the same format as the Moji dataset, which can be downloaded as follows:"
      ]
    },
    {
      "cell_type": "code",
      "execution_count": null,
      "metadata": {
        "colab": {
          "base_uri": "https://localhost:8080/"
        },
        "id": "TY0LkuN495-o",
        "outputId": "af0c1453-061c-468c-e4e6-2ecb6d61d776"
      },
      "outputs": [
        {
          "output_type": "stream",
          "name": "stdout",
          "text": [
            "--2022-03-24 09:56:39--  https://docs.google.com/uc?export=download&confirm=t&id=1j4f6N4AncY4hER6xUuXFkB9m8SvPcKT8\n",
            "Resolving docs.google.com (docs.google.com)... 173.194.214.113, 173.194.214.138, 173.194.214.101, ...\n",
            "Connecting to docs.google.com (docs.google.com)|173.194.214.113|:443... connected.\n",
            "HTTP request sent, awaiting response... 303 See Other\n",
            "Location: https://doc-10-0k-docs.googleusercontent.com/docs/securesc/ha0ro937gcuc7l7deffksulhg5h7mbp1/ckgc78os9o8bdehbpjprruki37d9lbn1/1648115775000/17527887236587461918/*/1j4f6N4AncY4hER6xUuXFkB9m8SvPcKT8?e=download [following]\n",
            "Warning: wildcards not supported in HTTP.\n",
            "--2022-03-24 09:56:39--  https://doc-10-0k-docs.googleusercontent.com/docs/securesc/ha0ro937gcuc7l7deffksulhg5h7mbp1/ckgc78os9o8bdehbpjprruki37d9lbn1/1648115775000/17527887236587461918/*/1j4f6N4AncY4hER6xUuXFkB9m8SvPcKT8?e=download\n",
            "Resolving doc-10-0k-docs.googleusercontent.com (doc-10-0k-docs.googleusercontent.com)... 142.251.107.132, 2607:f8b0:400c:c32::84\n",
            "Connecting to doc-10-0k-docs.googleusercontent.com (doc-10-0k-docs.googleusercontent.com)|142.251.107.132|:443... connected.\n",
            "HTTP request sent, awaiting response... 200 OK\n",
            "Length: 94738708 (90M) [application/x-gzip]\n",
            "Saving to: ‘sample_data.tar.gz’\n",
            "\n",
            "sample_data.tar.gz  100%[===================>]  90.35M  76.7MB/s    in 1.2s    \n",
            "\n",
            "2022-03-24 09:56:40 (76.7 MB/s) - ‘sample_data.tar.gz’ saved [94738708/94738708]\n",
            "\n"
          ]
        }
      ],
      "source": [
        "!wget --load-cookies /tmp/cookies.txt \"https://docs.google.com/uc?export=download&confirm=$(wget --quiet --save-cookies /tmp/cookies.txt --keep-session-cookies --no-check-certificate 'https://docs.google.com/uc?export=download&id=1j4f6N4AncY4hER6xUuXFkB9m8SvPcKT8' -O- | sed -rn 's/.*confirm=([0-9A-Za-z_]+).*/\\1\\n/p')&id=1j4f6N4AncY4hER6xUuXFkB9m8SvPcKT8\" -O sample_data.tar.gz && rm -rf /tmp/cookies.txt"
      ]
    },
    {
      "cell_type": "code",
      "execution_count": null,
      "metadata": {
        "colab": {
          "base_uri": "https://localhost:8080/"
        },
        "id": "a1hd0gWt95-o",
        "outputId": "bf5eca5c-89bc-4881-bf69-5c1e89e93e59"
      },
      "outputs": [
        {
          "output_type": "stream",
          "name": "stdout",
          "text": [
            "data/Sample/\n",
            "data/Sample/dev/\n",
            "data/Sample/dev/neg_neg.npy\n",
            "data/Sample/dev/neg_pos.npy\n",
            "data/Sample/dev/pos_neg.npy\n",
            "data/Sample/dev/pos_pos.npy\n",
            "data/Sample/test/\n",
            "data/Sample/test/neg_neg.npy\n",
            "data/Sample/test/neg_pos.npy\n",
            "data/Sample/test/pos_neg.npy\n",
            "data/Sample/test/pos_pos.npy\n",
            "data/Sample/train/\n",
            "data/Sample/train/neg_neg.npy\n",
            "data/Sample/train/neg_pos.npy\n",
            "data/Sample/train/pos_neg.npy\n",
            "data/Sample/train/pos_pos.npy\n"
          ]
        }
      ],
      "source": [
        "# !tar -xvf  'test.tar' -C 'content/cell_images'\n",
        "!tar -xvf sample_data.tar.gz "
      ]
    },
    {
      "cell_type": "markdown",
      "metadata": {
        "id": "JMQ4Eivp95-p"
      },
      "source": [
        "## 3. Standard Usage"
      ]
    },
    {
      "cell_type": "markdown",
      "source": [
        "Here we provide an example of training a standard model without debiasing. "
      ],
      "metadata": {
        "id": "tncaXJIjQ0JB"
      }
    },
    {
      "cell_type": "code",
      "source": [
        "!rm -rf results"
      ],
      "metadata": {
        "id": "zsCn6p50-qoK"
      },
      "execution_count": null,
      "outputs": []
    },
    {
      "cell_type": "code",
      "execution_count": null,
      "metadata": {
        "id": "Y72Ep-kV95-p"
      },
      "outputs": [],
      "source": [
        "args = {\n",
        "    # The name of the dataset, correponding dataloader will be used,\n",
        "    # This will also affect the saving path\n",
        "    \"dataset\":\"Sample\", \n",
        "\n",
        "    # Specifiy the path to the input data\n",
        "    \"data_dir\":\"data/Sample\",\n",
        "\n",
        "    # Give a name to the exp, which will be used in the path\n",
        "    \"exp_id\":\"vanilla\",\n",
        "\n",
        "    # Used CPU\n",
        "    \"device_id\":-1,\n",
        "}"
      ]
    },
    {
      "cell_type": "code",
      "execution_count": null,
      "metadata": {
        "colab": {
          "base_uri": "https://localhost:8080/"
        },
        "id": "A_H3_quJ95-q",
        "outputId": "586face9-7bef-4ae4-c208-c4ce5b985a13"
      },
      "outputs": [
        {
          "output_type": "stream",
          "name": "stderr",
          "text": [
            "INFO:root:Unexpected args: ['-f', '/root/.local/share/jupyter/runtime/kernel-8788862f-cf35-44b5-a1c9-b78637583989.json']\n",
            "INFO:root:Logging to ./results/dev/Sample/vanilla/output.log\n"
          ]
        },
        {
          "output_type": "stream",
          "name": "stdout",
          "text": [
            "2022-03-24 09:56:43 [INFO ]  ======================================== 2022-03-24 09:56:43 ========================================\n",
            "2022-03-24 09:56:43 [INFO ]  Base directory is ./results/dev/Sample/vanilla\n",
            "Loaded data shapes: (4998, 2304), (4998,), (4998,)\n",
            "Loaded data shapes: (2000, 2304), (2000,), (2000,)\n",
            "Loaded data shapes: (2000, 2304), (2000,), (2000,)\n"
          ]
        }
      ],
      "source": [
        "# Init the argument\n",
        "options = faircls.BaseOptions()\n",
        "state = options.get_state(args=args, silence=True)"
      ]
    },
    {
      "cell_type": "code",
      "execution_count": null,
      "metadata": {
        "colab": {
          "base_uri": "https://localhost:8080/"
        },
        "id": "Cjg7pH1R95-r",
        "outputId": "58ef969b-b45d-4548-ee8f-1abe54da945c"
      },
      "outputs": [
        {
          "output_type": "stream",
          "name": "stdout",
          "text": [
            "2022-03-24 09:56:43 [INFO ]  MLP( \n",
            "2022-03-24 09:56:43 [INFO ]    (output_layer): Linear(in_features=300, out_features=2, bias=True)\n",
            "2022-03-24 09:56:43 [INFO ]    (AF): Tanh()\n",
            "2022-03-24 09:56:43 [INFO ]    (hidden_layers): ModuleList(\n",
            "2022-03-24 09:56:43 [INFO ]      (0): Linear(in_features=2304, out_features=300, bias=True)\n",
            "2022-03-24 09:56:43 [INFO ]      (1): Tanh()\n",
            "2022-03-24 09:56:43 [INFO ]      (2): Linear(in_features=300, out_features=300, bias=True)\n",
            "2022-03-24 09:56:43 [INFO ]      (3): Tanh()\n",
            "2022-03-24 09:56:43 [INFO ]    )\n",
            "2022-03-24 09:56:43 [INFO ]    (criterion): CrossEntropyLoss()\n",
            "2022-03-24 09:56:43 [INFO ]  )\n",
            "2022-03-24 09:56:43 [INFO ]  Total number of parameters: 782402 \n",
            "\n"
          ]
        }
      ],
      "source": [
        "# Init Model\n",
        "model = faircls.networks.get_main_model(state)"
      ]
    },
    {
      "cell_type": "code",
      "execution_count": null,
      "metadata": {
        "colab": {
          "base_uri": "https://localhost:8080/"
        },
        "id": "jxEnlrt195-r",
        "outputId": "04aa12f6-caab-4ca1-d9a2-4d81f7ecada6"
      },
      "outputs": [
        {
          "output_type": "stream",
          "name": "stdout",
          "text": [
            "2022-03-24 09:56:43 [INFO ]  Epoch:    0 [      0/   4998 ( 0%)]\tLoss: 0.6946\t Data Time: 0.02s\tTrain Time: 0.11s\n",
            "2022-03-24 09:56:43 [INFO ]  Evaluation at Epoch 0\n",
            "2022-03-24 09:56:43 [INFO ]  Validation accuracy: 67.15\tmacro_fscore: 67.13\tmicro_fscore: 67.15\tTPR_GAP: 45.35\tFPR_GAP: 45.35\tPPR_GAP: 45.30\t\n",
            "2022-03-24 09:56:43 [INFO ]  Test accuracy: 68.15\tmacro_fscore: 68.15\tmicro_fscore: 68.15\tTPR_GAP: 46.92\tFPR_GAP: 46.92\tPPR_GAP: 46.70\t\n",
            "2022-03-24 09:56:44 [INFO ]  Epoch:    1 [      0/   4998 ( 0%)]\tLoss: 0.4529\t Data Time: 0.01s\tTrain Time: 0.08s\n",
            "2022-03-24 09:56:44 [INFO ]  Evaluation at Epoch 1\n",
            "2022-03-24 09:56:44 [INFO ]  Validation accuracy: 71.75\tmacro_fscore: 71.67\tmicro_fscore: 71.75\tTPR_GAP: 37.57\tFPR_GAP: 37.57\tPPR_GAP: 36.30\t\n",
            "2022-03-24 09:56:44 [INFO ]  Test accuracy: 72.25\tmacro_fscore: 72.09\tmicro_fscore: 72.25\tTPR_GAP: 37.40\tFPR_GAP: 37.40\tPPR_GAP: 35.90\t\n",
            "2022-03-24 09:56:44 [INFO ]  Epoch:    2 [      0/   4998 ( 0%)]\tLoss: 0.3884\t Data Time: 0.01s\tTrain Time: 0.11s\n",
            "2022-03-24 09:56:45 [INFO ]  Epochs since last improvement: 1\n",
            "2022-03-24 09:56:45 [INFO ]  Evaluation at Epoch 2\n",
            "2022-03-24 09:56:45 [INFO ]  Validation accuracy: 71.30\tmacro_fscore: 71.30\tmicro_fscore: 71.30\tTPR_GAP: 37.19\tFPR_GAP: 37.19\tPPR_GAP: 37.00\t\n",
            "2022-03-24 09:56:45 [INFO ]  Test accuracy: 72.40\tmacro_fscore: 72.38\tmicro_fscore: 72.40\tTPR_GAP: 37.62\tFPR_GAP: 37.62\tPPR_GAP: 36.80\t\n",
            "2022-03-24 09:56:45 [INFO ]  Epoch:    3 [      0/   4998 ( 0%)]\tLoss: 0.3673\t Data Time: 0.02s\tTrain Time: 0.19s\n",
            "2022-03-24 09:56:46 [INFO ]  Epochs since last improvement: 2\n",
            "2022-03-24 09:56:46 [INFO ]  Evaluation at Epoch 3\n",
            "2022-03-24 09:56:46 [INFO ]  Validation accuracy: 69.50\tmacro_fscore: 69.42\tmicro_fscore: 69.50\tTPR_GAP: 40.40\tFPR_GAP: 40.40\tPPR_GAP: 40.40\t\n",
            "2022-03-24 09:56:46 [INFO ]  Test accuracy: 69.80\tmacro_fscore: 69.79\tmicro_fscore: 69.80\tTPR_GAP: 41.61\tFPR_GAP: 41.61\tPPR_GAP: 41.40\t\n",
            "2022-03-24 09:56:47 [INFO ]  Epoch:    4 [      0/   4998 ( 0%)]\tLoss: 0.3662\t Data Time: 0.05s\tTrain Time: 0.11s\n",
            "2022-03-24 09:56:47 [INFO ]  Epochs since last improvement: 3\n",
            "2022-03-24 09:56:48 [INFO ]  Evaluation at Epoch 4\n",
            "2022-03-24 09:56:48 [INFO ]  Validation accuracy: 71.45\tmacro_fscore: 71.37\tmicro_fscore: 71.45\tTPR_GAP: 39.82\tFPR_GAP: 39.82\tPPR_GAP: 38.90\t\n",
            "2022-03-24 09:56:48 [INFO ]  Test accuracy: 72.10\tmacro_fscore: 71.96\tmicro_fscore: 72.10\tTPR_GAP: 40.60\tFPR_GAP: 40.60\tPPR_GAP: 38.60\t\n",
            "2022-03-24 09:56:48 [INFO ]  Epoch:    5 [      0/   4998 ( 0%)]\tLoss: 0.3207\t Data Time: 0.01s\tTrain Time: 0.11s\n",
            "2022-03-24 09:56:49 [INFO ]  Epochs since last improvement: 4\n",
            "2022-03-24 09:56:49 [INFO ]  Evaluation at Epoch 5\n",
            "2022-03-24 09:56:49 [INFO ]  Validation accuracy: 71.95\tmacro_fscore: 71.83\tmicro_fscore: 71.95\tTPR_GAP: 39.38\tFPR_GAP: 39.38\tPPR_GAP: 37.90\t\n",
            "2022-03-24 09:56:49 [INFO ]  Test accuracy: 72.30\tmacro_fscore: 72.12\tmicro_fscore: 72.30\tTPR_GAP: 37.83\tFPR_GAP: 37.83\tPPR_GAP: 35.60\t\n",
            "2022-03-24 09:56:49 [INFO ]  Epoch:    6 [      0/   4998 ( 0%)]\tLoss: 0.3015\t Data Time: 0.01s\tTrain Time: 0.16s\n",
            "2022-03-24 09:56:50 [INFO ]  Epochs since last improvement: 5\n",
            "2022-03-24 09:56:50 [INFO ]  Evaluation at Epoch 6\n",
            "2022-03-24 09:56:50 [INFO ]  Validation accuracy: 71.75\tmacro_fscore: 71.74\tmicro_fscore: 71.75\tTPR_GAP: 38.95\tFPR_GAP: 38.95\tPPR_GAP: 38.30\t\n",
            "2022-03-24 09:56:50 [INFO ]  Test accuracy: 71.50\tmacro_fscore: 71.47\tmicro_fscore: 71.50\tTPR_GAP: 38.47\tFPR_GAP: 38.47\tPPR_GAP: 36.80\t\n"
          ]
        }
      ],
      "source": [
        "model.train_self()"
      ]
    },
    {
      "cell_type": "code",
      "execution_count": null,
      "metadata": {
        "colab": {
          "base_uri": "https://localhost:8080/"
        },
        "id": "-jLl7Wtt95-s",
        "outputId": "8216317b-f3d8-47a6-baf4-3e89a29b774e"
      },
      "outputs": [
        {
          "output_type": "stream",
          "name": "stdout",
          "text": [
            "2022-03-24 09:56:50 [INFO ]  Unexpected args: ['-f', '/root/.local/share/jupyter/runtime/kernel-8788862f-cf35-44b5-a1c9-b78637583989.json']\n",
            "2022-03-24 09:56:50 [INFO ]  Logging to ./results/dev/Sample/BT_Adv/output.log\n",
            "2022-03-24 09:56:50 [INFO ]  ======================================== 2022-03-24 09:56:50 ========================================\n",
            "2022-03-24 09:56:50 [INFO ]  Base directory is ./results/dev/Sample/BT_Adv\n",
            "Loaded data shapes: (1996, 2304), (1996,), (1996,)\n",
            "Loaded data shapes: (2000, 2304), (2000,), (2000,)\n",
            "Loaded data shapes: (2000, 2304), (2000,), (2000,)\n",
            "2022-03-24 09:56:51 [INFO ]  SubDiscriminator( \n",
            "2022-03-24 09:56:51 [INFO ]    (grad_rev): GradientReversal()\n",
            "2022-03-24 09:56:51 [INFO ]    (output_layer): Linear(in_features=300, out_features=2, bias=True)\n",
            "2022-03-24 09:56:51 [INFO ]    (AF): ReLU()\n",
            "2022-03-24 09:56:51 [INFO ]    (hidden_layers): ModuleList(\n",
            "2022-03-24 09:56:51 [INFO ]      (0): Linear(in_features=300, out_features=300, bias=True)\n",
            "2022-03-24 09:56:51 [INFO ]      (1): ReLU()\n",
            "2022-03-24 09:56:51 [INFO ]      (2): Linear(in_features=300, out_features=300, bias=True)\n",
            "2022-03-24 09:56:51 [INFO ]      (3): ReLU()\n",
            "2022-03-24 09:56:51 [INFO ]    )\n",
            "2022-03-24 09:56:51 [INFO ]    (criterion): CrossEntropyLoss()\n",
            "2022-03-24 09:56:51 [INFO ]  )\n",
            "2022-03-24 09:56:51 [INFO ]  Total number of parameters: 181202 \n",
            "\n",
            "2022-03-24 09:56:51 [INFO ]  Discriminator built!\n"
          ]
        }
      ],
      "source": [
        "debiasing_args = {\n",
        "    \"dataset\":\"Sample\",\n",
        "    \"data_dir\":\"data/Sample\",\n",
        "    \"device_id\":-1,\n",
        "\n",
        "    # Perform adversarial training if True\n",
        "    \"adv_debiasing\":True,\n",
        "\n",
        "    # Specify the hyperparameters for Balanced Training\n",
        "    \"BT\":\"Resampling\",\n",
        "    \"BTObj\":\"EO\",\n",
        "    \"exp_id\":\"BT_Adv\",\n",
        "    \n",
        "}\n",
        "\n",
        "debias_options = faircls.BaseOptions()\n",
        "debias_state = debias_options.get_state(args=debiasing_args, silence=True)"
      ]
    },
    {
      "cell_type": "code",
      "execution_count": null,
      "metadata": {
        "colab": {
          "base_uri": "https://localhost:8080/"
        },
        "id": "eCG9tbH695-s",
        "outputId": "79124166-ebc3-4cf1-8cb6-3c932949f86d"
      },
      "outputs": [
        {
          "output_type": "stream",
          "name": "stdout",
          "text": [
            "2022-03-24 09:56:51 [INFO ]  MLP( \n",
            "2022-03-24 09:56:51 [INFO ]    (output_layer): Linear(in_features=300, out_features=2, bias=True)\n",
            "2022-03-24 09:56:51 [INFO ]    (AF): Tanh()\n",
            "2022-03-24 09:56:51 [INFO ]    (hidden_layers): ModuleList(\n",
            "2022-03-24 09:56:51 [INFO ]      (0): Linear(in_features=2304, out_features=300, bias=True)\n",
            "2022-03-24 09:56:51 [INFO ]      (1): Tanh()\n",
            "2022-03-24 09:56:51 [INFO ]      (2): Linear(in_features=300, out_features=300, bias=True)\n",
            "2022-03-24 09:56:51 [INFO ]      (3): Tanh()\n",
            "2022-03-24 09:56:51 [INFO ]    )\n",
            "2022-03-24 09:56:51 [INFO ]    (criterion): CrossEntropyLoss()\n",
            "2022-03-24 09:56:51 [INFO ]  )\n",
            "2022-03-24 09:56:51 [INFO ]  Total number of parameters: 782402 \n",
            "\n"
          ]
        }
      ],
      "source": [
        "debias_model = faircls.networks.get_main_model(debias_state)"
      ]
    },
    {
      "cell_type": "code",
      "execution_count": null,
      "metadata": {
        "colab": {
          "base_uri": "https://localhost:8080/"
        },
        "id": "QNFVF7EQ95-s",
        "outputId": "c9682fb3-f629-44be-8535-fa4d50218bcb"
      },
      "outputs": [
        {
          "output_type": "stream",
          "name": "stdout",
          "text": [
            "2022-03-24 09:56:51 [INFO ]  Epoch:    0 [      0/   1996 ( 0%)]\tLoss: 0.0000\t Data Time: 0.03s\tTrain Time: 0.35s\n",
            "2022-03-24 09:56:52 [INFO ]  Evaluation at Epoch 0\n",
            "2022-03-24 09:56:52 [INFO ]  Validation accuracy: 67.30\tmacro_fscore: 67.01\tmicro_fscore: 67.30\tTPR_GAP: 18.22\tFPR_GAP: 18.22\tPPR_GAP: 18.00\t\n",
            "2022-03-24 09:56:52 [INFO ]  Test accuracy: 70.65\tmacro_fscore: 70.56\tmicro_fscore: 70.65\tTPR_GAP: 18.46\tFPR_GAP: 18.46\tPPR_GAP: 17.90\t\n",
            "2022-03-24 09:56:52 [INFO ]  Epoch:    1 [      0/   1996 ( 0%)]\tLoss: -0.1402\t Data Time: 0.01s\tTrain Time: 0.39s\n",
            "2022-03-24 09:56:53 [INFO ]  Evaluation at Epoch 1\n",
            "2022-03-24 09:56:53 [INFO ]  Validation accuracy: 71.50\tmacro_fscore: 71.50\tmicro_fscore: 71.50\tTPR_GAP: 15.93\tFPR_GAP: 15.93\tPPR_GAP: 13.00\t\n",
            "2022-03-24 09:56:53 [INFO ]  Test accuracy: 74.00\tmacro_fscore: 73.98\tmicro_fscore: 74.00\tTPR_GAP: 18.83\tFPR_GAP: 18.83\tPPR_GAP: 17.40\t\n",
            "2022-03-24 09:56:53 [INFO ]  Epoch:    2 [      0/   1996 ( 0%)]\tLoss: -0.1515\t Data Time: 0.01s\tTrain Time: 0.22s\n",
            "2022-03-24 09:56:53 [INFO ]  Evaluation at Epoch 2\n",
            "2022-03-24 09:56:53 [INFO ]  Validation accuracy: 73.50\tmacro_fscore: 73.50\tmicro_fscore: 73.50\tTPR_GAP: 11.64\tFPR_GAP: 11.64\tPPR_GAP: 4.80\t\n",
            "2022-03-24 09:56:53 [INFO ]  Test accuracy: 74.45\tmacro_fscore: 74.44\tmicro_fscore: 74.45\tTPR_GAP: 13.74\tFPR_GAP: 13.74\tPPR_GAP: 9.10\t\n",
            "2022-03-24 09:56:53 [INFO ]  Epoch:    3 [      0/   1996 ( 0%)]\tLoss: -0.2217\t Data Time: 0.01s\tTrain Time: 0.22s\n",
            "2022-03-24 09:56:54 [INFO ]  Evaluation at Epoch 3\n",
            "2022-03-24 09:56:54 [INFO ]  Validation accuracy: 73.60\tmacro_fscore: 73.53\tmicro_fscore: 73.60\tTPR_GAP: 12.19\tFPR_GAP: 12.19\tPPR_GAP: 4.80\t\n",
            "2022-03-24 09:56:54 [INFO ]  Test accuracy: 74.00\tmacro_fscore: 73.86\tmicro_fscore: 74.00\tTPR_GAP: 14.54\tFPR_GAP: 14.54\tPPR_GAP: 7.60\t\n",
            "2022-03-24 09:56:54 [INFO ]  Epoch:    4 [      0/   1996 ( 0%)]\tLoss: -0.2131\t Data Time: 0.01s\tTrain Time: 0.21s\n",
            "2022-03-24 09:56:54 [INFO ]  Epochs since last improvement: 1\n",
            "2022-03-24 09:56:54 [INFO ]  Evaluation at Epoch 4\n",
            "2022-03-24 09:56:54 [INFO ]  Validation accuracy: 72.80\tmacro_fscore: 72.77\tmicro_fscore: 72.80\tTPR_GAP: 10.92\tFPR_GAP: 10.92\tPPR_GAP: 5.20\t\n",
            "2022-03-24 09:56:54 [INFO ]  Test accuracy: 74.70\tmacro_fscore: 74.69\tmicro_fscore: 74.70\tTPR_GAP: 13.27\tFPR_GAP: 13.27\tPPR_GAP: 6.80\t\n",
            "2022-03-24 09:56:55 [INFO ]  Epoch:    5 [      0/   1996 ( 0%)]\tLoss: -0.2432\t Data Time: 0.01s\tTrain Time: 0.21s\n",
            "2022-03-24 09:56:55 [INFO ]  Epochs since last improvement: 2\n",
            "2022-03-24 09:56:55 [INFO ]  Evaluation at Epoch 5\n",
            "2022-03-24 09:56:55 [INFO ]  Validation accuracy: 74.40\tmacro_fscore: 74.38\tmicro_fscore: 74.40\tTPR_GAP: 14.53\tFPR_GAP: 14.53\tPPR_GAP: 12.00\t\n",
            "2022-03-24 09:56:55 [INFO ]  Test accuracy: 75.00\tmacro_fscore: 74.94\tmicro_fscore: 75.00\tTPR_GAP: 19.00\tFPR_GAP: 19.00\tPPR_GAP: 14.40\t\n",
            "2022-03-24 09:56:55 [INFO ]  Epoch:    6 [      0/   1996 ( 0%)]\tLoss: -0.2626\t Data Time: 0.01s\tTrain Time: 0.21s\n",
            "2022-03-24 09:56:55 [INFO ]  Epochs since last improvement: 3\n",
            "2022-03-24 09:56:56 [INFO ]  Evaluation at Epoch 6\n",
            "2022-03-24 09:56:56 [INFO ]  Validation accuracy: 73.50\tmacro_fscore: 73.46\tmicro_fscore: 73.50\tTPR_GAP: 18.70\tFPR_GAP: 18.70\tPPR_GAP: 16.60\t\n",
            "2022-03-24 09:56:56 [INFO ]  Test accuracy: 75.10\tmacro_fscore: 75.00\tmicro_fscore: 75.10\tTPR_GAP: 19.60\tFPR_GAP: 19.60\tPPR_GAP: 15.80\t\n",
            "2022-03-24 09:56:56 [INFO ]  Epoch:    7 [      0/   1996 ( 0%)]\tLoss: -0.2786\t Data Time: 0.01s\tTrain Time: 0.21s\n",
            "2022-03-24 09:56:56 [INFO ]  Epochs since last improvement: 4\n",
            "2022-03-24 09:56:56 [INFO ]  Evaluation at Epoch 7\n",
            "2022-03-24 09:56:56 [INFO ]  Validation accuracy: 72.40\tmacro_fscore: 72.35\tmicro_fscore: 72.40\tTPR_GAP: 12.90\tFPR_GAP: 12.90\tPPR_GAP: 11.20\t\n",
            "2022-03-24 09:56:56 [INFO ]  Test accuracy: 75.75\tmacro_fscore: 75.74\tmicro_fscore: 75.75\tTPR_GAP: 14.44\tFPR_GAP: 14.44\tPPR_GAP: 10.70\t\n",
            "2022-03-24 09:56:56 [INFO ]  Epoch:    8 [      0/   1996 ( 0%)]\tLoss: -0.3208\t Data Time: 0.01s\tTrain Time: 0.21s\n",
            "2022-03-24 09:56:57 [INFO ]  Epochs since last improvement: 5\n",
            "2022-03-24 09:56:57 [INFO ]  Evaluation at Epoch 8\n",
            "2022-03-24 09:56:57 [INFO ]  Validation accuracy: 72.95\tmacro_fscore: 72.95\tmicro_fscore: 72.95\tTPR_GAP: 13.38\tFPR_GAP: 13.38\tPPR_GAP: 10.50\t\n",
            "2022-03-24 09:56:57 [INFO ]  Test accuracy: 75.80\tmacro_fscore: 75.80\tmicro_fscore: 75.80\tTPR_GAP: 14.75\tFPR_GAP: 14.75\tPPR_GAP: 9.60\t\n"
          ]
        }
      ],
      "source": [
        "debias_model.train_self()"
      ]
    },
    {
      "cell_type": "markdown",
      "metadata": {
        "id": "4_RYwXR-95-s"
      },
      "source": [
        "## Analysis\n",
        "\n",
        "In this section, we demonstrate the analysis module of FairCLS, which can be used for retriving results, selecting models, and comparing models."
      ]
    },
    {
      "cell_type": "markdown",
      "metadata": {
        "id": "-PLJ_lYX95-t"
      },
      "source": [
        "Loading saved results. The saving dir is specified by the arguments when initialing the state for training. \n",
        "\n",
        "Briefly, the resulting dir is: `results_dir`/`project_dir`/`dataset`/`exp_id`.\n",
        "\n",
        "The following example shows the information that has been stored for each epoch:"
      ]
    },
    {
      "cell_type": "code",
      "execution_count": null,
      "metadata": {
        "colab": {
          "base_uri": "https://localhost:8080/"
        },
        "id": "x0LKo1uu95-t",
        "outputId": "0b26c937-8d2f-4780-fec1-d3e29c06d68f"
      },
      "outputs": [
        {
          "output_type": "stream",
          "name": "stdout",
          "text": [
            "dict_keys(['epoch', 'epochs_since_improvement', 'loss', 'valid_confusion_matrices', 'test_confusion_matrices', 'dev_evaluations', 'test_evaluations'])\n"
          ]
        }
      ],
      "source": [
        "import torch\n",
        "\n",
        "epoch_results = torch.load(\"results/dev/Sample/vanilla/models/checkpoint_epoch0.pth.tar\")\n",
        "print(epoch_results.keys())"
      ]
    },
    {
      "cell_type": "markdown",
      "source": [
        "We currently save the following scores for performacne and fairness, other metrics can be calculated based to confusion matrices."
      ],
      "metadata": {
        "id": "b2p32DxdVJ0l"
      }
    },
    {
      "cell_type": "code",
      "execution_count": null,
      "metadata": {
        "colab": {
          "base_uri": "https://localhost:8080/"
        },
        "id": "p3iW2W_U95-t",
        "outputId": "48761128-2b83-4487-c15e-dfe14e4564df"
      },
      "outputs": [
        {
          "output_type": "stream",
          "name": "stdout",
          "text": [
            "{'accuracy': 0.6715, 'macro_fscore': 0.6713184856336911, 'micro_fscore': 0.6715, 'TPR_GAP': 0.45348647559547023, 'FPR_GAP': 0.45348650280465924, 'PPR_GAP': 0.45299999546999997}\n"
          ]
        }
      ],
      "source": [
        "print(epoch_results[\"dev_evaluations\"])"
      ]
    },
    {
      "cell_type": "code",
      "execution_count": null,
      "metadata": {
        "id": "ec3ab6KE95-u"
      },
      "outputs": [],
      "source": [
        "from faircls import analysis"
      ]
    },
    {
      "cell_type": "markdown",
      "source": [
        "`model_selection` is for retriving experiimental results, selecting the desired epoch, and save the resulting df for later process."
      ],
      "metadata": {
        "id": "DExIbSd6Very"
      }
    },
    {
      "cell_type": "code",
      "execution_count": null,
      "metadata": {
        "colab": {
          "base_uri": "https://localhost:8080/",
          "height": 166
        },
        "id": "A3RixGf695-u",
        "outputId": "13d65ccf-4ad3-47e3-e8f6-0ac4f4b352b6"
      },
      "outputs": [
        {
          "output_type": "stream",
          "name": "stderr",
          "text": [
            "[Parallel(n_jobs=1)]: Using backend SequentialBackend with 1 concurrent workers.\n",
            "[Parallel(n_jobs=1)]: Done   1 out of   1 | elapsed:    0.0s remaining:    0.0s\n",
            "[Parallel(n_jobs=1)]: Done   1 out of   1 | elapsed:    0.0s finished\n"
          ]
        },
        {
          "output_type": "execute_result",
          "data": {
            "text/plain": [
              "                         epoch  dev_fairness  dev_performance   dev_DTO  \\\n",
              "BT  BTObj adv_debiasing                                                   \n",
              "NaN NaN   False              2      0.624263           0.7175  0.006645   \n",
              "\n",
              "                         test_fairness  test_performance  test_DTO  \\\n",
              "BT  BTObj adv_debiasing                                              \n",
              "NaN NaN   False                0.62596            0.7225  0.002072   \n",
              "\n",
              "                                                     opt_dir  \n",
              "BT  BTObj adv_debiasing                                       \n",
              "NaN NaN   False          results/dev/Sample/vanilla/opt.yaml  "
            ],
            "text/html": [
              "\n",
              "  <div id=\"df-e3e08c8c-7d07-4562-924c-96ad759c5c44\">\n",
              "    <div class=\"colab-df-container\">\n",
              "      <div>\n",
              "<style scoped>\n",
              "    .dataframe tbody tr th:only-of-type {\n",
              "        vertical-align: middle;\n",
              "    }\n",
              "\n",
              "    .dataframe tbody tr th {\n",
              "        vertical-align: top;\n",
              "    }\n",
              "\n",
              "    .dataframe thead th {\n",
              "        text-align: right;\n",
              "    }\n",
              "</style>\n",
              "<table border=\"1\" class=\"dataframe\">\n",
              "  <thead>\n",
              "    <tr style=\"text-align: right;\">\n",
              "      <th></th>\n",
              "      <th></th>\n",
              "      <th></th>\n",
              "      <th>epoch</th>\n",
              "      <th>dev_fairness</th>\n",
              "      <th>dev_performance</th>\n",
              "      <th>dev_DTO</th>\n",
              "      <th>test_fairness</th>\n",
              "      <th>test_performance</th>\n",
              "      <th>test_DTO</th>\n",
              "      <th>opt_dir</th>\n",
              "    </tr>\n",
              "    <tr>\n",
              "      <th>BT</th>\n",
              "      <th>BTObj</th>\n",
              "      <th>adv_debiasing</th>\n",
              "      <th></th>\n",
              "      <th></th>\n",
              "      <th></th>\n",
              "      <th></th>\n",
              "      <th></th>\n",
              "      <th></th>\n",
              "      <th></th>\n",
              "      <th></th>\n",
              "    </tr>\n",
              "  </thead>\n",
              "  <tbody>\n",
              "    <tr>\n",
              "      <th>NaN</th>\n",
              "      <th>NaN</th>\n",
              "      <th>False</th>\n",
              "      <td>2</td>\n",
              "      <td>0.624263</td>\n",
              "      <td>0.7175</td>\n",
              "      <td>0.006645</td>\n",
              "      <td>0.62596</td>\n",
              "      <td>0.7225</td>\n",
              "      <td>0.002072</td>\n",
              "      <td>results/dev/Sample/vanilla/opt.yaml</td>\n",
              "    </tr>\n",
              "  </tbody>\n",
              "</table>\n",
              "</div>\n",
              "      <button class=\"colab-df-convert\" onclick=\"convertToInteractive('df-e3e08c8c-7d07-4562-924c-96ad759c5c44')\"\n",
              "              title=\"Convert this dataframe to an interactive table.\"\n",
              "              style=\"display:none;\">\n",
              "        \n",
              "  <svg xmlns=\"http://www.w3.org/2000/svg\" height=\"24px\"viewBox=\"0 0 24 24\"\n",
              "       width=\"24px\">\n",
              "    <path d=\"M0 0h24v24H0V0z\" fill=\"none\"/>\n",
              "    <path d=\"M18.56 5.44l.94 2.06.94-2.06 2.06-.94-2.06-.94-.94-2.06-.94 2.06-2.06.94zm-11 1L8.5 8.5l.94-2.06 2.06-.94-2.06-.94L8.5 2.5l-.94 2.06-2.06.94zm10 10l.94 2.06.94-2.06 2.06-.94-2.06-.94-.94-2.06-.94 2.06-2.06.94z\"/><path d=\"M17.41 7.96l-1.37-1.37c-.4-.4-.92-.59-1.43-.59-.52 0-1.04.2-1.43.59L10.3 9.45l-7.72 7.72c-.78.78-.78 2.05 0 2.83L4 21.41c.39.39.9.59 1.41.59.51 0 1.02-.2 1.41-.59l7.78-7.78 2.81-2.81c.8-.78.8-2.07 0-2.86zM5.41 20L4 18.59l7.72-7.72 1.47 1.35L5.41 20z\"/>\n",
              "  </svg>\n",
              "      </button>\n",
              "      \n",
              "  <style>\n",
              "    .colab-df-container {\n",
              "      display:flex;\n",
              "      flex-wrap:wrap;\n",
              "      gap: 12px;\n",
              "    }\n",
              "\n",
              "    .colab-df-convert {\n",
              "      background-color: #E8F0FE;\n",
              "      border: none;\n",
              "      border-radius: 50%;\n",
              "      cursor: pointer;\n",
              "      display: none;\n",
              "      fill: #1967D2;\n",
              "      height: 32px;\n",
              "      padding: 0 0 0 0;\n",
              "      width: 32px;\n",
              "    }\n",
              "\n",
              "    .colab-df-convert:hover {\n",
              "      background-color: #E2EBFA;\n",
              "      box-shadow: 0px 1px 2px rgba(60, 64, 67, 0.3), 0px 1px 3px 1px rgba(60, 64, 67, 0.15);\n",
              "      fill: #174EA6;\n",
              "    }\n",
              "\n",
              "    [theme=dark] .colab-df-convert {\n",
              "      background-color: #3B4455;\n",
              "      fill: #D2E3FC;\n",
              "    }\n",
              "\n",
              "    [theme=dark] .colab-df-convert:hover {\n",
              "      background-color: #434B5C;\n",
              "      box-shadow: 0px 1px 3px 1px rgba(0, 0, 0, 0.15);\n",
              "      filter: drop-shadow(0px 1px 2px rgba(0, 0, 0, 0.3));\n",
              "      fill: #FFFFFF;\n",
              "    }\n",
              "  </style>\n",
              "\n",
              "      <script>\n",
              "        const buttonEl =\n",
              "          document.querySelector('#df-e3e08c8c-7d07-4562-924c-96ad759c5c44 button.colab-df-convert');\n",
              "        buttonEl.style.display =\n",
              "          google.colab.kernel.accessAllowed ? 'block' : 'none';\n",
              "\n",
              "        async function convertToInteractive(key) {\n",
              "          const element = document.querySelector('#df-e3e08c8c-7d07-4562-924c-96ad759c5c44');\n",
              "          const dataTable =\n",
              "            await google.colab.kernel.invokeFunction('convertToInteractive',\n",
              "                                                     [key], {});\n",
              "          if (!dataTable) return;\n",
              "\n",
              "          const docLinkHtml = 'Like what you see? Visit the ' +\n",
              "            '<a target=\"_blank\" href=https://colab.research.google.com/notebooks/data_table.ipynb>data table notebook</a>'\n",
              "            + ' to learn more about interactive tables.';\n",
              "          element.innerHTML = '';\n",
              "          dataTable['output_type'] = 'display_data';\n",
              "          await google.colab.output.renderOutput(dataTable, element);\n",
              "          const docLink = document.createElement('div');\n",
              "          docLink.innerHTML = docLinkHtml;\n",
              "          element.appendChild(docLink);\n",
              "        }\n",
              "      </script>\n",
              "    </div>\n",
              "  </div>\n",
              "  "
            ]
          },
          "metadata": {},
          "execution_count": 17
        }
      ],
      "source": [
        "analysis.model_selection(\n",
        "    results_dir= r\"results/dev\",\n",
        "    project_dir= r\"Sample\",\n",
        "    model_id= (\"vanilla\"),\n",
        "    GAP_metric_name = \"TPR_GAP\",\n",
        "    Performance_metric_name = \"accuracy\",\n",
        "    selection_criterion = \"DTO\",\n",
        "    checkpoint_dir= \"models\",\n",
        "    checkpoint_name= \"checkpoint_epoch\",\n",
        "    n_jobs=1,\n",
        "    index_column_names = [\"BT\", \"BTObj\", \"adv_debiasing\"],\n",
        "    save_path = r\"results/Vanilla_df.pkl\"\n",
        ")"
      ]
    },
    {
      "cell_type": "code",
      "execution_count": null,
      "metadata": {
        "colab": {
          "base_uri": "https://localhost:8080/",
          "height": 166
        },
        "id": "A5yIesY295-u",
        "outputId": "b5c9e9a5-970c-4b3e-a9e9-4eca2388c74a"
      },
      "outputs": [
        {
          "output_type": "stream",
          "name": "stderr",
          "text": [
            "[Parallel(n_jobs=1)]: Using backend SequentialBackend with 1 concurrent workers.\n",
            "[Parallel(n_jobs=1)]: Done   1 out of   1 | elapsed:    0.0s remaining:    0.0s\n",
            "[Parallel(n_jobs=1)]: Done   1 out of   1 | elapsed:    0.0s finished\n"
          ]
        },
        {
          "output_type": "execute_result",
          "data": {
            "text/plain": [
              "                                epoch  dev_fairness  dev_performance  \\\n",
              "BT         BTObj adv_debiasing                                         \n",
              "Resampling EO    True               0      0.883638            0.735   \n",
              "\n",
              "                                 dev_DTO  test_fairness  test_performance  \\\n",
              "BT         BTObj adv_debiasing                                              \n",
              "Resampling EO    True           0.014538       0.862559            0.7445   \n",
              "\n",
              "                                test_DTO                             opt_dir  \n",
              "BT         BTObj adv_debiasing                                                \n",
              "Resampling EO    True           0.018616  results/dev/Sample/BT_Adv/opt.yaml  "
            ],
            "text/html": [
              "\n",
              "  <div id=\"df-9581c85a-ec5f-4090-ab9c-31fb4d93b711\">\n",
              "    <div class=\"colab-df-container\">\n",
              "      <div>\n",
              "<style scoped>\n",
              "    .dataframe tbody tr th:only-of-type {\n",
              "        vertical-align: middle;\n",
              "    }\n",
              "\n",
              "    .dataframe tbody tr th {\n",
              "        vertical-align: top;\n",
              "    }\n",
              "\n",
              "    .dataframe thead th {\n",
              "        text-align: right;\n",
              "    }\n",
              "</style>\n",
              "<table border=\"1\" class=\"dataframe\">\n",
              "  <thead>\n",
              "    <tr style=\"text-align: right;\">\n",
              "      <th></th>\n",
              "      <th></th>\n",
              "      <th></th>\n",
              "      <th>epoch</th>\n",
              "      <th>dev_fairness</th>\n",
              "      <th>dev_performance</th>\n",
              "      <th>dev_DTO</th>\n",
              "      <th>test_fairness</th>\n",
              "      <th>test_performance</th>\n",
              "      <th>test_DTO</th>\n",
              "      <th>opt_dir</th>\n",
              "    </tr>\n",
              "    <tr>\n",
              "      <th>BT</th>\n",
              "      <th>BTObj</th>\n",
              "      <th>adv_debiasing</th>\n",
              "      <th></th>\n",
              "      <th></th>\n",
              "      <th></th>\n",
              "      <th></th>\n",
              "      <th></th>\n",
              "      <th></th>\n",
              "      <th></th>\n",
              "      <th></th>\n",
              "    </tr>\n",
              "  </thead>\n",
              "  <tbody>\n",
              "    <tr>\n",
              "      <th>Resampling</th>\n",
              "      <th>EO</th>\n",
              "      <th>True</th>\n",
              "      <td>0</td>\n",
              "      <td>0.883638</td>\n",
              "      <td>0.735</td>\n",
              "      <td>0.014538</td>\n",
              "      <td>0.862559</td>\n",
              "      <td>0.7445</td>\n",
              "      <td>0.018616</td>\n",
              "      <td>results/dev/Sample/BT_Adv/opt.yaml</td>\n",
              "    </tr>\n",
              "  </tbody>\n",
              "</table>\n",
              "</div>\n",
              "      <button class=\"colab-df-convert\" onclick=\"convertToInteractive('df-9581c85a-ec5f-4090-ab9c-31fb4d93b711')\"\n",
              "              title=\"Convert this dataframe to an interactive table.\"\n",
              "              style=\"display:none;\">\n",
              "        \n",
              "  <svg xmlns=\"http://www.w3.org/2000/svg\" height=\"24px\"viewBox=\"0 0 24 24\"\n",
              "       width=\"24px\">\n",
              "    <path d=\"M0 0h24v24H0V0z\" fill=\"none\"/>\n",
              "    <path d=\"M18.56 5.44l.94 2.06.94-2.06 2.06-.94-2.06-.94-.94-2.06-.94 2.06-2.06.94zm-11 1L8.5 8.5l.94-2.06 2.06-.94-2.06-.94L8.5 2.5l-.94 2.06-2.06.94zm10 10l.94 2.06.94-2.06 2.06-.94-2.06-.94-.94-2.06-.94 2.06-2.06.94z\"/><path d=\"M17.41 7.96l-1.37-1.37c-.4-.4-.92-.59-1.43-.59-.52 0-1.04.2-1.43.59L10.3 9.45l-7.72 7.72c-.78.78-.78 2.05 0 2.83L4 21.41c.39.39.9.59 1.41.59.51 0 1.02-.2 1.41-.59l7.78-7.78 2.81-2.81c.8-.78.8-2.07 0-2.86zM5.41 20L4 18.59l7.72-7.72 1.47 1.35L5.41 20z\"/>\n",
              "  </svg>\n",
              "      </button>\n",
              "      \n",
              "  <style>\n",
              "    .colab-df-container {\n",
              "      display:flex;\n",
              "      flex-wrap:wrap;\n",
              "      gap: 12px;\n",
              "    }\n",
              "\n",
              "    .colab-df-convert {\n",
              "      background-color: #E8F0FE;\n",
              "      border: none;\n",
              "      border-radius: 50%;\n",
              "      cursor: pointer;\n",
              "      display: none;\n",
              "      fill: #1967D2;\n",
              "      height: 32px;\n",
              "      padding: 0 0 0 0;\n",
              "      width: 32px;\n",
              "    }\n",
              "\n",
              "    .colab-df-convert:hover {\n",
              "      background-color: #E2EBFA;\n",
              "      box-shadow: 0px 1px 2px rgba(60, 64, 67, 0.3), 0px 1px 3px 1px rgba(60, 64, 67, 0.15);\n",
              "      fill: #174EA6;\n",
              "    }\n",
              "\n",
              "    [theme=dark] .colab-df-convert {\n",
              "      background-color: #3B4455;\n",
              "      fill: #D2E3FC;\n",
              "    }\n",
              "\n",
              "    [theme=dark] .colab-df-convert:hover {\n",
              "      background-color: #434B5C;\n",
              "      box-shadow: 0px 1px 3px 1px rgba(0, 0, 0, 0.15);\n",
              "      filter: drop-shadow(0px 1px 2px rgba(0, 0, 0, 0.3));\n",
              "      fill: #FFFFFF;\n",
              "    }\n",
              "  </style>\n",
              "\n",
              "      <script>\n",
              "        const buttonEl =\n",
              "          document.querySelector('#df-9581c85a-ec5f-4090-ab9c-31fb4d93b711 button.colab-df-convert');\n",
              "        buttonEl.style.display =\n",
              "          google.colab.kernel.accessAllowed ? 'block' : 'none';\n",
              "\n",
              "        async function convertToInteractive(key) {\n",
              "          const element = document.querySelector('#df-9581c85a-ec5f-4090-ab9c-31fb4d93b711');\n",
              "          const dataTable =\n",
              "            await google.colab.kernel.invokeFunction('convertToInteractive',\n",
              "                                                     [key], {});\n",
              "          if (!dataTable) return;\n",
              "\n",
              "          const docLinkHtml = 'Like what you see? Visit the ' +\n",
              "            '<a target=\"_blank\" href=https://colab.research.google.com/notebooks/data_table.ipynb>data table notebook</a>'\n",
              "            + ' to learn more about interactive tables.';\n",
              "          element.innerHTML = '';\n",
              "          dataTable['output_type'] = 'display_data';\n",
              "          await google.colab.output.renderOutput(dataTable, element);\n",
              "          const docLink = document.createElement('div');\n",
              "          docLink.innerHTML = docLinkHtml;\n",
              "          element.appendChild(docLink);\n",
              "        }\n",
              "      </script>\n",
              "    </div>\n",
              "  </div>\n",
              "  "
            ]
          },
          "metadata": {},
          "execution_count": 18
        }
      ],
      "source": [
        "analysis.model_selection(\n",
        "    results_dir= r\"results/dev\",\n",
        "    project_dir= r\"Sample\",\n",
        "    model_id= (\"BT_Adv\"),\n",
        "    GAP_metric_name = \"TPR_GAP\",\n",
        "    Performance_metric_name = \"accuracy\",\n",
        "    selection_criterion = \"DTO\",\n",
        "    checkpoint_dir= \"models\",\n",
        "    checkpoint_name= \"checkpoint_epoch\",\n",
        "    n_jobs=1,\n",
        "    index_column_names = [\"BT\", \"BTObj\", \"adv_debiasing\"],\n",
        "    save_path = r\"results/BT_ADV_df.pkl\"\n",
        ")"
      ]
    },
    {
      "cell_type": "markdown",
      "source": [
        "We have preprocing the results with the `model_selection` function, and the resulting dfs can be downloaded as follows:"
      ],
      "metadata": {
        "id": "1W0yGrsnV6_g"
      }
    },
    {
      "cell_type": "code",
      "source": [
        "!wget --no-check-certificate 'https://docs.google.com/uc?export=download&id=1M0G6PyPuDC8Y_2nL9XKYCt10IUzbSvfl' -O retrived_results.tar.gz"
      ],
      "metadata": {
        "colab": {
          "base_uri": "https://localhost:8080/"
        },
        "id": "njuqG-UnL5Ku",
        "outputId": "ac9f2d4c-b8a1-4dd2-ed91-40ed83af481c"
      },
      "execution_count": null,
      "outputs": [
        {
          "output_type": "stream",
          "name": "stdout",
          "text": [
            "--2022-03-24 09:56:57--  https://docs.google.com/uc?export=download&id=1M0G6PyPuDC8Y_2nL9XKYCt10IUzbSvfl\n",
            "Resolving docs.google.com (docs.google.com)... 173.194.214.101, 173.194.214.100, 173.194.214.138, ...\n",
            "Connecting to docs.google.com (docs.google.com)|173.194.214.101|:443... connected.\n",
            "HTTP request sent, awaiting response... 303 See Other\n",
            "Location: https://doc-0g-0k-docs.googleusercontent.com/docs/securesc/ha0ro937gcuc7l7deffksulhg5h7mbp1/tqms6pkd54nqh688bv4lavhsfepljige/1648115775000/17527887236587461918/*/1M0G6PyPuDC8Y_2nL9XKYCt10IUzbSvfl?e=download [following]\n",
            "Warning: wildcards not supported in HTTP.\n",
            "--2022-03-24 09:56:59--  https://doc-0g-0k-docs.googleusercontent.com/docs/securesc/ha0ro937gcuc7l7deffksulhg5h7mbp1/tqms6pkd54nqh688bv4lavhsfepljige/1648115775000/17527887236587461918/*/1M0G6PyPuDC8Y_2nL9XKYCt10IUzbSvfl?e=download\n",
            "Resolving doc-0g-0k-docs.googleusercontent.com (doc-0g-0k-docs.googleusercontent.com)... 142.251.107.132, 2607:f8b0:400c:c32::84\n",
            "Connecting to doc-0g-0k-docs.googleusercontent.com (doc-0g-0k-docs.googleusercontent.com)|142.251.107.132|:443... connected.\n",
            "HTTP request sent, awaiting response... 200 OK\n",
            "Length: 790461 (772K) [application/x-gzip]\n",
            "Saving to: ‘retrived_results.tar.gz’\n",
            "\n",
            "retrived_results.ta 100%[===================>] 771.93K  --.-KB/s    in 0.005s  \n",
            "\n",
            "2022-03-24 09:56:59 (137 MB/s) - ‘retrived_results.tar.gz’ saved [790461/790461]\n",
            "\n"
          ]
        }
      ]
    },
    {
      "cell_type": "code",
      "source": [
        "!tar -xvf retrived_results.tar.gz"
      ],
      "metadata": {
        "colab": {
          "base_uri": "https://localhost:8080/"
        },
        "id": "u7goqTOjL5D7",
        "outputId": "9bb46bef-99ce-4504-b90d-1100439c6b8a"
      },
      "execution_count": null,
      "outputs": [
        {
          "output_type": "stream",
          "name": "stdout",
          "text": [
            "analysis/results/\n",
            "analysis/results/Bios_both_Adv_df.pkl\n",
            "analysis/results/Bios_both_BTFairBatch_df.pkl\n",
            "analysis/results/Bios_both_BTGAdv_df.pkl\n",
            "analysis/results/Bios_both_BTGDAdv_df.pkl\n",
            "analysis/results/Bios_both_DAdv_df.pkl\n",
            "analysis/results/Bios_both_FairBatch_df.pkl\n",
            "analysis/results/Bios_both_GAdv_df.pkl\n",
            "analysis/results/Bios_both_GDAdv_df.pkl\n",
            "analysis/results/Bios_both_INLP_df.pkl\n",
            "analysis/results/Bios_both_OldFairBatch_df.pkl\n",
            "analysis/results/Bios_both_Vanilla_df.pkl\n",
            "analysis/results/Bios_gender_Adv_df.pkl\n",
            "analysis/results/Bios_gender_BTEO_df.pkl\n",
            "analysis/results/Bios_gender_BTFairBatch_df.pkl\n",
            "analysis/results/Bios_gender_BTGAdv_df.pkl\n",
            "analysis/results/Bios_gender_BTGDAdv_df.pkl\n",
            "analysis/results/Bios_gender_DAdv_df.pkl\n",
            "analysis/results/Bios_gender_FairBatch_df.pkl\n",
            "analysis/results/Bios_gender_FairSCL_df.pkl\n",
            "analysis/results/Bios_gender_GAdv_df.pkl\n",
            "analysis/results/Bios_gender_GatedBTEO_df.pkl\n",
            "analysis/results/Bios_gender_GDAdv_df.pkl\n",
            "analysis/results/Bios_gender_GDEO_df.pkl\n",
            "analysis/results/Bios_gender_GDMean_df.pkl\n",
            "analysis/results/Bios_gender_INLP_df.pkl\n",
            "analysis/results/Bios_gender_OldFairBatch_df.pkl\n",
            "analysis/results/Bios_gender_Vanilla_df.pkl\n",
            "analysis/results/Moji_Adv_df.pkl\n",
            "analysis/results/Moji_BTEO_df.pkl\n",
            "analysis/results/Moji_BTFairBatch_df.pkl\n",
            "analysis/results/Moji_BTGatedAdv_df.pkl\n",
            "analysis/results/Moji_DAdv_df.pkl\n",
            "analysis/results/Moji_DelayedCLS_Adv_df.pkl\n",
            "analysis/results/Moji_FairBatch_df.pkl\n",
            "analysis/results/Moji_FairSCL_df.pkl\n",
            "analysis/results/Moji_GatedAdv_df.pkl\n",
            "analysis/results/Moji_GatedBTEO_df.pkl\n",
            "analysis/results/Moji_GatedDAdv_df.pkl\n",
            "analysis/results/Moji_GDEO_df.pkl\n",
            "analysis/results/Moji_GDMean_df.pkl\n",
            "analysis/results/Moji_INLP_df.pkl\n",
            "analysis/results/Moji_OldFairBatch_df.pkl\n",
            "analysis/results/Moji_Vanilla_df.pkl\n",
            "analysis/results/old_Moji_Adv_converged.pkl\n"
          ]
        }
      ]
    },
    {
      "cell_type": "markdown",
      "source": [
        "Here we demostrate the application of `final_results_df`. We load chached results with `retrive_results`."
      ],
      "metadata": {
        "id": "sjpZXi6FWUCw"
      }
    },
    {
      "cell_type": "code",
      "source": [
        "Moji_results = analysis.retrive_results(\"Moji\", log_dir=\"analysis/results\")"
      ],
      "metadata": {
        "id": "u672XV4_NL9H"
      },
      "execution_count": null,
      "outputs": []
    },
    {
      "cell_type": "code",
      "source": [
        "Moji_main_results = analysis.final_results_df(\n",
        "    results_dict = Moji_results,\n",
        "    pareto = False,\n",
        "    pareto_selection = \"test\",\n",
        "    selection_criterion = \"DTO\",\n",
        "    return_dev = True,\n",
        "    # Fairness_threshold=0.95,\n",
        "    # return_conf=True,\n",
        "    # save_conf_dir=r\"D:\\Project\\Fair_NLP_Classification\\analysis\\reproduce\\Moji\"\n",
        "    )\n",
        "Moji_main_results"
      ],
      "metadata": {
        "colab": {
          "base_uri": "https://localhost:8080/",
          "height": 551
        },
        "id": "XHgAL1NINdPe",
        "outputId": "46c527cd-bbcf-4fab-8e5e-c8fc42285511"
      },
      "execution_count": null,
      "outputs": [
        {
          "output_type": "execute_result",
          "data": {
            "text/plain": [
              "            Models  test_performance mean  test_performance std  \\\n",
              "0       BTGatedAdv               0.735459              0.028830   \n",
              "1          FairSCL               0.757314              0.003441   \n",
              "2          Vanilla               0.722981              0.004576   \n",
              "3      BTFairBatch               0.746837              0.003407   \n",
              "4             BTEO               0.753927              0.001433   \n",
              "5        GatedBTEO               0.762106              0.002592   \n",
              "6        GatedDAdv               0.750163              0.006945   \n",
              "7             DAdv               0.755464              0.004076   \n",
              "8             INLP               0.733433                   NaN   \n",
              "9              Adv               0.756414              0.007271   \n",
              "10    OldFairBatch               0.750638              0.006012   \n",
              "11          GDMean               0.752163              0.002130   \n",
              "12  DelayedCLS_Adv               0.761015              0.003081   \n",
              "13        GatedAdv               0.753113              0.005196   \n",
              "14       FairBatch               0.751488              0.005772   \n",
              "15            GDEO               0.752763              0.004999   \n",
              "\n",
              "    test_fairness mean  test_fairness std  dev_performance mean  \\\n",
              "0             0.866150           0.028232              0.730150   \n",
              "1             0.878219           0.004314              0.752825   \n",
              "2             0.611870           0.014356              0.726650   \n",
              "3             0.899351           0.004936              0.743975   \n",
              "4             0.877469           0.003756              0.746325   \n",
              "5             0.900764           0.014701              0.759775   \n",
              "6             0.908679           0.021678              0.745600   \n",
              "7             0.904023           0.011218              0.748550   \n",
              "8             0.855982                NaN              0.727625   \n",
              "9             0.893286           0.005623              0.747425   \n",
              "10            0.905537           0.005046              0.744525   \n",
              "11            0.901389           0.003916              0.749050   \n",
              "12            0.882425           0.015918              0.751675   \n",
              "13            0.890065           0.013302              0.748975   \n",
              "14            0.904373           0.008213              0.746050   \n",
              "15            0.892255           0.007860              0.749350   \n",
              "\n",
              "    dev_performance std  dev_fairness mean  dev_fairness std       DTO  \n",
              "0              0.024594           0.886862          0.030537  0.296476  \n",
              "1              0.001872           0.898325          0.002579  0.271527  \n",
              "2              0.003673           0.632302          0.013370  0.476849  \n",
              "3              0.004236           0.919254          0.004731  0.272437  \n",
              "4              0.000998           0.896874          0.005401  0.274892  \n",
              "5              0.003798           0.909445          0.006631  0.257762  \n",
              "6              0.004828           0.928670          0.022488  0.266004  \n",
              "7              0.002405           0.915601          0.005007  0.262697  \n",
              "8                   NaN           0.859686               NaN  0.302983  \n",
              "9              0.004549           0.912125          0.008507  0.265936  \n",
              "10             0.004995           0.917734          0.004761  0.266655  \n",
              "11             0.001368           0.922430          0.005829  0.266735  \n",
              "12             0.003481           0.899346          0.011417  0.266341  \n",
              "13             0.003805           0.910838          0.010314  0.270257  \n",
              "14             0.003896           0.914526          0.006020  0.266276  \n",
              "15             0.003494           0.912672          0.002766  0.269694  "
            ],
            "text/html": [
              "\n",
              "  <div id=\"df-9b3ecd5c-6794-41e5-8c08-19ccc6f48c3d\">\n",
              "    <div class=\"colab-df-container\">\n",
              "      <div>\n",
              "<style scoped>\n",
              "    .dataframe tbody tr th:only-of-type {\n",
              "        vertical-align: middle;\n",
              "    }\n",
              "\n",
              "    .dataframe tbody tr th {\n",
              "        vertical-align: top;\n",
              "    }\n",
              "\n",
              "    .dataframe thead th {\n",
              "        text-align: right;\n",
              "    }\n",
              "</style>\n",
              "<table border=\"1\" class=\"dataframe\">\n",
              "  <thead>\n",
              "    <tr style=\"text-align: right;\">\n",
              "      <th></th>\n",
              "      <th>Models</th>\n",
              "      <th>test_performance mean</th>\n",
              "      <th>test_performance std</th>\n",
              "      <th>test_fairness mean</th>\n",
              "      <th>test_fairness std</th>\n",
              "      <th>dev_performance mean</th>\n",
              "      <th>dev_performance std</th>\n",
              "      <th>dev_fairness mean</th>\n",
              "      <th>dev_fairness std</th>\n",
              "      <th>DTO</th>\n",
              "    </tr>\n",
              "  </thead>\n",
              "  <tbody>\n",
              "    <tr>\n",
              "      <th>0</th>\n",
              "      <td>BTGatedAdv</td>\n",
              "      <td>0.735459</td>\n",
              "      <td>0.028830</td>\n",
              "      <td>0.866150</td>\n",
              "      <td>0.028232</td>\n",
              "      <td>0.730150</td>\n",
              "      <td>0.024594</td>\n",
              "      <td>0.886862</td>\n",
              "      <td>0.030537</td>\n",
              "      <td>0.296476</td>\n",
              "    </tr>\n",
              "    <tr>\n",
              "      <th>1</th>\n",
              "      <td>FairSCL</td>\n",
              "      <td>0.757314</td>\n",
              "      <td>0.003441</td>\n",
              "      <td>0.878219</td>\n",
              "      <td>0.004314</td>\n",
              "      <td>0.752825</td>\n",
              "      <td>0.001872</td>\n",
              "      <td>0.898325</td>\n",
              "      <td>0.002579</td>\n",
              "      <td>0.271527</td>\n",
              "    </tr>\n",
              "    <tr>\n",
              "      <th>2</th>\n",
              "      <td>Vanilla</td>\n",
              "      <td>0.722981</td>\n",
              "      <td>0.004576</td>\n",
              "      <td>0.611870</td>\n",
              "      <td>0.014356</td>\n",
              "      <td>0.726650</td>\n",
              "      <td>0.003673</td>\n",
              "      <td>0.632302</td>\n",
              "      <td>0.013370</td>\n",
              "      <td>0.476849</td>\n",
              "    </tr>\n",
              "    <tr>\n",
              "      <th>3</th>\n",
              "      <td>BTFairBatch</td>\n",
              "      <td>0.746837</td>\n",
              "      <td>0.003407</td>\n",
              "      <td>0.899351</td>\n",
              "      <td>0.004936</td>\n",
              "      <td>0.743975</td>\n",
              "      <td>0.004236</td>\n",
              "      <td>0.919254</td>\n",
              "      <td>0.004731</td>\n",
              "      <td>0.272437</td>\n",
              "    </tr>\n",
              "    <tr>\n",
              "      <th>4</th>\n",
              "      <td>BTEO</td>\n",
              "      <td>0.753927</td>\n",
              "      <td>0.001433</td>\n",
              "      <td>0.877469</td>\n",
              "      <td>0.003756</td>\n",
              "      <td>0.746325</td>\n",
              "      <td>0.000998</td>\n",
              "      <td>0.896874</td>\n",
              "      <td>0.005401</td>\n",
              "      <td>0.274892</td>\n",
              "    </tr>\n",
              "    <tr>\n",
              "      <th>5</th>\n",
              "      <td>GatedBTEO</td>\n",
              "      <td>0.762106</td>\n",
              "      <td>0.002592</td>\n",
              "      <td>0.900764</td>\n",
              "      <td>0.014701</td>\n",
              "      <td>0.759775</td>\n",
              "      <td>0.003798</td>\n",
              "      <td>0.909445</td>\n",
              "      <td>0.006631</td>\n",
              "      <td>0.257762</td>\n",
              "    </tr>\n",
              "    <tr>\n",
              "      <th>6</th>\n",
              "      <td>GatedDAdv</td>\n",
              "      <td>0.750163</td>\n",
              "      <td>0.006945</td>\n",
              "      <td>0.908679</td>\n",
              "      <td>0.021678</td>\n",
              "      <td>0.745600</td>\n",
              "      <td>0.004828</td>\n",
              "      <td>0.928670</td>\n",
              "      <td>0.022488</td>\n",
              "      <td>0.266004</td>\n",
              "    </tr>\n",
              "    <tr>\n",
              "      <th>7</th>\n",
              "      <td>DAdv</td>\n",
              "      <td>0.755464</td>\n",
              "      <td>0.004076</td>\n",
              "      <td>0.904023</td>\n",
              "      <td>0.011218</td>\n",
              "      <td>0.748550</td>\n",
              "      <td>0.002405</td>\n",
              "      <td>0.915601</td>\n",
              "      <td>0.005007</td>\n",
              "      <td>0.262697</td>\n",
              "    </tr>\n",
              "    <tr>\n",
              "      <th>8</th>\n",
              "      <td>INLP</td>\n",
              "      <td>0.733433</td>\n",
              "      <td>NaN</td>\n",
              "      <td>0.855982</td>\n",
              "      <td>NaN</td>\n",
              "      <td>0.727625</td>\n",
              "      <td>NaN</td>\n",
              "      <td>0.859686</td>\n",
              "      <td>NaN</td>\n",
              "      <td>0.302983</td>\n",
              "    </tr>\n",
              "    <tr>\n",
              "      <th>9</th>\n",
              "      <td>Adv</td>\n",
              "      <td>0.756414</td>\n",
              "      <td>0.007271</td>\n",
              "      <td>0.893286</td>\n",
              "      <td>0.005623</td>\n",
              "      <td>0.747425</td>\n",
              "      <td>0.004549</td>\n",
              "      <td>0.912125</td>\n",
              "      <td>0.008507</td>\n",
              "      <td>0.265936</td>\n",
              "    </tr>\n",
              "    <tr>\n",
              "      <th>10</th>\n",
              "      <td>OldFairBatch</td>\n",
              "      <td>0.750638</td>\n",
              "      <td>0.006012</td>\n",
              "      <td>0.905537</td>\n",
              "      <td>0.005046</td>\n",
              "      <td>0.744525</td>\n",
              "      <td>0.004995</td>\n",
              "      <td>0.917734</td>\n",
              "      <td>0.004761</td>\n",
              "      <td>0.266655</td>\n",
              "    </tr>\n",
              "    <tr>\n",
              "      <th>11</th>\n",
              "      <td>GDMean</td>\n",
              "      <td>0.752163</td>\n",
              "      <td>0.002130</td>\n",
              "      <td>0.901389</td>\n",
              "      <td>0.003916</td>\n",
              "      <td>0.749050</td>\n",
              "      <td>0.001368</td>\n",
              "      <td>0.922430</td>\n",
              "      <td>0.005829</td>\n",
              "      <td>0.266735</td>\n",
              "    </tr>\n",
              "    <tr>\n",
              "      <th>12</th>\n",
              "      <td>DelayedCLS_Adv</td>\n",
              "      <td>0.761015</td>\n",
              "      <td>0.003081</td>\n",
              "      <td>0.882425</td>\n",
              "      <td>0.015918</td>\n",
              "      <td>0.751675</td>\n",
              "      <td>0.003481</td>\n",
              "      <td>0.899346</td>\n",
              "      <td>0.011417</td>\n",
              "      <td>0.266341</td>\n",
              "    </tr>\n",
              "    <tr>\n",
              "      <th>13</th>\n",
              "      <td>GatedAdv</td>\n",
              "      <td>0.753113</td>\n",
              "      <td>0.005196</td>\n",
              "      <td>0.890065</td>\n",
              "      <td>0.013302</td>\n",
              "      <td>0.748975</td>\n",
              "      <td>0.003805</td>\n",
              "      <td>0.910838</td>\n",
              "      <td>0.010314</td>\n",
              "      <td>0.270257</td>\n",
              "    </tr>\n",
              "    <tr>\n",
              "      <th>14</th>\n",
              "      <td>FairBatch</td>\n",
              "      <td>0.751488</td>\n",
              "      <td>0.005772</td>\n",
              "      <td>0.904373</td>\n",
              "      <td>0.008213</td>\n",
              "      <td>0.746050</td>\n",
              "      <td>0.003896</td>\n",
              "      <td>0.914526</td>\n",
              "      <td>0.006020</td>\n",
              "      <td>0.266276</td>\n",
              "    </tr>\n",
              "    <tr>\n",
              "      <th>15</th>\n",
              "      <td>GDEO</td>\n",
              "      <td>0.752763</td>\n",
              "      <td>0.004999</td>\n",
              "      <td>0.892255</td>\n",
              "      <td>0.007860</td>\n",
              "      <td>0.749350</td>\n",
              "      <td>0.003494</td>\n",
              "      <td>0.912672</td>\n",
              "      <td>0.002766</td>\n",
              "      <td>0.269694</td>\n",
              "    </tr>\n",
              "  </tbody>\n",
              "</table>\n",
              "</div>\n",
              "      <button class=\"colab-df-convert\" onclick=\"convertToInteractive('df-9b3ecd5c-6794-41e5-8c08-19ccc6f48c3d')\"\n",
              "              title=\"Convert this dataframe to an interactive table.\"\n",
              "              style=\"display:none;\">\n",
              "        \n",
              "  <svg xmlns=\"http://www.w3.org/2000/svg\" height=\"24px\"viewBox=\"0 0 24 24\"\n",
              "       width=\"24px\">\n",
              "    <path d=\"M0 0h24v24H0V0z\" fill=\"none\"/>\n",
              "    <path d=\"M18.56 5.44l.94 2.06.94-2.06 2.06-.94-2.06-.94-.94-2.06-.94 2.06-2.06.94zm-11 1L8.5 8.5l.94-2.06 2.06-.94-2.06-.94L8.5 2.5l-.94 2.06-2.06.94zm10 10l.94 2.06.94-2.06 2.06-.94-2.06-.94-.94-2.06-.94 2.06-2.06.94z\"/><path d=\"M17.41 7.96l-1.37-1.37c-.4-.4-.92-.59-1.43-.59-.52 0-1.04.2-1.43.59L10.3 9.45l-7.72 7.72c-.78.78-.78 2.05 0 2.83L4 21.41c.39.39.9.59 1.41.59.51 0 1.02-.2 1.41-.59l7.78-7.78 2.81-2.81c.8-.78.8-2.07 0-2.86zM5.41 20L4 18.59l7.72-7.72 1.47 1.35L5.41 20z\"/>\n",
              "  </svg>\n",
              "      </button>\n",
              "      \n",
              "  <style>\n",
              "    .colab-df-container {\n",
              "      display:flex;\n",
              "      flex-wrap:wrap;\n",
              "      gap: 12px;\n",
              "    }\n",
              "\n",
              "    .colab-df-convert {\n",
              "      background-color: #E8F0FE;\n",
              "      border: none;\n",
              "      border-radius: 50%;\n",
              "      cursor: pointer;\n",
              "      display: none;\n",
              "      fill: #1967D2;\n",
              "      height: 32px;\n",
              "      padding: 0 0 0 0;\n",
              "      width: 32px;\n",
              "    }\n",
              "\n",
              "    .colab-df-convert:hover {\n",
              "      background-color: #E2EBFA;\n",
              "      box-shadow: 0px 1px 2px rgba(60, 64, 67, 0.3), 0px 1px 3px 1px rgba(60, 64, 67, 0.15);\n",
              "      fill: #174EA6;\n",
              "    }\n",
              "\n",
              "    [theme=dark] .colab-df-convert {\n",
              "      background-color: #3B4455;\n",
              "      fill: #D2E3FC;\n",
              "    }\n",
              "\n",
              "    [theme=dark] .colab-df-convert:hover {\n",
              "      background-color: #434B5C;\n",
              "      box-shadow: 0px 1px 3px 1px rgba(0, 0, 0, 0.15);\n",
              "      filter: drop-shadow(0px 1px 2px rgba(0, 0, 0, 0.3));\n",
              "      fill: #FFFFFF;\n",
              "    }\n",
              "  </style>\n",
              "\n",
              "      <script>\n",
              "        const buttonEl =\n",
              "          document.querySelector('#df-9b3ecd5c-6794-41e5-8c08-19ccc6f48c3d button.colab-df-convert');\n",
              "        buttonEl.style.display =\n",
              "          google.colab.kernel.accessAllowed ? 'block' : 'none';\n",
              "\n",
              "        async function convertToInteractive(key) {\n",
              "          const element = document.querySelector('#df-9b3ecd5c-6794-41e5-8c08-19ccc6f48c3d');\n",
              "          const dataTable =\n",
              "            await google.colab.kernel.invokeFunction('convertToInteractive',\n",
              "                                                     [key], {});\n",
              "          if (!dataTable) return;\n",
              "\n",
              "          const docLinkHtml = 'Like what you see? Visit the ' +\n",
              "            '<a target=\"_blank\" href=https://colab.research.google.com/notebooks/data_table.ipynb>data table notebook</a>'\n",
              "            + ' to learn more about interactive tables.';\n",
              "          element.innerHTML = '';\n",
              "          dataTable['output_type'] = 'display_data';\n",
              "          await google.colab.output.renderOutput(dataTable, element);\n",
              "          const docLink = document.createElement('div');\n",
              "          docLink.innerHTML = docLinkHtml;\n",
              "          element.appendChild(docLink);\n",
              "        }\n",
              "      </script>\n",
              "    </div>\n",
              "  </div>\n",
              "  "
            ]
          },
          "metadata": {},
          "execution_count": 22
        }
      ]
    },
    {
      "cell_type": "code",
      "source": [
        "print(Moji_main_results.to_latex(index=False))"
      ],
      "metadata": {
        "colab": {
          "base_uri": "https://localhost:8080/"
        },
        "id": "qv8TSTYRNoue",
        "outputId": "778d3921-42fb-4231-f0fb-639c11c9dd30"
      },
      "execution_count": null,
      "outputs": [
        {
          "output_type": "stream",
          "name": "stdout",
          "text": [
            "\\begin{tabular}{lrrrrrrrrr}\n",
            "\\toprule\n",
            "        Models &  test\\_performance mean &  test\\_performance std &  test\\_fairness mean &  test\\_fairness std &  dev\\_performance mean &  dev\\_performance std &  dev\\_fairness mean &  dev\\_fairness std &      DTO \\\\\n",
            "\\midrule\n",
            "    BTGatedAdv &               0.735459 &              0.028830 &            0.866150 &           0.028232 &              0.730150 &             0.024594 &           0.886862 &          0.030537 & 0.296476 \\\\\n",
            "       FairSCL &               0.757314 &              0.003441 &            0.878219 &           0.004314 &              0.752825 &             0.001872 &           0.898325 &          0.002579 & 0.271527 \\\\\n",
            "       Vanilla &               0.722981 &              0.004576 &            0.611870 &           0.014356 &              0.726650 &             0.003673 &           0.632302 &          0.013370 & 0.476849 \\\\\n",
            "   BTFairBatch &               0.746837 &              0.003407 &            0.899351 &           0.004936 &              0.743975 &             0.004236 &           0.919254 &          0.004731 & 0.272437 \\\\\n",
            "          BTEO &               0.753927 &              0.001433 &            0.877469 &           0.003756 &              0.746325 &             0.000998 &           0.896874 &          0.005401 & 0.274892 \\\\\n",
            "     GatedBTEO &               0.762106 &              0.002592 &            0.900764 &           0.014701 &              0.759775 &             0.003798 &           0.909445 &          0.006631 & 0.257762 \\\\\n",
            "     GatedDAdv &               0.750163 &              0.006945 &            0.908679 &           0.021678 &              0.745600 &             0.004828 &           0.928670 &          0.022488 & 0.266004 \\\\\n",
            "          DAdv &               0.755464 &              0.004076 &            0.904023 &           0.011218 &              0.748550 &             0.002405 &           0.915601 &          0.005007 & 0.262697 \\\\\n",
            "          INLP &               0.733433 &                   NaN &            0.855982 &                NaN &              0.727625 &                  NaN &           0.859686 &               NaN & 0.302983 \\\\\n",
            "           Adv &               0.756414 &              0.007271 &            0.893286 &           0.005623 &              0.747425 &             0.004549 &           0.912125 &          0.008507 & 0.265936 \\\\\n",
            "  OldFairBatch &               0.750638 &              0.006012 &            0.905537 &           0.005046 &              0.744525 &             0.004995 &           0.917734 &          0.004761 & 0.266655 \\\\\n",
            "        GDMean &               0.752163 &              0.002130 &            0.901389 &           0.003916 &              0.749050 &             0.001368 &           0.922430 &          0.005829 & 0.266735 \\\\\n",
            "DelayedCLS\\_Adv &               0.761015 &              0.003081 &            0.882425 &           0.015918 &              0.751675 &             0.003481 &           0.899346 &          0.011417 & 0.266341 \\\\\n",
            "      GatedAdv &               0.753113 &              0.005196 &            0.890065 &           0.013302 &              0.748975 &             0.003805 &           0.910838 &          0.010314 & 0.270257 \\\\\n",
            "     FairBatch &               0.751488 &              0.005772 &            0.904373 &           0.008213 &              0.746050 &             0.003896 &           0.914526 &          0.006020 & 0.266276 \\\\\n",
            "          GDEO &               0.752763 &              0.004999 &            0.892255 &           0.007860 &              0.749350 &             0.003494 &           0.912672 &          0.002766 & 0.269694 \\\\\n",
            "\\bottomrule\n",
            "\\end{tabular}\n",
            "\n"
          ]
        }
      ]
    },
    {
      "cell_type": "code",
      "source": [
        "import seaborn as sns\n",
        "import matplotlib.pyplot as plt\n",
        "from pathlib import Path\n",
        "def make_plot(plot_df, figure_name=None):\n",
        "    plot_df[\"Fairness\"] = plot_df[\"test_fairness mean\"]\n",
        "    plot_df[\"Accuracy\"] = plot_df[\"test_performance mean\"]\n",
        "\n",
        "    figure = plt.figure(figsize=(6, 6), dpi = 150) \n",
        "    with sns.axes_style(\"white\"):\n",
        "        sns.lineplot(\n",
        "            data=plot_df,\n",
        "            x=\"Accuracy\",\n",
        "            y=\"Fairness\",\n",
        "            hue=\"Models\",\n",
        "            markers=True,\n",
        "            style=\"Models\",\n",
        "        )\n",
        "    if figure_name is not None:\n",
        "        figure.savefig(Path(r\"plots\") / figure_name, dpi=960, bbox_inches=\"tight\") "
      ],
      "metadata": {
        "id": "EKIO6OgBNwTo"
      },
      "execution_count": null,
      "outputs": []
    },
    {
      "cell_type": "code",
      "source": [
        "Moji_plot_df = analysis.final_results_df(\n",
        "    results_dict = Moji_results,\n",
        "    pareto = True,\n",
        "    # pareto = False,\n",
        "    pareto_selection = \"test\",\n",
        "    selection_criterion = None,\n",
        "    return_dev = True,\n",
        "    # Performance_threshold=0.72\n",
        "    # num_trail=20,\n",
        "    )\n",
        "make_plot(Moji_plot_df)"
      ],
      "metadata": {
        "colab": {
          "base_uri": "https://localhost:8080/",
          "height": 789
        },
        "id": "E_dupXSDN6ve",
        "outputId": "aef4491c-799d-4421-b4ff-0e1aabdd9622"
      },
      "execution_count": null,
      "outputs": [
        {
          "output_type": "display_data",
          "data": {
            "text/plain": [
              "<Figure size 900x900 with 1 Axes>"
            ],
            "image/png": "[encoded data removed]"
          },
          "metadata": {
            "needs_background": "light"
          }
        }
      ]
    }
  ],
  "metadata": {
    "interpreter": {
      "hash": "086b6e2ac5931a4f7a51b812f0475290a145e7d51f3e22b53c52adf5c273fe30"
    },
    "kernelspec": {
      "display_name": "Python 3.7.12 ('py37')",
      "language": "python",
      "name": "python3"
    },
    "language_info": {
      "codemirror_mode": {
        "name": "ipython",
        "version": 3
      },
      "file_extension": ".py",
      "mimetype": "text/x-python",
      "name": "python",
      "nbconvert_exporter": "python",
      "pygments_lexer": "ipython3",
      "version": "3.7.12"
    },
    "orig_nbformat": 4,
    "colab": {
      "name": "Copy of demo.ipynb",
      "provenance": []
    }
  },
  "nbformat": 4,
  "nbformat_minor": 0
}