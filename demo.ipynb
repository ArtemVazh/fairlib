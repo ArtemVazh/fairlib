{
 "cells": [
  {
   "cell_type": "markdown",
   "metadata": {},
   "source": [
    "# FairCLS\n",
    "[![Open In Colab](https://colab.research.google.com/assets/colab-badge.svg)](https://colab.research.google.com/github/HanXudong/Fair_NLP_Classification/blob/main/demo.ipynb)"
   ]
  },
  {
   "cell_type": "markdown",
   "metadata": {},
   "source": [
    "## 1. Installation"
   ]
  },
  {
   "cell_type": "code",
   "execution_count": null,
   "metadata": {},
   "outputs": [],
   "source": [
    "# !pip install dist\\faircls-0.0.1-py3-none-any.whl"
   ]
  },
  {
   "cell_type": "code",
   "execution_count": 1,
   "metadata": {},
   "outputs": [],
   "source": [
    "import faircls"
   ]
  },
  {
   "cell_type": "markdown",
   "metadata": {},
   "source": [
    "## 2. Prepare Dataset"
   ]
  },
  {
   "cell_type": "code",
   "execution_count": 16,
   "metadata": {},
   "outputs": [
    {
     "name": "stderr",
     "output_type": "stream",
     "text": [
      "'wget' is not recognized as an internal or external command,\n",
      "operable program or batch file.\n"
     ]
    }
   ],
   "source": [
    "!wget --load-cookies /tmp/cookies.txt \"https://docs.google.com/uc?export=download&confirm=$(wget --quiet --save-cookies /tmp/cookies.txt --keep-session-cookies --no-check-certificate 'https://docs.google.com/uc?export=download&id=1j4f6N4AncY4hER6xUuXFkB9m8SvPcKT8' -O- | sed -rn 's/.*confirm=([0-9A-Za-z_]+).*/\\1\\n/p')&id=1j4f6N4AncY4hER6xUuXFkB9m8SvPcKT8\" -O sample_data.tar.gz && rm -rf /tmp/cookies.txt"
   ]
  },
  {
   "cell_type": "code",
   "execution_count": 17,
   "metadata": {},
   "outputs": [
    {
     "name": "stderr",
     "output_type": "stream",
     "text": [
      "tar: Error opening archive: Failed to open 'sample_data.tar.gz'\n"
     ]
    }
   ],
   "source": [
    "# !tar -xvf  'test.tar' -C 'content/cell_images'\n",
    "!tar -xvf sample_data.tar.gz "
   ]
  },
  {
   "cell_type": "markdown",
   "metadata": {},
   "source": [
    "## 3. Standard Usage"
   ]
  },
  {
   "cell_type": "code",
   "execution_count": 6,
   "metadata": {},
   "outputs": [],
   "source": [
    "args = {\n",
    "    \"dataset\":\"Sample\",\n",
    "    \"data_dir\":\"data/Sample\"\n",
    "}"
   ]
  },
  {
   "cell_type": "code",
   "execution_count": 7,
   "metadata": {},
   "outputs": [
    {
     "name": "stdout",
     "output_type": "stream",
     "text": [
      "2022-03-24 14:46:00 [INFO ]  Unexpected args: ['--ip=127.0.0.1', '--stdin=9008', '--control=9006', '--hb=9005', '--Session.signature_scheme=\"hmac-sha256\"', '--Session.key=b\"4a791930-71fc-4490-bc7c-aa4b776853bf\"', '--shell=9007', '--transport=\"tcp\"', '--iopub=9009']\n",
      "2022-03-24 14:46:00 [INFO ]  Logging to ./results/dev\\Sample\\test\\output.log\n",
      "2022-03-24 14:46:00 [WARNING]  Log file already exists, will append\n",
      "2022-03-24 14:46:00 [INFO ]  ======================================== 2022-03-24 14:46:00 ========================================\n",
      "2022-03-24 14:46:00 [INFO ]  Base directory is ./results/dev\\Sample\\test\n",
      "2022-03-24 14:46:00 [WARNING]  ./results/dev\\Sample\\test\\opt.yaml already exists, moved to ./results/dev\\Sample\\test\\old_opts\\opt_2022_03_24__14_45_49.yaml\n",
      "Loaded data shapes: (4998, 2304), (4998,), (4998,)\n",
      "Loaded data shapes: (2000, 2304), (2000,), (2000,)\n",
      "Loaded data shapes: (2000, 2304), (2000,), (2000,)\n"
     ]
    }
   ],
   "source": [
    "options = faircls.BaseOptions()\n",
    "state = options.get_state(args=args, silence=True)"
   ]
  },
  {
   "cell_type": "markdown",
   "metadata": {},
   "source": [
    "### Init Model"
   ]
  },
  {
   "cell_type": "code",
   "execution_count": 5,
   "metadata": {},
   "outputs": [
    {
     "name": "stdout",
     "output_type": "stream",
     "text": [
      "2022-03-24 14:38:03 [INFO ]  MLP( \n",
      "2022-03-24 14:38:03 [INFO ]    (output_layer): Linear(in_features=300, out_features=2, bias=True)\n",
      "2022-03-24 14:38:03 [INFO ]    (AF): Tanh()\n",
      "2022-03-24 14:38:03 [INFO ]    (hidden_layers): ModuleList(\n",
      "2022-03-24 14:38:03 [INFO ]      (0): Linear(in_features=2304, out_features=300, bias=True)\n",
      "2022-03-24 14:38:03 [INFO ]      (1): Tanh()\n",
      "2022-03-24 14:38:03 [INFO ]      (2): Linear(in_features=300, out_features=300, bias=True)\n",
      "2022-03-24 14:38:03 [INFO ]      (3): Tanh()\n",
      "2022-03-24 14:38:03 [INFO ]    )\n",
      "2022-03-24 14:38:03 [INFO ]    (criterion): CrossEntropyLoss()\n",
      "2022-03-24 14:38:03 [INFO ]  )\n",
      "2022-03-24 14:38:03 [INFO ]  Total number of parameters: 782402 \n",
      "\n"
     ]
    }
   ],
   "source": [
    "# Init Model\n",
    "model = faircls.networks.get_main_model(state)"
   ]
  },
  {
   "cell_type": "markdown",
   "metadata": {},
   "source": [
    "### Train the vanilla model"
   ]
  },
  {
   "cell_type": "code",
   "execution_count": 6,
   "metadata": {},
   "outputs": [
    {
     "name": "stdout",
     "output_type": "stream",
     "text": [
      "2022-03-24 14:38:07 [INFO ]  Epoch:    0 [      0/   8000 ( 0%)]\tLoss: 0.6940\t Data Time: 0.01s\tTrain Time: 1.61s\n",
      "2022-03-24 14:38:07 [INFO ]  Evaluation at Epoch 0\n",
      "2022-03-24 14:38:07 [INFO ]  Validation accuracy: 74.15\tmacro_fscore: 74.06\tmicro_fscore: 74.15\tTPR_GAP: 10.32\tFPR_GAP: 10.32\tPPR_GAP: 7.30\t\n",
      "2022-03-24 14:38:07 [INFO ]  Test accuracy: 74.60\tmacro_fscore: 74.48\tmicro_fscore: 74.60\tTPR_GAP: 14.96\tFPR_GAP: 14.96\tPPR_GAP: 9.20\t\n",
      "2022-03-24 14:38:07 [INFO ]  Epoch:    1 [      0/   8000 ( 0%)]\tLoss: 0.4995\t Data Time: 0.01s\tTrain Time: 0.00s\n",
      "2022-03-24 14:38:07 [INFO ]  Evaluation at Epoch 1\n",
      "2022-03-24 14:38:07 [INFO ]  Validation accuracy: 75.30\tmacro_fscore: 75.27\tmicro_fscore: 75.30\tTPR_GAP: 13.00\tFPR_GAP: 13.00\tPPR_GAP: 10.40\t\n",
      "2022-03-24 14:38:07 [INFO ]  Test accuracy: 76.10\tmacro_fscore: 76.03\tmicro_fscore: 76.10\tTPR_GAP: 15.27\tFPR_GAP: 15.27\tPPR_GAP: 10.80\t\n",
      "2022-03-24 14:38:07 [INFO ]  Epoch:    2 [      0/   8000 ( 0%)]\tLoss: 0.4959\t Data Time: 0.01s\tTrain Time: 0.00s\n",
      "2022-03-24 14:38:07 [INFO ]  Epochs since last improvement: 1\n",
      "2022-03-24 14:38:07 [INFO ]  Evaluation at Epoch 2\n",
      "2022-03-24 14:38:07 [INFO ]  Validation accuracy: 75.10\tmacro_fscore: 75.09\tmicro_fscore: 75.10\tTPR_GAP: 12.76\tFPR_GAP: 12.76\tPPR_GAP: 9.60\t\n",
      "2022-03-24 14:38:07 [INFO ]  Test accuracy: 75.90\tmacro_fscore: 75.88\tmicro_fscore: 75.90\tTPR_GAP: 13.65\tFPR_GAP: 13.65\tPPR_GAP: 8.60\t\n",
      "2022-03-24 14:38:07 [INFO ]  Epoch:    3 [      0/   8000 ( 0%)]\tLoss: 0.4656\t Data Time: 0.01s\tTrain Time: 0.00s\n",
      "2022-03-24 14:38:07 [INFO ]  Epochs since last improvement: 2\n",
      "2022-03-24 14:38:08 [INFO ]  Evaluation at Epoch 3\n",
      "2022-03-24 14:38:08 [INFO ]  Validation accuracy: 74.60\tmacro_fscore: 74.59\tmicro_fscore: 74.60\tTPR_GAP: 13.21\tFPR_GAP: 13.21\tPPR_GAP: 10.80\t\n",
      "2022-03-24 14:38:08 [INFO ]  Test accuracy: 75.20\tmacro_fscore: 75.17\tmicro_fscore: 75.20\tTPR_GAP: 14.29\tFPR_GAP: 14.29\tPPR_GAP: 9.80\t\n",
      "2022-03-24 14:38:08 [INFO ]  Epoch:    4 [      0/   8000 ( 0%)]\tLoss: 0.4427\t Data Time: 0.01s\tTrain Time: 0.00s\n",
      "2022-03-24 14:38:08 [INFO ]  Epochs since last improvement: 3\n",
      "2022-03-24 14:38:08 [INFO ]  Evaluation at Epoch 4\n",
      "2022-03-24 14:38:08 [INFO ]  Validation accuracy: 73.55\tmacro_fscore: 73.39\tmicro_fscore: 73.55\tTPR_GAP: 8.14\tFPR_GAP: 8.14\tPPR_GAP: 4.90\t\n",
      "2022-03-24 14:38:08 [INFO ]  Test accuracy: 73.40\tmacro_fscore: 73.34\tmicro_fscore: 73.40\tTPR_GAP: 12.34\tFPR_GAP: 12.34\tPPR_GAP: 3.60\t\n",
      "2022-03-24 14:38:08 [INFO ]  Epoch:    5 [      0/   8000 ( 0%)]\tLoss: 0.4741\t Data Time: 0.01s\tTrain Time: 0.00s\n",
      "2022-03-24 14:38:08 [INFO ]  Epochs since last improvement: 4\n",
      "2022-03-24 14:38:08 [INFO ]  Evaluation at Epoch 5\n",
      "2022-03-24 14:38:08 [INFO ]  Validation accuracy: 73.90\tmacro_fscore: 73.78\tmicro_fscore: 73.90\tTPR_GAP: 12.17\tFPR_GAP: 12.17\tPPR_GAP: 8.80\t\n",
      "2022-03-24 14:38:08 [INFO ]  Test accuracy: 74.70\tmacro_fscore: 74.52\tmicro_fscore: 74.70\tTPR_GAP: 13.04\tFPR_GAP: 13.04\tPPR_GAP: 8.60\t\n",
      "2022-03-24 14:38:08 [INFO ]  Epoch:    6 [      0/   8000 ( 0%)]\tLoss: 0.4509\t Data Time: 0.01s\tTrain Time: 0.00s\n",
      "2022-03-24 14:38:08 [INFO ]  Epochs since last improvement: 5\n",
      "2022-03-24 14:38:08 [INFO ]  Evaluation at Epoch 6\n",
      "2022-03-24 14:38:08 [INFO ]  Validation accuracy: 70.95\tmacro_fscore: 70.58\tmicro_fscore: 70.95\tTPR_GAP: 8.55\tFPR_GAP: 8.55\tPPR_GAP: 4.10\t\n",
      "2022-03-24 14:38:08 [INFO ]  Test accuracy: 72.45\tmacro_fscore: 72.15\tmicro_fscore: 72.45\tTPR_GAP: 11.60\tFPR_GAP: 11.60\tPPR_GAP: 1.50\t\n"
     ]
    }
   ],
   "source": [
    "model.train_self()"
   ]
  },
  {
   "cell_type": "code",
   "execution_count": 8,
   "metadata": {},
   "outputs": [
    {
     "name": "stdout",
     "output_type": "stream",
     "text": [
      "2022-03-24 14:46:24 [INFO ]  Unexpected args: ['--ip=127.0.0.1', '--stdin=9008', '--control=9006', '--hb=9005', '--Session.signature_scheme=\"hmac-sha256\"', '--Session.key=b\"4a791930-71fc-4490-bc7c-aa4b776853bf\"', '--shell=9007', '--transport=\"tcp\"', '--iopub=9009']\n",
      "2022-03-24 14:46:24 [INFO ]  Logging to ./results/dev\\Sample\\test\\output.log\n",
      "2022-03-24 14:46:24 [WARNING]  Log file already exists, will append\n",
      "2022-03-24 14:46:24 [INFO ]  ======================================== 2022-03-24 14:46:24 ========================================\n",
      "2022-03-24 14:46:24 [INFO ]  Base directory is ./results/dev\\Sample\\test\n",
      "2022-03-24 14:46:24 [WARNING]  ./results/dev\\Sample\\test\\opt.yaml already exists, moved to ./results/dev\\Sample\\test\\old_opts\\opt_2022_03_24__14_46_00.yaml\n",
      "Loaded data shapes: (1996, 2304), (1996,), (1996,)\n",
      "Loaded data shapes: (2000, 2304), (2000,), (2000,)\n",
      "Loaded data shapes: (2000, 2304), (2000,), (2000,)\n",
      "2022-03-24 14:46:24 [INFO ]  SubDiscriminator( \n",
      "2022-03-24 14:46:24 [INFO ]    (grad_rev): GradientReversal()\n",
      "2022-03-24 14:46:24 [INFO ]    (output_layer): Linear(in_features=300, out_features=2, bias=True)\n",
      "2022-03-24 14:46:24 [INFO ]    (AF): ReLU()\n",
      "2022-03-24 14:46:24 [INFO ]    (hidden_layers): ModuleList(\n",
      "2022-03-24 14:46:24 [INFO ]      (0): Linear(in_features=300, out_features=300, bias=True)\n",
      "2022-03-24 14:46:24 [INFO ]      (1): ReLU()\n",
      "2022-03-24 14:46:24 [INFO ]      (2): Linear(in_features=300, out_features=300, bias=True)\n",
      "2022-03-24 14:46:24 [INFO ]      (3): ReLU()\n",
      "2022-03-24 14:46:24 [INFO ]    )\n",
      "2022-03-24 14:46:24 [INFO ]    (criterion): CrossEntropyLoss()\n",
      "2022-03-24 14:46:24 [INFO ]  )\n",
      "2022-03-24 14:46:24 [INFO ]  Total number of parameters: 181202 \n",
      "\n",
      "2022-03-24 14:46:24 [INFO ]  Discriminator built!\n"
     ]
    }
   ],
   "source": [
    "debiasing_args = {\n",
    "    \"dataset\":\"Sample\",\n",
    "    \"data_dir\":\"data/Sample\",\n",
    "    \"device\":-1,\n",
    "    \"adv_debiasing\":True,\n",
    "    \"BT\":\"Resampling\",\n",
    "    \"BTObj\":\"EO\",\n",
    "}\n",
    "\n",
    "debias_options = faircls.BaseOptions()\n",
    "debias_state = debias_options.get_state(args=debiasing_args, silence=True)"
   ]
  },
  {
   "cell_type": "code",
   "execution_count": 9,
   "metadata": {},
   "outputs": [
    {
     "name": "stdout",
     "output_type": "stream",
     "text": [
      "2022-03-24 14:47:04 [INFO ]  MLP( \n",
      "2022-03-24 14:47:04 [INFO ]    (output_layer): Linear(in_features=300, out_features=2, bias=True)\n",
      "2022-03-24 14:47:04 [INFO ]    (AF): Tanh()\n",
      "2022-03-24 14:47:04 [INFO ]    (hidden_layers): ModuleList(\n",
      "2022-03-24 14:47:04 [INFO ]      (0): Linear(in_features=2304, out_features=300, bias=True)\n",
      "2022-03-24 14:47:04 [INFO ]      (1): Tanh()\n",
      "2022-03-24 14:47:04 [INFO ]      (2): Linear(in_features=300, out_features=300, bias=True)\n",
      "2022-03-24 14:47:04 [INFO ]      (3): Tanh()\n",
      "2022-03-24 14:47:04 [INFO ]    )\n",
      "2022-03-24 14:47:04 [INFO ]    (criterion): CrossEntropyLoss()\n",
      "2022-03-24 14:47:04 [INFO ]  )\n",
      "2022-03-24 14:47:04 [INFO ]  Total number of parameters: 782402 \n",
      "\n"
     ]
    }
   ],
   "source": [
    "debias_model = faircls.networks.get_main_model(debias_state)"
   ]
  },
  {
   "cell_type": "code",
   "execution_count": 10,
   "metadata": {},
   "outputs": [
    {
     "name": "stdout",
     "output_type": "stream",
     "text": [
      "2022-03-24 14:47:54 [INFO ]  Epoch:    0 [      0/   1996 ( 0%)]\tLoss: 0.0000\t Data Time: 0.03s\tTrain Time: 1.59s\n",
      "2022-03-24 14:47:54 [INFO ]  Evaluation at Epoch 0\n",
      "2022-03-24 14:47:54 [INFO ]  Validation accuracy: 67.35\tmacro_fscore: 67.07\tmicro_fscore: 67.35\tTPR_GAP: 18.13\tFPR_GAP: 18.13\tPPR_GAP: 17.90\t\n",
      "2022-03-24 14:47:54 [INFO ]  Test accuracy: 70.65\tmacro_fscore: 70.56\tmicro_fscore: 70.65\tTPR_GAP: 18.46\tFPR_GAP: 18.46\tPPR_GAP: 17.90\t\n",
      "2022-03-24 14:47:54 [INFO ]  Epoch:    1 [      0/   1996 ( 0%)]\tLoss: -0.1402\t Data Time: 0.01s\tTrain Time: 0.01s\n",
      "2022-03-24 14:47:54 [INFO ]  Evaluation at Epoch 1\n",
      "2022-03-24 14:47:54 [INFO ]  Validation accuracy: 71.45\tmacro_fscore: 71.45\tmicro_fscore: 71.45\tTPR_GAP: 16.07\tFPR_GAP: 16.07\tPPR_GAP: 13.10\t\n",
      "2022-03-24 14:47:54 [INFO ]  Test accuracy: 74.00\tmacro_fscore: 73.98\tmicro_fscore: 74.00\tTPR_GAP: 18.83\tFPR_GAP: 18.83\tPPR_GAP: 17.40\t\n",
      "2022-03-24 14:47:54 [INFO ]  Epoch:    2 [      0/   1996 ( 0%)]\tLoss: -0.1514\t Data Time: 0.01s\tTrain Time: 0.01s\n",
      "2022-03-24 14:47:54 [INFO ]  Evaluation at Epoch 2\n",
      "2022-03-24 14:47:54 [INFO ]  Validation accuracy: 73.45\tmacro_fscore: 73.45\tmicro_fscore: 73.45\tTPR_GAP: 11.59\tFPR_GAP: 11.59\tPPR_GAP: 4.90\t\n",
      "2022-03-24 14:47:54 [INFO ]  Test accuracy: 74.40\tmacro_fscore: 74.39\tmicro_fscore: 74.40\tTPR_GAP: 13.74\tFPR_GAP: 13.74\tPPR_GAP: 9.20\t\n",
      "2022-03-24 14:47:54 [INFO ]  Epoch:    3 [      0/   1996 ( 0%)]\tLoss: -0.2217\t Data Time: 0.01s\tTrain Time: 0.01s\n",
      "2022-03-24 14:47:54 [INFO ]  Evaluation at Epoch 3\n",
      "2022-03-24 14:47:54 [INFO ]  Validation accuracy: 73.60\tmacro_fscore: 73.53\tmicro_fscore: 73.60\tTPR_GAP: 12.19\tFPR_GAP: 12.19\tPPR_GAP: 4.80\t\n",
      "2022-03-24 14:47:54 [INFO ]  Test accuracy: 73.95\tmacro_fscore: 73.81\tmicro_fscore: 73.95\tTPR_GAP: 14.58\tFPR_GAP: 14.58\tPPR_GAP: 7.50\t\n",
      "2022-03-24 14:47:54 [INFO ]  Epoch:    4 [      0/   1996 ( 0%)]\tLoss: -0.2131\t Data Time: 0.01s\tTrain Time: 0.01s\n",
      "2022-03-24 14:47:54 [INFO ]  Epochs since last improvement: 1\n",
      "2022-03-24 14:47:54 [INFO ]  Evaluation at Epoch 4\n",
      "2022-03-24 14:47:54 [INFO ]  Validation accuracy: 72.75\tmacro_fscore: 72.72\tmicro_fscore: 72.75\tTPR_GAP: 10.96\tFPR_GAP: 10.96\tPPR_GAP: 5.10\t\n",
      "2022-03-24 14:47:54 [INFO ]  Test accuracy: 74.65\tmacro_fscore: 74.63\tmicro_fscore: 74.65\tTPR_GAP: 13.31\tFPR_GAP: 13.31\tPPR_GAP: 6.70\t\n",
      "2022-03-24 14:47:54 [INFO ]  Epoch:    5 [      0/   1996 ( 0%)]\tLoss: -0.2434\t Data Time: 0.01s\tTrain Time: 0.01s\n",
      "2022-03-24 14:47:54 [INFO ]  Epochs since last improvement: 2\n",
      "2022-03-24 14:47:54 [INFO ]  Evaluation at Epoch 5\n",
      "2022-03-24 14:47:54 [INFO ]  Validation accuracy: 74.35\tmacro_fscore: 74.33\tmicro_fscore: 74.35\tTPR_GAP: 14.40\tFPR_GAP: 14.40\tPPR_GAP: 11.90\t\n",
      "2022-03-24 14:47:54 [INFO ]  Test accuracy: 75.05\tmacro_fscore: 74.99\tmicro_fscore: 75.05\tTPR_GAP: 18.86\tFPR_GAP: 18.86\tPPR_GAP: 14.30\t\n",
      "2022-03-24 14:47:54 [INFO ]  Epoch:    6 [      0/   1996 ( 0%)]\tLoss: -0.2627\t Data Time: 0.01s\tTrain Time: 0.01s\n",
      "2022-03-24 14:47:54 [INFO ]  Epochs since last improvement: 3\n",
      "2022-03-24 14:47:54 [INFO ]  Evaluation at Epoch 6\n",
      "2022-03-24 14:47:54 [INFO ]  Validation accuracy: 73.60\tmacro_fscore: 73.56\tmicro_fscore: 73.60\tTPR_GAP: 18.25\tFPR_GAP: 18.25\tPPR_GAP: 16.20\t\n",
      "2022-03-24 14:47:54 [INFO ]  Test accuracy: 75.20\tmacro_fscore: 75.10\tmicro_fscore: 75.20\tTPR_GAP: 19.60\tFPR_GAP: 19.60\tPPR_GAP: 15.80\t\n",
      "2022-03-24 14:47:54 [INFO ]  Epoch:    7 [      0/   1996 ( 0%)]\tLoss: -0.2790\t Data Time: 0.01s\tTrain Time: 0.01s\n",
      "2022-03-24 14:47:55 [INFO ]  Epochs since last improvement: 4\n",
      "2022-03-24 14:47:55 [INFO ]  Evaluation at Epoch 7\n",
      "2022-03-24 14:47:55 [INFO ]  Validation accuracy: 72.35\tmacro_fscore: 72.30\tmicro_fscore: 72.35\tTPR_GAP: 12.79\tFPR_GAP: 12.79\tPPR_GAP: 10.90\t\n",
      "2022-03-24 14:47:55 [INFO ]  Test accuracy: 75.70\tmacro_fscore: 75.69\tmicro_fscore: 75.70\tTPR_GAP: 14.32\tFPR_GAP: 14.32\tPPR_GAP: 10.80\t\n",
      "2022-03-24 14:47:55 [INFO ]  Epoch:    8 [      0/   1996 ( 0%)]\tLoss: -0.3185\t Data Time: 0.01s\tTrain Time: 0.01s\n",
      "2022-03-24 14:47:55 [INFO ]  Epochs since last improvement: 5\n",
      "2022-03-24 14:47:55 [INFO ]  Evaluation at Epoch 8\n",
      "2022-03-24 14:47:55 [INFO ]  Validation accuracy: 72.95\tmacro_fscore: 72.95\tmicro_fscore: 72.95\tTPR_GAP: 13.30\tFPR_GAP: 13.30\tPPR_GAP: 10.70\t\n",
      "2022-03-24 14:47:55 [INFO ]  Test accuracy: 75.70\tmacro_fscore: 75.69\tmicro_fscore: 75.70\tTPR_GAP: 14.88\tFPR_GAP: 14.88\tPPR_GAP: 9.80\t\n"
     ]
    }
   ],
   "source": [
    "debias_model.train_self()"
   ]
  },
  {
   "cell_type": "code",
   "execution_count": null,
   "metadata": {},
   "outputs": [],
   "source": []
  },
  {
   "cell_type": "code",
   "execution_count": null,
   "metadata": {},
   "outputs": [],
   "source": []
  }
 ],
 "metadata": {
  "interpreter": {
   "hash": "086b6e2ac5931a4f7a51b812f0475290a145e7d51f3e22b53c52adf5c273fe30"
  },
  "kernelspec": {
   "display_name": "Python 3.7.12 ('py37')",
   "language": "python",
   "name": "python3"
  },
  "language_info": {
   "codemirror_mode": {
    "name": "ipython",
    "version": 3
   },
   "file_extension": ".py",
   "mimetype": "text/x-python",
   "name": "python",
   "nbconvert_exporter": "python",
   "pygments_lexer": "ipython3",
   "version": "3.7.12"
  },
  "orig_nbformat": 4
 },
 "nbformat": 4,
 "nbformat_minor": 2
}
