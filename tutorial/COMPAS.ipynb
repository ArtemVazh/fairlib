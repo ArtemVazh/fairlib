{
  "cells": [
    {
      "cell_type": "markdown",
      "metadata": {
        "id": "N7UbxgytUFhn"
      },
      "source": [
        "# Customized models and datasets for structured inputs\n",
        "\n",
        "[![Open In Colab](https://colab.research.google.com/assets/colab-badge.svg)](https://colab.research.google.com/github/HanXudong/Fair_NLP_Classification/blob/main/tutorial/COMPAS.ipynb)\n",
        "\n",
        "In this tutorial we will:\n",
        "- Show how to add a model for structural classification\n",
        "- Show how to add a dataloader with structured data preprocessing\n",
        "\n",
        "We will be using the Northpointe's Correctional Offender Management Profiling for Alternative Sanctions (COMPAS) score, used in states like California and Florida.\n",
        "## Installation\n",
        "\n",
        "Again, the first step will be installing our libarary"
      ]
    },
    {
      "cell_type": "code",
      "execution_count": 1,
      "metadata": {
        "colab": {
          "base_uri": "https://localhost:8080/"
        },
        "id": "u4z-4H6bU9Is",
        "outputId": "99a106b1-f2bf-450e-8f6a-6ab78a077bc0"
      },
      "outputs": [
        {
          "name": "stdout",
          "output_type": "stream",
          "text": [
            "--2022-03-30 17:34:05--  https://docs.google.com/uc?export=download&id=1l3GmCm6UxbUh1QvMnfSrysdthFaFU-Eh\n",
            "Resolving docs.google.com (docs.google.com)... 173.194.213.138, 173.194.213.101, 173.194.213.139, ...\n",
            "Connecting to docs.google.com (docs.google.com)|173.194.213.138|:443... connected.\n",
            "HTTP request sent, awaiting response... 303 See Other\n",
            "Location: https://doc-0g-0k-docs.googleusercontent.com/docs/securesc/ha0ro937gcuc7l7deffksulhg5h7mbp1/c1gn0mq2tmdcu5jdp802mb3mru1ra16u/1648661625000/17527887236587461918/*/1l3GmCm6UxbUh1QvMnfSrysdthFaFU-Eh?e=download [following]\n",
            "Warning: wildcards not supported in HTTP.\n",
            "--2022-03-30 17:34:06--  https://doc-0g-0k-docs.googleusercontent.com/docs/securesc/ha0ro937gcuc7l7deffksulhg5h7mbp1/c1gn0mq2tmdcu5jdp802mb3mru1ra16u/1648661625000/17527887236587461918/*/1l3GmCm6UxbUh1QvMnfSrysdthFaFU-Eh?e=download\n",
            "Resolving doc-0g-0k-docs.googleusercontent.com (doc-0g-0k-docs.googleusercontent.com)... 108.177.11.132, 2607:f8b0:400c:c01::84\n",
            "Connecting to doc-0g-0k-docs.googleusercontent.com (doc-0g-0k-docs.googleusercontent.com)|108.177.11.132|:443... connected.\n",
            "HTTP request sent, awaiting response... 200 OK\n",
            "Length: 61054 (60K) [application/x-zip]\n",
            "Saving to: ‘faircls-0.0.1-py3-none-any.whl’\n",
            "\n",
            "faircls-0.0.1-py3-n 100%[===================>]  59.62K  --.-KB/s    in 0.001s  \n",
            "\n",
            "2022-03-30 17:34:06 (70.9 MB/s) - ‘faircls-0.0.1-py3-none-any.whl’ saved [61054/61054]\n",
            "\n",
            "Processing ./faircls-0.0.1-py3-none-any.whl\n",
            "Requirement already satisfied: scikit-learn in /usr/local/lib/python3.7/dist-packages (from faircls==0.0.1) (1.0.2)\n",
            "Requirement already satisfied: torch in /usr/local/lib/python3.7/dist-packages (from faircls==0.0.1) (1.10.0+cu111)\n",
            "Requirement already satisfied: pandas in /usr/local/lib/python3.7/dist-packages (from faircls==0.0.1) (1.3.5)\n",
            "Requirement already satisfied: tqdm in /usr/local/lib/python3.7/dist-packages (from faircls==0.0.1) (4.63.0)\n",
            "Requirement already satisfied: seaborn in /usr/local/lib/python3.7/dist-packages (from faircls==0.0.1) (0.11.2)\n",
            "Requirement already satisfied: docopt in /usr/local/lib/python3.7/dist-packages (from faircls==0.0.1) (0.6.2)\n",
            "Requirement already satisfied: numpy in /usr/local/lib/python3.7/dist-packages (from faircls==0.0.1) (1.21.5)\n",
            "Collecting pickle5\n",
            "  Downloading pickle5-0.0.12-cp37-cp37m-manylinux_2_5_x86_64.manylinux1_x86_64.whl (256 kB)\n",
            "\u001b[K     |████████████████████████████████| 256 kB 4.9 MB/s \n",
            "\u001b[?25hRequirement already satisfied: PyYAML in /usr/local/lib/python3.7/dist-packages (from faircls==0.0.1) (3.13)\n",
            "Collecting transformers\n",
            "  Downloading transformers-4.17.0-py3-none-any.whl (3.8 MB)\n",
            "\u001b[K     |████████████████████████████████| 3.8 MB 47.2 MB/s \n",
            "\u001b[?25hRequirement already satisfied: matplotlib in /usr/local/lib/python3.7/dist-packages (from faircls==0.0.1) (3.2.2)\n",
            "Requirement already satisfied: cycler>=0.10 in /usr/local/lib/python3.7/dist-packages (from matplotlib->faircls==0.0.1) (0.11.0)\n",
            "Requirement already satisfied: kiwisolver>=1.0.1 in /usr/local/lib/python3.7/dist-packages (from matplotlib->faircls==0.0.1) (1.4.0)\n",
            "Requirement already satisfied: pyparsing!=2.0.4,!=2.1.2,!=2.1.6,>=2.0.1 in /usr/local/lib/python3.7/dist-packages (from matplotlib->faircls==0.0.1) (3.0.7)\n",
            "Requirement already satisfied: python-dateutil>=2.1 in /usr/local/lib/python3.7/dist-packages (from matplotlib->faircls==0.0.1) (2.8.2)\n",
            "Requirement already satisfied: typing-extensions in /usr/local/lib/python3.7/dist-packages (from kiwisolver>=1.0.1->matplotlib->faircls==0.0.1) (3.10.0.2)\n",
            "Requirement already satisfied: six>=1.5 in /usr/local/lib/python3.7/dist-packages (from python-dateutil>=2.1->matplotlib->faircls==0.0.1) (1.15.0)\n",
            "Requirement already satisfied: pytz>=2017.3 in /usr/local/lib/python3.7/dist-packages (from pandas->faircls==0.0.1) (2018.9)\n",
            "Requirement already satisfied: joblib>=0.11 in /usr/local/lib/python3.7/dist-packages (from scikit-learn->faircls==0.0.1) (1.1.0)\n",
            "Requirement already satisfied: scipy>=1.1.0 in /usr/local/lib/python3.7/dist-packages (from scikit-learn->faircls==0.0.1) (1.4.1)\n",
            "Requirement already satisfied: threadpoolctl>=2.0.0 in /usr/local/lib/python3.7/dist-packages (from scikit-learn->faircls==0.0.1) (3.1.0)\n",
            "Collecting PyYAML\n",
            "  Downloading PyYAML-6.0-cp37-cp37m-manylinux_2_5_x86_64.manylinux1_x86_64.manylinux_2_12_x86_64.manylinux2010_x86_64.whl (596 kB)\n",
            "\u001b[K     |████████████████████████████████| 596 kB 48.3 MB/s \n",
            "\u001b[?25hRequirement already satisfied: requests in /usr/local/lib/python3.7/dist-packages (from transformers->faircls==0.0.1) (2.23.0)\n",
            "Requirement already satisfied: importlib-metadata in /usr/local/lib/python3.7/dist-packages (from transformers->faircls==0.0.1) (4.11.3)\n",
            "Requirement already satisfied: filelock in /usr/local/lib/python3.7/dist-packages (from transformers->faircls==0.0.1) (3.6.0)\n",
            "Collecting tokenizers!=0.11.3,>=0.11.1\n",
            "  Downloading tokenizers-0.11.6-cp37-cp37m-manylinux_2_12_x86_64.manylinux2010_x86_64.whl (6.5 MB)\n",
            "\u001b[K     |████████████████████████████████| 6.5 MB 9.7 MB/s \n",
            "\u001b[?25hRequirement already satisfied: packaging>=20.0 in /usr/local/lib/python3.7/dist-packages (from transformers->faircls==0.0.1) (21.3)\n",
            "Requirement already satisfied: regex!=2019.12.17 in /usr/local/lib/python3.7/dist-packages (from transformers->faircls==0.0.1) (2019.12.20)\n",
            "Collecting sacremoses\n",
            "  Downloading sacremoses-0.0.49-py3-none-any.whl (895 kB)\n",
            "\u001b[K     |████████████████████████████████| 895 kB 42.3 MB/s \n",
            "\u001b[?25hCollecting huggingface-hub<1.0,>=0.1.0\n",
            "  Downloading huggingface_hub-0.4.0-py3-none-any.whl (67 kB)\n",
            "\u001b[K     |████████████████████████████████| 67 kB 4.5 MB/s \n",
            "\u001b[?25hRequirement already satisfied: zipp>=0.5 in /usr/local/lib/python3.7/dist-packages (from importlib-metadata->transformers->faircls==0.0.1) (3.7.0)\n",
            "Requirement already satisfied: urllib3!=1.25.0,!=1.25.1,<1.26,>=1.21.1 in /usr/local/lib/python3.7/dist-packages (from requests->transformers->faircls==0.0.1) (1.24.3)\n",
            "Requirement already satisfied: chardet<4,>=3.0.2 in /usr/local/lib/python3.7/dist-packages (from requests->transformers->faircls==0.0.1) (3.0.4)\n",
            "Requirement already satisfied: certifi>=2017.4.17 in /usr/local/lib/python3.7/dist-packages (from requests->transformers->faircls==0.0.1) (2021.10.8)\n",
            "Requirement already satisfied: idna<3,>=2.5 in /usr/local/lib/python3.7/dist-packages (from requests->transformers->faircls==0.0.1) (2.10)\n",
            "Requirement already satisfied: click in /usr/local/lib/python3.7/dist-packages (from sacremoses->transformers->faircls==0.0.1) (7.1.2)\n",
            "Installing collected packages: PyYAML, tokenizers, sacremoses, huggingface-hub, transformers, pickle5, faircls\n",
            "  Attempting uninstall: PyYAML\n",
            "    Found existing installation: PyYAML 3.13\n",
            "    Uninstalling PyYAML-3.13:\n",
            "      Successfully uninstalled PyYAML-3.13\n",
            "Successfully installed PyYAML-6.0 faircls-0.0.1 huggingface-hub-0.4.0 pickle5-0.0.12 sacremoses-0.0.49 tokenizers-0.11.6 transformers-4.17.0\n"
          ]
        }
      ],
      "source": [
        "!wget --no-check-certificate 'https://docs.google.com/uc?export=download&id=1l3GmCm6UxbUh1QvMnfSrysdthFaFU-Eh' -O 'faircls-0.0.1-py3-none-any.whl'\n",
        "!pip install faircls-0.0.1-py3-none-any.whl"
      ]
    },
    {
      "cell_type": "code",
      "execution_count": 2,
      "metadata": {
        "id": "Xt6TeF2FVD0i"
      },
      "outputs": [],
      "source": [
        "import faircls"
      ]
    },
    {
      "cell_type": "markdown",
      "metadata": {
        "id": "ePzbeMKO_eK1"
      },
      "source": [
        "# Download and preprocess the COMPAS dataset\n",
        "\n",
        "https://github.com/google-research/google-research/blob/master/group_agnostic_fairness/data_utils/CreateCompasDatasetFiles.ipynb"
      ]
    },
    {
      "cell_type": "code",
      "execution_count": 3,
      "metadata": {
        "id": "3NA_EUsa_0gF"
      },
      "outputs": [],
      "source": [
        "import os"
      ]
    },
    {
      "cell_type": "code",
      "execution_count": 4,
      "metadata": {
        "id": "R_rywMXmDycV"
      },
      "outputs": [],
      "source": [
        "os.makedirs(\"data\", exist_ok=True)"
      ]
    },
    {
      "cell_type": "code",
      "execution_count": 5,
      "metadata": {
        "colab": {
          "base_uri": "https://localhost:8080/"
        },
        "id": "FEvzAKil_c4Q",
        "outputId": "3dcf6013-746d-4b46-b438-a09f589ac94e"
      },
      "outputs": [
        {
          "name": "stdout",
          "output_type": "stream",
          "text": [
            "--2022-03-30 17:34:33--  https://raw.githubusercontent.com/propublica/compas-analysis/master/compas-scores-two-years.csv\n",
            "Resolving raw.githubusercontent.com (raw.githubusercontent.com)... 185.199.111.133, 185.199.110.133, 185.199.108.133, ...\n",
            "Connecting to raw.githubusercontent.com (raw.githubusercontent.com)|185.199.111.133|:443... connected.\n",
            "HTTP request sent, awaiting response... 200 OK\n",
            "Length: 2546489 (2.4M) [text/plain]\n",
            "Saving to: ‘data/compas-scores-two-years.csv’\n",
            "\n",
            "data/compas-scores- 100%[===================>]   2.43M  --.-KB/s    in 0.07s   \n",
            "\n",
            "2022-03-30 17:34:34 (36.9 MB/s) - ‘data/compas-scores-two-years.csv’ saved [2546489/2546489]\n",
            "\n"
          ]
        }
      ],
      "source": [
        "!wget --no-check-certificate --content-disposition \"https://raw.githubusercontent.com/propublica/compas-analysis/master/compas-scores-two-years.csv\" -O \"data/compas-scores-two-years.csv\""
      ]
    },
    {
      "cell_type": "code",
      "execution_count": 6,
      "metadata": {
        "id": "evTuT1mv_c1U"
      },
      "outputs": [],
      "source": [
        "import pandas as pd\n",
        "import numpy as np\n",
        "from sklearn.model_selection import train_test_split\n",
        "import numpy as np"
      ]
    },
    {
      "cell_type": "code",
      "execution_count": 7,
      "metadata": {
        "id": "-FDH5os_IdBR"
      },
      "outputs": [],
      "source": [
        "pd.options.display.float_format = '{:,.2f}'.format\n",
        "dataset_base_dir = \"data/\"\n",
        "dataset_file_name = 'compas-scores-two-years.csv'"
      ]
    },
    {
      "cell_type": "code",
      "execution_count": 8,
      "metadata": {
        "id": "cnQVuOJ0ImW0"
      },
      "outputs": [],
      "source": [
        "file_path = os.path.join(dataset_base_dir,dataset_file_name)\n",
        "temp_df = pd.read_csv(file_path)\n",
        "\n",
        "# Columns of interest\n",
        "columns = ['juv_fel_count', 'juv_misd_count', 'juv_other_count', 'priors_count',\n",
        "                'age', \n",
        "                'c_charge_degree', \n",
        "                'c_charge_desc',\n",
        "                'age_cat',\n",
        "                'sex', 'race',  'is_recid']\n",
        "target_variable = 'is_recid'\n",
        "target_value = 'Yes'\n",
        "\n",
        "# Drop duplicates\n",
        "temp_df = temp_df[['id']+columns].drop_duplicates()\n",
        "df = temp_df[columns].copy()\n",
        "\n",
        "# Convert columns of type ``object`` to ``category`` \n",
        "df = pd.concat([\n",
        "        df.select_dtypes(include=[], exclude=['object']),\n",
        "        df.select_dtypes(['object']).apply(pd.Series.astype, dtype='category')\n",
        "        ], axis=1).reindex(df.columns, axis=1)\n",
        "\n",
        "# Binarize target_variable\n",
        "df['is_recid'] = df.apply(lambda x: 'Yes' if x['is_recid']==1.0 else 'No', axis=1).astype('category')\n",
        "\n",
        "# Process protected-column values\n",
        "race_dict = {'African-American':'Black','Caucasian':'White'}\n",
        "df['race'] = df.apply(lambda x: race_dict[x['race']] if x['race'] in race_dict.keys() else 'Other', axis=1).astype('category')"
      ]
    },
    {
      "cell_type": "code",
      "execution_count": 9,
      "metadata": {
        "colab": {
          "base_uri": "https://localhost:8080/",
          "height": 423
        },
        "id": "gZ6itDouI4sF",
        "outputId": "2f4da3e5-8971-41a2-9faf-bac54036d8b6"
      },
      "outputs": [
        {
          "data": {
            "text/html": [
              "\n",
              "  <div id=\"df-bb0a7129-d678-4595-8ab9-88bdf66c963d\">\n",
              "    <div class=\"colab-df-container\">\n",
              "      <div>\n",
              "<style scoped>\n",
              "    .dataframe tbody tr th:only-of-type {\n",
              "        vertical-align: middle;\n",
              "    }\n",
              "\n",
              "    .dataframe tbody tr th {\n",
              "        vertical-align: top;\n",
              "    }\n",
              "\n",
              "    .dataframe thead th {\n",
              "        text-align: right;\n",
              "    }\n",
              "</style>\n",
              "<table border=\"1\" class=\"dataframe\">\n",
              "  <thead>\n",
              "    <tr style=\"text-align: right;\">\n",
              "      <th></th>\n",
              "      <th>juv_fel_count</th>\n",
              "      <th>juv_misd_count</th>\n",
              "      <th>juv_other_count</th>\n",
              "      <th>priors_count</th>\n",
              "      <th>age</th>\n",
              "      <th>c_charge_degree</th>\n",
              "      <th>c_charge_desc</th>\n",
              "      <th>age_cat</th>\n",
              "      <th>sex</th>\n",
              "      <th>race</th>\n",
              "      <th>is_recid</th>\n",
              "    </tr>\n",
              "  </thead>\n",
              "  <tbody>\n",
              "    <tr>\n",
              "      <th>0</th>\n",
              "      <td>0</td>\n",
              "      <td>0</td>\n",
              "      <td>0</td>\n",
              "      <td>0</td>\n",
              "      <td>69</td>\n",
              "      <td>F</td>\n",
              "      <td>Aggravated Assault w/Firearm</td>\n",
              "      <td>Greater than 45</td>\n",
              "      <td>Male</td>\n",
              "      <td>Other</td>\n",
              "      <td>No</td>\n",
              "    </tr>\n",
              "    <tr>\n",
              "      <th>1</th>\n",
              "      <td>0</td>\n",
              "      <td>0</td>\n",
              "      <td>0</td>\n",
              "      <td>0</td>\n",
              "      <td>34</td>\n",
              "      <td>F</td>\n",
              "      <td>Felony Battery w/Prior Convict</td>\n",
              "      <td>25 - 45</td>\n",
              "      <td>Male</td>\n",
              "      <td>Black</td>\n",
              "      <td>Yes</td>\n",
              "    </tr>\n",
              "    <tr>\n",
              "      <th>2</th>\n",
              "      <td>0</td>\n",
              "      <td>0</td>\n",
              "      <td>1</td>\n",
              "      <td>4</td>\n",
              "      <td>24</td>\n",
              "      <td>F</td>\n",
              "      <td>Possession of Cocaine</td>\n",
              "      <td>Less than 25</td>\n",
              "      <td>Male</td>\n",
              "      <td>Black</td>\n",
              "      <td>Yes</td>\n",
              "    </tr>\n",
              "    <tr>\n",
              "      <th>3</th>\n",
              "      <td>0</td>\n",
              "      <td>1</td>\n",
              "      <td>0</td>\n",
              "      <td>1</td>\n",
              "      <td>23</td>\n",
              "      <td>F</td>\n",
              "      <td>Possession of Cannabis</td>\n",
              "      <td>Less than 25</td>\n",
              "      <td>Male</td>\n",
              "      <td>Black</td>\n",
              "      <td>No</td>\n",
              "    </tr>\n",
              "    <tr>\n",
              "      <th>4</th>\n",
              "      <td>0</td>\n",
              "      <td>0</td>\n",
              "      <td>0</td>\n",
              "      <td>2</td>\n",
              "      <td>43</td>\n",
              "      <td>F</td>\n",
              "      <td>arrest case no charge</td>\n",
              "      <td>25 - 45</td>\n",
              "      <td>Male</td>\n",
              "      <td>Other</td>\n",
              "      <td>No</td>\n",
              "    </tr>\n",
              "    <tr>\n",
              "      <th>...</th>\n",
              "      <td>...</td>\n",
              "      <td>...</td>\n",
              "      <td>...</td>\n",
              "      <td>...</td>\n",
              "      <td>...</td>\n",
              "      <td>...</td>\n",
              "      <td>...</td>\n",
              "      <td>...</td>\n",
              "      <td>...</td>\n",
              "      <td>...</td>\n",
              "      <td>...</td>\n",
              "    </tr>\n",
              "    <tr>\n",
              "      <th>7209</th>\n",
              "      <td>0</td>\n",
              "      <td>0</td>\n",
              "      <td>0</td>\n",
              "      <td>0</td>\n",
              "      <td>23</td>\n",
              "      <td>F</td>\n",
              "      <td>Deliver Cannabis</td>\n",
              "      <td>Less than 25</td>\n",
              "      <td>Male</td>\n",
              "      <td>Black</td>\n",
              "      <td>No</td>\n",
              "    </tr>\n",
              "    <tr>\n",
              "      <th>7210</th>\n",
              "      <td>0</td>\n",
              "      <td>0</td>\n",
              "      <td>0</td>\n",
              "      <td>0</td>\n",
              "      <td>23</td>\n",
              "      <td>F</td>\n",
              "      <td>Leaving the Scene of Accident</td>\n",
              "      <td>Less than 25</td>\n",
              "      <td>Male</td>\n",
              "      <td>Black</td>\n",
              "      <td>No</td>\n",
              "    </tr>\n",
              "    <tr>\n",
              "      <th>7211</th>\n",
              "      <td>0</td>\n",
              "      <td>0</td>\n",
              "      <td>0</td>\n",
              "      <td>0</td>\n",
              "      <td>57</td>\n",
              "      <td>F</td>\n",
              "      <td>Aggravated Battery / Pregnant</td>\n",
              "      <td>Greater than 45</td>\n",
              "      <td>Male</td>\n",
              "      <td>Other</td>\n",
              "      <td>No</td>\n",
              "    </tr>\n",
              "    <tr>\n",
              "      <th>7212</th>\n",
              "      <td>0</td>\n",
              "      <td>0</td>\n",
              "      <td>0</td>\n",
              "      <td>3</td>\n",
              "      <td>33</td>\n",
              "      <td>M</td>\n",
              "      <td>Battery on Law Enforc Officer</td>\n",
              "      <td>25 - 45</td>\n",
              "      <td>Female</td>\n",
              "      <td>Black</td>\n",
              "      <td>No</td>\n",
              "    </tr>\n",
              "    <tr>\n",
              "      <th>7213</th>\n",
              "      <td>0</td>\n",
              "      <td>0</td>\n",
              "      <td>0</td>\n",
              "      <td>2</td>\n",
              "      <td>23</td>\n",
              "      <td>F</td>\n",
              "      <td>Possession of Ethylone</td>\n",
              "      <td>Less than 25</td>\n",
              "      <td>Female</td>\n",
              "      <td>Other</td>\n",
              "      <td>Yes</td>\n",
              "    </tr>\n",
              "  </tbody>\n",
              "</table>\n",
              "<p>7214 rows × 11 columns</p>\n",
              "</div>\n",
              "      <button class=\"colab-df-convert\" onclick=\"convertToInteractive('df-bb0a7129-d678-4595-8ab9-88bdf66c963d')\"\n",
              "              title=\"Convert this dataframe to an interactive table.\"\n",
              "              style=\"display:none;\">\n",
              "        \n",
              "  <svg xmlns=\"http://www.w3.org/2000/svg\" height=\"24px\"viewBox=\"0 0 24 24\"\n",
              "       width=\"24px\">\n",
              "    <path d=\"M0 0h24v24H0V0z\" fill=\"none\"/>\n",
              "    <path d=\"M18.56 5.44l.94 2.06.94-2.06 2.06-.94-2.06-.94-.94-2.06-.94 2.06-2.06.94zm-11 1L8.5 8.5l.94-2.06 2.06-.94-2.06-.94L8.5 2.5l-.94 2.06-2.06.94zm10 10l.94 2.06.94-2.06 2.06-.94-2.06-.94-.94-2.06-.94 2.06-2.06.94z\"/><path d=\"M17.41 7.96l-1.37-1.37c-.4-.4-.92-.59-1.43-.59-.52 0-1.04.2-1.43.59L10.3 9.45l-7.72 7.72c-.78.78-.78 2.05 0 2.83L4 21.41c.39.39.9.59 1.41.59.51 0 1.02-.2 1.41-.59l7.78-7.78 2.81-2.81c.8-.78.8-2.07 0-2.86zM5.41 20L4 18.59l7.72-7.72 1.47 1.35L5.41 20z\"/>\n",
              "  </svg>\n",
              "      </button>\n",
              "      \n",
              "  <style>\n",
              "    .colab-df-container {\n",
              "      display:flex;\n",
              "      flex-wrap:wrap;\n",
              "      gap: 12px;\n",
              "    }\n",
              "\n",
              "    .colab-df-convert {\n",
              "      background-color: #E8F0FE;\n",
              "      border: none;\n",
              "      border-radius: 50%;\n",
              "      cursor: pointer;\n",
              "      display: none;\n",
              "      fill: #1967D2;\n",
              "      height: 32px;\n",
              "      padding: 0 0 0 0;\n",
              "      width: 32px;\n",
              "    }\n",
              "\n",
              "    .colab-df-convert:hover {\n",
              "      background-color: #E2EBFA;\n",
              "      box-shadow: 0px 1px 2px rgba(60, 64, 67, 0.3), 0px 1px 3px 1px rgba(60, 64, 67, 0.15);\n",
              "      fill: #174EA6;\n",
              "    }\n",
              "\n",
              "    [theme=dark] .colab-df-convert {\n",
              "      background-color: #3B4455;\n",
              "      fill: #D2E3FC;\n",
              "    }\n",
              "\n",
              "    [theme=dark] .colab-df-convert:hover {\n",
              "      background-color: #434B5C;\n",
              "      box-shadow: 0px 1px 3px 1px rgba(0, 0, 0, 0.15);\n",
              "      filter: drop-shadow(0px 1px 2px rgba(0, 0, 0, 0.3));\n",
              "      fill: #FFFFFF;\n",
              "    }\n",
              "  </style>\n",
              "\n",
              "      <script>\n",
              "        const buttonEl =\n",
              "          document.querySelector('#df-bb0a7129-d678-4595-8ab9-88bdf66c963d button.colab-df-convert');\n",
              "        buttonEl.style.display =\n",
              "          google.colab.kernel.accessAllowed ? 'block' : 'none';\n",
              "\n",
              "        async function convertToInteractive(key) {\n",
              "          const element = document.querySelector('#df-bb0a7129-d678-4595-8ab9-88bdf66c963d');\n",
              "          const dataTable =\n",
              "            await google.colab.kernel.invokeFunction('convertToInteractive',\n",
              "                                                     [key], {});\n",
              "          if (!dataTable) return;\n",
              "\n",
              "          const docLinkHtml = 'Like what you see? Visit the ' +\n",
              "            '<a target=\"_blank\" href=https://colab.research.google.com/notebooks/data_table.ipynb>data table notebook</a>'\n",
              "            + ' to learn more about interactive tables.';\n",
              "          element.innerHTML = '';\n",
              "          dataTable['output_type'] = 'display_data';\n",
              "          await google.colab.output.renderOutput(dataTable, element);\n",
              "          const docLink = document.createElement('div');\n",
              "          docLink.innerHTML = docLinkHtml;\n",
              "          element.appendChild(docLink);\n",
              "        }\n",
              "      </script>\n",
              "    </div>\n",
              "  </div>\n",
              "  "
            ],
            "text/plain": [
              "      juv_fel_count  juv_misd_count  juv_other_count  priors_count  age  \\\n",
              "0                 0               0                0             0   69   \n",
              "1                 0               0                0             0   34   \n",
              "2                 0               0                1             4   24   \n",
              "3                 0               1                0             1   23   \n",
              "4                 0               0                0             2   43   \n",
              "...             ...             ...              ...           ...  ...   \n",
              "7209              0               0                0             0   23   \n",
              "7210              0               0                0             0   23   \n",
              "7211              0               0                0             0   57   \n",
              "7212              0               0                0             3   33   \n",
              "7213              0               0                0             2   23   \n",
              "\n",
              "     c_charge_degree                   c_charge_desc          age_cat     sex  \\\n",
              "0                  F    Aggravated Assault w/Firearm  Greater than 45    Male   \n",
              "1                  F  Felony Battery w/Prior Convict          25 - 45    Male   \n",
              "2                  F           Possession of Cocaine     Less than 25    Male   \n",
              "3                  F          Possession of Cannabis     Less than 25    Male   \n",
              "4                  F           arrest case no charge          25 - 45    Male   \n",
              "...              ...                             ...              ...     ...   \n",
              "7209               F                Deliver Cannabis     Less than 25    Male   \n",
              "7210               F   Leaving the Scene of Accident     Less than 25    Male   \n",
              "7211               F   Aggravated Battery / Pregnant  Greater than 45    Male   \n",
              "7212               M   Battery on Law Enforc Officer          25 - 45  Female   \n",
              "7213               F          Possession of Ethylone     Less than 25  Female   \n",
              "\n",
              "       race is_recid  \n",
              "0     Other       No  \n",
              "1     Black      Yes  \n",
              "2     Black      Yes  \n",
              "3     Black       No  \n",
              "4     Other       No  \n",
              "...     ...      ...  \n",
              "7209  Black       No  \n",
              "7210  Black       No  \n",
              "7211  Other       No  \n",
              "7212  Black       No  \n",
              "7213  Other      Yes  \n",
              "\n",
              "[7214 rows x 11 columns]"
            ]
          },
          "execution_count": 9,
          "metadata": {},
          "output_type": "execute_result"
        }
      ],
      "source": [
        "df"
      ]
    },
    {
      "cell_type": "code",
      "execution_count": 10,
      "metadata": {
        "id": "GSfvTo-nETQ6"
      },
      "outputs": [],
      "source": [
        "# Create splits\n",
        "train_df, test_df = train_test_split(df, test_size=0.30, random_state=42)\n",
        "train_df, dev_df = train_test_split(train_df, test_size=0.1, random_state=42)"
      ]
    },
    {
      "cell_type": "code",
      "execution_count": 11,
      "metadata": {
        "colab": {
          "base_uri": "https://localhost:8080/"
        },
        "id": "LwKAnWnI_cwK",
        "outputId": "e09f9513-8613-4593-ad04-56f70fac79d1"
      },
      "outputs": [
        {
          "name": "stdout",
          "output_type": "stream",
          "text": [
            "{'c_charge_degree': ['F', 'M'], 'c_charge_desc': ['Poss of Methylethcathinone', 'Agg Assault Law Enforc Officer', 'Issuing a Worthless Draft', 'Flee/Elude LEO-Agg Flee Unsafe', 'Unl/Disturb Education/Instui', 'Consume Alcoholic Bev Pub', 'Strong Armed  Robbery', 'DWLS Canceled Disqul 1st Off', 'Aggravated Assault W/Dead Weap', 'Money Launder 100K or More Dols', 'Lve/Scen/Acc/Veh/Prop/Damage', 'Crimin Mischief Damage $1000+', 'Deliver Cannabis 1000FTSch', 'Kidnapping / Domestic Violence', 'Throw Missile Into Pub/Priv Dw', 'Trespass Private Property', 'Drivg While Lic Suspd/Revk/Can', 'Possess Weapon On School Prop', 'Agg Abuse Elderlly/Disabled Adult', 'Possession of Cocaine', 'Child Abuse', 'Possession Of Heroin', 'Leave Accd/Attend Veh/Less $50', 'Alcoholic Beverage Violation-FL', 'Neglect/Abuse Elderly Person', 'Purchase Of Cocaine', 'Restraining Order Dating Viol', 'Insurance Fraud', 'Tampering with a Victim', 'Criminal Mischief>$200<$1000', 'Trespass Struct/Conveyance', 'Tresspass Struct/Conveyance', 'Possession Of Methamphetamine', 'Murder in the First Degree', 'Fleeing Or Attmp Eluding A Leo', 'Delivery Of Drug Paraphernalia', 'Trans/Harm/Material to a Minor', 'DUI - Enhanced', 'Manage Busn W/O City Occup Lic', 'Possession Of Buprenorphine', 'Grand Theft In The 3Rd Degree', 'DWLS Susp/Cancel Revoked', 'Possession of Codeine', 'Exploit Elderly Person 20-100K', 'Murder In 2nd Degree W/firearm', 'Poss Wep Conv Felon', 'Prostitution', 'Petit Theft $100- $300', 'Posses/Disply Susp/Revk/Frd DL', 'DUI- Enhanced', 'Violation Of Boater Safety Id', 'Felony/Driving Under Influence', 'Operating W/O Valid License', 'Theft', 'DUI - Property Damage/Personal Injury', 'Attempted Robbery Firearm', 'Corrupt Public Servant', 'False Info LEO During Invest', 'Aggravated Battery (Firearm/Actual Possession)', 'Burglary Conveyance Assault/Bat', 'Fail Sex Offend Report Bylaw', 'Unlicensed Telemarketing', 'Obstruct Officer W/Violence', 'Possession Of Clonazepam', 'Traffick Oxycodone     4g><14g', 'Att Tamper w/Physical Evidence', 'Poss of Cocaine W/I/D/S 1000FT Park', 'Live on Earnings of Prostitute', 'Obstruct Fire Equipment', 'Unlawful Use Of Police Badges', 'Trespass Struct/Convey Occupy', 'Attempt Burglary (Struct)', 'Deliver Alprazolam', 'Structuring Transactions', 'Burglary Conveyance Occupied', 'Cruelty to Animals', 'Retail Theft $300 1st Offense', 'Prostitution/Lewdness/Assign', 'Possess Countrfeit Credit Card', 'Sell Conterfeit Cont Substance', 'Poss/Sell/Del Cocaine 1000FT Sch', 'Misuse Of 911 Or E911 System', 'Solicit Purchase Cocaine', 'Grand Theft on 65 Yr or Older', 'Fail Obey Driv Lic Restrictions', 'Assault', 'Giving False Crime Report', 'Dealing In Stolen Property', 'Possession of Cannabis', 'Poss Contr Subst W/o Prescript', 'Threat Public Servant', 'Sound Articles Over 100', 'Poss/Sell/Del/Man Amobarbital', 'Abuse Without Great Harm', 'Fleeing or Eluding a LEO', 'Burglary Structure Assault/Batt', 'Lewd/Lasc Battery Pers 12+/<16', 'Poss 3,4 MDMA (Ecstasy)', 'Possession Of 3,4Methylenediox', 'Grand Theft (motor Vehicle)', 'Poss F/Arm Delinq', 'Pos Cannabis W/Intent Sel/Del', 'Poss Of RX Without RX', 'Possess Controlled Substance', 'Robbery / Weapon', 'Sel Etc/Pos/w/Int Contrft Schd', 'Purchase/P/W/Int Cannabis', 'PL/Unlaw Use Credit Card', 'Reckless Driving', 'Battery Spouse Or Girlfriend', 'Criminal Mischief', 'Dealing in Stolen Property', 'Contribute Delinquency Of A Minor', 'Carrying A Concealed Weapon', 'Introduce Contraband Into Jail', 'Att Burgl Conv Occp', 'Burglary Assault/Battery Armed', 'Criminal Attempt 3rd Deg Felon', 'Aggress/Panhandle/Beg/Solict', 'Felony DUI (level 3)', 'Trespass On School Grounds', 'Burglary Structure Unoccup', 'Conspiracy to Deliver Cocaine', 'Leave Acc/Attend Veh/More $50', 'Unlaw Lic Use/Disply Of Others', 'Possession Of Paraphernalia', 'Robbery Sudd Snatch No Weapon', 'Aggravated Assault W/o Firearm', 'Neglect Child / No Bodily Harm', 'Fighting/Baiting Animals', 'Agg Fleeing/Eluding High Speed', 'Traffick Hydrocodone   4g><14g', 'Grand Theft in the 3rd Degree', 'Driving License Suspended', 'Deliver Cocaine 1000FT Store', 'Poss Meth/Diox/Meth/Amp (MDMA)', 'Possess Drug Paraphernalia', 'Carjacking w/o Deadly Weapon', 'Battery on a Person Over 65', 'Unauthorized Interf w/Railroad', 'Solicit To Deliver Cocaine', 'Hiring with Intent to Defraud', 'Battery On Parking Enfor Speci', 'Delivery of Heroin', 'Poss Unlaw Issue Driver Licenc', 'Att Burgl Unoccupied Dwel', 'Use Scanning Device to Defraud', 'Trespass Other Struct/Conve', 'Fail To Redeliver Hire Prop', 'License Suspended Revoked', 'Pos Cannabis For Consideration', 'DUI Blood Alcohol Above 0.20', 'Possession of Ethylone', 'Agg Assault W/int Com Fel Dome', 'Possess Mot Veh W/Alt Vin #', 'Uttering a Forged Instrument', 'Offer Agree Secure For Lewd Act', 'Harass Witness/Victm/Informnt', 'Possession of Butylone', 'Uttering Worthless Check +$150', 'Felony Battery w/Prior Convict', 'Possess Tobacco Product Under 18', 'Aggravated Assault W/dead Weap', 'Compulsory Sch Attnd Violation', 'Tamper With Witness', 'Failure To Pay Taxi Cab Charge', 'Felony Batt(Great Bodily Harm)', 'Possession of Alcohol Under 21', 'Retail Theft $300 2nd Offense', 'Burglary Conveyance Unoccup', 'Extradition/Defendants', 'Compulsory Attendance Violation', 'Unlaw Use False Name/Identity', 'Stalking', 'Felony Driving While Lic Suspd', 'Throw In Occupied Dwell', 'Poss Similitude of Drivers Lic', 'Crim Attempt/Solicit/Consp', 'Unlaw LicTag/Sticker Attach', 'Possession Burglary Tools', 'arrest case no charge', 'Armed Trafficking in Cannabis', 'Conspiracy Dealing Stolen Prop', 'Viol Injunct Domestic Violence', 'False Name By Person Arrest', 'Open Carrying Of Weapon', 'Gambling/Gamb Paraphernalia', 'False Bomb Report', 'False Imprisonment', 'Trespass Structure w/Dang Weap', 'Manufacture Cannabis', 'Possession of XLR11', 'Depriv LEO of Protect/Communic', 'Agg Fleeing and Eluding', 'Computer Pornography', 'Contradict Statement', 'Possession of Morphine', 'Counterfeit Lic Plates/Sticker', 'Grand Theft Dwell Property', 'Poss Pyrrolidinovalerophenone', 'Poss Drugs W/O A Prescription', 'Poss Of 1,4-Butanediol', 'Sel/Pur/Mfr/Del Control Substa', 'Manslaughter W/Weapon/Firearm', 'Carry Open/Uncov Bev In Pub', 'Att Burgl Struc/Conv Dwel/Occp', 'DUI Property Damage/Injury', 'Deliver Cocaine 1000FT Park', 'Traffick Amphetamine 28g><200g', 'Use Computer for Child Exploit', 'Arson in the First Degree', 'Voyeurism', 'Crim Use of Personal ID Info', 'Poss Pyrrolidinovalerophenone W/I/D/S', 'Poss Anti-Shoplifting Device', 'Poss Pyrrolidinobutiophenone', 'Solic to Commit Battery', 'Possession Of Anabolic Steroid', 'Purchasing Of Alprazolam', 'Present Proof of Invalid Insur', 'Poss/pur/sell/deliver Cocaine', 'False Motor Veh Insurance Card', 'Fail To Obey Police Officer', 'Cause Anoth Phone Ring Repeat', 'Use Of 2 Way Device To Fac Fel', 'Accessory After the Fact', 'Driving Under The Influence', 'DOC/Cause Public Danger', 'Disorderly Conduct', 'Failure To Return Hired Vehicle', 'Burgl Dwel/Struct/Convey Armed', 'Stalking (Aggravated)', 'Trespass Structure/Conveyance', 'Imperson Public Officer or Emplyee', 'Sex Battery Deft 18+/Vict 11-', 'Criminal Mischief Damage <$200', 'Interference with Custody', 'Poss of Vessel w/Altered ID NO', 'Interfere W/Traf Cont Dev RR', 'Sell/Man/Del Pos/w/int Heroin', 'Littering', 'Leaving the Scene of Accident', 'Offn Against Intellectual Prop', 'Traffic Counterfeit Cred Cards', 'Deliver Cocaine 1000FT Church', 'Burglary Structure Occupied', 'Battery On Fire Fighter', 'Forging Bank Bills/Promis Note', 'Offer Agree Secure/Lewd Act', 'Viol Injunction Protect Dom Vi', 'Poss Counterfeit Payment Inst', 'Felony DUI - Enhanced', 'Crim Attempt/Solic/Consp', 'Trespassing/Construction Site', 'Attempted Robbery  No Weapon', 'Throw Deadly Missile Into Veh', 'Sell or Offer for Sale Counterfeit Goods', 'Grand Theft Firearm', 'Shoot Into Vehicle', 'Bribery Athletic Contests', 'Grand Theft of a Fire Extinquisher', 'Unauth C/P/S Sounds>1000/Audio', 'Aggravated Assault w/Firearm', 'Aggravated Battery / Pregnant', 'Attempted Deliv Control Subst', 'Possession Of Alprazolam', 'Burglary Dwelling Armed', 'Traff In Cocaine <400g>150 Kil', 'Attempted Robbery  Weapon', 'Murder in 2nd Degree', 'Deliver Cannabis', 'Grand Theft in the 1st Degree', 'Poss Cntrft Contr Sub w/Intent', 'Sale/Del Cannabis At/Near Scho', 'False 911 Call', 'Aggravated Battery', 'Opert With Susp DL 2ND Offense', 'Carrying Concealed Firearm', 'Expired DL More Than 6 Months', 'Possession Of Fentanyl', 'Video Voyeur-<24Y on Child >16', 'Fraud Obtain Food or Lodging', 'Poss Unlaw Issue Id', 'Lease For Purpose Trafficking', 'Shoot In Occupied Dwell', 'Poss3,4 Methylenedioxymethcath', 'Poss/Sell/Deliver Clonazepam', 'Burglary Unoccupied Dwelling', 'Del Morphine at/near Park', 'Poss Cocaine/Intent To Del/Sel', 'Fel Drive License Perm Revoke', 'Possession Of Diazepam', 'Attempted Burg/Convey/Unocc', 'Use of Anti-Shoplifting Device', 'Refuse to Supply DNA Sample', 'Felony Petit Theft', 'DWI w/Inj Susp Lic / Habit Off', 'Poss Of Controlled Substance', 'Possession Of Cocaine', 'Tresspass in Structure or Conveyance', 'Prostitution/Lewd Act Assignation', 'Fail Register Career Offender', 'Sexual Battery / Vict 12 Yrs +', 'Uttering Forged Credit Card', 'Oper Motorcycle W/O Valid DL', 'Opert With Susp DL 2nd Offens', 'Del Cannabis For Consideration', 'Consp Traff Oxycodone  4g><14g', 'Soliciting For Prostitution', 'Possession Of Phentermine', 'Agg Battery Grt/Bod/Harm', 'Unauth Poss ID Card or DL', 'Possession Of Lorazepam', 'Lewd or Lascivious Molestation', 'Assault Law Enforcement Officer', 'Sexual Performance by a Child', 'Battery', 'Possession of Methadone', 'Battery On A Person Over 65', 'Cruelty Toward Child', 'Uttering Forged Bills', 'Fail To Secure Load', 'Sex Batt Faml/Cust Vict 12-17Y', 'Solicitation On Felony 3 Deg', 'Defrauding Innkeeper', 'Possess w/I/Utter Forged Bills', 'Poss Trifluoromethylphenylpipe', 'Aggrav Child Abuse-Agg Battery', 'Grand Theft of the 2nd Degree', 'Solicit Deliver Cocaine', 'Lewd/Lasc Exhib Presence <16yr', 'Purchase Cannabis', 'Fail Register Vehicle', 'Exhibition Weapon School Prop', 'Refuse Submit Blood/Breath Test', 'Deliver 3,4 Methylenediox', 'Exposes Culpable Negligence', 'Defrauding Innkeeper $300/More', 'Del Cannabis At/Near Park', 'Battery Emergency Care Provide', 'Possess/Use Weapon 1 Deg Felon', 'Robbery / No Weapon', 'Neglect Child / Bodily Harm', 'Deliver Cocaine', 'Felony Committing Prostitution', 'Poss Firearm W/Altered ID#', 'Burglary Dwelling Occupied', 'Intoxicated/Safety Of Another', 'Trespass Property w/Dang Weap', 'Theft/To Deprive', 'Possess Cannabis 1000FTSch', 'Tamper With Witness/Victim/CI', 'Aggravated Assault', 'Poss Tetrahydrocannabinols', 'Attempted Burg/struct/unocc', 'Attempt Armed Burglary Dwell', 'DUI/Property Damage/Persnl Inj', 'Lewd/Lasciv Molest Elder Persn', 'Aggravated Battery (Firearm)', 'Escape', 'Possession of Benzylpiperazine', 'Del 3,4 Methylenedioxymethcath', 'Sale/Del Counterfeit Cont Subs', 'Tamper With Victim', 'Burglary Dwelling Assault/Batt', 'Possession of Oxycodone', 'Violation License Restrictions', 'Poss Alprazolam W/int Sell/Del', 'Grand Theft (Motor Vehicle)', 'Possession of Hydromorphone', 'D.U.I. Serious Bodily Injury', 'Lewdness Violation', 'Aiding Escape', 'Possess Cannabis/20 Grams Or Less', 'Battery on Law Enforc Officer', 'Felony Battery', 'Culpable Negligence', 'DUI Level 0.15 Or Minor In Veh', 'Disorderly Intoxication', 'Deliver Cocaine 1000FT School', 'Tampering With Physical Evidence', 'Viol Prot Injunc Repeat Viol', 'Crlty Twrd Child Urge Oth Act', 'Principal In The First Degree', 'Resist/Obstruct W/O Violence', 'Disrupting School Function', 'False Ownership Info/Pawn Item', 'Unemployment Compensatn Fraud', 'Del of JWH-250 2-Methox 1-Pentyl', 'Simulation of Legal Process', 'Resist Officer w/Violence', 'Aggrav Battery w/Deadly Weapon', 'Unlawful Conveyance of Fuel', 'Obtain Control Substance By Fraud', 'Robbery W/Deadly Weapon', 'Aggr Child Abuse-Torture,Punish', 'Aggrav Child Abuse-Causes Harm', 'Lewd Act Presence Child 16-', 'Harm Public Servant Or Family', 'Fail To Redeliv Hire/Leas Prop', 'Driving While License Revoked', 'Aggravated Battery On 65/Older', 'Pos Methylenedioxymethcath W/I/D/S', 'Sex Offender Fail Comply W/Law', 'Possession Of Amphetamine', 'Violation of Injunction Order/Stalking/Cyberstalking', 'Susp Drivers Lic 1st Offense', 'Petit Theft', 'Consp Traff Oxycodone 28g><30k', 'Burglary With Assault/battery', 'Poss of Firearm by Convic Felo', 'Fraudulent Use of Credit Card', 'Ride Tri-Rail Without Paying', 'Cash Item w/Intent to Defraud', 'Felony Battery (Dom Strang)', 'Possession Firearm School Prop', 'Felon in Pos of Firearm or Amm', 'Poss Oxycodone W/Int/Sell/Del', 'Possession of Hydrocodone', 'Sell Cannabis', 'Prowling/Loitering', 'Fabricating Physical Evidence', 'Arson II (Vehicle)', 'Burglary Conveyance Armed', 'Delivery of 5-Fluoro PB-22', 'Possession of LSD', 'Aide/Abet Prostitution Lewdness', 'Crim Use Of Personal Id Info', 'Robbery W/Firearm', 'Discharge Firearm From Vehicle', 'Falsely Impersonating Officer', 'Leaving Acc/Unattended Veh', 'Possession Of Carisoprodol', 'Aggrav Stalking After Injunctn', 'Carjacking with a Firearm', 'Viol Pretrial Release Dom Viol', 'Possession Child Pornography'], 'age_cat': ['Less than 25', '25 - 45', 'Greater than 45'], 'sex': ['Male', 'Female'], 'race': ['White', 'Black', 'Other'], 'is_recid': ['Yes', 'No']}\n"
          ]
        }
      ],
      "source": [
        "cat_cols = train_df.select_dtypes(include='category').columns\n",
        "vocab_dict = {}\n",
        "for col in cat_cols:\n",
        "  vocab_dict[col] = list(set(train_df[col].cat.categories))\n",
        "print(vocab_dict)"
      ]
    },
    {
      "cell_type": "code",
      "execution_count": 12,
      "metadata": {
        "colab": {
          "base_uri": "https://localhost:8080/"
        },
        "id": "c6Wines_WXoX",
        "outputId": "b26cc0fd-44e9-423a-93d2-6980827695fb"
      },
      "outputs": [
        {
          "name": "stdout",
          "output_type": "stream",
          "text": [
            "{'juv_fel_count': [0.0721830985915493, 0.5187066204966256], 'juv_misd_count': [0.09793133802816902, 0.5348148993571356], 'juv_other_count': [0.10629401408450705, 0.47329289176000755], 'priors_count': [3.504181338028169, 4.9829540064651585], 'age': [34.875220070422536, 11.929411671055068]}\n"
          ]
        }
      ],
      "source": [
        "temp_dict = train_df.describe().to_dict()\n",
        "mean_std_dict = {}\n",
        "for key, value in temp_dict.items():\n",
        "  mean_std_dict[key] = [value['mean'],value['std']]\n",
        "print(mean_std_dict)"
      ]
    },
    {
      "cell_type": "code",
      "execution_count": 13,
      "metadata": {
        "id": "p8IMX1_sho20"
      },
      "outputs": [],
      "source": [
        "def preprocessing(tmp_df):\n",
        "    features = {}\n",
        "    # Normalize numberiacal columns\n",
        "    for col_name in mean_std_dict.keys():\n",
        "        _mean, _std = mean_std_dict[col_name]\n",
        "        features[col_name] = ((tmp_df[col_name]-_mean)/_std)\n",
        "    # Encode categorical columns as indices\n",
        "    for col_name in vocab_dict.keys():\n",
        "        features[col_name] = tmp_df[col_name].map(\n",
        "            {\n",
        "                j:i for i,j in enumerate(vocab_dict[col_name])\n",
        "            }\n",
        "        )\n",
        "    # One-hot encoding categorical features\n",
        "    for col_name in [\"c_charge_degree\", \"c_charge_desc\", \"age_cat\"]:\n",
        "        features[col_name] = pd.get_dummies(features[col_name], prefix=col_name)\n",
        "    return pd.concat(features.values(), axis=1)"
      ]
    },
    {
      "cell_type": "code",
      "execution_count": 14,
      "metadata": {
        "id": "PINWfT9pwWR-"
      },
      "outputs": [],
      "source": [
        "train_df = preprocessing(train_df)\n",
        "dev_df =  preprocessing(dev_df)\n",
        "test_df = preprocessing(test_df)"
      ]
    },
    {
      "cell_type": "code",
      "execution_count": 15,
      "metadata": {
        "id": "Tvji_PCyXza-"
      },
      "outputs": [],
      "source": [
        "train_df.to_pickle(os.path.join(dataset_base_dir, \"train.pkl\"))\n",
        "dev_df.to_pickle(os.path.join(dataset_base_dir, \"dev.pkl\"))\n",
        "test_df.to_pickle(os.path.join(dataset_base_dir, \"test.pkl\"))"
      ]
    },
    {
      "cell_type": "code",
      "execution_count": 18,
      "metadata": {
        "id": "3qOYUt8eUDT2"
      },
      "outputs": [],
      "source": [
        "from faircls import networks, BaseOptions, dataloaders\n",
        "import torch"
      ]
    },
    {
      "cell_type": "code",
      "execution_count": 19,
      "metadata": {
        "id": "WIQgZgVgUDT2"
      },
      "outputs": [],
      "source": [
        "Shared_options = {\n",
        "    # The name of the dataset, correponding dataloader will be used,\n",
        "    \"dataset\":  \"COMPAS\",\n",
        "\n",
        "    # Specifiy the path to the input data\n",
        "    \"data_dir\": \"./data\",\n",
        "\n",
        "    # Device for computing, -1 is the cpu\n",
        "    \"device_id\": -1,\n",
        "\n",
        "    # The default path for saving experimental results\n",
        "    \"results_dir\":  r\"results\",\n",
        "\n",
        "    # The same as the dataset\n",
        "    \"project_dir\":  r\"dev\",\n",
        "\n",
        "    # We will focusing on TPR GAP, implying the Equalized Odds for binay classification.\n",
        "    \"GAP_metric_name\":  \"TPR_GAP\",\n",
        "\n",
        "    # The overall performance will be measured as accuracy\n",
        "    \"Performance_metric_name\":  \"accuracy\",\n",
        "\n",
        "    # Model selections are based on DTO\n",
        "    \"selection_criterion\":  \"DTO\",\n",
        "\n",
        "    # Default dirs for saving checkpoints\n",
        "    \"checkpoint_dir\":   \"models\",\n",
        "    \"checkpoint_name\":  \"checkpoint_epoch\",\n",
        "\n",
        "\n",
        "    \"n_jobs\":   1,\n",
        "}"
      ]
    },
    {
      "cell_type": "code",
      "execution_count": 20,
      "metadata": {
        "colab": {
          "base_uri": "https://localhost:8080/"
        },
        "id": "-fAarStJUDT2",
        "outputId": "5d2e3cf2-5924-4941-f4a3-59d67f38d0a6"
      },
      "outputs": [
        {
          "name": "stderr",
          "output_type": "stream",
          "text": [
            "INFO:root:Unexpected args: ['-f', '/root/.local/share/jupyter/runtime/kernel-b65d1ec1-5396-4205-ac02-0871ced0890b.json']\n",
            "INFO:root:Logging to ./results/dev/COMPAS/vanilla/output.log\n"
          ]
        },
        {
          "name": "stdout",
          "output_type": "stream",
          "text": [
            "2022-03-30 17:34:35 [INFO ]  ======================================== 2022-03-30 17:34:35 ========================================\n",
            "2022-03-30 17:34:35 [INFO ]  Base directory is ./results/dev/COMPAS/vanilla\n",
            "Not implemented\n",
            "2022-03-30 17:34:35 [INFO ]  dataloaders need to be initialized!\n"
          ]
        }
      ],
      "source": [
        "args = {\n",
        "    \"dataset\":Shared_options[\"dataset\"], \n",
        "    \"data_dir\":Shared_options[\"data_dir\"],\n",
        "    \"device_id\":Shared_options[\"device_id\"],\n",
        "\n",
        "    # Give a name to the exp, which will be used in the path\n",
        "    \"exp_id\":\"vanilla\",\n",
        "\n",
        "    \"emb_size\": 450-3,\n",
        "    \"lr\": 0.001,\n",
        "    \"batch_size\": 128,\n",
        "    \"hidden_size\": 32,\n",
        "    \"n_hidden\": 1,\n",
        "    \"activation_function\": \"ReLu\",\n",
        "\n",
        "    \"num_classes\": 2,\n",
        "    \"num_groups\": 3, # Balck; White; and Other\n",
        "}\n",
        "\n",
        "# Init the argument\n",
        "options = BaseOptions()\n",
        "state = options.get_state(args=args, silence=True)"
      ]
    },
    {
      "cell_type": "code",
      "execution_count": 21,
      "metadata": {
        "id": "1L9WAC7jUDT3"
      },
      "outputs": [],
      "source": [
        "class CustomizedDataset(dataloaders.utils.BaseDataset):\n",
        "\n",
        "    def load_data(self):\n",
        "\n",
        "        self.data_dir = os.path.join(self.args.data_dir, \"{}.pkl\".format(self.split))\n",
        "\n",
        "        data = pd.read_pickle(self.data_dir)\n",
        "\n",
        "        self.X = data.drop(['sex', 'race', 'is_recid'], axis=1).to_numpy().astype(np.float32)\n",
        "        self.y = list(data[\"is_recid\"])\n",
        "        self.protected_label = list(data[\"race\"])"
      ]
    },
    {
      "cell_type": "code",
      "execution_count": 22,
      "metadata": {
        "colab": {
          "base_uri": "https://localhost:8080/"
        },
        "id": "xXc659mpUDT3",
        "outputId": "dca09667-81dd-4f0b-f008-ba5839cff2ef"
      },
      "outputs": [
        {
          "name": "stdout",
          "output_type": "stream",
          "text": [
            "Loaded data shapes: (4544, 447), (4544,), (4544,)\n",
            "Loaded data shapes: (505, 447), (505,), (505,)\n",
            "Loaded data shapes: (2165, 447), (2165,), (2165,)\n"
          ]
        }
      ],
      "source": [
        "customized_train_data = CustomizedDataset(args=state, split=\"train\")\n",
        "customized_dev_data = CustomizedDataset(args=state, split=\"dev\")\n",
        "customized_test_data = CustomizedDataset(args=state, split=\"test\")\n",
        "\n",
        "# DataLoader Parameters\n",
        "tran_dataloader_params = {\n",
        "        'batch_size': state.batch_size,\n",
        "        'shuffle': True,\n",
        "        'num_workers': state.num_workers}\n",
        "\n",
        "eval_dataloader_params = {\n",
        "        'batch_size': state.test_batch_size,\n",
        "        'shuffle': False,\n",
        "        'num_workers': state.num_workers}\n",
        "\n",
        "# init dataloader\n",
        "customized_training_generator = torch.utils.data.DataLoader(customized_train_data, **tran_dataloader_params)\n",
        "customized_validation_generator = torch.utils.data.DataLoader(customized_dev_data, **eval_dataloader_params)\n",
        "customized_test_generator = torch.utils.data.DataLoader(customized_test_data, **eval_dataloader_params)"
      ]
    },
    {
      "cell_type": "code",
      "execution_count": 23,
      "metadata": {
        "colab": {
          "base_uri": "https://localhost:8080/"
        },
        "id": "SGfihIUqUDT3",
        "outputId": "ee049d46-204a-466f-871f-27d2e809fdf9"
      },
      "outputs": [
        {
          "name": "stdout",
          "output_type": "stream",
          "text": [
            "2022-03-30 17:34:35 [INFO ]  MLP( \n",
            "2022-03-30 17:34:35 [INFO ]    (output_layer): Linear(in_features=32, out_features=2, bias=True)\n",
            "2022-03-30 17:34:35 [INFO ]    (AF): ReLU()\n",
            "2022-03-30 17:34:35 [INFO ]    (hidden_layers): ModuleList(\n",
            "2022-03-30 17:34:35 [INFO ]      (0): Linear(in_features=447, out_features=32, bias=True)\n",
            "2022-03-30 17:34:35 [INFO ]      (1): ReLU()\n",
            "2022-03-30 17:34:35 [INFO ]    )\n",
            "2022-03-30 17:34:35 [INFO ]    (criterion): CrossEntropyLoss()\n",
            "2022-03-30 17:34:35 [INFO ]  )\n",
            "2022-03-30 17:34:35 [INFO ]  Total number of parameters: 14402 \n",
            "\n"
          ]
        }
      ],
      "source": [
        "model = networks.classifier.MLP(state)"
      ]
    },
    {
      "cell_type": "code",
      "execution_count": 24,
      "metadata": {
        "colab": {
          "base_uri": "https://localhost:8080/"
        },
        "id": "BzHN7paxUDT4",
        "outputId": "1ab03811-7129-4444-dad6-dd4856b0bb19"
      },
      "outputs": [
        {
          "name": "stdout",
          "output_type": "stream",
          "text": [
            "2022-03-30 17:34:35 [INFO ]  Epoch:    0 [      0/   4544 ( 0%)]\tLoss: 0.6934\t Data Time: 0.05s\tTrain Time: 0.19s\n",
            "2022-03-30 17:34:35 [INFO ]  Evaluation at Epoch 0\n",
            "2022-03-30 17:34:35 [INFO ]  Validation accuracy: 65.35\tmacro_fscore: 64.74\tmicro_fscore: 65.35\tTPR_GAP: 29.34\tFPR_GAP: 29.34\tPPR_GAP: 31.29\t\n",
            "2022-03-30 17:34:35 [INFO ]  Test accuracy: 67.16\tmacro_fscore: 66.42\tmicro_fscore: 67.16\tTPR_GAP: 30.35\tFPR_GAP: 30.35\tPPR_GAP: 35.61\t\n",
            "2022-03-30 17:34:35 [INFO ]  Epoch:    1 [      0/   4544 ( 0%)]\tLoss: 0.6347\t Data Time: 0.00s\tTrain Time: 0.00s\n",
            "2022-03-30 17:34:36 [INFO ]  Evaluation at Epoch 1\n",
            "2022-03-30 17:34:36 [INFO ]  Validation accuracy: 66.53\tmacro_fscore: 66.34\tmicro_fscore: 66.53\tTPR_GAP: 28.61\tFPR_GAP: 28.61\tPPR_GAP: 31.18\t\n",
            "2022-03-30 17:34:36 [INFO ]  Test accuracy: 67.39\tmacro_fscore: 67.07\tmicro_fscore: 67.39\tTPR_GAP: 31.21\tFPR_GAP: 31.21\tPPR_GAP: 36.49\t\n",
            "2022-03-30 17:34:36 [INFO ]  Epoch:    2 [      0/   4544 ( 0%)]\tLoss: 0.5875\t Data Time: 0.00s\tTrain Time: 0.00s\n",
            "2022-03-30 17:34:36 [INFO ]  Evaluation at Epoch 2\n",
            "2022-03-30 17:34:36 [INFO ]  Validation accuracy: 66.53\tmacro_fscore: 66.42\tmicro_fscore: 66.53\tTPR_GAP: 30.15\tFPR_GAP: 30.15\tPPR_GAP: 32.84\t\n",
            "2022-03-30 17:34:36 [INFO ]  Test accuracy: 68.73\tmacro_fscore: 68.44\tmicro_fscore: 68.73\tTPR_GAP: 32.73\tFPR_GAP: 32.73\tPPR_GAP: 38.85\t\n",
            "2022-03-30 17:34:36 [INFO ]  Epoch:    3 [      0/   4544 ( 0%)]\tLoss: 0.6307\t Data Time: 0.00s\tTrain Time: 0.00s\n",
            "2022-03-30 17:34:36 [INFO ]  Epochs since last improvement: 1\n",
            "2022-03-30 17:34:36 [INFO ]  Evaluation at Epoch 3\n",
            "2022-03-30 17:34:36 [INFO ]  Validation accuracy: 64.95\tmacro_fscore: 64.75\tmicro_fscore: 64.95\tTPR_GAP: 30.37\tFPR_GAP: 30.37\tPPR_GAP: 32.78\t\n",
            "2022-03-30 17:34:36 [INFO ]  Test accuracy: 68.96\tmacro_fscore: 68.58\tmicro_fscore: 68.96\tTPR_GAP: 32.78\tFPR_GAP: 32.78\tPPR_GAP: 38.32\t\n",
            "2022-03-30 17:34:36 [INFO ]  Epoch:    4 [      0/   4544 ( 0%)]\tLoss: 0.5862\t Data Time: 0.00s\tTrain Time: 0.00s\n",
            "2022-03-30 17:34:36 [INFO ]  Epochs since last improvement: 2\n",
            "2022-03-30 17:34:36 [INFO ]  Evaluation at Epoch 4\n",
            "2022-03-30 17:34:36 [INFO ]  Validation accuracy: 65.54\tmacro_fscore: 65.52\tmicro_fscore: 65.54\tTPR_GAP: 35.21\tFPR_GAP: 35.21\tPPR_GAP: 38.30\t\n",
            "2022-03-30 17:34:36 [INFO ]  Test accuracy: 68.87\tmacro_fscore: 68.76\tmicro_fscore: 68.87\tTPR_GAP: 33.56\tFPR_GAP: 33.56\tPPR_GAP: 40.54\t\n",
            "2022-03-30 17:34:36 [INFO ]  Epoch:    5 [      0/   4544 ( 0%)]\tLoss: 0.5576\t Data Time: 0.00s\tTrain Time: 0.00s\n",
            "2022-03-30 17:34:36 [INFO ]  Epochs since last improvement: 3\n",
            "2022-03-30 17:34:36 [INFO ]  Evaluation at Epoch 5\n",
            "2022-03-30 17:34:36 [INFO ]  Validation accuracy: 65.94\tmacro_fscore: 65.67\tmicro_fscore: 65.94\tTPR_GAP: 33.95\tFPR_GAP: 33.95\tPPR_GAP: 37.23\t\n",
            "2022-03-30 17:34:36 [INFO ]  Test accuracy: 68.91\tmacro_fscore: 68.41\tmicro_fscore: 68.91\tTPR_GAP: 29.95\tFPR_GAP: 29.95\tPPR_GAP: 35.99\t\n",
            "2022-03-30 17:34:36 [INFO ]  Epoch:    6 [      0/   4544 ( 0%)]\tLoss: 0.5662\t Data Time: 0.00s\tTrain Time: 0.00s\n",
            "2022-03-30 17:34:36 [INFO ]  Epochs since last improvement: 4\n",
            "2022-03-30 17:34:36 [INFO ]  Evaluation at Epoch 6\n",
            "2022-03-30 17:34:36 [INFO ]  Validation accuracy: 64.75\tmacro_fscore: 64.62\tmicro_fscore: 64.75\tTPR_GAP: 35.02\tFPR_GAP: 35.02\tPPR_GAP: 37.66\t\n",
            "2022-03-30 17:34:36 [INFO ]  Test accuracy: 68.91\tmacro_fscore: 68.66\tmicro_fscore: 68.91\tTPR_GAP: 30.55\tFPR_GAP: 30.55\tPPR_GAP: 37.57\t\n",
            "2022-03-30 17:34:36 [INFO ]  Epoch:    7 [      0/   4544 ( 0%)]\tLoss: 0.6291\t Data Time: 0.00s\tTrain Time: 0.00s\n",
            "2022-03-30 17:34:37 [INFO ]  Epochs since last improvement: 5\n",
            "2022-03-30 17:34:37 [INFO ]  Evaluation at Epoch 7\n",
            "2022-03-30 17:34:37 [INFO ]  Validation accuracy: 65.15\tmacro_fscore: 65.13\tmicro_fscore: 65.15\tTPR_GAP: 33.15\tFPR_GAP: 33.15\tPPR_GAP: 36.60\t\n",
            "2022-03-30 17:34:37 [INFO ]  Test accuracy: 68.73\tmacro_fscore: 68.63\tmicro_fscore: 68.73\tTPR_GAP: 30.15\tFPR_GAP: 30.15\tPPR_GAP: 37.46\t\n"
          ]
        }
      ],
      "source": [
        "model.train_self(\n",
        "    train_generator = customized_training_generator,\n",
        "    dev_generator = customized_validation_generator,\n",
        "    test_generator = customized_test_generator,\n",
        ")"
      ]
    },
    {
      "cell_type": "code",
      "execution_count": 25,
      "metadata": {
        "colab": {
          "base_uri": "https://localhost:8080/"
        },
        "id": "xmqdlUG6UDT4",
        "outputId": "c59f8c73-cd84-44f3-db55-b0e098ae726c"
      },
      "outputs": [
        {
          "name": "stdout",
          "output_type": "stream",
          "text": [
            "2022-03-30 17:34:37 [INFO ]  Unexpected args: ['-f', '/root/.local/share/jupyter/runtime/kernel-b65d1ec1-5396-4205-ac02-0871ced0890b.json']\n",
            "2022-03-30 17:34:37 [INFO ]  Logging to ./results/dev/COMPAS/BT_Adv/output.log\n",
            "2022-03-30 17:34:37 [INFO ]  ======================================== 2022-03-30 17:34:37 ========================================\n",
            "2022-03-30 17:34:37 [INFO ]  Base directory is ./results/dev/COMPAS/BT_Adv\n",
            "Not implemented\n",
            "2022-03-30 17:34:37 [INFO ]  dataloaders need to be initialized!\n",
            "2022-03-30 17:34:37 [INFO ]  SubDiscriminator( \n",
            "2022-03-30 17:34:37 [INFO ]    (grad_rev): GradientReversal()\n",
            "2022-03-30 17:34:37 [INFO ]    (output_layer): Linear(in_features=300, out_features=3, bias=True)\n",
            "2022-03-30 17:34:37 [INFO ]    (AF): ReLU()\n",
            "2022-03-30 17:34:37 [INFO ]    (hidden_layers): ModuleList(\n",
            "2022-03-30 17:34:37 [INFO ]      (0): Linear(in_features=32, out_features=300, bias=True)\n",
            "2022-03-30 17:34:37 [INFO ]      (1): ReLU()\n",
            "2022-03-30 17:34:37 [INFO ]      (2): Linear(in_features=300, out_features=300, bias=True)\n",
            "2022-03-30 17:34:37 [INFO ]      (3): ReLU()\n",
            "2022-03-30 17:34:37 [INFO ]    )\n",
            "2022-03-30 17:34:37 [INFO ]    (criterion): CrossEntropyLoss()\n",
            "2022-03-30 17:34:37 [INFO ]  )\n",
            "2022-03-30 17:34:37 [INFO ]  Total number of parameters: 101103 \n",
            "\n",
            "2022-03-30 17:34:37 [INFO ]  Discriminator built!\n",
            "Loaded data shapes: (2001, 447), (2001,), (2001,)\n",
            "Loaded data shapes: (252, 447), (252,), (252,)\n",
            "Loaded data shapes: (939, 447), (939,), (939,)\n",
            "2022-03-30 17:34:37 [INFO ]  MLP( \n",
            "2022-03-30 17:34:37 [INFO ]    (output_layer): Linear(in_features=32, out_features=2, bias=True)\n",
            "2022-03-30 17:34:37 [INFO ]    (AF): ReLU()\n",
            "2022-03-30 17:34:37 [INFO ]    (hidden_layers): ModuleList(\n",
            "2022-03-30 17:34:37 [INFO ]      (0): Linear(in_features=447, out_features=32, bias=True)\n",
            "2022-03-30 17:34:37 [INFO ]      (1): ReLU()\n",
            "2022-03-30 17:34:37 [INFO ]    )\n",
            "2022-03-30 17:34:37 [INFO ]    (criterion): CrossEntropyLoss()\n",
            "2022-03-30 17:34:37 [INFO ]  )\n",
            "2022-03-30 17:34:37 [INFO ]  Total number of parameters: 14402 \n",
            "\n"
          ]
        }
      ],
      "source": [
        "debiasing_args = {\n",
        "    \"dataset\":Shared_options[\"dataset\"], \n",
        "    \"data_dir\":Shared_options[\"data_dir\"],\n",
        "    \"device_id\":Shared_options[\"device_id\"],\n",
        "\n",
        "    # Give a name to the exp, which will be used in the path\n",
        "    \"exp_id\":\"BT_Adv\",\n",
        "\n",
        "    \"emb_size\": 450-3,\n",
        "    \"lr\": 0.001,\n",
        "    \"batch_size\": 128,\n",
        "    \"hidden_size\": 32,\n",
        "    \"n_hidden\": 1,\n",
        "    \"activation_function\": \"ReLu\",\n",
        "\n",
        "    \"num_classes\": 2,\n",
        "    \"num_groups\": 3, # Balck; White; and Other\n",
        "\n",
        "    # Perform adversarial training if True\n",
        "    \"adv_debiasing\":True,\n",
        "\n",
        "    # Specify the hyperparameters for Balanced Training\n",
        "    \"BT\":\"Resampling\",\n",
        "    \"BTObj\":\"EO\",\n",
        "}\n",
        "\n",
        "# Init the argument\n",
        "debias_options = BaseOptions()\n",
        "debias_state = debias_options.get_state(args=debiasing_args, silence=True)\n",
        "\n",
        "customized_train_data = CustomizedDataset(args=debias_state, split=\"train\")\n",
        "customized_dev_data = CustomizedDataset(args=debias_state, split=\"dev\")\n",
        "customized_test_data = CustomizedDataset(args=debias_state, split=\"test\")\n",
        "\n",
        "# DataLoader Parameters\n",
        "tran_dataloader_params = {\n",
        "        'batch_size': state.batch_size,\n",
        "        'shuffle': True,\n",
        "        'num_workers': state.num_workers}\n",
        "\n",
        "eval_dataloader_params = {\n",
        "        'batch_size': state.test_batch_size,\n",
        "        'shuffle': False,\n",
        "        'num_workers': state.num_workers}\n",
        "\n",
        "# init dataloader\n",
        "customized_training_generator = torch.utils.data.DataLoader(customized_train_data, **tran_dataloader_params)\n",
        "customized_validation_generator = torch.utils.data.DataLoader(customized_dev_data, **eval_dataloader_params)\n",
        "customized_test_generator = torch.utils.data.DataLoader(customized_test_data, **eval_dataloader_params)\n",
        "\n",
        "debias_model = networks.classifier.MLP(debias_state)"
      ]
    },
    {
      "cell_type": "code",
      "execution_count": 26,
      "metadata": {
        "colab": {
          "base_uri": "https://localhost:8080/"
        },
        "id": "jLJQQzilUDT4",
        "outputId": "60c298c7-aaf8-4ae5-da8e-3a43a2bfd521"
      },
      "outputs": [
        {
          "name": "stdout",
          "output_type": "stream",
          "text": [
            "2022-03-30 17:34:37 [INFO ]  Epoch:    0 [      0/   2001 ( 0%)]\tLoss: -0.3920\t Data Time: 0.00s\tTrain Time: 0.02s\n",
            "2022-03-30 17:34:37 [INFO ]  Evaluation at Epoch 0\n",
            "2022-03-30 17:34:37 [INFO ]  Validation accuracy: 54.76\tmacro_fscore: 41.50\tmicro_fscore: 54.76\tTPR_GAP: 13.80\tFPR_GAP: 13.80\tPPR_GAP: 9.52\t\n",
            "2022-03-30 17:34:37 [INFO ]  Test accuracy: 66.03\tmacro_fscore: 45.30\tmicro_fscore: 66.03\tTPR_GAP: 6.59\tFPR_GAP: 6.59\tPPR_GAP: 4.26\t\n",
            "2022-03-30 17:34:37 [INFO ]  Epoch:    1 [      0/   2001 ( 0%)]\tLoss: -0.4177\t Data Time: 0.00s\tTrain Time: 0.01s\n",
            "2022-03-30 17:34:37 [INFO ]  Evaluation at Epoch 1\n",
            "2022-03-30 17:34:37 [INFO ]  Validation accuracy: 55.16\tmacro_fscore: 42.29\tmicro_fscore: 55.16\tTPR_GAP: 16.10\tFPR_GAP: 16.10\tPPR_GAP: 11.11\t\n",
            "2022-03-30 17:34:37 [INFO ]  Test accuracy: 66.45\tmacro_fscore: 46.44\tmicro_fscore: 66.45\tTPR_GAP: 8.66\tFPR_GAP: 8.66\tPPR_GAP: 4.69\t\n",
            "2022-03-30 17:34:37 [INFO ]  Epoch:    2 [      0/   2001 ( 0%)]\tLoss: -0.4317\t Data Time: 0.00s\tTrain Time: 0.01s\n",
            "2022-03-30 17:34:37 [INFO ]  Epochs since last improvement: 1\n",
            "2022-03-30 17:34:37 [INFO ]  Evaluation at Epoch 2\n",
            "2022-03-30 17:34:37 [INFO ]  Validation accuracy: 55.16\tmacro_fscore: 43.36\tmicro_fscore: 55.16\tTPR_GAP: 17.39\tFPR_GAP: 17.39\tPPR_GAP: 12.70\t\n",
            "2022-03-30 17:34:37 [INFO ]  Test accuracy: 66.99\tmacro_fscore: 48.25\tmicro_fscore: 66.99\tTPR_GAP: 13.42\tFPR_GAP: 13.42\tPPR_GAP: 7.24\t\n",
            "2022-03-30 17:34:37 [INFO ]  Epoch:    3 [      0/   2001 ( 0%)]\tLoss: -0.4397\t Data Time: 0.00s\tTrain Time: 0.01s\n",
            "2022-03-30 17:34:37 [INFO ]  Epochs since last improvement: 2\n",
            "2022-03-30 17:34:37 [INFO ]  Evaluation at Epoch 3\n",
            "2022-03-30 17:34:37 [INFO ]  Validation accuracy: 57.54\tmacro_fscore: 48.20\tmicro_fscore: 57.54\tTPR_GAP: 16.43\tFPR_GAP: 16.43\tPPR_GAP: 13.49\t\n",
            "2022-03-30 17:34:37 [INFO ]  Test accuracy: 68.80\tmacro_fscore: 53.88\tmicro_fscore: 68.80\tTPR_GAP: 22.51\tFPR_GAP: 22.51\tPPR_GAP: 11.50\t\n",
            "2022-03-30 17:34:37 [INFO ]  Epoch:    4 [      0/   2001 ( 0%)]\tLoss: -0.4569\t Data Time: 0.00s\tTrain Time: 0.01s\n",
            "2022-03-30 17:34:38 [INFO ]  Evaluation at Epoch 4\n",
            "2022-03-30 17:34:38 [INFO ]  Validation accuracy: 58.33\tmacro_fscore: 51.09\tmicro_fscore: 58.33\tTPR_GAP: 24.61\tFPR_GAP: 24.61\tPPR_GAP: 22.22\t\n",
            "2022-03-30 17:34:38 [INFO ]  Test accuracy: 69.65\tmacro_fscore: 57.23\tmicro_fscore: 69.65\tTPR_GAP: 24.01\tFPR_GAP: 24.01\tPPR_GAP: 13.84\t\n",
            "2022-03-30 17:34:38 [INFO ]  Epoch:    5 [      0/   2001 ( 0%)]\tLoss: -0.4447\t Data Time: 0.00s\tTrain Time: 0.01s\n",
            "2022-03-30 17:34:38 [INFO ]  Evaluation at Epoch 5\n",
            "2022-03-30 17:34:38 [INFO ]  Validation accuracy: 59.92\tmacro_fscore: 54.78\tmicro_fscore: 59.92\tTPR_GAP: 25.34\tFPR_GAP: 25.34\tPPR_GAP: 22.22\t\n",
            "2022-03-30 17:34:38 [INFO ]  Test accuracy: 70.50\tmacro_fscore: 60.53\tmicro_fscore: 70.50\tTPR_GAP: 25.32\tFPR_GAP: 25.32\tPPR_GAP: 15.55\t\n",
            "2022-03-30 17:34:38 [INFO ]  Epoch:    6 [      0/   2001 ( 0%)]\tLoss: -0.5188\t Data Time: 0.00s\tTrain Time: 0.01s\n",
            "2022-03-30 17:34:38 [INFO ]  Evaluation at Epoch 6\n",
            "2022-03-30 17:34:38 [INFO ]  Validation accuracy: 62.70\tmacro_fscore: 58.75\tmicro_fscore: 62.70\tTPR_GAP: 27.54\tFPR_GAP: 27.54\tPPR_GAP: 23.81\t\n",
            "2022-03-30 17:34:38 [INFO ]  Test accuracy: 69.97\tmacro_fscore: 61.37\tmicro_fscore: 69.97\tTPR_GAP: 27.16\tFPR_GAP: 27.16\tPPR_GAP: 18.96\t\n",
            "2022-03-30 17:34:38 [INFO ]  Epoch:    7 [      0/   2001 ( 0%)]\tLoss: -0.4372\t Data Time: 0.00s\tTrain Time: 0.01s\n",
            "2022-03-30 17:34:38 [INFO ]  Evaluation at Epoch 7\n",
            "2022-03-30 17:34:38 [INFO ]  Validation accuracy: 63.89\tmacro_fscore: 60.38\tmicro_fscore: 63.89\tTPR_GAP: 27.54\tFPR_GAP: 27.54\tPPR_GAP: 23.81\t\n",
            "2022-03-30 17:34:38 [INFO ]  Test accuracy: 70.82\tmacro_fscore: 63.30\tmicro_fscore: 70.82\tTPR_GAP: 32.00\tFPR_GAP: 32.00\tPPR_GAP: 22.15\t\n",
            "2022-03-30 17:34:38 [INFO ]  Epoch:    8 [      0/   2001 ( 0%)]\tLoss: -0.4266\t Data Time: 0.00s\tTrain Time: 0.01s\n",
            "2022-03-30 17:34:38 [INFO ]  Evaluation at Epoch 8\n",
            "2022-03-30 17:34:38 [INFO ]  Validation accuracy: 63.49\tmacro_fscore: 60.25\tmicro_fscore: 63.49\tTPR_GAP: 26.77\tFPR_GAP: 26.77\tPPR_GAP: 23.81\t\n",
            "2022-03-30 17:34:38 [INFO ]  Test accuracy: 70.39\tmacro_fscore: 63.12\tmicro_fscore: 70.39\tTPR_GAP: 29.90\tFPR_GAP: 29.90\tPPR_GAP: 21.09\t\n",
            "2022-03-30 17:34:38 [INFO ]  Epoch:    9 [      0/   2001 ( 0%)]\tLoss: -0.5160\t Data Time: 0.00s\tTrain Time: 0.01s\n",
            "2022-03-30 17:34:38 [INFO ]  Epochs since last improvement: 1\n",
            "2022-03-30 17:34:38 [INFO ]  Evaluation at Epoch 9\n",
            "2022-03-30 17:34:38 [INFO ]  Validation accuracy: 63.10\tmacro_fscore: 60.10\tmicro_fscore: 63.10\tTPR_GAP: 26.08\tFPR_GAP: 26.08\tPPR_GAP: 23.81\t\n",
            "2022-03-30 17:34:38 [INFO ]  Test accuracy: 70.50\tmacro_fscore: 63.47\tmicro_fscore: 70.50\tTPR_GAP: 28.71\tFPR_GAP: 28.71\tPPR_GAP: 20.66\t\n",
            "2022-03-30 17:34:38 [INFO ]  Epoch:   10 [      0/   2001 ( 0%)]\tLoss: -0.5313\t Data Time: 0.01s\tTrain Time: 0.03s\n",
            "2022-03-30 17:34:39 [INFO ]  Epochs since last improvement: 2\n",
            "2022-03-30 17:34:39 [INFO ]  Evaluation at Epoch 10\n",
            "2022-03-30 17:34:39 [INFO ]  Validation accuracy: 62.30\tmacro_fscore: 59.05\tmicro_fscore: 62.30\tTPR_GAP: 28.23\tFPR_GAP: 28.23\tPPR_GAP: 25.40\t\n",
            "2022-03-30 17:34:39 [INFO ]  Test accuracy: 70.93\tmacro_fscore: 63.74\tmicro_fscore: 70.93\tTPR_GAP: 28.90\tFPR_GAP: 28.90\tPPR_GAP: 20.02\t\n",
            "2022-03-30 17:34:39 [INFO ]  Epoch:   11 [      0/   2001 ( 0%)]\tLoss: -0.4756\t Data Time: 0.00s\tTrain Time: 0.01s\n",
            "2022-03-30 17:34:39 [INFO ]  Epochs since last improvement: 3\n",
            "2022-03-30 17:34:39 [INFO ]  Evaluation at Epoch 11\n",
            "2022-03-30 17:34:39 [INFO ]  Validation accuracy: 61.51\tmacro_fscore: 59.11\tmicro_fscore: 61.51\tTPR_GAP: 27.34\tFPR_GAP: 27.34\tPPR_GAP: 25.40\t\n",
            "2022-03-30 17:34:39 [INFO ]  Test accuracy: 70.93\tmacro_fscore: 64.48\tmicro_fscore: 70.93\tTPR_GAP: 27.48\tFPR_GAP: 27.48\tPPR_GAP: 18.74\t\n",
            "2022-03-30 17:34:39 [INFO ]  Epoch:   12 [      0/   2001 ( 0%)]\tLoss: -0.4721\t Data Time: 0.00s\tTrain Time: 0.01s\n",
            "2022-03-30 17:34:39 [INFO ]  Epochs since last improvement: 4\n",
            "2022-03-30 17:34:39 [INFO ]  Evaluation at Epoch 12\n",
            "2022-03-30 17:34:39 [INFO ]  Validation accuracy: 60.71\tmacro_fscore: 58.27\tmicro_fscore: 60.71\tTPR_GAP: 27.05\tFPR_GAP: 27.05\tPPR_GAP: 23.02\t\n",
            "2022-03-30 17:34:39 [INFO ]  Test accuracy: 70.82\tmacro_fscore: 64.23\tmicro_fscore: 70.82\tTPR_GAP: 26.02\tFPR_GAP: 26.02\tPPR_GAP: 18.74\t\n",
            "2022-03-30 17:34:39 [INFO ]  Epoch:   13 [      0/   2001 ( 0%)]\tLoss: -0.5096\t Data Time: 0.00s\tTrain Time: 0.01s\n",
            "2022-03-30 17:34:40 [INFO ]  Epochs since last improvement: 5\n",
            "2022-03-30 17:34:40 [INFO ]  Evaluation at Epoch 13\n",
            "2022-03-30 17:34:40 [INFO ]  Validation accuracy: 61.51\tmacro_fscore: 59.11\tmicro_fscore: 61.51\tTPR_GAP: 26.49\tFPR_GAP: 26.49\tPPR_GAP: 25.40\t\n",
            "2022-03-30 17:34:40 [INFO ]  Test accuracy: 70.50\tmacro_fscore: 63.64\tmicro_fscore: 70.50\tTPR_GAP: 27.75\tFPR_GAP: 27.75\tPPR_GAP: 19.81\t\n"
          ]
        }
      ],
      "source": [
        "debias_model.train_self(\n",
        "    train_generator = customized_training_generator,\n",
        "    dev_generator = customized_validation_generator,\n",
        "    test_generator = customized_test_generator,\n",
        ")"
      ]
    }
  ],
  "metadata": {
    "colab": {
      "collapsed_sections": [],
      "name": "COMPAS.ipynb",
      "provenance": []
    },
    "interpreter": {
      "hash": "086b6e2ac5931a4f7a51b812f0475290a145e7d51f3e22b53c52adf5c273fe30"
    },
    "kernelspec": {
      "display_name": "Python 3.7.12 ('py37')",
      "language": "python",
      "name": "python3"
    },
    "language_info": {
      "codemirror_mode": {
        "name": "ipython",
        "version": 3
      },
      "file_extension": ".py",
      "mimetype": "text/x-python",
      "name": "python",
      "nbconvert_exporter": "python",
      "pygments_lexer": "ipython3",
      "version": "3.7.12"
    },
    "orig_nbformat": 4
  },
  "nbformat": 4,
  "nbformat_minor": 0
}
