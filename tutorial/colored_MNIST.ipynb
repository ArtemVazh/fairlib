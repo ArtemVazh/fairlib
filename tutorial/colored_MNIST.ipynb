{
  "cells": [
    {
      "cell_type": "markdown",
      "source": [
        "# Customized models and datasets for CV\n",
        "\n",
        "In this tutorial we will:\n",
        "- Show how to add a model for image classification\n",
        "- Show how to add a dataloader with image preprocessing\n",
        "\n",
        "We will be using the colored MNIST dataset, please see the [origianl](https://colab.research.google.com/github/reiinakano/invariant-risk-minimization/blob/master/invariant_risk_minimization_colored_mnist.ipynb#scrollTo=knP-xNzavgAb&uniqifier=1) demo for more details.\n",
        "\n",
        "## Installation\n",
        "\n",
        "Again, the first step will be installing our libarary"
      ],
      "metadata": {
        "id": "N7UbxgytUFhn"
      }
    },
    {
      "cell_type": "code",
      "source": [
        "!wget --no-check-certificate 'https://docs.google.com/uc?export=download&id=1l3GmCm6UxbUh1QvMnfSrysdthFaFU-Eh' -O 'faircls-0.0.1-py3-none-any.whl'\n",
        "!pip install faircls-0.0.1-py3-none-any.whl"
      ],
      "metadata": {
        "colab": {
          "base_uri": "https://localhost:8080/"
        },
        "id": "u4z-4H6bU9Is",
        "outputId": "a219893e-c8fd-4b96-ba5e-2afe4eb58dcd"
      },
      "execution_count": 2,
      "outputs": [
        {
          "output_type": "stream",
          "name": "stdout",
          "text": [
            "--2022-03-27 17:11:27--  https://docs.google.com/uc?export=download&id=1l3GmCm6UxbUh1QvMnfSrysdthFaFU-Eh\n",
            "Resolving docs.google.com (docs.google.com)... 142.251.45.14, 2607:f8b0:4004:c09::64, 2607:f8b0:4004:c09::8a, ...\n",
            "Connecting to docs.google.com (docs.google.com)|142.251.45.14|:443... connected.\n",
            "HTTP request sent, awaiting response... 303 See Other\n",
            "Location: https://doc-0g-0k-docs.googleusercontent.com/docs/securesc/ha0ro937gcuc7l7deffksulhg5h7mbp1/8709hn2cmj2j5atf8t46d35hqdb5i056/1648401075000/17527887236587461918/*/1l3GmCm6UxbUh1QvMnfSrysdthFaFU-Eh?e=download [following]\n",
            "Warning: wildcards not supported in HTTP.\n",
            "--2022-03-27 17:11:28--  https://doc-0g-0k-docs.googleusercontent.com/docs/securesc/ha0ro937gcuc7l7deffksulhg5h7mbp1/8709hn2cmj2j5atf8t46d35hqdb5i056/1648401075000/17527887236587461918/*/1l3GmCm6UxbUh1QvMnfSrysdthFaFU-Eh?e=download\n",
            "Resolving doc-0g-0k-docs.googleusercontent.com (doc-0g-0k-docs.googleusercontent.com)... 172.253.115.132, 2607:f8b0:4004:c06::84\n",
            "Connecting to doc-0g-0k-docs.googleusercontent.com (doc-0g-0k-docs.googleusercontent.com)|172.253.115.132|:443... connected.\n",
            "HTTP request sent, awaiting response... 200 OK\n",
            "Length: 60019 (59K) [application/x-zip]\n",
            "Saving to: ‘faircls-0.0.1-py3-none-any.whl’\n",
            "\n",
            "faircls-0.0.1-py3-n 100%[===================>]  58.61K  --.-KB/s    in 0.01s   \n",
            "\n",
            "2022-03-27 17:11:28 (5.28 MB/s) - ‘faircls-0.0.1-py3-none-any.whl’ saved [60019/60019]\n",
            "\n",
            "Processing ./faircls-0.0.1-py3-none-any.whl\n",
            "Requirement already satisfied: seaborn in /usr/local/lib/python3.7/dist-packages (from faircls==0.0.1) (0.11.2)\n",
            "Requirement already satisfied: docopt in /usr/local/lib/python3.7/dist-packages (from faircls==0.0.1) (0.6.2)\n",
            "Requirement already satisfied: scikit-learn in /usr/local/lib/python3.7/dist-packages (from faircls==0.0.1) (1.0.2)\n",
            "Requirement already satisfied: pickle5 in /usr/local/lib/python3.7/dist-packages (from faircls==0.0.1) (0.0.12)\n",
            "Requirement already satisfied: numpy in /usr/local/lib/python3.7/dist-packages (from faircls==0.0.1) (1.21.5)\n",
            "Requirement already satisfied: pandas in /usr/local/lib/python3.7/dist-packages (from faircls==0.0.1) (1.3.5)\n",
            "Requirement already satisfied: PyYAML in /usr/local/lib/python3.7/dist-packages (from faircls==0.0.1) (6.0)\n",
            "Requirement already satisfied: tqdm in /usr/local/lib/python3.7/dist-packages (from faircls==0.0.1) (4.63.0)\n",
            "Requirement already satisfied: matplotlib in /usr/local/lib/python3.7/dist-packages (from faircls==0.0.1) (3.5.1)\n",
            "Requirement already satisfied: torch in /usr/local/lib/python3.7/dist-packages (from faircls==0.0.1) (1.10.0+cu111)\n",
            "Requirement already satisfied: transformers in /usr/local/lib/python3.7/dist-packages (from faircls==0.0.1) (4.17.0)\n",
            "Requirement already satisfied: fonttools>=4.22.0 in /usr/local/lib/python3.7/dist-packages (from matplotlib->faircls==0.0.1) (4.31.2)\n",
            "Requirement already satisfied: packaging>=20.0 in /usr/local/lib/python3.7/dist-packages (from matplotlib->faircls==0.0.1) (21.3)\n",
            "Requirement already satisfied: cycler>=0.10 in /usr/local/lib/python3.7/dist-packages (from matplotlib->faircls==0.0.1) (0.11.0)\n",
            "Requirement already satisfied: pyparsing>=2.2.1 in /usr/local/lib/python3.7/dist-packages (from matplotlib->faircls==0.0.1) (3.0.7)\n",
            "Requirement already satisfied: kiwisolver>=1.0.1 in /usr/local/lib/python3.7/dist-packages (from matplotlib->faircls==0.0.1) (1.4.0)\n",
            "Requirement already satisfied: python-dateutil>=2.7 in /usr/local/lib/python3.7/dist-packages (from matplotlib->faircls==0.0.1) (2.8.2)\n",
            "Requirement already satisfied: pillow>=6.2.0 in /usr/local/lib/python3.7/dist-packages (from matplotlib->faircls==0.0.1) (7.1.2)\n",
            "Requirement already satisfied: typing-extensions in /usr/local/lib/python3.7/dist-packages (from kiwisolver>=1.0.1->matplotlib->faircls==0.0.1) (3.10.0.2)\n",
            "Requirement already satisfied: six>=1.5 in /usr/local/lib/python3.7/dist-packages (from python-dateutil>=2.7->matplotlib->faircls==0.0.1) (1.15.0)\n",
            "Requirement already satisfied: pytz>=2017.3 in /usr/local/lib/python3.7/dist-packages (from pandas->faircls==0.0.1) (2018.9)\n",
            "Requirement already satisfied: joblib>=0.11 in /usr/local/lib/python3.7/dist-packages (from scikit-learn->faircls==0.0.1) (1.1.0)\n",
            "Requirement already satisfied: scipy>=1.1.0 in /usr/local/lib/python3.7/dist-packages (from scikit-learn->faircls==0.0.1) (1.4.1)\n",
            "Requirement already satisfied: threadpoolctl>=2.0.0 in /usr/local/lib/python3.7/dist-packages (from scikit-learn->faircls==0.0.1) (3.1.0)\n",
            "Requirement already satisfied: tokenizers!=0.11.3,>=0.11.1 in /usr/local/lib/python3.7/dist-packages (from transformers->faircls==0.0.1) (0.11.6)\n",
            "Requirement already satisfied: sacremoses in /usr/local/lib/python3.7/dist-packages (from transformers->faircls==0.0.1) (0.0.49)\n",
            "Requirement already satisfied: importlib-metadata in /usr/local/lib/python3.7/dist-packages (from transformers->faircls==0.0.1) (4.11.3)\n",
            "Requirement already satisfied: regex!=2019.12.17 in /usr/local/lib/python3.7/dist-packages (from transformers->faircls==0.0.1) (2019.12.20)\n",
            "Requirement already satisfied: requests in /usr/local/lib/python3.7/dist-packages (from transformers->faircls==0.0.1) (2.23.0)\n",
            "Requirement already satisfied: filelock in /usr/local/lib/python3.7/dist-packages (from transformers->faircls==0.0.1) (3.6.0)\n",
            "Requirement already satisfied: huggingface-hub<1.0,>=0.1.0 in /usr/local/lib/python3.7/dist-packages (from transformers->faircls==0.0.1) (0.4.0)\n",
            "Requirement already satisfied: zipp>=0.5 in /usr/local/lib/python3.7/dist-packages (from importlib-metadata->transformers->faircls==0.0.1) (3.7.0)\n",
            "Requirement already satisfied: urllib3!=1.25.0,!=1.25.1,<1.26,>=1.21.1 in /usr/local/lib/python3.7/dist-packages (from requests->transformers->faircls==0.0.1) (1.24.3)\n",
            "Requirement already satisfied: certifi>=2017.4.17 in /usr/local/lib/python3.7/dist-packages (from requests->transformers->faircls==0.0.1) (2021.10.8)\n",
            "Requirement already satisfied: idna<3,>=2.5 in /usr/local/lib/python3.7/dist-packages (from requests->transformers->faircls==0.0.1) (2.10)\n",
            "Requirement already satisfied: chardet<4,>=3.0.2 in /usr/local/lib/python3.7/dist-packages (from requests->transformers->faircls==0.0.1) (3.0.4)\n",
            "Requirement already satisfied: click in /usr/local/lib/python3.7/dist-packages (from sacremoses->transformers->faircls==0.0.1) (7.1.2)\n",
            "faircls is already installed with the same version as the provided wheel. Use --force-reinstall to force an installation of the wheel.\n"
          ]
        }
      ]
    },
    {
      "cell_type": "code",
      "source": [
        "import faircls"
      ],
      "metadata": {
        "id": "Xt6TeF2FVD0i"
      },
      "execution_count": 3,
      "outputs": []
    },
    {
      "cell_type": "code",
      "execution_count": 4,
      "metadata": {
        "id": "8RvXBTGJUDTt"
      },
      "outputs": [],
      "source": [
        "import os\n",
        "\n",
        "import numpy as np\n",
        "from PIL import Image\n",
        "\n",
        "import matplotlib.pyplot as plt\n",
        "\n",
        "import torch\n",
        "import torch.nn as nn\n",
        "import torch.nn.functional as F\n",
        "import torch.optim as optim\n",
        "from torch.autograd import grad\n",
        "from torchvision import transforms\n",
        "from torchvision import datasets\n",
        "import torchvision.datasets.utils as dataset_utils"
      ]
    },
    {
      "cell_type": "code",
      "execution_count": 5,
      "metadata": {
        "id": "YlHbWs8QUDTv"
      },
      "outputs": [],
      "source": [
        "def color_grayscale_arr(arr, red=True):\n",
        "    \"\"\"Converts grayscale image to either red or green\"\"\"\n",
        "    assert arr.ndim == 2\n",
        "    dtype = arr.dtype\n",
        "    h, w = arr.shape\n",
        "    arr = np.reshape(arr, [h, w, 1])\n",
        "    if red:\n",
        "        arr = np.concatenate([\n",
        "            arr,\n",
        "            np.zeros((h, w, 2), dtype=dtype)], axis=2)\n",
        "    else:\n",
        "        arr = np.concatenate([\n",
        "            np.zeros((h, w, 1), dtype=dtype),\n",
        "            arr,\n",
        "            np.zeros((h, w, 1), dtype=dtype)], axis=2)\n",
        "    return arr"
      ]
    },
    {
      "cell_type": "code",
      "execution_count": 6,
      "metadata": {
        "id": "BoPDWwu3UDTw"
      },
      "outputs": [],
      "source": [
        "root = \"./data\""
      ]
    },
    {
      "cell_type": "code",
      "execution_count": 7,
      "metadata": {
        "colab": {
          "base_uri": "https://localhost:8080/",
          "height": 423,
          "referenced_widgets": [
            "136d0bf20b334d639fdc96b6f699874f",
            "c05420400c2f454a9327407396c922ef",
            "be6b2f36cb6e4f70acc71e20e9773f63",
            "b65b9e71b3084d7f93d82d8df0b640df",
            "4cd3344d510d4709a8641add7a0b01c9",
            "a00708acf14e492da51e957220569d80",
            "fc394126105848608a692f339a6aaf2d",
            "94161c5c15714c7f935b5564d0a418d2",
            "a9596f1241424227a89d5ac6920d0eaf",
            "582293c884294cdda4ad2afa0e6a10da",
            "d335ca16a953422f8982fdc8160332f1",
            "c48af3038e6543c69f85c0a7a117a539",
            "15536c8e08e14ae9a1c4d1f6ec4bd71b",
            "90ea271e15ab42abb242aea59ca5a416",
            "d1ea4f4ba6e14f09ac1dd7409ed44869",
            "1941dda7cefb4e838fa24d7814dcaa03",
            "0e81c73aa0d04d4c9df00b157cc55173",
            "74aa9bd2813547faace05cef76409a2b",
            "679379b8811f4c63a005d9c25297e012",
            "fc8e1536dca7433ca867255def237307",
            "f36d99013e3f4d94885d5026eade3150",
            "6256ca22be4145d0bbb150b7b32a70aa",
            "72d52870d63e47eea8e0bba5f7c1dee8",
            "4ee1126951e648c7a21608f0e1f65915",
            "308d87db2bcc486789a4e81201974322",
            "0d55f9d178584eefb34be53a1f04ded8",
            "600187ecf5fa4dcc9b32518d89478180",
            "ecce194776714a56986024d077b164e2",
            "0ea19013ddbd4f5a9cee21b674479b18",
            "9fa732a577ba485ea45834aa8fdf7c0b",
            "11c05a3075254f3faabdcf96e1e8202f",
            "cd06cb4bc8c34c49942a2ce5437098da",
            "c82c565ee0af4e948ec94364d00e29eb",
            "d2eafb4b189e4a7f97fba5e3b2ca8fb1",
            "23c31a378fe146cc8df7f1545cba4296",
            "00ca65ec364c4015a3ff25c5293e91f6",
            "05b31d24812d4e78950fdde43af70350",
            "1962b28e20ad4622a81fef1ab9881fce",
            "d854f88673dc4f9184b47ee615df0fda",
            "675f674df9b64d07ab810537a3e23e5b",
            "f940413d23964a8facd1fd45bfa95614",
            "8f15cd8363354dde871b8253418f8b1a",
            "3dcecbd3a2d046b2827ded74c6ac10be",
            "c8236f7fbd8b47d9933f7e709a20aee8"
          ]
        },
        "id": "5xRQv3M4UDTw",
        "outputId": "acceccd4-bac0-4958-fae7-3c3a70b6a4b4"
      },
      "outputs": [
        {
          "output_type": "stream",
          "name": "stdout",
          "text": [
            "Downloading http://yann.lecun.com/exdb/mnist/train-images-idx3-ubyte.gz\n",
            "Downloading http://yann.lecun.com/exdb/mnist/train-images-idx3-ubyte.gz to ./data/MNIST/raw/train-images-idx3-ubyte.gz\n"
          ]
        },
        {
          "output_type": "display_data",
          "data": {
            "text/plain": [
              "  0%|          | 0/9912422 [00:00<?, ?it/s]"
            ],
            "application/vnd.jupyter.widget-view+json": {
              "version_major": 2,
              "version_minor": 0,
              "model_id": "136d0bf20b334d639fdc96b6f699874f"
            }
          },
          "metadata": {}
        },
        {
          "output_type": "stream",
          "name": "stdout",
          "text": [
            "Extracting ./data/MNIST/raw/train-images-idx3-ubyte.gz to ./data/MNIST/raw\n",
            "\n",
            "Downloading http://yann.lecun.com/exdb/mnist/train-labels-idx1-ubyte.gz\n",
            "Downloading http://yann.lecun.com/exdb/mnist/train-labels-idx1-ubyte.gz to ./data/MNIST/raw/train-labels-idx1-ubyte.gz\n"
          ]
        },
        {
          "output_type": "display_data",
          "data": {
            "text/plain": [
              "  0%|          | 0/28881 [00:00<?, ?it/s]"
            ],
            "application/vnd.jupyter.widget-view+json": {
              "version_major": 2,
              "version_minor": 0,
              "model_id": "c48af3038e6543c69f85c0a7a117a539"
            }
          },
          "metadata": {}
        },
        {
          "output_type": "stream",
          "name": "stdout",
          "text": [
            "Extracting ./data/MNIST/raw/train-labels-idx1-ubyte.gz to ./data/MNIST/raw\n",
            "\n",
            "Downloading http://yann.lecun.com/exdb/mnist/t10k-images-idx3-ubyte.gz\n",
            "Downloading http://yann.lecun.com/exdb/mnist/t10k-images-idx3-ubyte.gz to ./data/MNIST/raw/t10k-images-idx3-ubyte.gz\n"
          ]
        },
        {
          "output_type": "display_data",
          "data": {
            "text/plain": [
              "  0%|          | 0/1648877 [00:00<?, ?it/s]"
            ],
            "application/vnd.jupyter.widget-view+json": {
              "version_major": 2,
              "version_minor": 0,
              "model_id": "72d52870d63e47eea8e0bba5f7c1dee8"
            }
          },
          "metadata": {}
        },
        {
          "output_type": "stream",
          "name": "stdout",
          "text": [
            "Extracting ./data/MNIST/raw/t10k-images-idx3-ubyte.gz to ./data/MNIST/raw\n",
            "\n",
            "Downloading http://yann.lecun.com/exdb/mnist/t10k-labels-idx1-ubyte.gz\n",
            "Downloading http://yann.lecun.com/exdb/mnist/t10k-labels-idx1-ubyte.gz to ./data/MNIST/raw/t10k-labels-idx1-ubyte.gz\n"
          ]
        },
        {
          "output_type": "display_data",
          "data": {
            "text/plain": [
              "  0%|          | 0/4542 [00:00<?, ?it/s]"
            ],
            "application/vnd.jupyter.widget-view+json": {
              "version_major": 2,
              "version_minor": 0,
              "model_id": "d2eafb4b189e4a7f97fba5e3b2ca8fb1"
            }
          },
          "metadata": {}
        },
        {
          "output_type": "stream",
          "name": "stdout",
          "text": [
            "Extracting ./data/MNIST/raw/t10k-labels-idx1-ubyte.gz to ./data/MNIST/raw\n",
            "\n"
          ]
        }
      ],
      "source": [
        "train_mnist = datasets.mnist.MNIST(root=root, train=True, download=True)"
      ]
    },
    {
      "cell_type": "code",
      "execution_count": 8,
      "metadata": {
        "colab": {
          "base_uri": "https://localhost:8080/"
        },
        "id": "a7CJNTP9UDTx",
        "outputId": "f19bd99b-5c82-4f75-d1cb-80a64265ae11"
      },
      "outputs": [
        {
          "output_type": "execute_result",
          "data": {
            "text/plain": [
              "60000"
            ]
          },
          "metadata": {},
          "execution_count": 8
        }
      ],
      "source": [
        "len(train_mnist)"
      ]
    },
    {
      "cell_type": "code",
      "execution_count": 9,
      "metadata": {
        "colab": {
          "base_uri": "https://localhost:8080/",
          "height": 167
        },
        "id": "sSU49yJVUDTy",
        "outputId": "9c4e01db-52fd-47fd-baff-8fc00d1273e1"
      },
      "outputs": [
        {
          "output_type": "execute_result",
          "data": {
            "text/plain": [
              "<matplotlib.image.AxesImage at 0x7f60cc816910>"
            ]
          },
          "metadata": {},
          "execution_count": 9
        },
        {
          "output_type": "display_data",
          "data": {
            "text/plain": [
              "<Figure size 432x288 with 3 Axes>"
            ],
            "image/png": "[encoded data removed]"
          },
          "metadata": {
            "needs_background": "light"
          }
        }
      ],
      "source": [
        "fig, ax = plt.subplots(1,3)\n",
        "ax[0].imshow(train_mnist[0][0]) # Original\n",
        "ax[1].imshow(color_grayscale_arr(np.array(train_mnist[0][0]))) # Red\n",
        "ax[2].imshow(color_grayscale_arr(np.array(train_mnist[0][0]), False)) # Green"
      ]
    },
    {
      "cell_type": "code",
      "execution_count": 10,
      "metadata": {
        "id": "pO7gV0edUDTy"
      },
      "outputs": [],
      "source": [
        "test_mnist = datasets.mnist.MNIST(root=root, train=False, download=True)"
      ]
    },
    {
      "cell_type": "code",
      "execution_count": 12,
      "metadata": {
        "colab": {
          "base_uri": "https://localhost:8080/",
          "height": 167
        },
        "id": "IaIUq00PUDT0",
        "outputId": "4a228b86-f4dc-475b-ded4-f34495af2415"
      },
      "outputs": [
        {
          "output_type": "execute_result",
          "data": {
            "text/plain": [
              "<matplotlib.image.AxesImage at 0x7f60c93afb50>"
            ]
          },
          "metadata": {},
          "execution_count": 12
        },
        {
          "output_type": "display_data",
          "data": {
            "text/plain": [
              "<Figure size 432x288 with 3 Axes>"
            ],
            "image/png": "[encoded data removed]"
          },
          "metadata": {
            "needs_background": "light"
          }
        }
      ],
      "source": [
        "fig, ax = plt.subplots(1,3)\n",
        "ax[0].imshow(test_mnist[0][0]) # Original\n",
        "ax[1].imshow(color_grayscale_arr(np.array(test_mnist[0][0]))) # Red\n",
        "ax[2].imshow(color_grayscale_arr(np.array(test_mnist[0][0]), False)) # Green"
      ]
    },
    {
      "cell_type": "code",
      "execution_count": 13,
      "metadata": {
        "id": "DK4bTPeeUDT0"
      },
      "outputs": [],
      "source": [
        "def process_colored_MNIST(loaded_data, ratio=0.2):\n",
        "    im_list, target_class, protected_class = [], [], []\n",
        "    # Iterate over all images\n",
        "    for idx, (im, label) in enumerate(loaded_data):\n",
        "        if idx % 5000 == 0:\n",
        "            print(f'Converting image {idx}/{len(loaded_data)}')\n",
        "        im_array = np.array(im)\n",
        "\n",
        "        # Assign a binary label y to the image based on the digit\n",
        "        if label < 5:\n",
        "            red_prob = ratio\n",
        "        else:\n",
        "            red_prob = 1-ratio\n",
        "        \n",
        "        color_red = (np.random.uniform() < red_prob)\n",
        "\n",
        "        colored_array = color_grayscale_arr(im_array, red=color_red)\n",
        "\n",
        "        im_list.append(Image.fromarray(colored_array))\n",
        "        target_class.append(int(label))\n",
        "        protected_class.append(int(color_red))\n",
        "    \n",
        "    return (im_list, target_class, protected_class)\n"
      ]
    },
    {
      "cell_type": "code",
      "execution_count": 14,
      "metadata": {
        "id": "VgSlB9N2UDT1"
      },
      "outputs": [],
      "source": [
        "num_train = len(train_mnist)\n",
        "indices = list(range(num_train))\n",
        "np.random.shuffle(indices)\n",
        "train_idx, valid_idx = indices[10000:], indices[:10000]"
      ]
    },
    {
      "cell_type": "code",
      "execution_count": 15,
      "metadata": {
        "colab": {
          "base_uri": "https://localhost:8080/"
        },
        "id": "z2ZTo-0pUDT1",
        "outputId": "5a1138be-b370-48c0-e2e3-c853bc752645"
      },
      "outputs": [
        {
          "output_type": "stream",
          "name": "stdout",
          "text": [
            "Converting image 0/50000\n",
            "Converting image 5000/50000\n",
            "Converting image 10000/50000\n",
            "Converting image 15000/50000\n",
            "Converting image 20000/50000\n",
            "Converting image 25000/50000\n",
            "Converting image 30000/50000\n",
            "Converting image 35000/50000\n",
            "Converting image 40000/50000\n",
            "Converting image 45000/50000\n",
            "Converting image 0/10000\n",
            "Converting image 5000/10000\n",
            "Converting image 0/10000\n",
            "Converting image 5000/10000\n"
          ]
        }
      ],
      "source": [
        "colored_MNIST_train = process_colored_MNIST(torch.utils.data.Subset(train_mnist, train_idx), ratio = 0.8)\n",
        "colored_MNIST_dev = process_colored_MNIST(torch.utils.data.Subset(train_mnist, valid_idx), ratio = 0.5)\n",
        "colored_MNIST_test = process_colored_MNIST(test_mnist, ratio = 0.5)"
      ]
    },
    {
      "cell_type": "code",
      "execution_count": 16,
      "metadata": {
        "id": "P_HXQeWVUDT1"
      },
      "outputs": [],
      "source": [
        "torch.save(colored_MNIST_train, os.path.join(\"./data\", \"colored_MNIST_train.pt\"))\n",
        "torch.save(colored_MNIST_dev, os.path.join(\"./data\", \"colored_MNIST_dev.pt\"))\n",
        "torch.save(colored_MNIST_test, os.path.join(\"./data\", \"colored_MNIST_test.pt\"))"
      ]
    },
    {
      "cell_type": "code",
      "execution_count": 17,
      "metadata": {
        "id": "3qOYUt8eUDT2"
      },
      "outputs": [],
      "source": [
        "from faircls import networks, BaseOptions, dataloaders"
      ]
    },
    {
      "cell_type": "code",
      "execution_count": 21,
      "metadata": {
        "id": "WIQgZgVgUDT2"
      },
      "outputs": [],
      "source": [
        "Shared_options = {\n",
        "    # The name of the dataset, correponding dataloader will be used,\n",
        "    \"dataset\":  \"MNIST\",\n",
        "\n",
        "    # Specifiy the path to the input data\n",
        "    \"data_dir\": \"./data\",\n",
        "\n",
        "    # Device for computing, -1 is the cpu\n",
        "    \"device_id\": -1,\n",
        "\n",
        "    # The default path for saving experimental results\n",
        "    \"results_dir\":  r\"results\",\n",
        "\n",
        "    # The same as the dataset\n",
        "    \"project_dir\":  r\"dev\",\n",
        "\n",
        "    # We will focusing on TPR GAP, implying the Equalized Odds for binay classification.\n",
        "    \"GAP_metric_name\":  \"TPR_GAP\",\n",
        "\n",
        "    # The overall performance will be measured as accuracy\n",
        "    \"Performance_metric_name\":  \"accuracy\",\n",
        "\n",
        "    # Model selections are based on DTO\n",
        "    \"selection_criterion\":  \"DTO\",\n",
        "\n",
        "    # Default dirs for saving checkpoints\n",
        "    \"checkpoint_dir\":   \"models\",\n",
        "    \"checkpoint_name\":  \"checkpoint_epoch\",\n",
        "\n",
        "\n",
        "    \"n_jobs\":   1,\n",
        "}"
      ]
    },
    {
      "cell_type": "code",
      "execution_count": 22,
      "metadata": {
        "id": "k-ts_cMOUDT2"
      },
      "outputs": [],
      "source": [
        "class ConvNet(networks.utils.BaseModel):\n",
        "\n",
        "    def __init__(self, args):\n",
        "        super(ConvNet, self).__init__()\n",
        "        self.args = args\n",
        "        \n",
        "        self.conv1 = nn.Conv2d(3, 20, 5, 1)\n",
        "        self.conv2 = nn.Conv2d(20, 50, 5, 1)\n",
        "\n",
        "        self.classifier = networks.classifier.MLP(args)\n",
        "\n",
        "        self.init_for_training()\n",
        "\n",
        "    def forward(self, input_data, group_label = None):\n",
        "        x = input_data\n",
        "        x = F.relu(self.conv1(x))\n",
        "        x = F.max_pool2d(x, 2, 2)\n",
        "        x = F.relu(self.conv2(x))\n",
        "        x = F.max_pool2d(x, 2, 2)\n",
        "        x = x.view(-1, 4 * 4 * 50)\n",
        "\n",
        "        return self.classifier(x, group_label)\n",
        "    \n",
        "    def hidden(self, input_data, group_label = None):\n",
        "        x = input_data\n",
        "        x = F.relu(self.conv1(x))\n",
        "        x = F.max_pool2d(x, 2, 2)\n",
        "        x = F.relu(self.conv2(x))\n",
        "        x = F.max_pool2d(x, 2, 2)\n",
        "        x = x.view(-1, 4 * 4 * 50)\n",
        "\n",
        "        return self.classifier.hidden(x, group_label)"
      ]
    },
    {
      "cell_type": "code",
      "execution_count": 23,
      "metadata": {
        "colab": {
          "base_uri": "https://localhost:8080/"
        },
        "id": "-fAarStJUDT2",
        "outputId": "7ced2688-be4e-4286-c757-c7cbf805935e"
      },
      "outputs": [
        {
          "output_type": "stream",
          "name": "stdout",
          "text": [
            "2022-03-27 17:13:15 [INFO ]  Unexpected args: ['-f', '/root/.local/share/jupyter/runtime/kernel-d73bc65d-14e6-4184-8621-34702d085cf7.json']\n",
            "2022-03-27 17:13:15 [INFO ]  Logging to ./results/dev/MNIST/vanilla/output.log\n",
            "2022-03-27 17:13:15 [WARNING]  Log file already exists, will append\n",
            "2022-03-27 17:13:15 [INFO ]  ======================================== 2022-03-27 17:13:15 ========================================\n",
            "2022-03-27 17:13:15 [INFO ]  Base directory is ./results/dev/MNIST/vanilla\n",
            "2022-03-27 17:13:15 [WARNING]  ./results/dev/MNIST/vanilla/opt.yaml already exists, moved to ./results/dev/MNIST/vanilla/old_opts/opt_2022_03_27__17_12_51.yaml\n",
            "Not implemented\n",
            "2022-03-27 17:13:15 [INFO ]  dataloaders need to be initialized!\n"
          ]
        }
      ],
      "source": [
        "args = {\n",
        "    \"dataset\":Shared_options[\"dataset\"], \n",
        "    \"data_dir\":Shared_options[\"data_dir\"],\n",
        "    \"device_id\":Shared_options[\"device_id\"],\n",
        "\n",
        "    # Give a name to the exp, which will be used in the path\n",
        "    \"exp_id\":\"vanilla\",\n",
        "\n",
        "    \"emb_size\": 4*4*50,\n",
        "    \"num_classes\": 10,\n",
        "    \"num_groups\": 2,\n",
        "}\n",
        "\n",
        "# Init the argument\n",
        "options = BaseOptions()\n",
        "state = options.get_state(args=args, silence=True)"
      ]
    },
    {
      "cell_type": "code",
      "execution_count": 24,
      "metadata": {
        "id": "1L9WAC7jUDT3"
      },
      "outputs": [],
      "source": [
        "class CustomizedDataset(dataloaders.utils.BaseDataset):\n",
        "\n",
        "    transform=transforms.Compose([\n",
        "        transforms.ToTensor(),\n",
        "        transforms.Normalize((0.1307, 0.1307, 0.), (0.3081, 0.3081, 0.3081))])\n",
        "\n",
        "    def load_data(self):\n",
        "\n",
        "        self.data_dir = os.path.join(self.args.data_dir, \"colored_MNIST_{}.pt\".format(self.split))\n",
        "\n",
        "        data = torch.load(self.data_dir)\n",
        "\n",
        "        self.X = [self.transform(_img) for _img in data[0]]\n",
        "        self.y = data[1]\n",
        "        self.protected_label = data[2]"
      ]
    },
    {
      "cell_type": "code",
      "execution_count": 25,
      "metadata": {
        "colab": {
          "base_uri": "https://localhost:8080/"
        },
        "id": "xXc659mpUDT3",
        "outputId": "b12468c3-89ac-4a7d-a96f-893370ff6076"
      },
      "outputs": [
        {
          "output_type": "stream",
          "name": "stderr",
          "text": [
            "/usr/local/lib/python3.7/dist-packages/faircls/src/dataloaders/utils.py:163: VisibleDeprecationWarning: Creating an ndarray from ragged nested sequences (which is a list-or-tuple of lists-or-tuples-or ndarrays with different lengths or shapes) is deprecated. If you meant to do this, you must specify 'dtype=object' when creating the ndarray.\n",
            "  self.X = np.array(self.X)\n"
          ]
        },
        {
          "output_type": "stream",
          "name": "stdout",
          "text": [
            "Loaded data shapes: (50000,), (50000,), (50000,)\n",
            "Loaded data shapes: (10000,), (10000,), (10000,)\n",
            "Loaded data shapes: (10000,), (10000,), (10000,)\n"
          ]
        }
      ],
      "source": [
        "customized_train_data = CustomizedDataset(args=state, split=\"train\")\n",
        "customized_dev_data = CustomizedDataset(args=state, split=\"dev\")\n",
        "customized_test_data = CustomizedDataset(args=state, split=\"test\")\n",
        "\n",
        "# DataLoader Parameters\n",
        "tran_dataloader_params = {\n",
        "        'batch_size': state.batch_size,\n",
        "        'shuffle': True,\n",
        "        'num_workers': state.num_workers}\n",
        "\n",
        "eval_dataloader_params = {\n",
        "        'batch_size': state.test_batch_size,\n",
        "        'shuffle': False,\n",
        "        'num_workers': state.num_workers}\n",
        "\n",
        "# init dataloader\n",
        "customized_training_generator = torch.utils.data.DataLoader(customized_train_data, **tran_dataloader_params)\n",
        "customized_validation_generator = torch.utils.data.DataLoader(customized_dev_data, **eval_dataloader_params)\n",
        "customized_test_generator = torch.utils.data.DataLoader(customized_test_data, **eval_dataloader_params)"
      ]
    },
    {
      "cell_type": "code",
      "execution_count": 26,
      "metadata": {
        "colab": {
          "base_uri": "https://localhost:8080/"
        },
        "id": "SGfihIUqUDT3",
        "outputId": "b2c9570e-83d1-400f-9926-2ba681347006"
      },
      "outputs": [
        {
          "output_type": "stream",
          "name": "stdout",
          "text": [
            "2022-03-27 17:13:36 [INFO ]  MLP( \n",
            "2022-03-27 17:13:36 [INFO ]    (output_layer): Linear(in_features=300, out_features=10, bias=True)\n",
            "2022-03-27 17:13:36 [INFO ]    (AF): Tanh()\n",
            "2022-03-27 17:13:36 [INFO ]    (hidden_layers): ModuleList(\n",
            "2022-03-27 17:13:36 [INFO ]      (0): Linear(in_features=800, out_features=300, bias=True)\n",
            "2022-03-27 17:13:36 [INFO ]      (1): Tanh()\n",
            "2022-03-27 17:13:36 [INFO ]      (2): Linear(in_features=300, out_features=300, bias=True)\n",
            "2022-03-27 17:13:36 [INFO ]      (3): Tanh()\n",
            "2022-03-27 17:13:36 [INFO ]    )\n",
            "2022-03-27 17:13:36 [INFO ]    (criterion): CrossEntropyLoss()\n",
            "2022-03-27 17:13:36 [INFO ]  )\n",
            "2022-03-27 17:13:36 [INFO ]  Total number of parameters: 333610 \n",
            "\n",
            "2022-03-27 17:13:36 [INFO ]  ConvNet( \n",
            "2022-03-27 17:13:36 [INFO ]    (conv1): Conv2d(3, 20, kernel_size=(5, 5), stride=(1, 1))\n",
            "2022-03-27 17:13:36 [INFO ]    (conv2): Conv2d(20, 50, kernel_size=(5, 5), stride=(1, 1))\n",
            "2022-03-27 17:13:36 [INFO ]    (classifier): MLP(\n",
            "2022-03-27 17:13:36 [INFO ]      (output_layer): Linear(in_features=300, out_features=10, bias=True)\n",
            "2022-03-27 17:13:36 [INFO ]      (AF): Tanh()\n",
            "2022-03-27 17:13:36 [INFO ]      (hidden_layers): ModuleList(\n",
            "2022-03-27 17:13:36 [INFO ]        (0): Linear(in_features=800, out_features=300, bias=True)\n",
            "2022-03-27 17:13:36 [INFO ]        (1): Tanh()\n",
            "2022-03-27 17:13:36 [INFO ]        (2): Linear(in_features=300, out_features=300, bias=True)\n",
            "2022-03-27 17:13:36 [INFO ]        (3): Tanh()\n",
            "2022-03-27 17:13:36 [INFO ]      )\n",
            "2022-03-27 17:13:36 [INFO ]      (criterion): CrossEntropyLoss()\n",
            "2022-03-27 17:13:36 [INFO ]    )\n",
            "2022-03-27 17:13:36 [INFO ]    (criterion): CrossEntropyLoss()\n",
            "2022-03-27 17:13:36 [INFO ]  )\n",
            "2022-03-27 17:13:36 [INFO ]  Total number of parameters: 360180 \n",
            "\n"
          ]
        }
      ],
      "source": [
        "model = ConvNet(state)"
      ]
    },
    {
      "cell_type": "code",
      "execution_count": 27,
      "metadata": {
        "colab": {
          "base_uri": "https://localhost:8080/"
        },
        "id": "BzHN7paxUDT4",
        "outputId": "e5caebef-669c-4143-d0cb-0bba6fda0a97"
      },
      "outputs": [
        {
          "output_type": "stream",
          "name": "stdout",
          "text": [
            "2022-03-27 17:13:40 [INFO ]  Epoch:    0 [      0/  50000 ( 0%)]\tLoss: 2.3079\t Data Time: 0.03s\tTrain Time: 1.18s\n",
            "2022-03-27 17:14:17 [INFO ]  Evaluation at Epoch 0\n",
            "2022-03-27 17:14:17 [INFO ]  Validation accuracy: 95.68\tmacro_fscore: 95.67\tmicro_fscore: 95.68\tTPR_GAP: 3.71\tFPR_GAP: 0.50\tPPR_GAP: 0.74\t\n",
            "2022-03-27 17:14:17 [INFO ]  Test accuracy: 96.35\tmacro_fscore: 96.34\tmicro_fscore: 96.35\tTPR_GAP: 3.08\tFPR_GAP: 0.42\tPPR_GAP: 0.61\t\n",
            "2022-03-27 17:14:18 [INFO ]  Epoch:    1 [      0/  50000 ( 0%)]\tLoss: 0.0773\t Data Time: 0.01s\tTrain Time: 0.65s\n",
            "2022-03-27 17:14:55 [INFO ]  Evaluation at Epoch 1\n",
            "2022-03-27 17:14:55 [INFO ]  Validation accuracy: 97.07\tmacro_fscore: 97.05\tmicro_fscore: 97.07\tTPR_GAP: 2.80\tFPR_GAP: 0.39\tPPR_GAP: 0.60\t\n",
            "2022-03-27 17:14:55 [INFO ]  Test accuracy: 97.42\tmacro_fscore: 97.40\tmicro_fscore: 97.42\tTPR_GAP: 2.42\tFPR_GAP: 0.37\tPPR_GAP: 0.58\t\n",
            "2022-03-27 17:14:55 [INFO ]  Epoch:    2 [      0/  50000 ( 0%)]\tLoss: 0.0644\t Data Time: 0.01s\tTrain Time: 0.66s\n",
            "2022-03-27 17:15:32 [INFO ]  Evaluation at Epoch 2\n",
            "2022-03-27 17:15:32 [INFO ]  Validation accuracy: 98.01\tmacro_fscore: 98.00\tmicro_fscore: 98.01\tTPR_GAP: 2.05\tFPR_GAP: 0.19\tPPR_GAP: 0.61\t\n",
            "2022-03-27 17:15:32 [INFO ]  Test accuracy: 98.36\tmacro_fscore: 98.35\tmicro_fscore: 98.36\tTPR_GAP: 1.66\tFPR_GAP: 0.18\tPPR_GAP: 0.55\t\n",
            "2022-03-27 17:15:33 [INFO ]  Epoch:    3 [      0/  50000 ( 0%)]\tLoss: 0.0273\t Data Time: 0.01s\tTrain Time: 0.66s\n",
            "2022-03-27 17:16:07 [INFO ]  Epochs since last improvement: 1\n",
            "2022-03-27 17:16:10 [INFO ]  Evaluation at Epoch 3\n",
            "2022-03-27 17:16:10 [INFO ]  Validation accuracy: 97.82\tmacro_fscore: 97.82\tmicro_fscore: 97.82\tTPR_GAP: 2.58\tFPR_GAP: 0.31\tPPR_GAP: 0.60\t\n",
            "2022-03-27 17:16:10 [INFO ]  Test accuracy: 98.26\tmacro_fscore: 98.25\tmicro_fscore: 98.26\tTPR_GAP: 2.04\tFPR_GAP: 0.19\tPPR_GAP: 0.55\t\n",
            "2022-03-27 17:16:10 [INFO ]  Epoch:    4 [      0/  50000 ( 0%)]\tLoss: 0.0418\t Data Time: 0.01s\tTrain Time: 0.66s\n",
            "2022-03-27 17:16:48 [INFO ]  Evaluation at Epoch 4\n",
            "2022-03-27 17:16:48 [INFO ]  Validation accuracy: 98.44\tmacro_fscore: 98.44\tmicro_fscore: 98.44\tTPR_GAP: 1.43\tFPR_GAP: 0.16\tPPR_GAP: 0.56\t\n",
            "2022-03-27 17:16:48 [INFO ]  Test accuracy: 98.51\tmacro_fscore: 98.50\tmicro_fscore: 98.51\tTPR_GAP: 1.73\tFPR_GAP: 0.16\tPPR_GAP: 0.48\t\n",
            "2022-03-27 17:16:48 [INFO ]  Epoch:    5 [      0/  50000 ( 0%)]\tLoss: 0.0129\t Data Time: 0.01s\tTrain Time: 0.67s\n",
            "2022-03-27 17:17:23 [INFO ]  Epochs since last improvement: 1\n",
            "2022-03-27 17:17:25 [INFO ]  Evaluation at Epoch 5\n",
            "2022-03-27 17:17:25 [INFO ]  Validation accuracy: 98.28\tmacro_fscore: 98.27\tmicro_fscore: 98.28\tTPR_GAP: 2.04\tFPR_GAP: 0.16\tPPR_GAP: 0.59\t\n",
            "2022-03-27 17:17:25 [INFO ]  Test accuracy: 98.60\tmacro_fscore: 98.59\tmicro_fscore: 98.60\tTPR_GAP: 1.41\tFPR_GAP: 0.17\tPPR_GAP: 0.55\t\n",
            "2022-03-27 17:17:26 [INFO ]  Epoch:    6 [      0/  50000 ( 0%)]\tLoss: 0.0098\t Data Time: 0.01s\tTrain Time: 0.65s\n",
            "2022-03-27 17:18:03 [INFO ]  Evaluation at Epoch 6\n",
            "2022-03-27 17:18:03 [INFO ]  Validation accuracy: 98.64\tmacro_fscore: 98.63\tmicro_fscore: 98.64\tTPR_GAP: 1.45\tFPR_GAP: 0.16\tPPR_GAP: 0.63\t\n",
            "2022-03-27 17:18:03 [INFO ]  Test accuracy: 98.62\tmacro_fscore: 98.61\tmicro_fscore: 98.62\tTPR_GAP: 1.19\tFPR_GAP: 0.15\tPPR_GAP: 0.55\t\n",
            "2022-03-27 17:18:04 [INFO ]  Epoch:    7 [      0/  50000 ( 0%)]\tLoss: 0.0038\t Data Time: 0.01s\tTrain Time: 0.66s\n",
            "2022-03-27 17:18:38 [INFO ]  Epochs since last improvement: 1\n",
            "2022-03-27 17:18:41 [INFO ]  Evaluation at Epoch 7\n",
            "2022-03-27 17:18:41 [INFO ]  Validation accuracy: 98.53\tmacro_fscore: 98.52\tmicro_fscore: 98.53\tTPR_GAP: 2.15\tFPR_GAP: 0.18\tPPR_GAP: 0.61\t\n",
            "2022-03-27 17:18:41 [INFO ]  Test accuracy: 98.76\tmacro_fscore: 98.75\tmicro_fscore: 98.76\tTPR_GAP: 1.87\tFPR_GAP: 0.18\tPPR_GAP: 0.55\t\n",
            "2022-03-27 17:18:41 [INFO ]  Epoch:    8 [      0/  50000 ( 0%)]\tLoss: 0.0036\t Data Time: 0.01s\tTrain Time: 0.65s\n",
            "2022-03-27 17:19:15 [INFO ]  Epochs since last improvement: 2\n",
            "2022-03-27 17:19:18 [INFO ]  Evaluation at Epoch 8\n",
            "2022-03-27 17:19:18 [INFO ]  Validation accuracy: 98.08\tmacro_fscore: 98.08\tmicro_fscore: 98.08\tTPR_GAP: 1.33\tFPR_GAP: 0.18\tPPR_GAP: 0.54\t\n",
            "2022-03-27 17:19:18 [INFO ]  Test accuracy: 98.32\tmacro_fscore: 98.31\tmicro_fscore: 98.32\tTPR_GAP: 1.70\tFPR_GAP: 0.20\tPPR_GAP: 0.56\t\n",
            "2022-03-27 17:19:19 [INFO ]  Epoch:    9 [      0/  50000 ( 0%)]\tLoss: 0.0190\t Data Time: 0.01s\tTrain Time: 0.66s\n",
            "2022-03-27 17:19:53 [INFO ]  Epochs since last improvement: 3\n",
            "2022-03-27 17:19:56 [INFO ]  Evaluation at Epoch 9\n",
            "2022-03-27 17:19:56 [INFO ]  Validation accuracy: 98.50\tmacro_fscore: 98.50\tmicro_fscore: 98.50\tTPR_GAP: 1.42\tFPR_GAP: 0.17\tPPR_GAP: 0.59\t\n",
            "2022-03-27 17:19:56 [INFO ]  Test accuracy: 98.79\tmacro_fscore: 98.78\tmicro_fscore: 98.79\tTPR_GAP: 1.32\tFPR_GAP: 0.12\tPPR_GAP: 0.47\t\n",
            "2022-03-27 17:19:57 [INFO ]  Epoch:   10 [      0/  50000 ( 0%)]\tLoss: 0.0079\t Data Time: 0.01s\tTrain Time: 0.66s\n",
            "2022-03-27 17:20:33 [INFO ]  Evaluation at Epoch 10\n",
            "2022-03-27 17:20:33 [INFO ]  Validation accuracy: 98.71\tmacro_fscore: 98.70\tmicro_fscore: 98.71\tTPR_GAP: 1.11\tFPR_GAP: 0.13\tPPR_GAP: 0.64\t\n",
            "2022-03-27 17:20:33 [INFO ]  Test accuracy: 98.83\tmacro_fscore: 98.82\tmicro_fscore: 98.83\tTPR_GAP: 1.19\tFPR_GAP: 0.13\tPPR_GAP: 0.45\t\n",
            "2022-03-27 17:20:34 [INFO ]  Epoch:   11 [      0/  50000 ( 0%)]\tLoss: 0.0050\t Data Time: 0.01s\tTrain Time: 0.67s\n",
            "2022-03-27 17:21:08 [INFO ]  Epochs since last improvement: 1\n",
            "2022-03-27 17:21:11 [INFO ]  Evaluation at Epoch 11\n",
            "2022-03-27 17:21:11 [INFO ]  Validation accuracy: 98.65\tmacro_fscore: 98.65\tmicro_fscore: 98.65\tTPR_GAP: 1.39\tFPR_GAP: 0.15\tPPR_GAP: 0.65\t\n",
            "2022-03-27 17:21:11 [INFO ]  Test accuracy: 98.89\tmacro_fscore: 98.88\tmicro_fscore: 98.89\tTPR_GAP: 1.34\tFPR_GAP: 0.14\tPPR_GAP: 0.50\t\n",
            "2022-03-27 17:21:12 [INFO ]  Epoch:   12 [      0/  50000 ( 0%)]\tLoss: 0.0049\t Data Time: 0.01s\tTrain Time: 0.65s\n",
            "2022-03-27 17:21:47 [INFO ]  Epochs since last improvement: 2\n",
            "2022-03-27 17:21:50 [INFO ]  Evaluation at Epoch 12\n",
            "2022-03-27 17:21:50 [INFO ]  Validation accuracy: 98.68\tmacro_fscore: 98.67\tmicro_fscore: 98.68\tTPR_GAP: 1.46\tFPR_GAP: 0.15\tPPR_GAP: 0.63\t\n",
            "2022-03-27 17:21:50 [INFO ]  Test accuracy: 98.86\tmacro_fscore: 98.85\tmicro_fscore: 98.86\tTPR_GAP: 1.09\tFPR_GAP: 0.14\tPPR_GAP: 0.52\t\n",
            "2022-03-27 17:21:51 [INFO ]  Epoch:   13 [      0/  50000 ( 0%)]\tLoss: 0.0023\t Data Time: 0.01s\tTrain Time: 0.65s\n",
            "2022-03-27 17:22:28 [INFO ]  Evaluation at Epoch 13\n",
            "2022-03-27 17:22:28 [INFO ]  Validation accuracy: 98.93\tmacro_fscore: 98.93\tmicro_fscore: 98.93\tTPR_GAP: 0.98\tFPR_GAP: 0.11\tPPR_GAP: 0.58\t\n",
            "2022-03-27 17:22:28 [INFO ]  Test accuracy: 98.96\tmacro_fscore: 98.95\tmicro_fscore: 98.96\tTPR_GAP: 1.25\tFPR_GAP: 0.12\tPPR_GAP: 0.51\t\n",
            "2022-03-27 17:22:28 [INFO ]  Epoch:   14 [      0/  50000 ( 0%)]\tLoss: 0.0004\t Data Time: 0.01s\tTrain Time: 0.65s\n",
            "2022-03-27 17:23:03 [INFO ]  Epochs since last improvement: 1\n",
            "2022-03-27 17:23:05 [INFO ]  Evaluation at Epoch 14\n",
            "2022-03-27 17:23:05 [INFO ]  Validation accuracy: 98.80\tmacro_fscore: 98.80\tmicro_fscore: 98.80\tTPR_GAP: 1.36\tFPR_GAP: 0.09\tPPR_GAP: 0.56\t\n",
            "2022-03-27 17:23:05 [INFO ]  Test accuracy: 98.76\tmacro_fscore: 98.75\tmicro_fscore: 98.76\tTPR_GAP: 1.64\tFPR_GAP: 0.18\tPPR_GAP: 0.55\t\n",
            "2022-03-27 17:23:06 [INFO ]  Epoch:   15 [      0/  50000 ( 0%)]\tLoss: 0.0019\t Data Time: 0.01s\tTrain Time: 0.66s\n",
            "2022-03-27 17:23:40 [INFO ]  Epochs since last improvement: 2\n",
            "2022-03-27 17:23:43 [INFO ]  Evaluation at Epoch 15\n",
            "2022-03-27 17:23:43 [INFO ]  Validation accuracy: 98.68\tmacro_fscore: 98.67\tmicro_fscore: 98.68\tTPR_GAP: 1.35\tFPR_GAP: 0.15\tPPR_GAP: 0.62\t\n",
            "2022-03-27 17:23:43 [INFO ]  Test accuracy: 98.79\tmacro_fscore: 98.78\tmicro_fscore: 98.79\tTPR_GAP: 1.34\tFPR_GAP: 0.14\tPPR_GAP: 0.52\t\n",
            "2022-03-27 17:23:44 [INFO ]  Epoch:   16 [      0/  50000 ( 0%)]\tLoss: 0.0027\t Data Time: 0.01s\tTrain Time: 0.65s\n",
            "2022-03-27 17:24:18 [INFO ]  Epochs since last improvement: 3\n",
            "2022-03-27 17:24:21 [INFO ]  Evaluation at Epoch 16\n",
            "2022-03-27 17:24:21 [INFO ]  Validation accuracy: 98.65\tmacro_fscore: 98.64\tmicro_fscore: 98.65\tTPR_GAP: 1.41\tFPR_GAP: 0.16\tPPR_GAP: 0.55\t\n",
            "2022-03-27 17:24:21 [INFO ]  Test accuracy: 98.73\tmacro_fscore: 98.71\tmicro_fscore: 98.73\tTPR_GAP: 1.24\tFPR_GAP: 0.15\tPPR_GAP: 0.54\t\n",
            "2022-03-27 17:24:21 [INFO ]  Epoch:   17 [      0/  50000 ( 0%)]\tLoss: 0.0014\t Data Time: 0.01s\tTrain Time: 0.66s\n",
            "2022-03-27 17:24:56 [INFO ]  Epochs since last improvement: 4\n",
            "2022-03-27 17:24:58 [INFO ]  Evaluation at Epoch 17\n",
            "2022-03-27 17:24:58 [INFO ]  Validation accuracy: 98.56\tmacro_fscore: 98.56\tmicro_fscore: 98.56\tTPR_GAP: 1.64\tFPR_GAP: 0.13\tPPR_GAP: 0.54\t\n",
            "2022-03-27 17:24:58 [INFO ]  Test accuracy: 98.79\tmacro_fscore: 98.78\tmicro_fscore: 98.79\tTPR_GAP: 1.84\tFPR_GAP: 0.19\tPPR_GAP: 0.56\t\n",
            "2022-03-27 17:24:59 [INFO ]  Epoch:   18 [      0/  50000 ( 0%)]\tLoss: 0.0007\t Data Time: 0.01s\tTrain Time: 0.64s\n",
            "2022-03-27 17:25:33 [INFO ]  Epochs since last improvement: 5\n",
            "2022-03-27 17:25:36 [INFO ]  Evaluation at Epoch 18\n",
            "2022-03-27 17:25:36 [INFO ]  Validation accuracy: 98.78\tmacro_fscore: 98.77\tmicro_fscore: 98.78\tTPR_GAP: 1.50\tFPR_GAP: 0.12\tPPR_GAP: 0.60\t\n",
            "2022-03-27 17:25:36 [INFO ]  Test accuracy: 98.75\tmacro_fscore: 98.74\tmicro_fscore: 98.75\tTPR_GAP: 1.62\tFPR_GAP: 0.17\tPPR_GAP: 0.54\t\n"
          ]
        }
      ],
      "source": [
        "model.train_self(\n",
        "    train_generator = customized_training_generator,\n",
        "    dev_generator = customized_validation_generator,\n",
        "    test_generator = customized_test_generator,\n",
        ")"
      ]
    },
    {
      "cell_type": "code",
      "execution_count": null,
      "metadata": {
        "id": "xmqdlUG6UDT4",
        "outputId": "0131db18-c17d-4081-f663-a54775e4e7f0"
      },
      "outputs": [
        {
          "name": "stdout",
          "output_type": "stream",
          "text": [
            "2022-03-28 00:55:36 [INFO ]  Unexpected args: ['--ip=127.0.0.1', '--stdin=9003', '--control=9001', '--hb=9000', '--Session.signature_scheme=\"hmac-sha256\"', '--Session.key=b\"124a3f31-09e3-40f0-b9c8-29daa19eca85\"', '--shell=9002', '--transport=\"tcp\"', '--iopub=9004']\n",
            "2022-03-28 00:55:36 [INFO ]  Logging to ./results/dev\\MNIST\\BT_Adv\\output.log\n",
            "2022-03-28 00:55:36 [WARNING]  Log file already exists, will append\n",
            "2022-03-28 00:55:36 [INFO ]  ======================================== 2022-03-28 00:55:36 ========================================\n",
            "2022-03-28 00:55:36 [INFO ]  Base directory is ./results/dev\\MNIST\\BT_Adv\n",
            "2022-03-28 00:55:36 [WARNING]  ./results/dev\\MNIST\\BT_Adv\\opt.yaml already exists, moved to ./results/dev\\MNIST\\BT_Adv\\old_opts\\opt_2022_03_28__00_53_42.yaml\n",
            "Not implemented\n",
            "2022-03-28 00:55:36 [INFO ]  dataloaders need to be initialized!\n",
            "2022-03-28 00:55:36 [INFO ]  SubDiscriminator( \n",
            "2022-03-28 00:55:36 [INFO ]    (grad_rev): GradientReversal()\n",
            "2022-03-28 00:55:36 [INFO ]    (output_layer): Linear(in_features=300, out_features=2, bias=True)\n",
            "2022-03-28 00:55:36 [INFO ]    (AF): ReLU()\n",
            "2022-03-28 00:55:36 [INFO ]    (hidden_layers): ModuleList(\n",
            "2022-03-28 00:55:36 [INFO ]      (0): Linear(in_features=300, out_features=300, bias=True)\n",
            "2022-03-28 00:55:36 [INFO ]      (1): ReLU()\n",
            "2022-03-28 00:55:36 [INFO ]      (2): Linear(in_features=300, out_features=300, bias=True)\n",
            "2022-03-28 00:55:36 [INFO ]      (3): ReLU()\n",
            "2022-03-28 00:55:36 [INFO ]    )\n",
            "2022-03-28 00:55:36 [INFO ]    (criterion): CrossEntropyLoss()\n",
            "2022-03-28 00:55:36 [INFO ]  )\n",
            "2022-03-28 00:55:36 [INFO ]  Total number of parameters: 181202 \n",
            "\n",
            "2022-03-28 00:55:36 [INFO ]  Discriminator built!\n"
          ]
        },
        {
          "name": "stderr",
          "output_type": "stream",
          "text": [
            "C:\\Users\\emano\\.conda\\envs\\py37\\lib\\site-packages\\faircls\\src\\dataloaders\\utils.py:163: VisibleDeprecationWarning: Creating an ndarray from ragged nested sequences (which is a list-or-tuple of lists-or-tuples-or ndarrays with different lengths or shapes) is deprecated. If you meant to do this, you must specify 'dtype=object' when creating the ndarray.\n",
            "  self.X = np.array(self.X)\n",
            "C:\\Users\\emano\\.conda\\envs\\py37\\lib\\site-packages\\faircls\\src\\dataloaders\\utils.py:211: VisibleDeprecationWarning: Creating an ndarray from ragged nested sequences (which is a list-or-tuple of lists-or-tuples-or ndarrays with different lengths or shapes) is deprecated. If you meant to do this, you must specify 'dtype=object' when creating the ndarray.\n",
            "  self.X = np.array(X)\n"
          ]
        },
        {
          "name": "stdout",
          "output_type": "stream",
          "text": [
            "Loaded data shapes: (19982,), (19982,), (19982,)\n",
            "Loaded data shapes: (9778,), (9778,), (9778,)\n",
            "Loaded data shapes: (9820,), (9820,), (9820,)\n",
            "2022-03-28 00:55:46 [INFO ]  MLP( \n",
            "2022-03-28 00:55:46 [INFO ]    (output_layer): Linear(in_features=300, out_features=10, bias=True)\n",
            "2022-03-28 00:55:46 [INFO ]    (AF): Tanh()\n",
            "2022-03-28 00:55:46 [INFO ]    (hidden_layers): ModuleList(\n",
            "2022-03-28 00:55:46 [INFO ]      (0): Linear(in_features=800, out_features=300, bias=True)\n",
            "2022-03-28 00:55:46 [INFO ]      (1): Tanh()\n",
            "2022-03-28 00:55:46 [INFO ]      (2): Linear(in_features=300, out_features=300, bias=True)\n",
            "2022-03-28 00:55:46 [INFO ]      (3): Tanh()\n",
            "2022-03-28 00:55:46 [INFO ]    )\n",
            "2022-03-28 00:55:46 [INFO ]    (criterion): CrossEntropyLoss()\n",
            "2022-03-28 00:55:46 [INFO ]  )\n",
            "2022-03-28 00:55:46 [INFO ]  Total number of parameters: 333610 \n",
            "\n",
            "2022-03-28 00:55:46 [INFO ]  ConvNet( \n",
            "2022-03-28 00:55:46 [INFO ]    (conv1): Conv2d(3, 20, kernel_size=(5, 5), stride=(1, 1))\n",
            "2022-03-28 00:55:46 [INFO ]    (conv2): Conv2d(20, 50, kernel_size=(5, 5), stride=(1, 1))\n",
            "2022-03-28 00:55:46 [INFO ]    (classifier): MLP(\n",
            "2022-03-28 00:55:46 [INFO ]      (output_layer): Linear(in_features=300, out_features=10, bias=True)\n",
            "2022-03-28 00:55:46 [INFO ]      (AF): Tanh()\n",
            "2022-03-28 00:55:46 [INFO ]      (hidden_layers): ModuleList(\n",
            "2022-03-28 00:55:46 [INFO ]        (0): Linear(in_features=800, out_features=300, bias=True)\n",
            "2022-03-28 00:55:46 [INFO ]        (1): Tanh()\n",
            "2022-03-28 00:55:46 [INFO ]        (2): Linear(in_features=300, out_features=300, bias=True)\n",
            "2022-03-28 00:55:46 [INFO ]        (3): Tanh()\n",
            "2022-03-28 00:55:46 [INFO ]      )\n",
            "2022-03-28 00:55:46 [INFO ]      (criterion): CrossEntropyLoss()\n",
            "2022-03-28 00:55:46 [INFO ]    )\n",
            "2022-03-28 00:55:46 [INFO ]    (criterion): CrossEntropyLoss()\n",
            "2022-03-28 00:55:46 [INFO ]  )\n",
            "2022-03-28 00:55:46 [INFO ]  Total number of parameters: 360180 \n",
            "\n"
          ]
        }
      ],
      "source": [
        "debiasing_args = {\n",
        "    \"dataset\":Shared_options[\"dataset\"], \n",
        "    \"data_dir\":Shared_options[\"data_dir\"],\n",
        "    \"device_id\":Shared_options[\"device_id\"],\n",
        "\n",
        "    # Give a name to the exp, which will be used in the path\n",
        "    \"exp_id\":\"BT_Adv\",\n",
        "\n",
        "    \"emb_size\": 4*4*50,\n",
        "    \"num_classes\": 10,\n",
        "    \"num_groups\": 2,\n",
        "\n",
        "    # Perform adversarial training if True\n",
        "    \"adv_debiasing\":True,\n",
        "\n",
        "    # Specify the hyperparameters for Balanced Training\n",
        "    \"BT\":\"Resampling\",\n",
        "    \"BTObj\":\"EO\",\n",
        "}\n",
        "\n",
        "# Init the argument\n",
        "debias_options = BaseOptions()\n",
        "debias_state = debias_options.get_state(args=debiasing_args, silence=True)\n",
        "\n",
        "customized_train_data = CustomizedDataset(args=debias_state, split=\"train\")\n",
        "customized_dev_data = CustomizedDataset(args=debias_state, split=\"dev\")\n",
        "customized_test_data = CustomizedDataset(args=debias_state, split=\"test\")\n",
        "\n",
        "# DataLoader Parameters\n",
        "tran_dataloader_params = {\n",
        "        'batch_size': state.batch_size,\n",
        "        'shuffle': True,\n",
        "        'num_workers': state.num_workers}\n",
        "\n",
        "eval_dataloader_params = {\n",
        "        'batch_size': state.test_batch_size,\n",
        "        'shuffle': False,\n",
        "        'num_workers': state.num_workers}\n",
        "\n",
        "# init dataloader\n",
        "customized_training_generator = torch.utils.data.DataLoader(customized_train_data, **tran_dataloader_params)\n",
        "customized_validation_generator = torch.utils.data.DataLoader(customized_dev_data, **eval_dataloader_params)\n",
        "customized_test_generator = torch.utils.data.DataLoader(customized_test_data, **eval_dataloader_params)\n",
        "\n",
        "debias_model = ConvNet(debias_state)"
      ]
    },
    {
      "cell_type": "code",
      "execution_count": null,
      "metadata": {
        "id": "jLJQQzilUDT4",
        "outputId": "297e07e8-a182-492c-eb89-5242a7be3138"
      },
      "outputs": [
        {
          "name": "stdout",
          "output_type": "stream",
          "text": [
            "2022-03-28 00:55:50 [INFO ]  Epoch:    0 [      0/  19982 ( 0%)]\tLoss: 1.6375\t Data Time: 0.01s\tTrain Time: 0.01s\n",
            "2022-03-28 00:55:51 [INFO ]  Evaluation at Epoch 0\n",
            "2022-03-28 00:55:51 [INFO ]  Validation accuracy: 91.24\tmacro_fscore: 91.15\tmicro_fscore: 91.24\tTPR_GAP: 2.47\tFPR_GAP: 0.49\tPPR_GAP: 0.61\t\n",
            "2022-03-28 00:55:51 [INFO ]  Test accuracy: 92.41\tmacro_fscore: 92.33\tmicro_fscore: 92.41\tTPR_GAP: 2.02\tFPR_GAP: 0.36\tPPR_GAP: 0.50\t\n",
            "2022-03-28 00:55:51 [INFO ]  Epoch:    1 [      0/  19982 ( 0%)]\tLoss: -0.4421\t Data Time: 0.01s\tTrain Time: 0.01s\n",
            "2022-03-28 00:55:51 [INFO ]  Evaluation at Epoch 1\n",
            "2022-03-28 00:55:51 [INFO ]  Validation accuracy: 94.76\tmacro_fscore: 94.74\tmicro_fscore: 94.76\tTPR_GAP: 3.14\tFPR_GAP: 0.59\tPPR_GAP: 0.78\t\n",
            "2022-03-28 00:55:51 [INFO ]  Test accuracy: 95.63\tmacro_fscore: 95.59\tmicro_fscore: 95.63\tTPR_GAP: 3.12\tFPR_GAP: 0.50\tPPR_GAP: 0.69\t\n",
            "2022-03-28 00:55:51 [INFO ]  Epoch:    2 [      0/  19982 ( 0%)]\tLoss: -0.5295\t Data Time: 0.01s\tTrain Time: 0.01s\n",
            "2022-03-28 00:55:52 [INFO ]  Evaluation at Epoch 2\n",
            "2022-03-28 00:55:52 [INFO ]  Validation accuracy: 96.13\tmacro_fscore: 96.10\tmicro_fscore: 96.13\tTPR_GAP: 1.90\tFPR_GAP: 0.27\tPPR_GAP: 0.39\t\n",
            "2022-03-28 00:55:52 [INFO ]  Test accuracy: 96.43\tmacro_fscore: 96.38\tmicro_fscore: 96.43\tTPR_GAP: 2.08\tFPR_GAP: 0.16\tPPR_GAP: 0.30\t\n",
            "2022-03-28 00:55:52 [INFO ]  Epoch:    3 [      0/  19982 ( 0%)]\tLoss: -0.5799\t Data Time: 0.01s\tTrain Time: 0.01s\n",
            "2022-03-28 00:55:53 [INFO ]  Evaluation at Epoch 3\n",
            "2022-03-28 00:55:53 [INFO ]  Validation accuracy: 97.25\tmacro_fscore: 97.23\tmicro_fscore: 97.25\tTPR_GAP: 1.11\tFPR_GAP: 0.08\tPPR_GAP: 0.15\t\n",
            "2022-03-28 00:55:53 [INFO ]  Test accuracy: 97.72\tmacro_fscore: 97.70\tmicro_fscore: 97.72\tTPR_GAP: 0.80\tFPR_GAP: 0.12\tPPR_GAP: 0.11\t\n",
            "2022-03-28 00:55:53 [INFO ]  Epoch:    4 [      0/  19982 ( 0%)]\tLoss: -0.6197\t Data Time: 0.01s\tTrain Time: 0.01s\n",
            "2022-03-28 00:55:53 [INFO ]  Epochs since last improvement: 1\n",
            "2022-03-28 00:55:53 [INFO ]  Evaluation at Epoch 4\n",
            "2022-03-28 00:55:53 [INFO ]  Validation accuracy: 97.13\tmacro_fscore: 97.10\tmicro_fscore: 97.13\tTPR_GAP: 1.00\tFPR_GAP: 0.21\tPPR_GAP: 0.24\t\n",
            "2022-03-28 00:55:53 [INFO ]  Test accuracy: 97.54\tmacro_fscore: 97.52\tmicro_fscore: 97.54\tTPR_GAP: 1.15\tFPR_GAP: 0.24\tPPR_GAP: 0.29\t\n",
            "2022-03-28 00:55:53 [INFO ]  Epoch:    5 [      0/  19982 ( 0%)]\tLoss: -0.6282\t Data Time: 0.01s\tTrain Time: 0.01s\n",
            "2022-03-28 00:55:54 [INFO ]  Evaluation at Epoch 5\n",
            "2022-03-28 00:55:54 [INFO ]  Validation accuracy: 97.78\tmacro_fscore: 97.77\tmicro_fscore: 97.78\tTPR_GAP: 1.25\tFPR_GAP: 0.15\tPPR_GAP: 0.22\t\n",
            "2022-03-28 00:55:54 [INFO ]  Test accuracy: 97.91\tmacro_fscore: 97.90\tmicro_fscore: 97.91\tTPR_GAP: 1.12\tFPR_GAP: 0.12\tPPR_GAP: 0.19\t\n",
            "2022-03-28 00:55:54 [INFO ]  Epoch:    6 [      0/  19982 ( 0%)]\tLoss: -0.6456\t Data Time: 0.01s\tTrain Time: 0.01s\n",
            "2022-03-28 00:55:54 [INFO ]  Evaluation at Epoch 6\n",
            "2022-03-28 00:55:54 [INFO ]  Validation accuracy: 97.98\tmacro_fscore: 97.98\tmicro_fscore: 97.98\tTPR_GAP: 1.08\tFPR_GAP: 0.14\tPPR_GAP: 0.18\t\n",
            "2022-03-28 00:55:54 [INFO ]  Test accuracy: 97.99\tmacro_fscore: 97.98\tmicro_fscore: 97.99\tTPR_GAP: 0.93\tFPR_GAP: 0.22\tPPR_GAP: 0.25\t\n",
            "2022-03-28 00:55:54 [INFO ]  Epoch:    7 [      0/  19982 ( 0%)]\tLoss: -0.6710\t Data Time: 0.01s\tTrain Time: 0.01s\n",
            "2022-03-28 00:55:55 [INFO ]  Evaluation at Epoch 7\n",
            "2022-03-28 00:55:55 [INFO ]  Validation accuracy: 98.01\tmacro_fscore: 98.00\tmicro_fscore: 98.01\tTPR_GAP: 1.21\tFPR_GAP: 0.17\tPPR_GAP: 0.20\t\n",
            "2022-03-28 00:55:55 [INFO ]  Test accuracy: 98.25\tmacro_fscore: 98.24\tmicro_fscore: 98.25\tTPR_GAP: 1.07\tFPR_GAP: 0.13\tPPR_GAP: 0.22\t\n",
            "2022-03-28 00:55:55 [INFO ]  Epoch:    8 [      0/  19982 ( 0%)]\tLoss: -0.6697\t Data Time: 0.01s\tTrain Time: 0.01s\n",
            "2022-03-28 00:55:56 [INFO ]  Evaluation at Epoch 8\n",
            "2022-03-28 00:55:56 [INFO ]  Validation accuracy: 98.11\tmacro_fscore: 98.11\tmicro_fscore: 98.11\tTPR_GAP: 1.04\tFPR_GAP: 0.15\tPPR_GAP: 0.17\t\n",
            "2022-03-28 00:55:56 [INFO ]  Test accuracy: 98.22\tmacro_fscore: 98.21\tmicro_fscore: 98.22\tTPR_GAP: 1.33\tFPR_GAP: 0.11\tPPR_GAP: 0.22\t\n",
            "2022-03-28 00:55:56 [INFO ]  Epoch:    9 [      0/  19982 ( 0%)]\tLoss: -0.6724\t Data Time: 0.01s\tTrain Time: 0.01s\n",
            "2022-03-28 00:55:56 [INFO ]  Epochs since last improvement: 1\n",
            "2022-03-28 00:55:56 [INFO ]  Evaluation at Epoch 9\n",
            "2022-03-28 00:55:56 [INFO ]  Validation accuracy: 98.15\tmacro_fscore: 98.14\tmicro_fscore: 98.15\tTPR_GAP: 0.54\tFPR_GAP: 0.17\tPPR_GAP: 0.19\t\n",
            "2022-03-28 00:55:56 [INFO ]  Test accuracy: 98.28\tmacro_fscore: 98.28\tmicro_fscore: 98.28\tTPR_GAP: 0.81\tFPR_GAP: 0.10\tPPR_GAP: 0.16\t\n",
            "2022-03-28 00:55:56 [INFO ]  Epoch:   10 [      0/  19982 ( 0%)]\tLoss: -0.6679\t Data Time: 0.01s\tTrain Time: 0.01s\n",
            "2022-03-28 00:55:57 [INFO ]  Epochs since last improvement: 2\n",
            "2022-03-28 00:55:57 [INFO ]  Evaluation at Epoch 10\n",
            "2022-03-28 00:55:57 [INFO ]  Validation accuracy: 98.34\tmacro_fscore: 98.33\tmicro_fscore: 98.34\tTPR_GAP: 1.00\tFPR_GAP: 0.11\tPPR_GAP: 0.15\t\n",
            "2022-03-28 00:55:57 [INFO ]  Test accuracy: 98.43\tmacro_fscore: 98.42\tmicro_fscore: 98.43\tTPR_GAP: 0.87\tFPR_GAP: 0.12\tPPR_GAP: 0.16\t\n",
            "2022-03-28 00:55:57 [INFO ]  Epoch:   11 [      0/  19982 ( 0%)]\tLoss: -0.6821\t Data Time: 0.01s\tTrain Time: 0.01s\n",
            "2022-03-28 00:55:57 [INFO ]  Evaluation at Epoch 11\n",
            "2022-03-28 00:55:57 [INFO ]  Validation accuracy: 98.40\tmacro_fscore: 98.40\tmicro_fscore: 98.40\tTPR_GAP: 0.77\tFPR_GAP: 0.10\tPPR_GAP: 0.13\t\n",
            "2022-03-28 00:55:57 [INFO ]  Test accuracy: 98.60\tmacro_fscore: 98.60\tmicro_fscore: 98.60\tTPR_GAP: 1.12\tFPR_GAP: 0.08\tPPR_GAP: 0.14\t\n",
            "2022-03-28 00:55:57 [INFO ]  Epoch:   12 [      0/  19982 ( 0%)]\tLoss: -0.6867\t Data Time: 0.01s\tTrain Time: 0.01s\n",
            "2022-03-28 00:55:58 [INFO ]  Epochs since last improvement: 1\n",
            "2022-03-28 00:55:58 [INFO ]  Evaluation at Epoch 12\n",
            "2022-03-28 00:55:58 [INFO ]  Validation accuracy: 98.32\tmacro_fscore: 98.32\tmicro_fscore: 98.32\tTPR_GAP: 1.11\tFPR_GAP: 0.12\tPPR_GAP: 0.16\t\n",
            "2022-03-28 00:55:58 [INFO ]  Test accuracy: 98.63\tmacro_fscore: 98.62\tmicro_fscore: 98.63\tTPR_GAP: 0.49\tFPR_GAP: 0.10\tPPR_GAP: 0.12\t\n",
            "2022-03-28 00:55:58 [INFO ]  Epoch:   13 [      0/  19982 ( 0%)]\tLoss: -0.6910\t Data Time: 0.01s\tTrain Time: 0.01s\n",
            "2022-03-28 00:55:58 [INFO ]  Epochs since last improvement: 2\n",
            "2022-03-28 00:55:59 [INFO ]  Evaluation at Epoch 13\n",
            "2022-03-28 00:55:59 [INFO ]  Validation accuracy: 98.20\tmacro_fscore: 98.21\tmicro_fscore: 98.20\tTPR_GAP: 0.77\tFPR_GAP: 0.09\tPPR_GAP: 0.12\t\n",
            "2022-03-28 00:55:59 [INFO ]  Test accuracy: 98.54\tmacro_fscore: 98.54\tmicro_fscore: 98.54\tTPR_GAP: 0.58\tFPR_GAP: 0.09\tPPR_GAP: 0.12\t\n",
            "2022-03-28 00:55:59 [INFO ]  Epoch:   14 [      0/  19982 ( 0%)]\tLoss: -0.6856\t Data Time: 0.01s\tTrain Time: 0.01s\n",
            "2022-03-28 00:55:59 [INFO ]  Epochs since last improvement: 3\n",
            "2022-03-28 00:55:59 [INFO ]  Evaluation at Epoch 14\n",
            "2022-03-28 00:55:59 [INFO ]  Validation accuracy: 98.57\tmacro_fscore: 98.56\tmicro_fscore: 98.57\tTPR_GAP: 0.95\tFPR_GAP: 0.12\tPPR_GAP: 0.14\t\n",
            "2022-03-28 00:55:59 [INFO ]  Test accuracy: 98.73\tmacro_fscore: 98.72\tmicro_fscore: 98.73\tTPR_GAP: 0.50\tFPR_GAP: 0.08\tPPR_GAP: 0.10\t\n",
            "2022-03-28 00:55:59 [INFO ]  Epoch:   15 [      0/  19982 ( 0%)]\tLoss: -0.6915\t Data Time: 0.01s\tTrain Time: 0.01s\n",
            "2022-03-28 00:56:00 [INFO ]  Epochs since last improvement: 4\n",
            "2022-03-28 00:56:00 [INFO ]  Evaluation at Epoch 15\n",
            "2022-03-28 00:56:00 [INFO ]  Validation accuracy: 98.41\tmacro_fscore: 98.41\tmicro_fscore: 98.41\tTPR_GAP: 1.17\tFPR_GAP: 0.11\tPPR_GAP: 0.15\t\n",
            "2022-03-28 00:56:00 [INFO ]  Test accuracy: 98.77\tmacro_fscore: 98.76\tmicro_fscore: 98.77\tTPR_GAP: 0.61\tFPR_GAP: 0.09\tPPR_GAP: 0.11\t\n",
            "2022-03-28 00:56:00 [INFO ]  Epoch:   16 [      0/  19982 ( 0%)]\tLoss: -0.6924\t Data Time: 0.01s\tTrain Time: 0.01s\n",
            "2022-03-28 00:56:00 [INFO ]  Epochs since last improvement: 5\n",
            "2022-03-28 00:56:00 [INFO ]  Evaluation at Epoch 16\n",
            "2022-03-28 00:56:00 [INFO ]  Validation accuracy: 98.52\tmacro_fscore: 98.51\tmicro_fscore: 98.52\tTPR_GAP: 1.04\tFPR_GAP: 0.10\tPPR_GAP: 0.13\t\n",
            "2022-03-28 00:56:00 [INFO ]  Test accuracy: 98.80\tmacro_fscore: 98.79\tmicro_fscore: 98.80\tTPR_GAP: 0.56\tFPR_GAP: 0.09\tPPR_GAP: 0.10\t\n"
          ]
        }
      ],
      "source": [
        "debias_model.train_self(\n",
        "    train_generator = customized_training_generator,\n",
        "    dev_generator = customized_validation_generator,\n",
        "    test_generator = customized_test_generator,\n",
        ")"
      ]
    },
    {
      "cell_type": "code",
      "execution_count": null,
      "metadata": {
        "id": "ml19ZVl9UDT4"
      },
      "outputs": [],
      "source": [
        ""
      ]
    }
  ],
  "metadata": {
    "interpreter": {
      "hash": "086b6e2ac5931a4f7a51b812f0475290a145e7d51f3e22b53c52adf5c273fe30"
    },
    "kernelspec": {
      "display_name": "Python 3.7.12 ('py37')",
      "language": "python",
      "name": "python3"
    },
    "language_info": {
      "codemirror_mode": {
        "name": "ipython",
        "version": 3
      },
      "file_extension": ".py",
      "mimetype": "text/x-python",
      "name": "python",
      "nbconvert_exporter": "python",
      "pygments_lexer": "ipython3",
      "version": "3.7.12"
    },
    "orig_nbformat": 4,
    "colab": {
      "name": "colored_MNIST.ipynb",
      "provenance": [],
      "collapsed_sections": []
    },
    "widgets": {
      "application/vnd.jupyter.widget-state+json": {
        "136d0bf20b334d639fdc96b6f699874f": {
          "model_module": "@jupyter-widgets/controls",
          "model_name": "HBoxModel",
          "model_module_version": "1.5.0",
          "state": {
            "_dom_classes": [],
            "_model_module": "@jupyter-widgets/controls",
            "_model_module_version": "1.5.0",
            "_model_name": "HBoxModel",
            "_view_count": null,
            "_view_module": "@jupyter-widgets/controls",
            "_view_module_version": "1.5.0",
            "_view_name": "HBoxView",
            "box_style": "",
            "children": [
              "IPY_MODEL_c05420400c2f454a9327407396c922ef",
              "IPY_MODEL_be6b2f36cb6e4f70acc71e20e9773f63",
              "IPY_MODEL_b65b9e71b3084d7f93d82d8df0b640df"
            ],
            "layout": "IPY_MODEL_4cd3344d510d4709a8641add7a0b01c9"
          }
        },
        "c05420400c2f454a9327407396c922ef": {
          "model_module": "@jupyter-widgets/controls",
          "model_name": "HTMLModel",
          "model_module_version": "1.5.0",
          "state": {
            "_dom_classes": [],
            "_model_module": "@jupyter-widgets/controls",
            "_model_module_version": "1.5.0",
            "_model_name": "HTMLModel",
            "_view_count": null,
            "_view_module": "@jupyter-widgets/controls",
            "_view_module_version": "1.5.0",
            "_view_name": "HTMLView",
            "description": "",
            "description_tooltip": null,
            "layout": "IPY_MODEL_a00708acf14e492da51e957220569d80",
            "placeholder": "​",
            "style": "IPY_MODEL_fc394126105848608a692f339a6aaf2d",
            "value": ""
          }
        },
        "be6b2f36cb6e4f70acc71e20e9773f63": {
          "model_module": "@jupyter-widgets/controls",
          "model_name": "FloatProgressModel",
          "model_module_version": "1.5.0",
          "state": {
            "_dom_classes": [],
            "_model_module": "@jupyter-widgets/controls",
            "_model_module_version": "1.5.0",
            "_model_name": "FloatProgressModel",
            "_view_count": null,
            "_view_module": "@jupyter-widgets/controls",
            "_view_module_version": "1.5.0",
            "_view_name": "ProgressView",
            "bar_style": "success",
            "description": "",
            "description_tooltip": null,
            "layout": "IPY_MODEL_94161c5c15714c7f935b5564d0a418d2",
            "max": 9912422,
            "min": 0,
            "orientation": "horizontal",
            "style": "IPY_MODEL_a9596f1241424227a89d5ac6920d0eaf",
            "value": 9912422
          }
        },
        "b65b9e71b3084d7f93d82d8df0b640df": {
          "model_module": "@jupyter-widgets/controls",
          "model_name": "HTMLModel",
          "model_module_version": "1.5.0",
          "state": {
            "_dom_classes": [],
            "_model_module": "@jupyter-widgets/controls",
            "_model_module_version": "1.5.0",
            "_model_name": "HTMLModel",
            "_view_count": null,
            "_view_module": "@jupyter-widgets/controls",
            "_view_module_version": "1.5.0",
            "_view_name": "HTMLView",
            "description": "",
            "description_tooltip": null,
            "layout": "IPY_MODEL_582293c884294cdda4ad2afa0e6a10da",
            "placeholder": "​",
            "style": "IPY_MODEL_d335ca16a953422f8982fdc8160332f1",
            "value": " 9913344/? [00:00&lt;00:00, 40441185.98it/s]"
          }
        },
        "4cd3344d510d4709a8641add7a0b01c9": {
          "model_module": "@jupyter-widgets/base",
          "model_name": "LayoutModel",
          "model_module_version": "1.2.0",
          "state": {
            "_model_module": "@jupyter-widgets/base",
            "_model_module_version": "1.2.0",
            "_model_name": "LayoutModel",
            "_view_count": null,
            "_view_module": "@jupyter-widgets/base",
            "_view_module_version": "1.2.0",
            "_view_name": "LayoutView",
            "align_content": null,
            "align_items": null,
            "align_self": null,
            "border": null,
            "bottom": null,
            "display": null,
            "flex": null,
            "flex_flow": null,
            "grid_area": null,
            "grid_auto_columns": null,
            "grid_auto_flow": null,
            "grid_auto_rows": null,
            "grid_column": null,
            "grid_gap": null,
            "grid_row": null,
            "grid_template_areas": null,
            "grid_template_columns": null,
            "grid_template_rows": null,
            "height": null,
            "justify_content": null,
            "justify_items": null,
            "left": null,
            "margin": null,
            "max_height": null,
            "max_width": null,
            "min_height": null,
            "min_width": null,
            "object_fit": null,
            "object_position": null,
            "order": null,
            "overflow": null,
            "overflow_x": null,
            "overflow_y": null,
            "padding": null,
            "right": null,
            "top": null,
            "visibility": null,
            "width": null
          }
        },
        "a00708acf14e492da51e957220569d80": {
          "model_module": "@jupyter-widgets/base",
          "model_name": "LayoutModel",
          "model_module_version": "1.2.0",
          "state": {
            "_model_module": "@jupyter-widgets/base",
            "_model_module_version": "1.2.0",
            "_model_name": "LayoutModel",
            "_view_count": null,
            "_view_module": "@jupyter-widgets/base",
            "_view_module_version": "1.2.0",
            "_view_name": "LayoutView",
            "align_content": null,
            "align_items": null,
            "align_self": null,
            "border": null,
            "bottom": null,
            "display": null,
            "flex": null,
            "flex_flow": null,
            "grid_area": null,
            "grid_auto_columns": null,
            "grid_auto_flow": null,
            "grid_auto_rows": null,
            "grid_column": null,
            "grid_gap": null,
            "grid_row": null,
            "grid_template_areas": null,
            "grid_template_columns": null,
            "grid_template_rows": null,
            "height": null,
            "justify_content": null,
            "justify_items": null,
            "left": null,
            "margin": null,
            "max_height": null,
            "max_width": null,
            "min_height": null,
            "min_width": null,
            "object_fit": null,
            "object_position": null,
            "order": null,
            "overflow": null,
            "overflow_x": null,
            "overflow_y": null,
            "padding": null,
            "right": null,
            "top": null,
            "visibility": null,
            "width": null
          }
        },
        "fc394126105848608a692f339a6aaf2d": {
          "model_module": "@jupyter-widgets/controls",
          "model_name": "DescriptionStyleModel",
          "model_module_version": "1.5.0",
          "state": {
            "_model_module": "@jupyter-widgets/controls",
            "_model_module_version": "1.5.0",
            "_model_name": "DescriptionStyleModel",
            "_view_count": null,
            "_view_module": "@jupyter-widgets/base",
            "_view_module_version": "1.2.0",
            "_view_name": "StyleView",
            "description_width": ""
          }
        },
        "94161c5c15714c7f935b5564d0a418d2": {
          "model_module": "@jupyter-widgets/base",
          "model_name": "LayoutModel",
          "model_module_version": "1.2.0",
          "state": {
            "_model_module": "@jupyter-widgets/base",
            "_model_module_version": "1.2.0",
            "_model_name": "LayoutModel",
            "_view_count": null,
            "_view_module": "@jupyter-widgets/base",
            "_view_module_version": "1.2.0",
            "_view_name": "LayoutView",
            "align_content": null,
            "align_items": null,
            "align_self": null,
            "border": null,
            "bottom": null,
            "display": null,
            "flex": null,
            "flex_flow": null,
            "grid_area": null,
            "grid_auto_columns": null,
            "grid_auto_flow": null,
            "grid_auto_rows": null,
            "grid_column": null,
            "grid_gap": null,
            "grid_row": null,
            "grid_template_areas": null,
            "grid_template_columns": null,
            "grid_template_rows": null,
            "height": null,
            "justify_content": null,
            "justify_items": null,
            "left": null,
            "margin": null,
            "max_height": null,
            "max_width": null,
            "min_height": null,
            "min_width": null,
            "object_fit": null,
            "object_position": null,
            "order": null,
            "overflow": null,
            "overflow_x": null,
            "overflow_y": null,
            "padding": null,
            "right": null,
            "top": null,
            "visibility": null,
            "width": null
          }
        },
        "a9596f1241424227a89d5ac6920d0eaf": {
          "model_module": "@jupyter-widgets/controls",
          "model_name": "ProgressStyleModel",
          "model_module_version": "1.5.0",
          "state": {
            "_model_module": "@jupyter-widgets/controls",
            "_model_module_version": "1.5.0",
            "_model_name": "ProgressStyleModel",
            "_view_count": null,
            "_view_module": "@jupyter-widgets/base",
            "_view_module_version": "1.2.0",
            "_view_name": "StyleView",
            "bar_color": null,
            "description_width": ""
          }
        },
        "582293c884294cdda4ad2afa0e6a10da": {
          "model_module": "@jupyter-widgets/base",
          "model_name": "LayoutModel",
          "model_module_version": "1.2.0",
          "state": {
            "_model_module": "@jupyter-widgets/base",
            "_model_module_version": "1.2.0",
            "_model_name": "LayoutModel",
            "_view_count": null,
            "_view_module": "@jupyter-widgets/base",
            "_view_module_version": "1.2.0",
            "_view_name": "LayoutView",
            "align_content": null,
            "align_items": null,
            "align_self": null,
            "border": null,
            "bottom": null,
            "display": null,
            "flex": null,
            "flex_flow": null,
            "grid_area": null,
            "grid_auto_columns": null,
            "grid_auto_flow": null,
            "grid_auto_rows": null,
            "grid_column": null,
            "grid_gap": null,
            "grid_row": null,
            "grid_template_areas": null,
            "grid_template_columns": null,
            "grid_template_rows": null,
            "height": null,
            "justify_content": null,
            "justify_items": null,
            "left": null,
            "margin": null,
            "max_height": null,
            "max_width": null,
            "min_height": null,
            "min_width": null,
            "object_fit": null,
            "object_position": null,
            "order": null,
            "overflow": null,
            "overflow_x": null,
            "overflow_y": null,
            "padding": null,
            "right": null,
            "top": null,
            "visibility": null,
            "width": null
          }
        },
        "d335ca16a953422f8982fdc8160332f1": {
          "model_module": "@jupyter-widgets/controls",
          "model_name": "DescriptionStyleModel",
          "model_module_version": "1.5.0",
          "state": {
            "_model_module": "@jupyter-widgets/controls",
            "_model_module_version": "1.5.0",
            "_model_name": "DescriptionStyleModel",
            "_view_count": null,
            "_view_module": "@jupyter-widgets/base",
            "_view_module_version": "1.2.0",
            "_view_name": "StyleView",
            "description_width": ""
          }
        },
        "c48af3038e6543c69f85c0a7a117a539": {
          "model_module": "@jupyter-widgets/controls",
          "model_name": "HBoxModel",
          "model_module_version": "1.5.0",
          "state": {
            "_dom_classes": [],
            "_model_module": "@jupyter-widgets/controls",
            "_model_module_version": "1.5.0",
            "_model_name": "HBoxModel",
            "_view_count": null,
            "_view_module": "@jupyter-widgets/controls",
            "_view_module_version": "1.5.0",
            "_view_name": "HBoxView",
            "box_style": "",
            "children": [
              "IPY_MODEL_15536c8e08e14ae9a1c4d1f6ec4bd71b",
              "IPY_MODEL_90ea271e15ab42abb242aea59ca5a416",
              "IPY_MODEL_d1ea4f4ba6e14f09ac1dd7409ed44869"
            ],
            "layout": "IPY_MODEL_1941dda7cefb4e838fa24d7814dcaa03"
          }
        },
        "15536c8e08e14ae9a1c4d1f6ec4bd71b": {
          "model_module": "@jupyter-widgets/controls",
          "model_name": "HTMLModel",
          "model_module_version": "1.5.0",
          "state": {
            "_dom_classes": [],
            "_model_module": "@jupyter-widgets/controls",
            "_model_module_version": "1.5.0",
            "_model_name": "HTMLModel",
            "_view_count": null,
            "_view_module": "@jupyter-widgets/controls",
            "_view_module_version": "1.5.0",
            "_view_name": "HTMLView",
            "description": "",
            "description_tooltip": null,
            "layout": "IPY_MODEL_0e81c73aa0d04d4c9df00b157cc55173",
            "placeholder": "​",
            "style": "IPY_MODEL_74aa9bd2813547faace05cef76409a2b",
            "value": ""
          }
        },
        "90ea271e15ab42abb242aea59ca5a416": {
          "model_module": "@jupyter-widgets/controls",
          "model_name": "FloatProgressModel",
          "model_module_version": "1.5.0",
          "state": {
            "_dom_classes": [],
            "_model_module": "@jupyter-widgets/controls",
            "_model_module_version": "1.5.0",
            "_model_name": "FloatProgressModel",
            "_view_count": null,
            "_view_module": "@jupyter-widgets/controls",
            "_view_module_version": "1.5.0",
            "_view_name": "ProgressView",
            "bar_style": "success",
            "description": "",
            "description_tooltip": null,
            "layout": "IPY_MODEL_679379b8811f4c63a005d9c25297e012",
            "max": 28881,
            "min": 0,
            "orientation": "horizontal",
            "style": "IPY_MODEL_fc8e1536dca7433ca867255def237307",
            "value": 28881
          }
        },
        "d1ea4f4ba6e14f09ac1dd7409ed44869": {
          "model_module": "@jupyter-widgets/controls",
          "model_name": "HTMLModel",
          "model_module_version": "1.5.0",
          "state": {
            "_dom_classes": [],
            "_model_module": "@jupyter-widgets/controls",
            "_model_module_version": "1.5.0",
            "_model_name": "HTMLModel",
            "_view_count": null,
            "_view_module": "@jupyter-widgets/controls",
            "_view_module_version": "1.5.0",
            "_view_name": "HTMLView",
            "description": "",
            "description_tooltip": null,
            "layout": "IPY_MODEL_f36d99013e3f4d94885d5026eade3150",
            "placeholder": "​",
            "style": "IPY_MODEL_6256ca22be4145d0bbb150b7b32a70aa",
            "value": " 29696/? [00:00&lt;00:00, 450292.48it/s]"
          }
        },
        "1941dda7cefb4e838fa24d7814dcaa03": {
          "model_module": "@jupyter-widgets/base",
          "model_name": "LayoutModel",
          "model_module_version": "1.2.0",
          "state": {
            "_model_module": "@jupyter-widgets/base",
            "_model_module_version": "1.2.0",
            "_model_name": "LayoutModel",
            "_view_count": null,
            "_view_module": "@jupyter-widgets/base",
            "_view_module_version": "1.2.0",
            "_view_name": "LayoutView",
            "align_content": null,
            "align_items": null,
            "align_self": null,
            "border": null,
            "bottom": null,
            "display": null,
            "flex": null,
            "flex_flow": null,
            "grid_area": null,
            "grid_auto_columns": null,
            "grid_auto_flow": null,
            "grid_auto_rows": null,
            "grid_column": null,
            "grid_gap": null,
            "grid_row": null,
            "grid_template_areas": null,
            "grid_template_columns": null,
            "grid_template_rows": null,
            "height": null,
            "justify_content": null,
            "justify_items": null,
            "left": null,
            "margin": null,
            "max_height": null,
            "max_width": null,
            "min_height": null,
            "min_width": null,
            "object_fit": null,
            "object_position": null,
            "order": null,
            "overflow": null,
            "overflow_x": null,
            "overflow_y": null,
            "padding": null,
            "right": null,
            "top": null,
            "visibility": null,
            "width": null
          }
        },
        "0e81c73aa0d04d4c9df00b157cc55173": {
          "model_module": "@jupyter-widgets/base",
          "model_name": "LayoutModel",
          "model_module_version": "1.2.0",
          "state": {
            "_model_module": "@jupyter-widgets/base",
            "_model_module_version": "1.2.0",
            "_model_name": "LayoutModel",
            "_view_count": null,
            "_view_module": "@jupyter-widgets/base",
            "_view_module_version": "1.2.0",
            "_view_name": "LayoutView",
            "align_content": null,
            "align_items": null,
            "align_self": null,
            "border": null,
            "bottom": null,
            "display": null,
            "flex": null,
            "flex_flow": null,
            "grid_area": null,
            "grid_auto_columns": null,
            "grid_auto_flow": null,
            "grid_auto_rows": null,
            "grid_column": null,
            "grid_gap": null,
            "grid_row": null,
            "grid_template_areas": null,
            "grid_template_columns": null,
            "grid_template_rows": null,
            "height": null,
            "justify_content": null,
            "justify_items": null,
            "left": null,
            "margin": null,
            "max_height": null,
            "max_width": null,
            "min_height": null,
            "min_width": null,
            "object_fit": null,
            "object_position": null,
            "order": null,
            "overflow": null,
            "overflow_x": null,
            "overflow_y": null,
            "padding": null,
            "right": null,
            "top": null,
            "visibility": null,
            "width": null
          }
        },
        "74aa9bd2813547faace05cef76409a2b": {
          "model_module": "@jupyter-widgets/controls",
          "model_name": "DescriptionStyleModel",
          "model_module_version": "1.5.0",
          "state": {
            "_model_module": "@jupyter-widgets/controls",
            "_model_module_version": "1.5.0",
            "_model_name": "DescriptionStyleModel",
            "_view_count": null,
            "_view_module": "@jupyter-widgets/base",
            "_view_module_version": "1.2.0",
            "_view_name": "StyleView",
            "description_width": ""
          }
        },
        "679379b8811f4c63a005d9c25297e012": {
          "model_module": "@jupyter-widgets/base",
          "model_name": "LayoutModel",
          "model_module_version": "1.2.0",
          "state": {
            "_model_module": "@jupyter-widgets/base",
            "_model_module_version": "1.2.0",
            "_model_name": "LayoutModel",
            "_view_count": null,
            "_view_module": "@jupyter-widgets/base",
            "_view_module_version": "1.2.0",
            "_view_name": "LayoutView",
            "align_content": null,
            "align_items": null,
            "align_self": null,
            "border": null,
            "bottom": null,
            "display": null,
            "flex": null,
            "flex_flow": null,
            "grid_area": null,
            "grid_auto_columns": null,
            "grid_auto_flow": null,
            "grid_auto_rows": null,
            "grid_column": null,
            "grid_gap": null,
            "grid_row": null,
            "grid_template_areas": null,
            "grid_template_columns": null,
            "grid_template_rows": null,
            "height": null,
            "justify_content": null,
            "justify_items": null,
            "left": null,
            "margin": null,
            "max_height": null,
            "max_width": null,
            "min_height": null,
            "min_width": null,
            "object_fit": null,
            "object_position": null,
            "order": null,
            "overflow": null,
            "overflow_x": null,
            "overflow_y": null,
            "padding": null,
            "right": null,
            "top": null,
            "visibility": null,
            "width": null
          }
        },
        "fc8e1536dca7433ca867255def237307": {
          "model_module": "@jupyter-widgets/controls",
          "model_name": "ProgressStyleModel",
          "model_module_version": "1.5.0",
          "state": {
            "_model_module": "@jupyter-widgets/controls",
            "_model_module_version": "1.5.0",
            "_model_name": "ProgressStyleModel",
            "_view_count": null,
            "_view_module": "@jupyter-widgets/base",
            "_view_module_version": "1.2.0",
            "_view_name": "StyleView",
            "bar_color": null,
            "description_width": ""
          }
        },
        "f36d99013e3f4d94885d5026eade3150": {
          "model_module": "@jupyter-widgets/base",
          "model_name": "LayoutModel",
          "model_module_version": "1.2.0",
          "state": {
            "_model_module": "@jupyter-widgets/base",
            "_model_module_version": "1.2.0",
            "_model_name": "LayoutModel",
            "_view_count": null,
            "_view_module": "@jupyter-widgets/base",
            "_view_module_version": "1.2.0",
            "_view_name": "LayoutView",
            "align_content": null,
            "align_items": null,
            "align_self": null,
            "border": null,
            "bottom": null,
            "display": null,
            "flex": null,
            "flex_flow": null,
            "grid_area": null,
            "grid_auto_columns": null,
            "grid_auto_flow": null,
            "grid_auto_rows": null,
            "grid_column": null,
            "grid_gap": null,
            "grid_row": null,
            "grid_template_areas": null,
            "grid_template_columns": null,
            "grid_template_rows": null,
            "height": null,
            "justify_content": null,
            "justify_items": null,
            "left": null,
            "margin": null,
            "max_height": null,
            "max_width": null,
            "min_height": null,
            "min_width": null,
            "object_fit": null,
            "object_position": null,
            "order": null,
            "overflow": null,
            "overflow_x": null,
            "overflow_y": null,
            "padding": null,
            "right": null,
            "top": null,
            "visibility": null,
            "width": null
          }
        },
        "6256ca22be4145d0bbb150b7b32a70aa": {
          "model_module": "@jupyter-widgets/controls",
          "model_name": "DescriptionStyleModel",
          "model_module_version": "1.5.0",
          "state": {
            "_model_module": "@jupyter-widgets/controls",
            "_model_module_version": "1.5.0",
            "_model_name": "DescriptionStyleModel",
            "_view_count": null,
            "_view_module": "@jupyter-widgets/base",
            "_view_module_version": "1.2.0",
            "_view_name": "StyleView",
            "description_width": ""
          }
        },
        "72d52870d63e47eea8e0bba5f7c1dee8": {
          "model_module": "@jupyter-widgets/controls",
          "model_name": "HBoxModel",
          "model_module_version": "1.5.0",
          "state": {
            "_dom_classes": [],
            "_model_module": "@jupyter-widgets/controls",
            "_model_module_version": "1.5.0",
            "_model_name": "HBoxModel",
            "_view_count": null,
            "_view_module": "@jupyter-widgets/controls",
            "_view_module_version": "1.5.0",
            "_view_name": "HBoxView",
            "box_style": "",
            "children": [
              "IPY_MODEL_4ee1126951e648c7a21608f0e1f65915",
              "IPY_MODEL_308d87db2bcc486789a4e81201974322",
              "IPY_MODEL_0d55f9d178584eefb34be53a1f04ded8"
            ],
            "layout": "IPY_MODEL_600187ecf5fa4dcc9b32518d89478180"
          }
        },
        "4ee1126951e648c7a21608f0e1f65915": {
          "model_module": "@jupyter-widgets/controls",
          "model_name": "HTMLModel",
          "model_module_version": "1.5.0",
          "state": {
            "_dom_classes": [],
            "_model_module": "@jupyter-widgets/controls",
            "_model_module_version": "1.5.0",
            "_model_name": "HTMLModel",
            "_view_count": null,
            "_view_module": "@jupyter-widgets/controls",
            "_view_module_version": "1.5.0",
            "_view_name": "HTMLView",
            "description": "",
            "description_tooltip": null,
            "layout": "IPY_MODEL_ecce194776714a56986024d077b164e2",
            "placeholder": "​",
            "style": "IPY_MODEL_0ea19013ddbd4f5a9cee21b674479b18",
            "value": ""
          }
        },
        "308d87db2bcc486789a4e81201974322": {
          "model_module": "@jupyter-widgets/controls",
          "model_name": "FloatProgressModel",
          "model_module_version": "1.5.0",
          "state": {
            "_dom_classes": [],
            "_model_module": "@jupyter-widgets/controls",
            "_model_module_version": "1.5.0",
            "_model_name": "FloatProgressModel",
            "_view_count": null,
            "_view_module": "@jupyter-widgets/controls",
            "_view_module_version": "1.5.0",
            "_view_name": "ProgressView",
            "bar_style": "success",
            "description": "",
            "description_tooltip": null,
            "layout": "IPY_MODEL_9fa732a577ba485ea45834aa8fdf7c0b",
            "max": 1648877,
            "min": 0,
            "orientation": "horizontal",
            "style": "IPY_MODEL_11c05a3075254f3faabdcf96e1e8202f",
            "value": 1648877
          }
        },
        "0d55f9d178584eefb34be53a1f04ded8": {
          "model_module": "@jupyter-widgets/controls",
          "model_name": "HTMLModel",
          "model_module_version": "1.5.0",
          "state": {
            "_dom_classes": [],
            "_model_module": "@jupyter-widgets/controls",
            "_model_module_version": "1.5.0",
            "_model_name": "HTMLModel",
            "_view_count": null,
            "_view_module": "@jupyter-widgets/controls",
            "_view_module_version": "1.5.0",
            "_view_name": "HTMLView",
            "description": "",
            "description_tooltip": null,
            "layout": "IPY_MODEL_cd06cb4bc8c34c49942a2ce5437098da",
            "placeholder": "​",
            "style": "IPY_MODEL_c82c565ee0af4e948ec94364d00e29eb",
            "value": " 1649664/? [00:00&lt;00:00, 23478048.90it/s]"
          }
        },
        "600187ecf5fa4dcc9b32518d89478180": {
          "model_module": "@jupyter-widgets/base",
          "model_name": "LayoutModel",
          "model_module_version": "1.2.0",
          "state": {
            "_model_module": "@jupyter-widgets/base",
            "_model_module_version": "1.2.0",
            "_model_name": "LayoutModel",
            "_view_count": null,
            "_view_module": "@jupyter-widgets/base",
            "_view_module_version": "1.2.0",
            "_view_name": "LayoutView",
            "align_content": null,
            "align_items": null,
            "align_self": null,
            "border": null,
            "bottom": null,
            "display": null,
            "flex": null,
            "flex_flow": null,
            "grid_area": null,
            "grid_auto_columns": null,
            "grid_auto_flow": null,
            "grid_auto_rows": null,
            "grid_column": null,
            "grid_gap": null,
            "grid_row": null,
            "grid_template_areas": null,
            "grid_template_columns": null,
            "grid_template_rows": null,
            "height": null,
            "justify_content": null,
            "justify_items": null,
            "left": null,
            "margin": null,
            "max_height": null,
            "max_width": null,
            "min_height": null,
            "min_width": null,
            "object_fit": null,
            "object_position": null,
            "order": null,
            "overflow": null,
            "overflow_x": null,
            "overflow_y": null,
            "padding": null,
            "right": null,
            "top": null,
            "visibility": null,
            "width": null
          }
        },
        "ecce194776714a56986024d077b164e2": {
          "model_module": "@jupyter-widgets/base",
          "model_name": "LayoutModel",
          "model_module_version": "1.2.0",
          "state": {
            "_model_module": "@jupyter-widgets/base",
            "_model_module_version": "1.2.0",
            "_model_name": "LayoutModel",
            "_view_count": null,
            "_view_module": "@jupyter-widgets/base",
            "_view_module_version": "1.2.0",
            "_view_name": "LayoutView",
            "align_content": null,
            "align_items": null,
            "align_self": null,
            "border": null,
            "bottom": null,
            "display": null,
            "flex": null,
            "flex_flow": null,
            "grid_area": null,
            "grid_auto_columns": null,
            "grid_auto_flow": null,
            "grid_auto_rows": null,
            "grid_column": null,
            "grid_gap": null,
            "grid_row": null,
            "grid_template_areas": null,
            "grid_template_columns": null,
            "grid_template_rows": null,
            "height": null,
            "justify_content": null,
            "justify_items": null,
            "left": null,
            "margin": null,
            "max_height": null,
            "max_width": null,
            "min_height": null,
            "min_width": null,
            "object_fit": null,
            "object_position": null,
            "order": null,
            "overflow": null,
            "overflow_x": null,
            "overflow_y": null,
            "padding": null,
            "right": null,
            "top": null,
            "visibility": null,
            "width": null
          }
        },
        "0ea19013ddbd4f5a9cee21b674479b18": {
          "model_module": "@jupyter-widgets/controls",
          "model_name": "DescriptionStyleModel",
          "model_module_version": "1.5.0",
          "state": {
            "_model_module": "@jupyter-widgets/controls",
            "_model_module_version": "1.5.0",
            "_model_name": "DescriptionStyleModel",
            "_view_count": null,
            "_view_module": "@jupyter-widgets/base",
            "_view_module_version": "1.2.0",
            "_view_name": "StyleView",
            "description_width": ""
          }
        },
        "9fa732a577ba485ea45834aa8fdf7c0b": {
          "model_module": "@jupyter-widgets/base",
          "model_name": "LayoutModel",
          "model_module_version": "1.2.0",
          "state": {
            "_model_module": "@jupyter-widgets/base",
            "_model_module_version": "1.2.0",
            "_model_name": "LayoutModel",
            "_view_count": null,
            "_view_module": "@jupyter-widgets/base",
            "_view_module_version": "1.2.0",
            "_view_name": "LayoutView",
            "align_content": null,
            "align_items": null,
            "align_self": null,
            "border": null,
            "bottom": null,
            "display": null,
            "flex": null,
            "flex_flow": null,
            "grid_area": null,
            "grid_auto_columns": null,
            "grid_auto_flow": null,
            "grid_auto_rows": null,
            "grid_column": null,
            "grid_gap": null,
            "grid_row": null,
            "grid_template_areas": null,
            "grid_template_columns": null,
            "grid_template_rows": null,
            "height": null,
            "justify_content": null,
            "justify_items": null,
            "left": null,
            "margin": null,
            "max_height": null,
            "max_width": null,
            "min_height": null,
            "min_width": null,
            "object_fit": null,
            "object_position": null,
            "order": null,
            "overflow": null,
            "overflow_x": null,
            "overflow_y": null,
            "padding": null,
            "right": null,
            "top": null,
            "visibility": null,
            "width": null
          }
        },
        "11c05a3075254f3faabdcf96e1e8202f": {
          "model_module": "@jupyter-widgets/controls",
          "model_name": "ProgressStyleModel",
          "model_module_version": "1.5.0",
          "state": {
            "_model_module": "@jupyter-widgets/controls",
            "_model_module_version": "1.5.0",
            "_model_name": "ProgressStyleModel",
            "_view_count": null,
            "_view_module": "@jupyter-widgets/base",
            "_view_module_version": "1.2.0",
            "_view_name": "StyleView",
            "bar_color": null,
            "description_width": ""
          }
        },
        "cd06cb4bc8c34c49942a2ce5437098da": {
          "model_module": "@jupyter-widgets/base",
          "model_name": "LayoutModel",
          "model_module_version": "1.2.0",
          "state": {
            "_model_module": "@jupyter-widgets/base",
            "_model_module_version": "1.2.0",
            "_model_name": "LayoutModel",
            "_view_count": null,
            "_view_module": "@jupyter-widgets/base",
            "_view_module_version": "1.2.0",
            "_view_name": "LayoutView",
            "align_content": null,
            "align_items": null,
            "align_self": null,
            "border": null,
            "bottom": null,
            "display": null,
            "flex": null,
            "flex_flow": null,
            "grid_area": null,
            "grid_auto_columns": null,
            "grid_auto_flow": null,
            "grid_auto_rows": null,
            "grid_column": null,
            "grid_gap": null,
            "grid_row": null,
            "grid_template_areas": null,
            "grid_template_columns": null,
            "grid_template_rows": null,
            "height": null,
            "justify_content": null,
            "justify_items": null,
            "left": null,
            "margin": null,
            "max_height": null,
            "max_width": null,
            "min_height": null,
            "min_width": null,
            "object_fit": null,
            "object_position": null,
            "order": null,
            "overflow": null,
            "overflow_x": null,
            "overflow_y": null,
            "padding": null,
            "right": null,
            "top": null,
            "visibility": null,
            "width": null
          }
        },
        "c82c565ee0af4e948ec94364d00e29eb": {
          "model_module": "@jupyter-widgets/controls",
          "model_name": "DescriptionStyleModel",
          "model_module_version": "1.5.0",
          "state": {
            "_model_module": "@jupyter-widgets/controls",
            "_model_module_version": "1.5.0",
            "_model_name": "DescriptionStyleModel",
            "_view_count": null,
            "_view_module": "@jupyter-widgets/base",
            "_view_module_version": "1.2.0",
            "_view_name": "StyleView",
            "description_width": ""
          }
        },
        "d2eafb4b189e4a7f97fba5e3b2ca8fb1": {
          "model_module": "@jupyter-widgets/controls",
          "model_name": "HBoxModel",
          "model_module_version": "1.5.0",
          "state": {
            "_dom_classes": [],
            "_model_module": "@jupyter-widgets/controls",
            "_model_module_version": "1.5.0",
            "_model_name": "HBoxModel",
            "_view_count": null,
            "_view_module": "@jupyter-widgets/controls",
            "_view_module_version": "1.5.0",
            "_view_name": "HBoxView",
            "box_style": "",
            "children": [
              "IPY_MODEL_23c31a378fe146cc8df7f1545cba4296",
              "IPY_MODEL_00ca65ec364c4015a3ff25c5293e91f6",
              "IPY_MODEL_05b31d24812d4e78950fdde43af70350"
            ],
            "layout": "IPY_MODEL_1962b28e20ad4622a81fef1ab9881fce"
          }
        },
        "23c31a378fe146cc8df7f1545cba4296": {
          "model_module": "@jupyter-widgets/controls",
          "model_name": "HTMLModel",
          "model_module_version": "1.5.0",
          "state": {
            "_dom_classes": [],
            "_model_module": "@jupyter-widgets/controls",
            "_model_module_version": "1.5.0",
            "_model_name": "HTMLModel",
            "_view_count": null,
            "_view_module": "@jupyter-widgets/controls",
            "_view_module_version": "1.5.0",
            "_view_name": "HTMLView",
            "description": "",
            "description_tooltip": null,
            "layout": "IPY_MODEL_d854f88673dc4f9184b47ee615df0fda",
            "placeholder": "​",
            "style": "IPY_MODEL_675f674df9b64d07ab810537a3e23e5b",
            "value": ""
          }
        },
        "00ca65ec364c4015a3ff25c5293e91f6": {
          "model_module": "@jupyter-widgets/controls",
          "model_name": "FloatProgressModel",
          "model_module_version": "1.5.0",
          "state": {
            "_dom_classes": [],
            "_model_module": "@jupyter-widgets/controls",
            "_model_module_version": "1.5.0",
            "_model_name": "FloatProgressModel",
            "_view_count": null,
            "_view_module": "@jupyter-widgets/controls",
            "_view_module_version": "1.5.0",
            "_view_name": "ProgressView",
            "bar_style": "success",
            "description": "",
            "description_tooltip": null,
            "layout": "IPY_MODEL_f940413d23964a8facd1fd45bfa95614",
            "max": 4542,
            "min": 0,
            "orientation": "horizontal",
            "style": "IPY_MODEL_8f15cd8363354dde871b8253418f8b1a",
            "value": 4542
          }
        },
        "05b31d24812d4e78950fdde43af70350": {
          "model_module": "@jupyter-widgets/controls",
          "model_name": "HTMLModel",
          "model_module_version": "1.5.0",
          "state": {
            "_dom_classes": [],
            "_model_module": "@jupyter-widgets/controls",
            "_model_module_version": "1.5.0",
            "_model_name": "HTMLModel",
            "_view_count": null,
            "_view_module": "@jupyter-widgets/controls",
            "_view_module_version": "1.5.0",
            "_view_name": "HTMLView",
            "description": "",
            "description_tooltip": null,
            "layout": "IPY_MODEL_3dcecbd3a2d046b2827ded74c6ac10be",
            "placeholder": "​",
            "style": "IPY_MODEL_c8236f7fbd8b47d9933f7e709a20aee8",
            "value": " 5120/? [00:00&lt;00:00, 119730.36it/s]"
          }
        },
        "1962b28e20ad4622a81fef1ab9881fce": {
          "model_module": "@jupyter-widgets/base",
          "model_name": "LayoutModel",
          "model_module_version": "1.2.0",
          "state": {
            "_model_module": "@jupyter-widgets/base",
            "_model_module_version": "1.2.0",
            "_model_name": "LayoutModel",
            "_view_count": null,
            "_view_module": "@jupyter-widgets/base",
            "_view_module_version": "1.2.0",
            "_view_name": "LayoutView",
            "align_content": null,
            "align_items": null,
            "align_self": null,
            "border": null,
            "bottom": null,
            "display": null,
            "flex": null,
            "flex_flow": null,
            "grid_area": null,
            "grid_auto_columns": null,
            "grid_auto_flow": null,
            "grid_auto_rows": null,
            "grid_column": null,
            "grid_gap": null,
            "grid_row": null,
            "grid_template_areas": null,
            "grid_template_columns": null,
            "grid_template_rows": null,
            "height": null,
            "justify_content": null,
            "justify_items": null,
            "left": null,
            "margin": null,
            "max_height": null,
            "max_width": null,
            "min_height": null,
            "min_width": null,
            "object_fit": null,
            "object_position": null,
            "order": null,
            "overflow": null,
            "overflow_x": null,
            "overflow_y": null,
            "padding": null,
            "right": null,
            "top": null,
            "visibility": null,
            "width": null
          }
        },
        "d854f88673dc4f9184b47ee615df0fda": {
          "model_module": "@jupyter-widgets/base",
          "model_name": "LayoutModel",
          "model_module_version": "1.2.0",
          "state": {
            "_model_module": "@jupyter-widgets/base",
            "_model_module_version": "1.2.0",
            "_model_name": "LayoutModel",
            "_view_count": null,
            "_view_module": "@jupyter-widgets/base",
            "_view_module_version": "1.2.0",
            "_view_name": "LayoutView",
            "align_content": null,
            "align_items": null,
            "align_self": null,
            "border": null,
            "bottom": null,
            "display": null,
            "flex": null,
            "flex_flow": null,
            "grid_area": null,
            "grid_auto_columns": null,
            "grid_auto_flow": null,
            "grid_auto_rows": null,
            "grid_column": null,
            "grid_gap": null,
            "grid_row": null,
            "grid_template_areas": null,
            "grid_template_columns": null,
            "grid_template_rows": null,
            "height": null,
            "justify_content": null,
            "justify_items": null,
            "left": null,
            "margin": null,
            "max_height": null,
            "max_width": null,
            "min_height": null,
            "min_width": null,
            "object_fit": null,
            "object_position": null,
            "order": null,
            "overflow": null,
            "overflow_x": null,
            "overflow_y": null,
            "padding": null,
            "right": null,
            "top": null,
            "visibility": null,
            "width": null
          }
        },
        "675f674df9b64d07ab810537a3e23e5b": {
          "model_module": "@jupyter-widgets/controls",
          "model_name": "DescriptionStyleModel",
          "model_module_version": "1.5.0",
          "state": {
            "_model_module": "@jupyter-widgets/controls",
            "_model_module_version": "1.5.0",
            "_model_name": "DescriptionStyleModel",
            "_view_count": null,
            "_view_module": "@jupyter-widgets/base",
            "_view_module_version": "1.2.0",
            "_view_name": "StyleView",
            "description_width": ""
          }
        },
        "f940413d23964a8facd1fd45bfa95614": {
          "model_module": "@jupyter-widgets/base",
          "model_name": "LayoutModel",
          "model_module_version": "1.2.0",
          "state": {
            "_model_module": "@jupyter-widgets/base",
            "_model_module_version": "1.2.0",
            "_model_name": "LayoutModel",
            "_view_count": null,
            "_view_module": "@jupyter-widgets/base",
            "_view_module_version": "1.2.0",
            "_view_name": "LayoutView",
            "align_content": null,
            "align_items": null,
            "align_self": null,
            "border": null,
            "bottom": null,
            "display": null,
            "flex": null,
            "flex_flow": null,
            "grid_area": null,
            "grid_auto_columns": null,
            "grid_auto_flow": null,
            "grid_auto_rows": null,
            "grid_column": null,
            "grid_gap": null,
            "grid_row": null,
            "grid_template_areas": null,
            "grid_template_columns": null,
            "grid_template_rows": null,
            "height": null,
            "justify_content": null,
            "justify_items": null,
            "left": null,
            "margin": null,
            "max_height": null,
            "max_width": null,
            "min_height": null,
            "min_width": null,
            "object_fit": null,
            "object_position": null,
            "order": null,
            "overflow": null,
            "overflow_x": null,
            "overflow_y": null,
            "padding": null,
            "right": null,
            "top": null,
            "visibility": null,
            "width": null
          }
        },
        "8f15cd8363354dde871b8253418f8b1a": {
          "model_module": "@jupyter-widgets/controls",
          "model_name": "ProgressStyleModel",
          "model_module_version": "1.5.0",
          "state": {
            "_model_module": "@jupyter-widgets/controls",
            "_model_module_version": "1.5.0",
            "_model_name": "ProgressStyleModel",
            "_view_count": null,
            "_view_module": "@jupyter-widgets/base",
            "_view_module_version": "1.2.0",
            "_view_name": "StyleView",
            "bar_color": null,
            "description_width": ""
          }
        },
        "3dcecbd3a2d046b2827ded74c6ac10be": {
          "model_module": "@jupyter-widgets/base",
          "model_name": "LayoutModel",
          "model_module_version": "1.2.0",
          "state": {
            "_model_module": "@jupyter-widgets/base",
            "_model_module_version": "1.2.0",
            "_model_name": "LayoutModel",
            "_view_count": null,
            "_view_module": "@jupyter-widgets/base",
            "_view_module_version": "1.2.0",
            "_view_name": "LayoutView",
            "align_content": null,
            "align_items": null,
            "align_self": null,
            "border": null,
            "bottom": null,
            "display": null,
            "flex": null,
            "flex_flow": null,
            "grid_area": null,
            "grid_auto_columns": null,
            "grid_auto_flow": null,
            "grid_auto_rows": null,
            "grid_column": null,
            "grid_gap": null,
            "grid_row": null,
            "grid_template_areas": null,
            "grid_template_columns": null,
            "grid_template_rows": null,
            "height": null,
            "justify_content": null,
            "justify_items": null,
            "left": null,
            "margin": null,
            "max_height": null,
            "max_width": null,
            "min_height": null,
            "min_width": null,
            "object_fit": null,
            "object_position": null,
            "order": null,
            "overflow": null,
            "overflow_x": null,
            "overflow_y": null,
            "padding": null,
            "right": null,
            "top": null,
            "visibility": null,
            "width": null
          }
        },
        "c8236f7fbd8b47d9933f7e709a20aee8": {
          "model_module": "@jupyter-widgets/controls",
          "model_name": "DescriptionStyleModel",
          "model_module_version": "1.5.0",
          "state": {
            "_model_module": "@jupyter-widgets/controls",
            "_model_module_version": "1.5.0",
            "_model_name": "DescriptionStyleModel",
            "_view_count": null,
            "_view_module": "@jupyter-widgets/base",
            "_view_module_version": "1.2.0",
            "_view_name": "StyleView",
            "description_width": ""
          }
        }
      }
    }
  },
  "nbformat": 4,
  "nbformat_minor": 0
}