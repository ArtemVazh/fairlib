{
  "cells": [
    {
      "cell_type": "markdown",
      "metadata": {
        "id": "3WJebPGI95-j"
      },
      "source": [
        "# Fairlib Interactive Tutorial\n",
        "[![Open In Colab](https://colab.research.google.com/assets/colab-badge.svg)](https://colab.research.google.com/github/HanXudong/Fair_NLP_Classification/blob/main/tutorial/demo.ipynb)\n",
        "\n",
        "# Welcome to the *fairlib* interactive tutorial\n",
        "\n",
        "In this tutorial we will:\n",
        "- Show how to install FairCLS, and prepare the preprocessed Moji sentiment analysis dataset.\n",
        "- Show how to train a model with or without debiasing.\n",
        "- Show how to analysis the results, including crating tables and figures\n",
        "- Show how to run experiments over customized datasets."
      ]
    },
    {
      "cell_type": "markdown",
      "metadata": {
        "id": "C65ClWrG95-m"
      },
      "source": [
        "## 1. Installation"
      ]
    },
    {
      "cell_type": "code",
      "execution_count": 1,
      "metadata": {
        "colab": {
          "base_uri": "https://localhost:8080/"
        },
        "id": "AO7QSP_g95-m",
        "outputId": "c3020544-56e0-4e8a-cc57-4c4e50bffa9a"
      },
      "outputs": [
        {
          "name": "stdout",
          "output_type": "stream",
          "text": [
            "Collecting fairlib\n",
            "  Downloading fairlib-0.0.1-py3-none-any.whl (61 kB)\n",
            "\u001b[K     |████████████████████████████████| 61 kB 4.7 MB/s \n",
            "\u001b[?25hRequirement already satisfied: tqdm in /usr/local/lib/python3.7/dist-packages (from fairlib) (4.63.0)\n",
            "Requirement already satisfied: torch in /usr/local/lib/python3.7/dist-packages (from fairlib) (1.10.0+cu111)\n",
            "Requirement already satisfied: pandas in /usr/local/lib/python3.7/dist-packages (from fairlib) (1.3.5)\n",
            "Requirement already satisfied: PyYAML in /usr/local/lib/python3.7/dist-packages (from fairlib) (3.13)\n",
            "Collecting pickle5\n",
            "  Downloading pickle5-0.0.12-cp37-cp37m-manylinux_2_5_x86_64.manylinux1_x86_64.whl (256 kB)\n",
            "\u001b[K     |████████████████████████████████| 256 kB 23.2 MB/s \n",
            "\u001b[?25hRequirement already satisfied: docopt in /usr/local/lib/python3.7/dist-packages (from fairlib) (0.6.2)\n",
            "Requirement already satisfied: scikit-learn in /usr/local/lib/python3.7/dist-packages (from fairlib) (1.0.2)\n",
            "Collecting transformers\n",
            "  Downloading transformers-4.18.0-py3-none-any.whl (4.0 MB)\n",
            "\u001b[K     |████████████████████████████████| 4.0 MB 33.6 MB/s \n",
            "\u001b[?25hRequirement already satisfied: numpy in /usr/local/lib/python3.7/dist-packages (from fairlib) (1.21.5)\n",
            "Requirement already satisfied: seaborn in /usr/local/lib/python3.7/dist-packages (from fairlib) (0.11.2)\n",
            "Requirement already satisfied: matplotlib in /usr/local/lib/python3.7/dist-packages (from fairlib) (3.2.2)\n",
            "Requirement already satisfied: python-dateutil>=2.1 in /usr/local/lib/python3.7/dist-packages (from matplotlib->fairlib) (2.8.2)\n",
            "Requirement already satisfied: kiwisolver>=1.0.1 in /usr/local/lib/python3.7/dist-packages (from matplotlib->fairlib) (1.4.0)\n",
            "Requirement already satisfied: cycler>=0.10 in /usr/local/lib/python3.7/dist-packages (from matplotlib->fairlib) (0.11.0)\n",
            "Requirement already satisfied: pyparsing!=2.0.4,!=2.1.2,!=2.1.6,>=2.0.1 in /usr/local/lib/python3.7/dist-packages (from matplotlib->fairlib) (3.0.7)\n",
            "Requirement already satisfied: typing-extensions in /usr/local/lib/python3.7/dist-packages (from kiwisolver>=1.0.1->matplotlib->fairlib) (3.10.0.2)\n",
            "Requirement already satisfied: six>=1.5 in /usr/local/lib/python3.7/dist-packages (from python-dateutil>=2.1->matplotlib->fairlib) (1.15.0)\n",
            "Requirement already satisfied: pytz>=2017.3 in /usr/local/lib/python3.7/dist-packages (from pandas->fairlib) (2018.9)\n",
            "Requirement already satisfied: scipy>=1.1.0 in /usr/local/lib/python3.7/dist-packages (from scikit-learn->fairlib) (1.4.1)\n",
            "Requirement already satisfied: threadpoolctl>=2.0.0 in /usr/local/lib/python3.7/dist-packages (from scikit-learn->fairlib) (3.1.0)\n",
            "Requirement already satisfied: joblib>=0.11 in /usr/local/lib/python3.7/dist-packages (from scikit-learn->fairlib) (1.1.0)\n",
            "Requirement already satisfied: packaging>=20.0 in /usr/local/lib/python3.7/dist-packages (from transformers->fairlib) (21.3)\n",
            "Requirement already satisfied: regex!=2019.12.17 in /usr/local/lib/python3.7/dist-packages (from transformers->fairlib) (2019.12.20)\n",
            "Collecting tokenizers!=0.11.3,<0.13,>=0.11.1\n",
            "  Downloading tokenizers-0.11.6-cp37-cp37m-manylinux_2_12_x86_64.manylinux2010_x86_64.whl (6.5 MB)\n",
            "\u001b[K     |████████████████████████████████| 6.5 MB 30.0 MB/s \n",
            "\u001b[?25hCollecting sacremoses\n",
            "  Downloading sacremoses-0.0.49-py3-none-any.whl (895 kB)\n",
            "\u001b[K     |████████████████████████████████| 895 kB 74.8 MB/s \n",
            "\u001b[?25hCollecting huggingface-hub<1.0,>=0.1.0\n",
            "  Downloading huggingface_hub-0.5.1-py3-none-any.whl (77 kB)\n",
            "\u001b[K     |████████████████████████████████| 77 kB 4.7 MB/s \n",
            "\u001b[?25hRequirement already satisfied: filelock in /usr/local/lib/python3.7/dist-packages (from transformers->fairlib) (3.6.0)\n",
            "Collecting PyYAML\n",
            "  Downloading PyYAML-6.0-cp37-cp37m-manylinux_2_5_x86_64.manylinux1_x86_64.manylinux_2_12_x86_64.manylinux2010_x86_64.whl (596 kB)\n",
            "\u001b[K     |████████████████████████████████| 596 kB 79.0 MB/s \n",
            "\u001b[?25hRequirement already satisfied: requests in /usr/local/lib/python3.7/dist-packages (from transformers->fairlib) (2.23.0)\n",
            "Requirement already satisfied: importlib-metadata in /usr/local/lib/python3.7/dist-packages (from transformers->fairlib) (4.11.3)\n",
            "Requirement already satisfied: zipp>=0.5 in /usr/local/lib/python3.7/dist-packages (from importlib-metadata->transformers->fairlib) (3.7.0)\n",
            "Requirement already satisfied: urllib3!=1.25.0,!=1.25.1,<1.26,>=1.21.1 in /usr/local/lib/python3.7/dist-packages (from requests->transformers->fairlib) (1.24.3)\n",
            "Requirement already satisfied: idna<3,>=2.5 in /usr/local/lib/python3.7/dist-packages (from requests->transformers->fairlib) (2.10)\n",
            "Requirement already satisfied: certifi>=2017.4.17 in /usr/local/lib/python3.7/dist-packages (from requests->transformers->fairlib) (2021.10.8)\n",
            "Requirement already satisfied: chardet<4,>=3.0.2 in /usr/local/lib/python3.7/dist-packages (from requests->transformers->fairlib) (3.0.4)\n",
            "Requirement already satisfied: click in /usr/local/lib/python3.7/dist-packages (from sacremoses->transformers->fairlib) (7.1.2)\n",
            "Installing collected packages: PyYAML, tokenizers, sacremoses, huggingface-hub, transformers, pickle5, fairlib\n",
            "  Attempting uninstall: PyYAML\n",
            "    Found existing installation: PyYAML 3.13\n",
            "    Uninstalling PyYAML-3.13:\n",
            "      Successfully uninstalled PyYAML-3.13\n",
            "Successfully installed PyYAML-6.0 fairlib-0.0.1 huggingface-hub-0.5.1 pickle5-0.0.12 sacremoses-0.0.49 tokenizers-0.11.6 transformers-4.18.0\n"
          ]
        }
      ],
      "source": [
        "!pip install fairlib"
      ]
    },
    {
      "cell_type": "code",
      "execution_count": 2,
      "metadata": {
        "id": "ieklwXXP95-n"
      },
      "outputs": [],
      "source": [
        "import fairlib"
      ]
    },
    {
      "cell_type": "markdown",
      "metadata": {
        "id": "99Nw_gKT95-n"
      },
      "source": [
        "## 2. Prepare Dataset\n",
        "\n",
        "In this notebook, we will be using the the Moji dataset, which can be downloaded and processed as follows:"
      ]
    },
    {
      "cell_type": "markdown",
      "metadata": {},
      "source": [
        "Here we directly use the encoded Moji dataset provided by [Ravfogel et al. \\(2020\\)](https://github.com/shauli-ravfogel/nullspace_projection/blob/master/download_data.sh). Original tweets are encoded with the pre-trained [DeepMoji model](https://github.com/bfelbo/DeepMoji) as 2304d vectors and grouped by the target classes (happy verse sad) and race labels (AAE verse SAE). The following cell create a `data` directory for saving the pre-processed data."
      ]
    },
    {
      "cell_type": "code",
      "execution_count": 4,
      "metadata": {
        "colab": {
          "base_uri": "https://localhost:8080/"
        },
        "id": "TY0LkuN495-o",
        "outputId": "58fb2b07-1684-4189-9981-2b080a48862d"
      },
      "outputs": [
        {
          "name": "stdout",
          "output_type": "stream",
          "text": [
            "--2022-04-08 14:50:17--  https://storage.googleapis.com/ai2i/nullspace/deepmoji/pos_pos.npy\n",
            "Resolving storage.googleapis.com (storage.googleapis.com)... 173.194.69.128, 108.177.119.128, 108.177.126.128, ...\n",
            "Connecting to storage.googleapis.com (storage.googleapis.com)|173.194.69.128|:443... connected.\n",
            "HTTP request sent, awaiting response... 200 OK\n",
            "Length: 405494864 (387M) [application/octet-stream]\n",
            "Saving to: ‘data/deepmoji/pos_pos.npy’\n",
            "\n",
            "pos_pos.npy         100%[===================>] 386.71M   174MB/s    in 2.2s    \n",
            "\n",
            "2022-04-08 14:50:19 (174 MB/s) - ‘data/deepmoji/pos_pos.npy’ saved [405494864/405494864]\n",
            "\n",
            "--2022-04-08 14:50:20--  https://storage.googleapis.com/ai2i/nullspace/deepmoji/pos_neg.npy\n",
            "Resolving storage.googleapis.com (storage.googleapis.com)... 173.194.69.128, 108.177.119.128, 108.177.126.128, ...\n",
            "Connecting to storage.googleapis.com (storage.googleapis.com)|173.194.69.128|:443... connected.\n",
            "HTTP request sent, awaiting response... 200 OK\n",
            "Length: 405504080 (387M) [application/octet-stream]\n",
            "Saving to: ‘data/deepmoji/pos_neg.npy’\n",
            "\n",
            "pos_neg.npy         100%[===================>] 386.72M   133MB/s    in 2.9s    \n",
            "\n",
            "2022-04-08 14:50:23 (133 MB/s) - ‘data/deepmoji/pos_neg.npy’ saved [405504080/405504080]\n",
            "\n",
            "--2022-04-08 14:50:23--  https://storage.googleapis.com/ai2i/nullspace/deepmoji/neg_pos.npy\n",
            "Resolving storage.googleapis.com (storage.googleapis.com)... 108.177.126.128, 108.177.127.128, 142.250.145.128, ...\n",
            "Connecting to storage.googleapis.com (storage.googleapis.com)|108.177.126.128|:443... connected.\n",
            "HTTP request sent, awaiting response... 200 OK\n",
            "Length: 405494864 (387M) [application/octet-stream]\n",
            "Saving to: ‘data/deepmoji/neg_pos.npy’\n",
            "\n",
            "neg_pos.npy         100%[===================>] 386.71M  36.3MB/s    in 8.0s    \n",
            "\n",
            "2022-04-08 14:50:31 (48.1 MB/s) - ‘data/deepmoji/neg_pos.npy’ saved [405494864/405494864]\n",
            "\n",
            "--2022-04-08 14:50:31--  https://storage.googleapis.com/ai2i/nullspace/deepmoji/neg_neg.npy\n",
            "Resolving storage.googleapis.com (storage.googleapis.com)... 173.194.69.128, 108.177.119.128, 108.177.126.128, ...\n",
            "Connecting to storage.googleapis.com (storage.googleapis.com)|173.194.69.128|:443... connected.\n",
            "HTTP request sent, awaiting response... 200 OK\n",
            "Length: 405504080 (387M) [application/octet-stream]\n",
            "Saving to: ‘data/deepmoji/neg_neg.npy’\n",
            "\n",
            "neg_neg.npy         100%[===================>] 386.72M   148MB/s    in 2.6s    \n",
            "\n",
            "2022-04-08 14:50:34 (148 MB/s) - ‘data/deepmoji/neg_neg.npy’ saved [405504080/405504080]\n",
            "\n"
          ]
        }
      ],
      "source": [
        "!mkdir -p data/deepmoji\n",
        "!wget 'https://storage.googleapis.com/ai2i/nullspace/deepmoji/pos_pos.npy' -P 'data/deepmoji'\n",
        "!wget 'https://storage.googleapis.com/ai2i/nullspace/deepmoji/pos_neg.npy' -P 'data/deepmoji'\n",
        "!wget 'https://storage.googleapis.com/ai2i/nullspace/deepmoji/neg_pos.npy' -P 'data/deepmoji'\n",
        "!wget 'https://storage.googleapis.com/ai2i/nullspace/deepmoji/neg_neg.npy' -P 'data/deepmoji'"
      ]
    },
    {
      "cell_type": "markdown",
      "metadata": {},
      "source": [
        "Now we splits the dataset into train, dev, and test sets."
      ]
    },
    {
      "cell_type": "code",
      "execution_count": 3,
      "metadata": {
        "id": "1Q4HZjS138Al"
      },
      "outputs": [],
      "source": [
        "import numpy as np\n",
        "import os\n",
        "\n",
        "\n",
        "def read_data_file(input_file: str):\n",
        "    vecs = np.load(input_file)\n",
        "\n",
        "    np.random.shuffle(vecs)\n",
        "\n",
        "    return vecs[:40000], vecs[40000:42000], vecs[42000:44000]"
      ]
    },
    {
      "cell_type": "code",
      "execution_count": 5,
      "metadata": {
        "id": "chyMOL0U4Hqe"
      },
      "outputs": [],
      "source": [
        "in_dir = \"data/deepmoji\"\n",
        "out_dir = \"data/deepmoji\"\n",
        "\n",
        "os.makedirs(out_dir, exist_ok=True)\n",
        "\n",
        "for split in ['pos_pos', 'pos_neg', 'neg_pos', 'neg_neg']:\n",
        "    train, dev, test = read_data_file(in_dir + '/' + split + '.npy')\n",
        "    for split_dir, data in zip(['train', 'dev', 'test'], [train, dev, test]):\n",
        "        os.makedirs(out_dir + '/' + split_dir, exist_ok=True)\n",
        "        np.save(out_dir + '/' + split_dir + '/' + split + '.npy', data)"
      ]
    },
    {
      "cell_type": "markdown",
      "metadata": {
        "id": "JMQ4Eivp95-p"
      },
      "source": [
        "## 3. Standard Usage"
      ]
    },
    {
      "cell_type": "markdown",
      "metadata": {
        "id": "tncaXJIjQ0JB"
      },
      "source": [
        "So far, we have installed the *fairlib* and prepared the dataset for training. \n",
        "Now let's take a look at an example of training a standard sentiment analysis model naively without debiasing. \n",
        "\n",
        "Before moving to the training, we first define a set of hyperparameters that will be repeatedly used in this tutorial."
      ]
    },
    {
      "cell_type": "code",
      "execution_count": 6,
      "metadata": {
        "id": "PMHxJZD77j2Q"
      },
      "outputs": [],
      "source": [
        "Shared_options = {\n",
        "    # The name of the dataset, corresponding dataloader will be used,\n",
        "    \"dataset\":  \"Moji\",\n",
        "\n",
        "    # Specifiy the path to the input data\n",
        "    \"data_dir\": \"data/deepmoji\",\n",
        "\n",
        "    # Device for computing, -1 is the cpu\n",
        "    \"device_id\":    -1,\n",
        "\n",
        "    # The default path for saving experimental results\n",
        "    \"results_dir\":  r\"results\",\n",
        "\n",
        "    # The same as the dataset\n",
        "    \"project_dir\":  r\"dev\",\n",
        "\n",
        "    # We will focusing on TPR GAP, implying the Equalized Odds for binary classification.\n",
        "    \"GAP_metric_name\":  \"TPR_GAP\",\n",
        "\n",
        "    # The overall performance will be measured as accuracy\n",
        "    \"Performance_metric_name\":  \"accuracy\",\n",
        "\n",
        "    # Model selections are based on DTO\n",
        "    \"selection_criterion\":  \"DTO\",\n",
        "\n",
        "    # Default dirs for saving checkpoints\n",
        "    \"checkpoint_dir\":   \"models\",\n",
        "    \"checkpoint_name\":  \"checkpoint_epoch\",\n",
        "\n",
        "\n",
        "    \"n_jobs\":   1,\n",
        "}"
      ]
    },
    {
      "cell_type": "code",
      "execution_count": 7,
      "metadata": {
        "id": "zsCn6p50-qoK"
      },
      "outputs": [],
      "source": [
        "!rm -rf results"
      ]
    },
    {
      "cell_type": "markdown",
      "metadata": {},
      "source": [
        "Without explicitly specified debiasing approach, *fairlib* indeed trains and evaluates a binary MLP classifier. As a result, we only need to define: (1) path to the dataset, (2) dataset name, which will be used to initialize built-in dataloaders, and (3) experiment id, which is the identifier of the current experiment, and experimental results with respect to the same `exp_id` will be saved in the same dir."
      ]
    },
    {
      "cell_type": "code",
      "execution_count": 8,
      "metadata": {
        "colab": {
          "base_uri": "https://localhost:8080/"
        },
        "id": "Y72Ep-kV95-p",
        "outputId": "8c4d52a4-eb7d-49ae-afbc-ad6b94e2450c"
      },
      "outputs": [
        {
          "name": "stderr",
          "output_type": "stream",
          "text": [
            "INFO:root:Unexpected args: ['-f', '/root/.local/share/jupyter/runtime/kernel-10cf02c4-e4b8-42dc-9e7d-a91b944786e0.json']\n",
            "INFO:root:Logging to ./results/dev/Moji/vanilla/output.log\n"
          ]
        },
        {
          "name": "stdout",
          "output_type": "stream",
          "text": [
            "2022-04-08 14:51:13 [INFO ]  ======================================== 2022-04-08 14:51:13 ========================================\n",
            "2022-04-08 14:51:13 [INFO ]  Base directory is ./results/dev/Moji/vanilla\n",
            "Loaded data shapes: (99998, 2304), (99998,), (99998,)\n",
            "Loaded data shapes: (8000, 2304), (8000,), (8000,)\n",
            "Loaded data shapes: (7998, 2304), (7998,), (7998,)\n"
          ]
        }
      ],
      "source": [
        "args = {\n",
        "    \"dataset\":Shared_options[\"dataset\"], \n",
        "    \"data_dir\":Shared_options[\"data_dir\"],\n",
        "    \"device_id\":Shared_options[\"device_id\"],\n",
        "\n",
        "    # Give a name to the exp, which will be used in the path\n",
        "    \"exp_id\":\"vanilla\",\n",
        "}\n",
        "\n",
        "# Init the argument\n",
        "options = fairlib.BaseOptions()\n",
        "state = options.get_state(args=args, silence=True)"
      ]
    },
    {
      "cell_type": "markdown",
      "metadata": {},
      "source": [
        "### Train a model without explicitly debiasing"
      ]
    },
    {
      "cell_type": "markdown",
      "metadata": {},
      "source": [
        "Given the 2304d encoded text representations, the default model in *fairlib* is a 3-layer MLP classifier with Tanh activation functions in between. \n",
        "\n",
        "To customize the MLP architecture, we can specify the hyperparameters in the `state` as follows\n",
        "```python\n",
        "state.hidden_size = 512\n",
        "state.n_hidden = 3\n",
        "state.activation_function = \"ReLU\"\n",
        "```\n",
        "\n",
        "Please see the [model architecture section](https://github.com/HanXudong/fairlib/blob/main/docs/usage.md#basic-operation) for more details about the hyperparameters corresponding to the model architecture."
      ]
    },
    {
      "cell_type": "code",
      "execution_count": 9,
      "metadata": {
        "colab": {
          "base_uri": "https://localhost:8080/"
        },
        "id": "Cjg7pH1R95-r",
        "outputId": "cd86207c-fcab-42c7-aa5d-803e958db528"
      },
      "outputs": [
        {
          "name": "stdout",
          "output_type": "stream",
          "text": [
            "2022-04-08 14:51:19 [INFO ]  MLP( \n",
            "2022-04-08 14:51:19 [INFO ]    (output_layer): Linear(in_features=300, out_features=2, bias=True)\n",
            "2022-04-08 14:51:19 [INFO ]    (AF): Tanh()\n",
            "2022-04-08 14:51:19 [INFO ]    (hidden_layers): ModuleList(\n",
            "2022-04-08 14:51:19 [INFO ]      (0): Linear(in_features=2304, out_features=300, bias=True)\n",
            "2022-04-08 14:51:19 [INFO ]      (1): Tanh()\n",
            "2022-04-08 14:51:19 [INFO ]      (2): Linear(in_features=300, out_features=300, bias=True)\n",
            "2022-04-08 14:51:19 [INFO ]      (3): Tanh()\n",
            "2022-04-08 14:51:19 [INFO ]    )\n",
            "2022-04-08 14:51:19 [INFO ]    (criterion): CrossEntropyLoss()\n",
            "2022-04-08 14:51:19 [INFO ]  )\n",
            "2022-04-08 14:51:19 [INFO ]  Total number of parameters: 782402 \n",
            "\n"
          ]
        }
      ],
      "source": [
        "# Init Model\n",
        "model = fairlib.networks.get_main_model(state)"
      ]
    },
    {
      "cell_type": "markdown",
      "metadata": {},
      "source": [
        "A list of hyperparameters have been predefined in *fairlib*, so we can now directly train a model with the built-in `train_self` method of the model class.\n",
        "\n",
        "Please see the [link](https://github.com/HanXudong/fairlib/blob/23a32a6f4b3db00134bd651a6e0aa0747ba0adc2/fairlib/src/base_options.py#L162-L200) for all hyperparameters associated with model training."
      ]
    },
    {
      "cell_type": "code",
      "execution_count": 10,
      "metadata": {
        "colab": {
          "base_uri": "https://localhost:8080/"
        },
        "id": "jxEnlrt195-r",
        "outputId": "60aab867-3178-4ded-c9ec-d389bb8d58a9"
      },
      "outputs": [
        {
          "name": "stdout",
          "output_type": "stream",
          "text": [
            "2022-04-08 14:51:23 [INFO ]  Epoch:    0 [      0/  99998 ( 0%)]\tLoss: 0.6954\t Data Time: 0.07s\tTrain Time: 0.40s\n",
            "2022-04-08 14:51:32 [INFO ]  Epoch:    0 [  51200/  99998 (51%)]\tLoss: 0.3829\t Data Time: 0.35s\tTrain Time: 8.09s\n",
            "2022-04-08 14:51:42 [INFO ]  Evaluation at Epoch 0\n",
            "2022-04-08 14:51:42 [INFO ]  Validation accuracy: 72.70\tmacro_fscore: 72.66\tmicro_fscore: 72.70\tTPR_GAP: 37.05\tFPR_GAP: 37.05\tPPR_GAP: 36.20\t\n",
            "2022-04-08 14:51:42 [INFO ]  Test accuracy: 71.58\tmacro_fscore: 71.53\tmicro_fscore: 71.58\tTPR_GAP: 40.48\tFPR_GAP: 40.48\tPPR_GAP: 39.79\t\n",
            "2022-04-08 14:51:42 [INFO ]  Epoch:    1 [      0/  99998 ( 0%)]\tLoss: 0.3781\t Data Time: 0.01s\tTrain Time: 0.16s\n",
            "2022-04-08 14:51:50 [INFO ]  Epoch:    1 [  51200/  99998 (51%)]\tLoss: 0.3503\t Data Time: 0.37s\tTrain Time: 8.36s\n",
            "2022-04-08 14:52:00 [INFO ]  Epochs since last improvement: 1\n",
            "2022-04-08 14:52:00 [INFO ]  Evaluation at Epoch 1\n",
            "2022-04-08 14:52:00 [INFO ]  Validation accuracy: 71.85\tmacro_fscore: 71.81\tmicro_fscore: 71.85\tTPR_GAP: 38.97\tFPR_GAP: 38.97\tPPR_GAP: 38.30\t\n",
            "2022-04-08 14:52:00 [INFO ]  Test accuracy: 71.33\tmacro_fscore: 71.28\tmicro_fscore: 71.33\tTPR_GAP: 41.45\tFPR_GAP: 41.45\tPPR_GAP: 40.74\t\n",
            "2022-04-08 14:52:00 [INFO ]  Epoch:    2 [      0/  99998 ( 0%)]\tLoss: 0.4052\t Data Time: 0.02s\tTrain Time: 0.16s\n",
            "2022-04-08 14:52:09 [INFO ]  Epoch:    2 [  51200/  99998 (51%)]\tLoss: 0.3525\t Data Time: 0.37s\tTrain Time: 8.23s\n",
            "2022-04-08 14:52:18 [INFO ]  Epochs since last improvement: 2\n",
            "2022-04-08 14:52:19 [INFO ]  Evaluation at Epoch 2\n",
            "2022-04-08 14:52:19 [INFO ]  Validation accuracy: 72.36\tmacro_fscore: 72.17\tmicro_fscore: 72.36\tTPR_GAP: 38.67\tFPR_GAP: 38.67\tPPR_GAP: 36.92\t\n",
            "2022-04-08 14:52:19 [INFO ]  Test accuracy: 71.56\tmacro_fscore: 71.35\tmicro_fscore: 71.56\tTPR_GAP: 41.09\tFPR_GAP: 41.09\tPPR_GAP: 39.54\t\n",
            "2022-04-08 14:52:20 [INFO ]  Epoch:    3 [      0/  99998 ( 0%)]\tLoss: 0.3497\t Data Time: 0.04s\tTrain Time: 0.36s\n",
            "2022-04-08 14:52:28 [INFO ]  Epoch:    3 [  51200/  99998 (51%)]\tLoss: 0.3797\t Data Time: 0.37s\tTrain Time: 8.41s\n",
            "2022-04-08 14:52:37 [INFO ]  Evaluation at Epoch 3\n",
            "2022-04-08 14:52:37 [INFO ]  Validation accuracy: 72.79\tmacro_fscore: 72.75\tmicro_fscore: 72.79\tTPR_GAP: 35.99\tFPR_GAP: 35.99\tPPR_GAP: 35.22\t\n",
            "2022-04-08 14:52:37 [INFO ]  Test accuracy: 71.79\tmacro_fscore: 71.74\tmicro_fscore: 71.79\tTPR_GAP: 38.87\tFPR_GAP: 38.87\tPPR_GAP: 38.21\t\n",
            "2022-04-08 14:52:38 [INFO ]  Epoch:    4 [      0/  99998 ( 0%)]\tLoss: 0.3694\t Data Time: 0.01s\tTrain Time: 0.16s\n",
            "2022-04-08 14:52:46 [INFO ]  Epoch:    4 [  51200/  99998 (51%)]\tLoss: 0.3692\t Data Time: 0.54s\tTrain Time: 8.14s\n",
            "2022-04-08 14:52:55 [INFO ]  Epochs since last improvement: 1\n",
            "2022-04-08 14:52:56 [INFO ]  Evaluation at Epoch 4\n",
            "2022-04-08 14:52:56 [INFO ]  Validation accuracy: 72.32\tmacro_fscore: 72.16\tmicro_fscore: 72.33\tTPR_GAP: 39.07\tFPR_GAP: 39.07\tPPR_GAP: 37.60\t\n",
            "2022-04-08 14:52:56 [INFO ]  Test accuracy: 71.39\tmacro_fscore: 71.21\tmicro_fscore: 71.39\tTPR_GAP: 41.54\tFPR_GAP: 41.54\tPPR_GAP: 40.01\t\n",
            "2022-04-08 14:52:56 [INFO ]  Epoch:    5 [      0/  99998 ( 0%)]\tLoss: 0.3879\t Data Time: 0.01s\tTrain Time: 0.16s\n",
            "2022-04-08 14:53:04 [INFO ]  Epoch:    5 [  51200/  99998 (51%)]\tLoss: 0.3828\t Data Time: 0.36s\tTrain Time: 7.99s\n",
            "2022-04-08 14:53:12 [INFO ]  Epochs since last improvement: 2\n",
            "2022-04-08 14:53:13 [INFO ]  Evaluation at Epoch 5\n",
            "2022-04-08 14:53:13 [INFO ]  Validation accuracy: 72.55\tmacro_fscore: 72.45\tmicro_fscore: 72.55\tTPR_GAP: 38.03\tFPR_GAP: 38.03\tPPR_GAP: 36.80\t\n",
            "2022-04-08 14:53:13 [INFO ]  Test accuracy: 71.74\tmacro_fscore: 71.63\tmicro_fscore: 71.74\tTPR_GAP: 39.88\tFPR_GAP: 39.88\tPPR_GAP: 38.81\t\n",
            "2022-04-08 14:53:13 [INFO ]  Epoch:    6 [      0/  99998 ( 0%)]\tLoss: 0.3656\t Data Time: 0.01s\tTrain Time: 0.15s\n",
            "2022-04-08 14:53:22 [INFO ]  Epoch:    6 [  51200/  99998 (51%)]\tLoss: 0.3765\t Data Time: 0.37s\tTrain Time: 8.17s\n",
            "2022-04-08 14:53:30 [INFO ]  Epochs since last improvement: 3\n",
            "2022-04-08 14:53:31 [INFO ]  Evaluation at Epoch 6\n",
            "2022-04-08 14:53:31 [INFO ]  Validation accuracy: 72.17\tmacro_fscore: 72.09\tmicro_fscore: 72.17\tTPR_GAP: 38.89\tFPR_GAP: 38.89\tPPR_GAP: 37.85\t\n",
            "2022-04-08 14:53:31 [INFO ]  Test accuracy: 71.47\tmacro_fscore: 71.37\tmicro_fscore: 71.47\tTPR_GAP: 41.73\tFPR_GAP: 41.73\tPPR_GAP: 40.76\t\n",
            "2022-04-08 14:53:31 [INFO ]  Epoch:    7 [      0/  99998 ( 0%)]\tLoss: 0.3650\t Data Time: 0.01s\tTrain Time: 0.16s\n",
            "2022-04-08 14:53:40 [INFO ]  Epoch:    7 [  51200/  99998 (51%)]\tLoss: 0.3586\t Data Time: 0.36s\tTrain Time: 8.05s\n",
            "2022-04-08 14:53:48 [INFO ]  Epochs since last improvement: 4\n",
            "2022-04-08 14:53:49 [INFO ]  Evaluation at Epoch 7\n",
            "2022-04-08 14:53:49 [INFO ]  Validation accuracy: 72.14\tmacro_fscore: 72.10\tmicro_fscore: 72.14\tTPR_GAP: 37.91\tFPR_GAP: 37.91\tPPR_GAP: 37.27\t\n",
            "2022-04-08 14:53:49 [INFO ]  Test accuracy: 71.29\tmacro_fscore: 71.24\tmicro_fscore: 71.29\tTPR_GAP: 40.48\tFPR_GAP: 40.48\tPPR_GAP: 39.76\t\n",
            "2022-04-08 14:53:49 [INFO ]  Epoch:    8 [      0/  99998 ( 0%)]\tLoss: 0.3568\t Data Time: 0.01s\tTrain Time: 0.16s\n",
            "2022-04-08 14:53:57 [INFO ]  Epoch:    8 [  51200/  99998 (51%)]\tLoss: 0.3891\t Data Time: 0.36s\tTrain Time: 7.97s\n",
            "2022-04-08 14:54:06 [INFO ]  Epochs since last improvement: 5\n",
            "2022-04-08 14:54:06 [INFO ]  Evaluation at Epoch 8\n",
            "2022-04-08 14:54:06 [INFO ]  Validation accuracy: 72.06\tmacro_fscore: 72.03\tmicro_fscore: 72.06\tTPR_GAP: 38.33\tFPR_GAP: 38.33\tPPR_GAP: 37.67\t\n",
            "2022-04-08 14:54:06 [INFO ]  Test accuracy: 71.59\tmacro_fscore: 71.55\tmicro_fscore: 71.59\tTPR_GAP: 40.92\tFPR_GAP: 40.92\tPPR_GAP: 40.26\t\n"
          ]
        }
      ],
      "source": [
        "model.train_self()"
      ]
    },
    {
      "cell_type": "markdown",
      "metadata": {},
      "source": [
        "After each iteration (epoch), evaluation results over validation set and test set will be printed, including metrics for both performance and fairness.\n",
        "- Performance metrics: accuracy, macro F1 score, and micro F1 score\n",
        "- Bias metrics： RMS aggregated TPR GAP, RMS aggregated TNR GAP, and RMS aggregated PPR GAP.\n",
        "\n",
        "Briefly, these bias metrics measure the extent to which protected groups perform differently from each other, for example the TPR GAP here measures the True Positive Rate difference between AAE and SAE. All these three bias metrics should be 0 for a fair model.\n",
        "\n",
        "Moreover, GAP metrics could be aligned with certain well-known fairness metric, for example, TPR GAP corresponds to Equal Opportunity Fairness, and Equalized Odds criterion is measured by both TPR GAP and FPR GAP. For more discussions about classification fairness metrics, please refer to [Barocas et al. 2019](https://fairmlbook.org/classification.html).\n",
        "\n",
        "It can be seen that the naively trained model achieves around 71\\% accuracy and 40\\% GAP, which is not ideal."
      ]
    },
    {
      "cell_type": "markdown",
      "metadata": {},
      "source": [
        "### Bias mitigation through balanced training and adversarial training"
      ]
    },
    {
      "cell_type": "markdown",
      "metadata": {},
      "source": [
        "To mitigate bias in the sentiment analysis, we show an example of employing balanced training and adversarial training simultaneously.\n",
        "\n",
        "In terms of the balanced training, we resample each group of instances with different probabilities corresponding to the Equal Opportunity fairness criterion ([Han et al. 2021](https://arxiv.org/abs/2109.08253)).\n",
        "\n",
        "Adversarial training ([Li et al. 2018](https://arxiv.org/abs/1805.06093)) is applied at the training time, where an extra adversary component is trained to identify protected labels (AAE verse SAE in this tutorial) from the intermediate representations of the sentiment analysis model. The sentiment analysis model will be trained to unlearn the adversary, i.e., remove race information from its intermediate representations, and thus makes fairer predictions.\n",
        "\n",
        "Balanced training and adversarial training are built-in methods in *fairlib*, so we can adopt this two methods by simply specifying corresponding arguments as shown in the following cell.\n",
        "\n",
        "- A list of supported bias mitigation methods are shown [here](https://github.com/HanXudong/fairlib/blob/main/docs/supported_bias_mitigation_algorithms.md)\n",
        "- The [usage](https://github.com/HanXudong/fairlib/blob/main/docs/usage.md) file introduces further options associated with each debiasing methods, such as the adversary architecture and balanced training strategies."
      ]
    },
    {
      "cell_type": "code",
      "execution_count": 11,
      "metadata": {
        "colab": {
          "base_uri": "https://localhost:8080/"
        },
        "id": "-jLl7Wtt95-s",
        "outputId": "209164b6-06be-4d00-8b7b-088ebf4a2a6b"
      },
      "outputs": [
        {
          "name": "stdout",
          "output_type": "stream",
          "text": [
            "2022-04-08 14:55:47 [INFO ]  Unexpected args: ['-f', '/root/.local/share/jupyter/runtime/kernel-10cf02c4-e4b8-42dc-9e7d-a91b944786e0.json']\n",
            "2022-04-08 14:55:47 [INFO ]  Logging to ./results/dev/Moji/BT_Adv/output.log\n",
            "2022-04-08 14:55:47 [INFO ]  ======================================== 2022-04-08 14:55:47 ========================================\n",
            "2022-04-08 14:55:47 [INFO ]  Base directory is ./results/dev/Moji/BT_Adv\n",
            "Loaded data shapes: (39996, 2304), (39996,), (39996,)\n",
            "Loaded data shapes: (8000, 2304), (8000,), (8000,)\n",
            "Loaded data shapes: (7996, 2304), (7996,), (7996,)\n",
            "2022-04-08 14:55:52 [INFO ]  SubDiscriminator( \n",
            "2022-04-08 14:55:52 [INFO ]    (grad_rev): GradientReversal()\n",
            "2022-04-08 14:55:52 [INFO ]    (output_layer): Linear(in_features=300, out_features=2, bias=True)\n",
            "2022-04-08 14:55:52 [INFO ]    (AF): ReLU()\n",
            "2022-04-08 14:55:52 [INFO ]    (hidden_layers): ModuleList(\n",
            "2022-04-08 14:55:52 [INFO ]      (0): Linear(in_features=300, out_features=300, bias=True)\n",
            "2022-04-08 14:55:52 [INFO ]      (1): ReLU()\n",
            "2022-04-08 14:55:52 [INFO ]      (2): Linear(in_features=300, out_features=300, bias=True)\n",
            "2022-04-08 14:55:52 [INFO ]      (3): ReLU()\n",
            "2022-04-08 14:55:52 [INFO ]    )\n",
            "2022-04-08 14:55:52 [INFO ]    (criterion): CrossEntropyLoss()\n",
            "2022-04-08 14:55:52 [INFO ]  )\n",
            "2022-04-08 14:55:52 [INFO ]  Total number of parameters: 181202 \n",
            "\n",
            "2022-04-08 14:55:52 [INFO ]  Discriminator built!\n",
            "2022-04-08 14:55:52 [INFO ]  MLP( \n",
            "2022-04-08 14:55:52 [INFO ]    (output_layer): Linear(in_features=300, out_features=2, bias=True)\n",
            "2022-04-08 14:55:52 [INFO ]    (AF): Tanh()\n",
            "2022-04-08 14:55:52 [INFO ]    (hidden_layers): ModuleList(\n",
            "2022-04-08 14:55:52 [INFO ]      (0): Linear(in_features=2304, out_features=300, bias=True)\n",
            "2022-04-08 14:55:52 [INFO ]      (1): Tanh()\n",
            "2022-04-08 14:55:52 [INFO ]      (2): Linear(in_features=300, out_features=300, bias=True)\n",
            "2022-04-08 14:55:52 [INFO ]      (3): Tanh()\n",
            "2022-04-08 14:55:52 [INFO ]    )\n",
            "2022-04-08 14:55:52 [INFO ]    (criterion): CrossEntropyLoss()\n",
            "2022-04-08 14:55:52 [INFO ]  )\n",
            "2022-04-08 14:55:52 [INFO ]  Total number of parameters: 782402 \n",
            "\n"
          ]
        }
      ],
      "source": [
        "debiasing_args = {\n",
        "    \"dataset\":Shared_options[\"dataset\"], \n",
        "    \"data_dir\":Shared_options[\"data_dir\"],\n",
        "    \"device_id\":Shared_options[\"device_id\"],\n",
        "\n",
        "    # Exp name\n",
        "    \"exp_id\":\"BT_Adv\",\n",
        "\n",
        "    # Perform adversarial training if True\n",
        "    \"adv_debiasing\":True,\n",
        "\n",
        "    # Specify the hyperparameters for Balanced Training\n",
        "    \"BT\":\"Resampling\",\n",
        "    \"BTObj\":\"EO\",\n",
        "}\n",
        "\n",
        "debias_options = fairlib.BaseOptions()\n",
        "debias_state = debias_options.get_state(args=debiasing_args, silence=True)\n",
        "\n",
        "debias_model = fairlib.networks.get_main_model(debias_state)"
      ]
    },
    {
      "cell_type": "markdown",
      "metadata": {},
      "source": [
        "It can be seen from the last cell that the training dataset size is smaller than before (40k verse 100k) due to the preprocessing for balanced training, and a MLP adversary is initialized for adversarial debiasing.\n",
        "\n",
        "The training process will be the same as the vanilla method. We just call the `train_self` function again to train a model with bias mitigation."
      ]
    },
    {
      "cell_type": "code",
      "execution_count": 12,
      "metadata": {
        "colab": {
          "base_uri": "https://localhost:8080/"
        },
        "id": "QNFVF7EQ95-s",
        "outputId": "2d3ca7b0-5a96-44a7-f18c-3e56bb82283f"
      },
      "outputs": [
        {
          "name": "stdout",
          "output_type": "stream",
          "text": [
            "2022-04-08 14:55:59 [INFO ]  Epoch:    0 [      0/  39996 ( 0%)]\tLoss: 0.0016\t Data Time: 0.01s\tTrain Time: 0.51s\n",
            "2022-04-08 14:56:19 [INFO ]  Evaluation at Epoch 0\n",
            "2022-04-08 14:56:19 [INFO ]  Validation accuracy: 72.72\tmacro_fscore: 71.74\tmicro_fscore: 72.72\tTPR_GAP: 10.90\tFPR_GAP: 10.90\tPPR_GAP: 7.40\t\n",
            "2022-04-08 14:56:19 [INFO ]  Test accuracy: 72.39\tmacro_fscore: 71.34\tmicro_fscore: 72.39\tTPR_GAP: 14.40\tFPR_GAP: 14.40\tPPR_GAP: 10.26\t\n",
            "2022-04-08 14:56:20 [INFO ]  Epoch:    1 [      0/  39996 ( 0%)]\tLoss: -0.1399\t Data Time: 0.01s\tTrain Time: 0.49s\n",
            "2022-04-08 14:56:40 [INFO ]  Evaluation at Epoch 1\n",
            "2022-04-08 14:56:40 [INFO ]  Validation accuracy: 73.11\tmacro_fscore: 72.43\tmicro_fscore: 73.11\tTPR_GAP: 5.55\tFPR_GAP: 5.55\tPPR_GAP: 1.57\t\n",
            "2022-04-08 14:56:40 [INFO ]  Test accuracy: 72.72\tmacro_fscore: 72.03\tmicro_fscore: 72.72\tTPR_GAP: 7.57\tFPR_GAP: 7.57\tPPR_GAP: 0.78\t\n",
            "2022-04-08 14:56:40 [INFO ]  Epoch:    2 [      0/  39996 ( 0%)]\tLoss: -0.1465\t Data Time: 0.01s\tTrain Time: 0.49s\n",
            "2022-04-08 14:57:00 [INFO ]  Evaluation at Epoch 2\n",
            "2022-04-08 14:57:00 [INFO ]  Validation accuracy: 73.90\tmacro_fscore: 73.73\tmicro_fscore: 73.90\tTPR_GAP: 10.17\tFPR_GAP: 10.17\tPPR_GAP: 4.55\t\n",
            "2022-04-08 14:57:00 [INFO ]  Test accuracy: 73.46\tmacro_fscore: 73.31\tmicro_fscore: 73.46\tTPR_GAP: 10.46\tFPR_GAP: 10.46\tPPR_GAP: 2.30\t\n",
            "2022-04-08 14:57:01 [INFO ]  Epoch:    3 [      0/  39996 ( 0%)]\tLoss: -0.1773\t Data Time: 0.01s\tTrain Time: 0.50s\n",
            "2022-04-08 14:57:21 [INFO ]  Evaluation at Epoch 3\n",
            "2022-04-08 14:57:21 [INFO ]  Validation accuracy: 75.41\tmacro_fscore: 75.40\tmicro_fscore: 75.41\tTPR_GAP: 9.54\tFPR_GAP: 9.54\tPPR_GAP: 5.72\t\n",
            "2022-04-08 14:57:21 [INFO ]  Test accuracy: 74.71\tmacro_fscore: 74.70\tmicro_fscore: 74.71\tTPR_GAP: 11.75\tFPR_GAP: 11.75\tPPR_GAP: 7.95\t\n",
            "2022-04-08 14:57:22 [INFO ]  Epoch:    4 [      0/  39996 ( 0%)]\tLoss: -0.2092\t Data Time: 0.01s\tTrain Time: 0.49s\n",
            "2022-04-08 14:57:43 [INFO ]  Evaluation at Epoch 4\n",
            "2022-04-08 14:57:43 [INFO ]  Validation accuracy: 75.17\tmacro_fscore: 75.12\tmicro_fscore: 75.17\tTPR_GAP: 8.86\tFPR_GAP: 8.86\tPPR_GAP: 2.15\t\n",
            "2022-04-08 14:57:43 [INFO ]  Test accuracy: 75.31\tmacro_fscore: 75.25\tmicro_fscore: 75.31\tTPR_GAP: 11.39\tFPR_GAP: 11.39\tPPR_GAP: 4.15\t\n",
            "2022-04-08 14:57:43 [INFO ]  Epoch:    5 [      0/  39996 ( 0%)]\tLoss: -0.2024\t Data Time: 0.01s\tTrain Time: 0.50s\n",
            "2022-04-08 14:58:03 [INFO ]  Epochs since last improvement: 1\n",
            "2022-04-08 14:58:04 [INFO ]  Evaluation at Epoch 5\n",
            "2022-04-08 14:58:04 [INFO ]  Validation accuracy: 72.12\tmacro_fscore: 71.61\tmicro_fscore: 72.12\tTPR_GAP: 11.74\tFPR_GAP: 11.74\tPPR_GAP: 10.65\t\n",
            "2022-04-08 14:58:04 [INFO ]  Test accuracy: 71.32\tmacro_fscore: 70.75\tmicro_fscore: 71.32\tTPR_GAP: 13.94\tFPR_GAP: 13.94\tPPR_GAP: 13.33\t\n",
            "2022-04-08 14:58:05 [INFO ]  Epoch:    6 [      0/  39996 ( 0%)]\tLoss: -0.1922\t Data Time: 0.01s\tTrain Time: 0.51s\n",
            "2022-04-08 14:58:24 [INFO ]  Epochs since last improvement: 2\n",
            "2022-04-08 14:58:25 [INFO ]  Evaluation at Epoch 6\n",
            "2022-04-08 14:58:25 [INFO ]  Validation accuracy: 74.78\tmacro_fscore: 74.38\tmicro_fscore: 74.78\tTPR_GAP: 16.35\tFPR_GAP: 16.35\tPPR_GAP: 13.55\t\n",
            "2022-04-08 14:58:25 [INFO ]  Test accuracy: 74.79\tmacro_fscore: 74.36\tmicro_fscore: 74.79\tTPR_GAP: 20.83\tFPR_GAP: 20.83\tPPR_GAP: 17.06\t\n",
            "2022-04-08 14:58:25 [INFO ]  Epoch:    7 [      0/  39996 ( 0%)]\tLoss: -0.1523\t Data Time: 0.01s\tTrain Time: 0.50s\n",
            "2022-04-08 14:58:45 [INFO ]  Epochs since last improvement: 3\n",
            "2022-04-08 14:58:46 [INFO ]  Evaluation at Epoch 7\n",
            "2022-04-08 14:58:46 [INFO ]  Validation accuracy: 75.70\tmacro_fscore: 75.67\tmicro_fscore: 75.70\tTPR_GAP: 10.11\tFPR_GAP: 10.11\tPPR_GAP: 5.55\t\n",
            "2022-04-08 14:58:46 [INFO ]  Test accuracy: 75.60\tmacro_fscore: 75.57\tmicro_fscore: 75.60\tTPR_GAP: 12.75\tFPR_GAP: 12.75\tPPR_GAP: 7.48\t\n",
            "2022-04-08 14:58:46 [INFO ]  Epoch:    8 [      0/  39996 ( 0%)]\tLoss: -0.1979\t Data Time: 0.01s\tTrain Time: 0.49s\n",
            "2022-04-08 14:59:06 [INFO ]  Epochs since last improvement: 4\n",
            "2022-04-08 14:59:07 [INFO ]  Evaluation at Epoch 8\n",
            "2022-04-08 14:59:07 [INFO ]  Validation accuracy: 75.44\tmacro_fscore: 75.44\tmicro_fscore: 75.44\tTPR_GAP: 8.92\tFPR_GAP: 8.92\tPPR_GAP: 0.87\t\n",
            "2022-04-08 14:59:07 [INFO ]  Test accuracy: 74.91\tmacro_fscore: 74.91\tmicro_fscore: 74.91\tTPR_GAP: 11.26\tFPR_GAP: 11.26\tPPR_GAP: 1.55\t\n",
            "2022-04-08 14:59:07 [INFO ]  Epoch:    9 [      0/  39996 ( 0%)]\tLoss: -0.1728\t Data Time: 0.01s\tTrain Time: 0.50s\n",
            "2022-04-08 14:59:27 [INFO ]  Epochs since last improvement: 5\n",
            "2022-04-08 14:59:27 [INFO ]  Evaluation at Epoch 9\n",
            "2022-04-08 14:59:27 [INFO ]  Validation accuracy: 75.28\tmacro_fscore: 75.09\tmicro_fscore: 75.28\tTPR_GAP: 16.27\tFPR_GAP: 16.27\tPPR_GAP: 13.10\t\n",
            "2022-04-08 14:59:27 [INFO ]  Test accuracy: 75.11\tmacro_fscore: 74.90\tmicro_fscore: 75.11\tTPR_GAP: 19.30\tFPR_GAP: 19.30\tPPR_GAP: 15.96\t\n"
          ]
        }
      ],
      "source": [
        "# Around 90s\n",
        "debias_model.train_self()"
      ]
    },
    {
      "cell_type": "markdown",
      "metadata": {},
      "source": [
        "It can be seen that GAP scores drop significantly, confirming that the the debiasing method indeed improves fairness.\n",
        "\n",
        "Here we provide two more examples for employing different debiasing methods.\n",
        "\n",
        "- Only using the adversarial training for bias mitigation\n",
        "\n",
        "    Basically, we just need to remove the options that are not not related adversarial training\n",
        "\n",
        "    ```python\n",
        "    debiasing_args = {\n",
        "        \"dataset\":Shared_options[\"dataset\"], \n",
        "        \"data_dir\":Shared_options[\"data_dir\"],\n",
        "        \"device_id\":Shared_options[\"device_id\"],\n",
        "\n",
        "        # Exp name\n",
        "        \"exp_id\":\"Adv\",\n",
        "\n",
        "        # Perform adversarial training if True\n",
        "        \"adv_debiasing\":True,\n",
        "\n",
        "        # Remove the hyperparameters for Balanced Training\n",
        "        # \"BT\":\"Resampling\",\n",
        "        # \"BTObj\":\"EO\",\n",
        "    }\n",
        "    ```\n",
        "\n",
        "\n",
        "- Use more debiasing methods simultaneously\n",
        "\n",
        "    In addition to balanced training and adversarial training, employ FairBatch ([Roh te al. 2021](https://github.com/yuji-roh/fairbatch)) for bias mitigation\n",
        "    \n",
        "    We can direct add FairBatch options to the argument dict as follows,\n",
        "    ```python\n",
        "        debiasing_args = {\n",
        "            \"dataset\":Shared_options[\"dataset\"], \n",
        "            \"data_dir\":Shared_options[\"data_dir\"],\n",
        "            \"device_id\":Shared_options[\"device_id\"],\n",
        "\n",
        "            # Exp name\n",
        "            \"exp_id\":\"BT_Adv_FairBatch\",\n",
        "\n",
        "            # Perform adversarial training if True\n",
        "            \"adv_debiasing\":True,\n",
        "\n",
        "            # Specify the hyperparameters for Balanced Training\n",
        "            \"BT\":\"Resampling\",\n",
        "            \"BTObj\":\"EO\",\n",
        "\n",
        "            # Specify the hyperparameters for FairBatch\n",
        "            \"DyBT\": \"FairBatch\", \n",
        "            \"DyBTObj\": \"stratified_y\" # Equivalent to the EO FairBatch in the original paper\n",
        "        }\n",
        "    ```\n"
      ]
    },
    {
      "cell_type": "markdown",
      "metadata": {
        "id": "4_RYwXR-95-s"
      },
      "source": [
        "## Analysis\n",
        "\n",
        "Previous sections have demonstrated how to train a model for bias mitigation under different settings. \n",
        "Besides, there are also some other important aspects that need to be considered, including,\n",
        "- how to select an desired model when considering both fairness and performance?\n",
        "- how to compare different debiasing methods systematically?\n",
        "- how to present experimental results?\n",
        "\n",
        "The `analysis` component in *fairlib* aims at addressing problems, which can be used for retrieving results, selecting models, and comparing models."
      ]
    },
    {
      "cell_type": "markdown",
      "metadata": {
        "id": "-PLJ_lYX95-t"
      },
      "source": [
        "### Saved material\n",
        "\n",
        "During the model training, *fairlib* saves essential results for later analysis, so let's explore what has been stored.\n",
        "\n",
        "The saving dir is specified by the arguments when initialing the state for training as: `results_dir`/`project_dir`/`dataset`/`exp_id`.\n",
        "\n",
        "The following example shows the information that has been stored for the first epoch (i.e. epoch 0):"
      ]
    },
    {
      "cell_type": "code",
      "execution_count": 13,
      "metadata": {
        "colab": {
          "base_uri": "https://localhost:8080/"
        },
        "id": "x0LKo1uu95-t",
        "outputId": "46017158-8900-4328-f2f0-a57901edecc0"
      },
      "outputs": [
        {
          "name": "stdout",
          "output_type": "stream",
          "text": [
            "dict_keys(['epoch', 'epochs_since_improvement', 'loss', 'valid_confusion_matrices', 'test_confusion_matrices', 'dev_evaluations', 'test_evaluations'])\n"
          ]
        }
      ],
      "source": [
        "import torch\n",
        "\n",
        "path = \"{results_dir}/{project_dir}/{dataset}/{exp_id}/{checkpoint_dir}/{checkpoint_name}{epoch}.pth.tar\"\n",
        "\n",
        "# Path to the first epoch\n",
        "path_vanilla_epoch0 = path.format(\n",
        "    exp_id = \"vanilla\",\n",
        "    epoch = \"0\",\n",
        "    results_dir=Shared_options[\"results_dir\"],\n",
        "    project_dir=Shared_options[\"project_dir\"],\n",
        "    dataset=Shared_options[\"dataset\"],\n",
        "    checkpoint_dir=Shared_options[\"checkpoint_dir\"],\n",
        "    checkpoint_name=Shared_options[\"checkpoint_name\"],\n",
        ")\n",
        "\n",
        "epoch_results = torch.load(path_vanilla_epoch0)\n",
        "# The keys for saved items\n",
        "print(epoch_results.keys())"
      ]
    },
    {
      "cell_type": "markdown",
      "metadata": {},
      "source": [
        "For each epoch, the printed information during the model training, such as evaluation results over validation and test set, have been stored."
      ]
    },
    {
      "cell_type": "code",
      "execution_count": 14,
      "metadata": {
        "colab": {
          "base_uri": "https://localhost:8080/"
        },
        "id": "p3iW2W_U95-t",
        "outputId": "c9b138fb-f23f-4bb3-93d5-39d2f1cc394d"
      },
      "outputs": [
        {
          "name": "stdout",
          "output_type": "stream",
          "text": [
            "{'accuracy': 0.727, 'macro_fscore': 0.7265625, 'micro_fscore': 0.7269999999999999, 'TPR_GAP': 0.3705199012931695, 'FPR_GAP': 0.37051990685096803, 'PPR_GAP': 0.3619999990950001}\n"
          ]
        }
      ],
      "source": [
        "print(epoch_results[\"dev_evaluations\"])"
      ]
    },
    {
      "cell_type": "markdown",
      "metadata": {},
      "source": [
        "Moreover, *fairlib* will also save the confusion matrix for each epoch, such that any confusion-matrix based scores can be post-calculated in later analysis without the need for retraining the models."
      ]
    },
    {
      "cell_type": "markdown",
      "metadata": {},
      "source": []
    },
    {
      "cell_type": "code",
      "execution_count": 15,
      "metadata": {
        "id": "ec3ab6KE95-u"
      },
      "outputs": [],
      "source": [
        "from fairlib import analysis"
      ]
    },
    {
      "cell_type": "markdown",
      "metadata": {},
      "source": [
        "### How to select an desired model when considering both fairness and performance?\n",
        "\n",
        "As discussed in Section 4 of our paper, there are different ways of selecting the best model, here we use the DTO metric for epoch selection."
      ]
    },
    {
      "cell_type": "markdown",
      "metadata": {
        "id": "DExIbSd6Very"
      },
      "source": [
        "`model_selection` is for retriving experiimental results, selecting the desired epoch, and save the resulting df for later process."
      ]
    },
    {
      "cell_type": "code",
      "execution_count": 16,
      "metadata": {
        "colab": {
          "base_uri": "https://localhost:8080/",
          "height": 164
        },
        "id": "A3RixGf695-u",
        "outputId": "f7a0ba76-d470-4dd6-9c29-1904e3ae90f3"
      },
      "outputs": [
        {
          "name": "stderr",
          "output_type": "stream",
          "text": [
            "[Parallel(n_jobs=1)]: Using backend SequentialBackend with 1 concurrent workers.\n",
            "[Parallel(n_jobs=1)]: Done   1 out of   1 | elapsed:    0.0s remaining:    0.0s\n",
            "[Parallel(n_jobs=1)]: Done   1 out of   1 | elapsed:    0.0s finished\n"
          ]
        },
        {
          "data": {
            "text/html": [
              "\n",
              "  <div id=\"df-13f7bf7f-bb08-46a9-b0f6-0ab4f45cfd76\">\n",
              "    <div class=\"colab-df-container\">\n",
              "      <div>\n",
              "<style scoped>\n",
              "    .dataframe tbody tr th:only-of-type {\n",
              "        vertical-align: middle;\n",
              "    }\n",
              "\n",
              "    .dataframe tbody tr th {\n",
              "        vertical-align: top;\n",
              "    }\n",
              "\n",
              "    .dataframe thead th {\n",
              "        text-align: right;\n",
              "    }\n",
              "</style>\n",
              "<table border=\"1\" class=\"dataframe\">\n",
              "  <thead>\n",
              "    <tr style=\"text-align: right;\">\n",
              "      <th></th>\n",
              "      <th></th>\n",
              "      <th></th>\n",
              "      <th>epoch</th>\n",
              "      <th>dev_fairness</th>\n",
              "      <th>dev_performance</th>\n",
              "      <th>dev_DTO</th>\n",
              "      <th>test_fairness</th>\n",
              "      <th>test_performance</th>\n",
              "      <th>test_DTO</th>\n",
              "      <th>opt_dir</th>\n",
              "    </tr>\n",
              "    <tr>\n",
              "      <th>BT</th>\n",
              "      <th>BTObj</th>\n",
              "      <th>adv_debiasing</th>\n",
              "      <th></th>\n",
              "      <th></th>\n",
              "      <th></th>\n",
              "      <th></th>\n",
              "      <th></th>\n",
              "      <th></th>\n",
              "      <th></th>\n",
              "      <th></th>\n",
              "    </tr>\n",
              "  </thead>\n",
              "  <tbody>\n",
              "    <tr>\n",
              "      <th>NaN</th>\n",
              "      <th>NaN</th>\n",
              "      <th>False</th>\n",
              "      <td>7</td>\n",
              "      <td>0.640112</td>\n",
              "      <td>0.727875</td>\n",
              "      <td>0.0</td>\n",
              "      <td>0.611314</td>\n",
              "      <td>0.717929</td>\n",
              "      <td>0.0</td>\n",
              "      <td>results/dev/Moji/vanilla/opt.yaml</td>\n",
              "    </tr>\n",
              "  </tbody>\n",
              "</table>\n",
              "</div>\n",
              "      <button class=\"colab-df-convert\" onclick=\"convertToInteractive('df-13f7bf7f-bb08-46a9-b0f6-0ab4f45cfd76')\"\n",
              "              title=\"Convert this dataframe to an interactive table.\"\n",
              "              style=\"display:none;\">\n",
              "        \n",
              "  <svg xmlns=\"http://www.w3.org/2000/svg\" height=\"24px\"viewBox=\"0 0 24 24\"\n",
              "       width=\"24px\">\n",
              "    <path d=\"M0 0h24v24H0V0z\" fill=\"none\"/>\n",
              "    <path d=\"M18.56 5.44l.94 2.06.94-2.06 2.06-.94-2.06-.94-.94-2.06-.94 2.06-2.06.94zm-11 1L8.5 8.5l.94-2.06 2.06-.94-2.06-.94L8.5 2.5l-.94 2.06-2.06.94zm10 10l.94 2.06.94-2.06 2.06-.94-2.06-.94-.94-2.06-.94 2.06-2.06.94z\"/><path d=\"M17.41 7.96l-1.37-1.37c-.4-.4-.92-.59-1.43-.59-.52 0-1.04.2-1.43.59L10.3 9.45l-7.72 7.72c-.78.78-.78 2.05 0 2.83L4 21.41c.39.39.9.59 1.41.59.51 0 1.02-.2 1.41-.59l7.78-7.78 2.81-2.81c.8-.78.8-2.07 0-2.86zM5.41 20L4 18.59l7.72-7.72 1.47 1.35L5.41 20z\"/>\n",
              "  </svg>\n",
              "      </button>\n",
              "      \n",
              "  <style>\n",
              "    .colab-df-container {\n",
              "      display:flex;\n",
              "      flex-wrap:wrap;\n",
              "      gap: 12px;\n",
              "    }\n",
              "\n",
              "    .colab-df-convert {\n",
              "      background-color: #E8F0FE;\n",
              "      border: none;\n",
              "      border-radius: 50%;\n",
              "      cursor: pointer;\n",
              "      display: none;\n",
              "      fill: #1967D2;\n",
              "      height: 32px;\n",
              "      padding: 0 0 0 0;\n",
              "      width: 32px;\n",
              "    }\n",
              "\n",
              "    .colab-df-convert:hover {\n",
              "      background-color: #E2EBFA;\n",
              "      box-shadow: 0px 1px 2px rgba(60, 64, 67, 0.3), 0px 1px 3px 1px rgba(60, 64, 67, 0.15);\n",
              "      fill: #174EA6;\n",
              "    }\n",
              "\n",
              "    [theme=dark] .colab-df-convert {\n",
              "      background-color: #3B4455;\n",
              "      fill: #D2E3FC;\n",
              "    }\n",
              "\n",
              "    [theme=dark] .colab-df-convert:hover {\n",
              "      background-color: #434B5C;\n",
              "      box-shadow: 0px 1px 3px 1px rgba(0, 0, 0, 0.15);\n",
              "      filter: drop-shadow(0px 1px 2px rgba(0, 0, 0, 0.3));\n",
              "      fill: #FFFFFF;\n",
              "    }\n",
              "  </style>\n",
              "\n",
              "      <script>\n",
              "        const buttonEl =\n",
              "          document.querySelector('#df-13f7bf7f-bb08-46a9-b0f6-0ab4f45cfd76 button.colab-df-convert');\n",
              "        buttonEl.style.display =\n",
              "          google.colab.kernel.accessAllowed ? 'block' : 'none';\n",
              "\n",
              "        async function convertToInteractive(key) {\n",
              "          const element = document.querySelector('#df-13f7bf7f-bb08-46a9-b0f6-0ab4f45cfd76');\n",
              "          const dataTable =\n",
              "            await google.colab.kernel.invokeFunction('convertToInteractive',\n",
              "                                                     [key], {});\n",
              "          if (!dataTable) return;\n",
              "\n",
              "          const docLinkHtml = 'Like what you see? Visit the ' +\n",
              "            '<a target=\"_blank\" href=https://colab.research.google.com/notebooks/data_table.ipynb>data table notebook</a>'\n",
              "            + ' to learn more about interactive tables.';\n",
              "          element.innerHTML = '';\n",
              "          dataTable['output_type'] = 'display_data';\n",
              "          await google.colab.output.renderOutput(dataTable, element);\n",
              "          const docLink = document.createElement('div');\n",
              "          docLink.innerHTML = docLinkHtml;\n",
              "          element.appendChild(docLink);\n",
              "        }\n",
              "      </script>\n",
              "    </div>\n",
              "  </div>\n",
              "  "
            ],
            "text/plain": [
              "                         epoch  dev_fairness  dev_performance  dev_DTO  \\\n",
              "BT  BTObj adv_debiasing                                                  \n",
              "NaN NaN   False              7      0.640112         0.727875      0.0   \n",
              "\n",
              "                         test_fairness  test_performance  test_DTO  \\\n",
              "BT  BTObj adv_debiasing                                              \n",
              "NaN NaN   False               0.611314          0.717929       0.0   \n",
              "\n",
              "                                                   opt_dir  \n",
              "BT  BTObj adv_debiasing                                     \n",
              "NaN NaN   False          results/dev/Moji/vanilla/opt.yaml  "
            ]
          },
          "execution_count": 16,
          "metadata": {},
          "output_type": "execute_result"
        }
      ],
      "source": [
        "analysis.model_selection(\n",
        "    # exp_id started with model_id will be treated as the same method, e.g, vanilla, and adv\n",
        "    model_id= (\"vanilla\"),\n",
        "\n",
        "    # the tuned hyperparameters of a methods, which will be used to group multiple runs together.\n",
        "    # This option is generally used for differentiating models with the same debiasing method but \n",
        "    # with different method-specific hyperparameters, such as the strength of adversarial loss for Adv\n",
        "    # Random seeds should not be included here, such that, random runs with same hyperparameters can\n",
        "    # be aggregated to present the statistics of the results. \n",
        "    index_column_names = [\"BT\", \"BTObj\", \"adv_debiasing\"],\n",
        "\n",
        "    # to convenient the further analysis, we will store the resulting DataFrame to the specified path\n",
        "    save_path = r\"results/Vanilla_df.pkl\",\n",
        "\n",
        "    # Follwoing options are predefined\n",
        "    results_dir= Shared_options[\"results_dir\"],\n",
        "    project_dir= Shared_options[\"project_dir\"]+\"/\"+Shared_options[\"dataset\"],\n",
        "    GAP_metric_name = Shared_options[\"GAP_metric_name\"],\n",
        "    Performance_metric_name = Shared_options[\"Performance_metric_name\"],\n",
        "    # We use DTO for epoch selection\n",
        "    selection_criterion = Shared_options[\"selection_criterion\"],\n",
        "    checkpoint_dir= Shared_options[\"checkpoint_dir\"],\n",
        "    checkpoint_name= Shared_options[\"checkpoint_name\"],\n",
        "    # If retrive results in parallel\n",
        "    n_jobs=Shared_options[\"n_jobs\"],\n",
        ")"
      ]
    },
    {
      "cell_type": "code",
      "execution_count": 17,
      "metadata": {
        "colab": {
          "base_uri": "https://localhost:8080/",
          "height": 164
        },
        "id": "A5yIesY295-u",
        "outputId": "7d6af602-2d1d-4b13-b1ed-248528f0a5cf"
      },
      "outputs": [
        {
          "name": "stderr",
          "output_type": "stream",
          "text": [
            "[Parallel(n_jobs=1)]: Using backend SequentialBackend with 1 concurrent workers.\n",
            "[Parallel(n_jobs=1)]: Done   1 out of   1 | elapsed:    0.0s remaining:    0.0s\n",
            "[Parallel(n_jobs=1)]: Done   1 out of   1 | elapsed:    0.0s finished\n"
          ]
        },
        {
          "data": {
            "text/html": [
              "\n",
              "  <div id=\"df-e42a8002-b1fe-4305-a724-0c40b3fb9ff2\">\n",
              "    <div class=\"colab-df-container\">\n",
              "      <div>\n",
              "<style scoped>\n",
              "    .dataframe tbody tr th:only-of-type {\n",
              "        vertical-align: middle;\n",
              "    }\n",
              "\n",
              "    .dataframe tbody tr th {\n",
              "        vertical-align: top;\n",
              "    }\n",
              "\n",
              "    .dataframe thead th {\n",
              "        text-align: right;\n",
              "    }\n",
              "</style>\n",
              "<table border=\"1\" class=\"dataframe\">\n",
              "  <thead>\n",
              "    <tr style=\"text-align: right;\">\n",
              "      <th></th>\n",
              "      <th></th>\n",
              "      <th></th>\n",
              "      <th>epoch</th>\n",
              "      <th>dev_fairness</th>\n",
              "      <th>dev_performance</th>\n",
              "      <th>dev_DTO</th>\n",
              "      <th>test_fairness</th>\n",
              "      <th>test_performance</th>\n",
              "      <th>test_DTO</th>\n",
              "      <th>opt_dir</th>\n",
              "    </tr>\n",
              "    <tr>\n",
              "      <th>BT</th>\n",
              "      <th>BTObj</th>\n",
              "      <th>adv_debiasing</th>\n",
              "      <th></th>\n",
              "      <th></th>\n",
              "      <th></th>\n",
              "      <th></th>\n",
              "      <th></th>\n",
              "      <th></th>\n",
              "      <th></th>\n",
              "      <th></th>\n",
              "    </tr>\n",
              "  </thead>\n",
              "  <tbody>\n",
              "    <tr>\n",
              "      <th>Resampling</th>\n",
              "      <th>EO</th>\n",
              "      <th>True</th>\n",
              "      <td>5</td>\n",
              "      <td>0.94447</td>\n",
              "      <td>0.731125</td>\n",
              "      <td>0.034181</td>\n",
              "      <td>0.924314</td>\n",
              "      <td>0.727239</td>\n",
              "      <td>0.038048</td>\n",
              "      <td>results/dev/Moji/BT_Adv/opt.yaml</td>\n",
              "    </tr>\n",
              "  </tbody>\n",
              "</table>\n",
              "</div>\n",
              "      <button class=\"colab-df-convert\" onclick=\"convertToInteractive('df-e42a8002-b1fe-4305-a724-0c40b3fb9ff2')\"\n",
              "              title=\"Convert this dataframe to an interactive table.\"\n",
              "              style=\"display:none;\">\n",
              "        \n",
              "  <svg xmlns=\"http://www.w3.org/2000/svg\" height=\"24px\"viewBox=\"0 0 24 24\"\n",
              "       width=\"24px\">\n",
              "    <path d=\"M0 0h24v24H0V0z\" fill=\"none\"/>\n",
              "    <path d=\"M18.56 5.44l.94 2.06.94-2.06 2.06-.94-2.06-.94-.94-2.06-.94 2.06-2.06.94zm-11 1L8.5 8.5l.94-2.06 2.06-.94-2.06-.94L8.5 2.5l-.94 2.06-2.06.94zm10 10l.94 2.06.94-2.06 2.06-.94-2.06-.94-.94-2.06-.94 2.06-2.06.94z\"/><path d=\"M17.41 7.96l-1.37-1.37c-.4-.4-.92-.59-1.43-.59-.52 0-1.04.2-1.43.59L10.3 9.45l-7.72 7.72c-.78.78-.78 2.05 0 2.83L4 21.41c.39.39.9.59 1.41.59.51 0 1.02-.2 1.41-.59l7.78-7.78 2.81-2.81c.8-.78.8-2.07 0-2.86zM5.41 20L4 18.59l7.72-7.72 1.47 1.35L5.41 20z\"/>\n",
              "  </svg>\n",
              "      </button>\n",
              "      \n",
              "  <style>\n",
              "    .colab-df-container {\n",
              "      display:flex;\n",
              "      flex-wrap:wrap;\n",
              "      gap: 12px;\n",
              "    }\n",
              "\n",
              "    .colab-df-convert {\n",
              "      background-color: #E8F0FE;\n",
              "      border: none;\n",
              "      border-radius: 50%;\n",
              "      cursor: pointer;\n",
              "      display: none;\n",
              "      fill: #1967D2;\n",
              "      height: 32px;\n",
              "      padding: 0 0 0 0;\n",
              "      width: 32px;\n",
              "    }\n",
              "\n",
              "    .colab-df-convert:hover {\n",
              "      background-color: #E2EBFA;\n",
              "      box-shadow: 0px 1px 2px rgba(60, 64, 67, 0.3), 0px 1px 3px 1px rgba(60, 64, 67, 0.15);\n",
              "      fill: #174EA6;\n",
              "    }\n",
              "\n",
              "    [theme=dark] .colab-df-convert {\n",
              "      background-color: #3B4455;\n",
              "      fill: #D2E3FC;\n",
              "    }\n",
              "\n",
              "    [theme=dark] .colab-df-convert:hover {\n",
              "      background-color: #434B5C;\n",
              "      box-shadow: 0px 1px 3px 1px rgba(0, 0, 0, 0.15);\n",
              "      filter: drop-shadow(0px 1px 2px rgba(0, 0, 0, 0.3));\n",
              "      fill: #FFFFFF;\n",
              "    }\n",
              "  </style>\n",
              "\n",
              "      <script>\n",
              "        const buttonEl =\n",
              "          document.querySelector('#df-e42a8002-b1fe-4305-a724-0c40b3fb9ff2 button.colab-df-convert');\n",
              "        buttonEl.style.display =\n",
              "          google.colab.kernel.accessAllowed ? 'block' : 'none';\n",
              "\n",
              "        async function convertToInteractive(key) {\n",
              "          const element = document.querySelector('#df-e42a8002-b1fe-4305-a724-0c40b3fb9ff2');\n",
              "          const dataTable =\n",
              "            await google.colab.kernel.invokeFunction('convertToInteractive',\n",
              "                                                     [key], {});\n",
              "          if (!dataTable) return;\n",
              "\n",
              "          const docLinkHtml = 'Like what you see? Visit the ' +\n",
              "            '<a target=\"_blank\" href=https://colab.research.google.com/notebooks/data_table.ipynb>data table notebook</a>'\n",
              "            + ' to learn more about interactive tables.';\n",
              "          element.innerHTML = '';\n",
              "          dataTable['output_type'] = 'display_data';\n",
              "          await google.colab.output.renderOutput(dataTable, element);\n",
              "          const docLink = document.createElement('div');\n",
              "          docLink.innerHTML = docLinkHtml;\n",
              "          element.appendChild(docLink);\n",
              "        }\n",
              "      </script>\n",
              "    </div>\n",
              "  </div>\n",
              "  "
            ],
            "text/plain": [
              "                                epoch  dev_fairness  dev_performance  \\\n",
              "BT         BTObj adv_debiasing                                         \n",
              "Resampling EO    True               5       0.94447         0.731125   \n",
              "\n",
              "                                 dev_DTO  test_fairness  test_performance  \\\n",
              "BT         BTObj adv_debiasing                                              \n",
              "Resampling EO    True           0.034181       0.924314          0.727239   \n",
              "\n",
              "                                test_DTO                           opt_dir  \n",
              "BT         BTObj adv_debiasing                                              \n",
              "Resampling EO    True           0.038048  results/dev/Moji/BT_Adv/opt.yaml  "
            ]
          },
          "execution_count": 17,
          "metadata": {},
          "output_type": "execute_result"
        }
      ],
      "source": [
        "analysis.model_selection(\n",
        "    model_id= (\"BT_Adv\"),\n",
        "    index_column_names = [\"BT\", \"BTObj\", \"adv_debiasing\"],\n",
        "    save_path = r\"results/BT_ADV_df.pkl\",\n",
        "    # Follwoing options are predefined\n",
        "    results_dir= Shared_options[\"results_dir\"],\n",
        "    project_dir= Shared_options[\"project_dir\"]+\"/\"+Shared_options[\"dataset\"],\n",
        "    GAP_metric_name = Shared_options[\"GAP_metric_name\"],\n",
        "    Performance_metric_name = Shared_options[\"Performance_metric_name\"],\n",
        "    selection_criterion = Shared_options[\"selection_criterion\"],\n",
        "    checkpoint_dir= Shared_options[\"checkpoint_dir\"],\n",
        "    checkpoint_name= Shared_options[\"checkpoint_name\"],\n",
        "    n_jobs=Shared_options[\"n_jobs\"],\n",
        ")"
      ]
    },
    {
      "cell_type": "markdown",
      "metadata": {
        "id": "1W0yGrsnV6_g"
      },
      "source": [
        "We have preprocing the results with the `model_selection` function, and the resulting dfs can be downloaded as follows:"
      ]
    },
    {
      "cell_type": "code",
      "execution_count": 18,
      "metadata": {
        "colab": {
          "base_uri": "https://localhost:8080/"
        },
        "id": "njuqG-UnL5Ku",
        "outputId": "16229b01-ae45-40ec-f775-c5e48828327f"
      },
      "outputs": [
        {
          "name": "stdout",
          "output_type": "stream",
          "text": [
            "--2022-04-08 15:04:14--  https://docs.google.com/uc?export=download&id=1M0G6PyPuDC8Y_2nL9XKYCt10IUzbSvfl\n",
            "Resolving docs.google.com (docs.google.com)... 108.177.126.102, 108.177.126.113, 108.177.126.138, ...\n",
            "Connecting to docs.google.com (docs.google.com)|108.177.126.102|:443... connected.\n",
            "HTTP request sent, awaiting response... 303 See Other\n",
            "Location: https://doc-0g-0k-docs.googleusercontent.com/docs/securesc/ha0ro937gcuc7l7deffksulhg5h7mbp1/2qjppkj2o33krf8emg3kmjh43amrdld9/1649430225000/17527887236587461918/*/1M0G6PyPuDC8Y_2nL9XKYCt10IUzbSvfl?e=download [following]\n",
            "Warning: wildcards not supported in HTTP.\n",
            "--2022-04-08 15:04:15--  https://doc-0g-0k-docs.googleusercontent.com/docs/securesc/ha0ro937gcuc7l7deffksulhg5h7mbp1/2qjppkj2o33krf8emg3kmjh43amrdld9/1649430225000/17527887236587461918/*/1M0G6PyPuDC8Y_2nL9XKYCt10IUzbSvfl?e=download\n",
            "Resolving doc-0g-0k-docs.googleusercontent.com (doc-0g-0k-docs.googleusercontent.com)... 108.177.119.132, 2a00:1450:4013:c00::84\n",
            "Connecting to doc-0g-0k-docs.googleusercontent.com (doc-0g-0k-docs.googleusercontent.com)|108.177.119.132|:443... connected.\n",
            "HTTP request sent, awaiting response... 200 OK\n",
            "Length: 790461 (772K) [application/x-gzip]\n",
            "Saving to: ‘retrived_results.tar.gz’\n",
            "\n",
            "retrived_results.ta 100%[===================>] 771.93K  --.-KB/s    in 0.008s  \n",
            "\n",
            "2022-04-08 15:04:16 (94.4 MB/s) - ‘retrived_results.tar.gz’ saved [790461/790461]\n",
            "\n"
          ]
        }
      ],
      "source": [
        "!wget --no-check-certificate 'https://docs.google.com/uc?export=download&id=1M0G6PyPuDC8Y_2nL9XKYCt10IUzbSvfl' -O retrived_results.tar.gz"
      ]
    },
    {
      "cell_type": "code",
      "execution_count": 19,
      "metadata": {
        "id": "u7goqTOjL5D7"
      },
      "outputs": [],
      "source": [
        "!tar -xf retrived_results.tar.gz"
      ]
    },
    {
      "cell_type": "markdown",
      "metadata": {
        "id": "sjpZXi6FWUCw"
      },
      "source": [
        "Here we demonstrate the application of `final_results_df`, which loads cached results with `retrive_results` for all methods, select the best hyperparameter combinations for each method, and present result in a DataFrame"
      ]
    },
    {
      "cell_type": "code",
      "execution_count": 20,
      "metadata": {
        "id": "u672XV4_NL9H"
      },
      "outputs": [],
      "source": [
        "Moji_results = analysis.retrive_results(\"Moji\", log_dir=\"analysis/results\")"
      ]
    },
    {
      "cell_type": "code",
      "execution_count": 21,
      "metadata": {
        "colab": {
          "base_uri": "https://localhost:8080/",
          "height": 551
        },
        "id": "XHgAL1NINdPe",
        "outputId": "d3f3add3-7f2c-49db-ff00-2b30acf38bdd"
      },
      "outputs": [
        {
          "data": {
            "text/html": [
              "\n",
              "  <div id=\"df-bb98b401-2a1e-4b4b-bb96-285da27c75b8\">\n",
              "    <div class=\"colab-df-container\">\n",
              "      <div>\n",
              "<style scoped>\n",
              "    .dataframe tbody tr th:only-of-type {\n",
              "        vertical-align: middle;\n",
              "    }\n",
              "\n",
              "    .dataframe tbody tr th {\n",
              "        vertical-align: top;\n",
              "    }\n",
              "\n",
              "    .dataframe thead th {\n",
              "        text-align: right;\n",
              "    }\n",
              "</style>\n",
              "<table border=\"1\" class=\"dataframe\">\n",
              "  <thead>\n",
              "    <tr style=\"text-align: right;\">\n",
              "      <th></th>\n",
              "      <th>Models</th>\n",
              "      <th>test_performance mean</th>\n",
              "      <th>test_performance std</th>\n",
              "      <th>test_fairness mean</th>\n",
              "      <th>test_fairness std</th>\n",
              "      <th>dev_performance mean</th>\n",
              "      <th>dev_performance std</th>\n",
              "      <th>dev_fairness mean</th>\n",
              "      <th>dev_fairness std</th>\n",
              "      <th>DTO</th>\n",
              "      <th>is_pareto</th>\n",
              "    </tr>\n",
              "  </thead>\n",
              "  <tbody>\n",
              "    <tr>\n",
              "      <th>0</th>\n",
              "      <td>FairBatch</td>\n",
              "      <td>0.751488</td>\n",
              "      <td>0.005772</td>\n",
              "      <td>0.904373</td>\n",
              "      <td>0.008213</td>\n",
              "      <td>0.746050</td>\n",
              "      <td>0.003896</td>\n",
              "      <td>0.914526</td>\n",
              "      <td>0.006020</td>\n",
              "      <td>0.266276</td>\n",
              "      <td>True</td>\n",
              "    </tr>\n",
              "    <tr>\n",
              "      <th>1</th>\n",
              "      <td>FairSCL</td>\n",
              "      <td>0.757314</td>\n",
              "      <td>0.003441</td>\n",
              "      <td>0.878219</td>\n",
              "      <td>0.004314</td>\n",
              "      <td>0.752825</td>\n",
              "      <td>0.001872</td>\n",
              "      <td>0.898325</td>\n",
              "      <td>0.002579</td>\n",
              "      <td>0.271527</td>\n",
              "      <td>False</td>\n",
              "    </tr>\n",
              "    <tr>\n",
              "      <th>2</th>\n",
              "      <td>OldFairBatch</td>\n",
              "      <td>0.750638</td>\n",
              "      <td>0.006012</td>\n",
              "      <td>0.905537</td>\n",
              "      <td>0.005046</td>\n",
              "      <td>0.744525</td>\n",
              "      <td>0.004995</td>\n",
              "      <td>0.917734</td>\n",
              "      <td>0.004761</td>\n",
              "      <td>0.266655</td>\n",
              "      <td>True</td>\n",
              "    </tr>\n",
              "    <tr>\n",
              "      <th>3</th>\n",
              "      <td>DelayedCLS_Adv</td>\n",
              "      <td>0.761015</td>\n",
              "      <td>0.003081</td>\n",
              "      <td>0.882425</td>\n",
              "      <td>0.015918</td>\n",
              "      <td>0.751675</td>\n",
              "      <td>0.003481</td>\n",
              "      <td>0.899346</td>\n",
              "      <td>0.011417</td>\n",
              "      <td>0.266341</td>\n",
              "      <td>True</td>\n",
              "    </tr>\n",
              "    <tr>\n",
              "      <th>4</th>\n",
              "      <td>GDMean</td>\n",
              "      <td>0.752163</td>\n",
              "      <td>0.002130</td>\n",
              "      <td>0.901389</td>\n",
              "      <td>0.003916</td>\n",
              "      <td>0.749050</td>\n",
              "      <td>0.001368</td>\n",
              "      <td>0.922430</td>\n",
              "      <td>0.005829</td>\n",
              "      <td>0.266735</td>\n",
              "      <td>True</td>\n",
              "    </tr>\n",
              "    <tr>\n",
              "      <th>5</th>\n",
              "      <td>BTGatedAdv</td>\n",
              "      <td>0.735459</td>\n",
              "      <td>0.028830</td>\n",
              "      <td>0.866150</td>\n",
              "      <td>0.028232</td>\n",
              "      <td>0.730150</td>\n",
              "      <td>0.024594</td>\n",
              "      <td>0.886862</td>\n",
              "      <td>0.030537</td>\n",
              "      <td>0.296476</td>\n",
              "      <td>True</td>\n",
              "    </tr>\n",
              "    <tr>\n",
              "      <th>6</th>\n",
              "      <td>DAdv</td>\n",
              "      <td>0.755464</td>\n",
              "      <td>0.004076</td>\n",
              "      <td>0.904023</td>\n",
              "      <td>0.011218</td>\n",
              "      <td>0.748550</td>\n",
              "      <td>0.002405</td>\n",
              "      <td>0.915601</td>\n",
              "      <td>0.005007</td>\n",
              "      <td>0.262697</td>\n",
              "      <td>True</td>\n",
              "    </tr>\n",
              "    <tr>\n",
              "      <th>7</th>\n",
              "      <td>INLP</td>\n",
              "      <td>0.733433</td>\n",
              "      <td>NaN</td>\n",
              "      <td>0.855982</td>\n",
              "      <td>NaN</td>\n",
              "      <td>0.727625</td>\n",
              "      <td>NaN</td>\n",
              "      <td>0.859686</td>\n",
              "      <td>NaN</td>\n",
              "      <td>0.302983</td>\n",
              "      <td>True</td>\n",
              "    </tr>\n",
              "    <tr>\n",
              "      <th>8</th>\n",
              "      <td>Adv</td>\n",
              "      <td>0.756414</td>\n",
              "      <td>0.007271</td>\n",
              "      <td>0.893286</td>\n",
              "      <td>0.005623</td>\n",
              "      <td>0.747425</td>\n",
              "      <td>0.004549</td>\n",
              "      <td>0.912125</td>\n",
              "      <td>0.008507</td>\n",
              "      <td>0.265936</td>\n",
              "      <td>True</td>\n",
              "    </tr>\n",
              "    <tr>\n",
              "      <th>9</th>\n",
              "      <td>GatedDAdv</td>\n",
              "      <td>0.750163</td>\n",
              "      <td>0.006945</td>\n",
              "      <td>0.908679</td>\n",
              "      <td>0.021678</td>\n",
              "      <td>0.745600</td>\n",
              "      <td>0.004828</td>\n",
              "      <td>0.928670</td>\n",
              "      <td>0.022488</td>\n",
              "      <td>0.266004</td>\n",
              "      <td>False</td>\n",
              "    </tr>\n",
              "    <tr>\n",
              "      <th>10</th>\n",
              "      <td>GatedAdv</td>\n",
              "      <td>0.753113</td>\n",
              "      <td>0.005196</td>\n",
              "      <td>0.890065</td>\n",
              "      <td>0.013302</td>\n",
              "      <td>0.748975</td>\n",
              "      <td>0.003805</td>\n",
              "      <td>0.910838</td>\n",
              "      <td>0.010314</td>\n",
              "      <td>0.270257</td>\n",
              "      <td>False</td>\n",
              "    </tr>\n",
              "    <tr>\n",
              "      <th>11</th>\n",
              "      <td>BTFairBatch</td>\n",
              "      <td>0.746837</td>\n",
              "      <td>0.003407</td>\n",
              "      <td>0.899351</td>\n",
              "      <td>0.004936</td>\n",
              "      <td>0.743975</td>\n",
              "      <td>0.004236</td>\n",
              "      <td>0.919254</td>\n",
              "      <td>0.004731</td>\n",
              "      <td>0.272437</td>\n",
              "      <td>False</td>\n",
              "    </tr>\n",
              "    <tr>\n",
              "      <th>12</th>\n",
              "      <td>GatedBTEO</td>\n",
              "      <td>0.762106</td>\n",
              "      <td>0.002592</td>\n",
              "      <td>0.900764</td>\n",
              "      <td>0.014701</td>\n",
              "      <td>0.759775</td>\n",
              "      <td>0.003798</td>\n",
              "      <td>0.909445</td>\n",
              "      <td>0.006631</td>\n",
              "      <td>0.257762</td>\n",
              "      <td>True</td>\n",
              "    </tr>\n",
              "    <tr>\n",
              "      <th>13</th>\n",
              "      <td>Vanilla</td>\n",
              "      <td>0.722981</td>\n",
              "      <td>0.004576</td>\n",
              "      <td>0.611870</td>\n",
              "      <td>0.014356</td>\n",
              "      <td>0.726650</td>\n",
              "      <td>0.003673</td>\n",
              "      <td>0.632302</td>\n",
              "      <td>0.013370</td>\n",
              "      <td>0.476849</td>\n",
              "      <td>True</td>\n",
              "    </tr>\n",
              "    <tr>\n",
              "      <th>14</th>\n",
              "      <td>GDEO</td>\n",
              "      <td>0.752763</td>\n",
              "      <td>0.004999</td>\n",
              "      <td>0.892255</td>\n",
              "      <td>0.007860</td>\n",
              "      <td>0.749350</td>\n",
              "      <td>0.003494</td>\n",
              "      <td>0.912672</td>\n",
              "      <td>0.002766</td>\n",
              "      <td>0.269694</td>\n",
              "      <td>True</td>\n",
              "    </tr>\n",
              "    <tr>\n",
              "      <th>15</th>\n",
              "      <td>BTEO</td>\n",
              "      <td>0.753927</td>\n",
              "      <td>0.001433</td>\n",
              "      <td>0.877469</td>\n",
              "      <td>0.003756</td>\n",
              "      <td>0.746325</td>\n",
              "      <td>0.000998</td>\n",
              "      <td>0.896874</td>\n",
              "      <td>0.005401</td>\n",
              "      <td>0.274892</td>\n",
              "      <td>True</td>\n",
              "    </tr>\n",
              "  </tbody>\n",
              "</table>\n",
              "</div>\n",
              "      <button class=\"colab-df-convert\" onclick=\"convertToInteractive('df-bb98b401-2a1e-4b4b-bb96-285da27c75b8')\"\n",
              "              title=\"Convert this dataframe to an interactive table.\"\n",
              "              style=\"display:none;\">\n",
              "        \n",
              "  <svg xmlns=\"http://www.w3.org/2000/svg\" height=\"24px\"viewBox=\"0 0 24 24\"\n",
              "       width=\"24px\">\n",
              "    <path d=\"M0 0h24v24H0V0z\" fill=\"none\"/>\n",
              "    <path d=\"M18.56 5.44l.94 2.06.94-2.06 2.06-.94-2.06-.94-.94-2.06-.94 2.06-2.06.94zm-11 1L8.5 8.5l.94-2.06 2.06-.94-2.06-.94L8.5 2.5l-.94 2.06-2.06.94zm10 10l.94 2.06.94-2.06 2.06-.94-2.06-.94-.94-2.06-.94 2.06-2.06.94z\"/><path d=\"M17.41 7.96l-1.37-1.37c-.4-.4-.92-.59-1.43-.59-.52 0-1.04.2-1.43.59L10.3 9.45l-7.72 7.72c-.78.78-.78 2.05 0 2.83L4 21.41c.39.39.9.59 1.41.59.51 0 1.02-.2 1.41-.59l7.78-7.78 2.81-2.81c.8-.78.8-2.07 0-2.86zM5.41 20L4 18.59l7.72-7.72 1.47 1.35L5.41 20z\"/>\n",
              "  </svg>\n",
              "      </button>\n",
              "      \n",
              "  <style>\n",
              "    .colab-df-container {\n",
              "      display:flex;\n",
              "      flex-wrap:wrap;\n",
              "      gap: 12px;\n",
              "    }\n",
              "\n",
              "    .colab-df-convert {\n",
              "      background-color: #E8F0FE;\n",
              "      border: none;\n",
              "      border-radius: 50%;\n",
              "      cursor: pointer;\n",
              "      display: none;\n",
              "      fill: #1967D2;\n",
              "      height: 32px;\n",
              "      padding: 0 0 0 0;\n",
              "      width: 32px;\n",
              "    }\n",
              "\n",
              "    .colab-df-convert:hover {\n",
              "      background-color: #E2EBFA;\n",
              "      box-shadow: 0px 1px 2px rgba(60, 64, 67, 0.3), 0px 1px 3px 1px rgba(60, 64, 67, 0.15);\n",
              "      fill: #174EA6;\n",
              "    }\n",
              "\n",
              "    [theme=dark] .colab-df-convert {\n",
              "      background-color: #3B4455;\n",
              "      fill: #D2E3FC;\n",
              "    }\n",
              "\n",
              "    [theme=dark] .colab-df-convert:hover {\n",
              "      background-color: #434B5C;\n",
              "      box-shadow: 0px 1px 3px 1px rgba(0, 0, 0, 0.15);\n",
              "      filter: drop-shadow(0px 1px 2px rgba(0, 0, 0, 0.3));\n",
              "      fill: #FFFFFF;\n",
              "    }\n",
              "  </style>\n",
              "\n",
              "      <script>\n",
              "        const buttonEl =\n",
              "          document.querySelector('#df-bb98b401-2a1e-4b4b-bb96-285da27c75b8 button.colab-df-convert');\n",
              "        buttonEl.style.display =\n",
              "          google.colab.kernel.accessAllowed ? 'block' : 'none';\n",
              "\n",
              "        async function convertToInteractive(key) {\n",
              "          const element = document.querySelector('#df-bb98b401-2a1e-4b4b-bb96-285da27c75b8');\n",
              "          const dataTable =\n",
              "            await google.colab.kernel.invokeFunction('convertToInteractive',\n",
              "                                                     [key], {});\n",
              "          if (!dataTable) return;\n",
              "\n",
              "          const docLinkHtml = 'Like what you see? Visit the ' +\n",
              "            '<a target=\"_blank\" href=https://colab.research.google.com/notebooks/data_table.ipynb>data table notebook</a>'\n",
              "            + ' to learn more about interactive tables.';\n",
              "          element.innerHTML = '';\n",
              "          dataTable['output_type'] = 'display_data';\n",
              "          await google.colab.output.renderOutput(dataTable, element);\n",
              "          const docLink = document.createElement('div');\n",
              "          docLink.innerHTML = docLinkHtml;\n",
              "          element.appendChild(docLink);\n",
              "        }\n",
              "      </script>\n",
              "    </div>\n",
              "  </div>\n",
              "  "
            ],
            "text/plain": [
              "            Models  test_performance mean  test_performance std  \\\n",
              "0        FairBatch               0.751488              0.005772   \n",
              "1          FairSCL               0.757314              0.003441   \n",
              "2     OldFairBatch               0.750638              0.006012   \n",
              "3   DelayedCLS_Adv               0.761015              0.003081   \n",
              "4           GDMean               0.752163              0.002130   \n",
              "5       BTGatedAdv               0.735459              0.028830   \n",
              "6             DAdv               0.755464              0.004076   \n",
              "7             INLP               0.733433                   NaN   \n",
              "8              Adv               0.756414              0.007271   \n",
              "9        GatedDAdv               0.750163              0.006945   \n",
              "10        GatedAdv               0.753113              0.005196   \n",
              "11     BTFairBatch               0.746837              0.003407   \n",
              "12       GatedBTEO               0.762106              0.002592   \n",
              "13         Vanilla               0.722981              0.004576   \n",
              "14            GDEO               0.752763              0.004999   \n",
              "15            BTEO               0.753927              0.001433   \n",
              "\n",
              "    test_fairness mean  test_fairness std  dev_performance mean  \\\n",
              "0             0.904373           0.008213              0.746050   \n",
              "1             0.878219           0.004314              0.752825   \n",
              "2             0.905537           0.005046              0.744525   \n",
              "3             0.882425           0.015918              0.751675   \n",
              "4             0.901389           0.003916              0.749050   \n",
              "5             0.866150           0.028232              0.730150   \n",
              "6             0.904023           0.011218              0.748550   \n",
              "7             0.855982                NaN              0.727625   \n",
              "8             0.893286           0.005623              0.747425   \n",
              "9             0.908679           0.021678              0.745600   \n",
              "10            0.890065           0.013302              0.748975   \n",
              "11            0.899351           0.004936              0.743975   \n",
              "12            0.900764           0.014701              0.759775   \n",
              "13            0.611870           0.014356              0.726650   \n",
              "14            0.892255           0.007860              0.749350   \n",
              "15            0.877469           0.003756              0.746325   \n",
              "\n",
              "    dev_performance std  dev_fairness mean  dev_fairness std       DTO  \\\n",
              "0              0.003896           0.914526          0.006020  0.266276   \n",
              "1              0.001872           0.898325          0.002579  0.271527   \n",
              "2              0.004995           0.917734          0.004761  0.266655   \n",
              "3              0.003481           0.899346          0.011417  0.266341   \n",
              "4              0.001368           0.922430          0.005829  0.266735   \n",
              "5              0.024594           0.886862          0.030537  0.296476   \n",
              "6              0.002405           0.915601          0.005007  0.262697   \n",
              "7                   NaN           0.859686               NaN  0.302983   \n",
              "8              0.004549           0.912125          0.008507  0.265936   \n",
              "9              0.004828           0.928670          0.022488  0.266004   \n",
              "10             0.003805           0.910838          0.010314  0.270257   \n",
              "11             0.004236           0.919254          0.004731  0.272437   \n",
              "12             0.003798           0.909445          0.006631  0.257762   \n",
              "13             0.003673           0.632302          0.013370  0.476849   \n",
              "14             0.003494           0.912672          0.002766  0.269694   \n",
              "15             0.000998           0.896874          0.005401  0.274892   \n",
              "\n",
              "    is_pareto  \n",
              "0        True  \n",
              "1       False  \n",
              "2        True  \n",
              "3        True  \n",
              "4        True  \n",
              "5        True  \n",
              "6        True  \n",
              "7        True  \n",
              "8        True  \n",
              "9       False  \n",
              "10      False  \n",
              "11      False  \n",
              "12       True  \n",
              "13       True  \n",
              "14       True  \n",
              "15       True  "
            ]
          },
          "execution_count": 21,
          "metadata": {},
          "output_type": "execute_result"
        }
      ],
      "source": [
        "Moji_main_results = analysis.final_results_df(\n",
        "    results_dict = Moji_results,\n",
        "    pareto = False,\n",
        "    pareto_selection = \"test\",\n",
        "    selection_criterion = \"DTO\",\n",
        "    return_dev = True,\n",
        "    # Fairness_threshold=0.95,\n",
        "    # return_conf=True,\n",
        "    # save_conf_dir=r\"D:\\Project\\Fair_NLP_Classification\\analysis\\reproduce\\Moji\"\n",
        "    )\n",
        "Moji_main_results"
      ]
    },
    {
      "cell_type": "code",
      "execution_count": 22,
      "metadata": {
        "colab": {
          "base_uri": "https://localhost:8080/"
        },
        "id": "qv8TSTYRNoue",
        "outputId": "80a23e52-699a-4913-a38a-70f6817e968d"
      },
      "outputs": [
        {
          "name": "stdout",
          "output_type": "stream",
          "text": [
            "\\begin{tabular}{lrrrrrrrrrl}\n",
            "\\toprule\n",
            "        Models &  test\\_performance mean &  test\\_performance std &  test\\_fairness mean &  test\\_fairness std &  dev\\_performance mean &  dev\\_performance std &  dev\\_fairness mean &  dev\\_fairness std &      DTO &  is\\_pareto \\\\\n",
            "\\midrule\n",
            "     FairBatch &               0.751488 &              0.005772 &            0.904373 &           0.008213 &              0.746050 &             0.003896 &           0.914526 &          0.006020 & 0.266276 &       True \\\\\n",
            "       FairSCL &               0.757314 &              0.003441 &            0.878219 &           0.004314 &              0.752825 &             0.001872 &           0.898325 &          0.002579 & 0.271527 &      False \\\\\n",
            "  OldFairBatch &               0.750638 &              0.006012 &            0.905537 &           0.005046 &              0.744525 &             0.004995 &           0.917734 &          0.004761 & 0.266655 &       True \\\\\n",
            "DelayedCLS\\_Adv &               0.761015 &              0.003081 &            0.882425 &           0.015918 &              0.751675 &             0.003481 &           0.899346 &          0.011417 & 0.266341 &       True \\\\\n",
            "        GDMean &               0.752163 &              0.002130 &            0.901389 &           0.003916 &              0.749050 &             0.001368 &           0.922430 &          0.005829 & 0.266735 &       True \\\\\n",
            "    BTGatedAdv &               0.735459 &              0.028830 &            0.866150 &           0.028232 &              0.730150 &             0.024594 &           0.886862 &          0.030537 & 0.296476 &       True \\\\\n",
            "          DAdv &               0.755464 &              0.004076 &            0.904023 &           0.011218 &              0.748550 &             0.002405 &           0.915601 &          0.005007 & 0.262697 &       True \\\\\n",
            "          INLP &               0.733433 &                   NaN &            0.855982 &                NaN &              0.727625 &                  NaN &           0.859686 &               NaN & 0.302983 &       True \\\\\n",
            "           Adv &               0.756414 &              0.007271 &            0.893286 &           0.005623 &              0.747425 &             0.004549 &           0.912125 &          0.008507 & 0.265936 &       True \\\\\n",
            "     GatedDAdv &               0.750163 &              0.006945 &            0.908679 &           0.021678 &              0.745600 &             0.004828 &           0.928670 &          0.022488 & 0.266004 &      False \\\\\n",
            "      GatedAdv &               0.753113 &              0.005196 &            0.890065 &           0.013302 &              0.748975 &             0.003805 &           0.910838 &          0.010314 & 0.270257 &      False \\\\\n",
            "   BTFairBatch &               0.746837 &              0.003407 &            0.899351 &           0.004936 &              0.743975 &             0.004236 &           0.919254 &          0.004731 & 0.272437 &      False \\\\\n",
            "     GatedBTEO &               0.762106 &              0.002592 &            0.900764 &           0.014701 &              0.759775 &             0.003798 &           0.909445 &          0.006631 & 0.257762 &       True \\\\\n",
            "       Vanilla &               0.722981 &              0.004576 &            0.611870 &           0.014356 &              0.726650 &             0.003673 &           0.632302 &          0.013370 & 0.476849 &       True \\\\\n",
            "          GDEO &               0.752763 &              0.004999 &            0.892255 &           0.007860 &              0.749350 &             0.003494 &           0.912672 &          0.002766 & 0.269694 &       True \\\\\n",
            "          BTEO &               0.753927 &              0.001433 &            0.877469 &           0.003756 &              0.746325 &             0.000998 &           0.896874 &          0.005401 & 0.274892 &       True \\\\\n",
            "\\bottomrule\n",
            "\\end{tabular}\n",
            "\n"
          ]
        }
      ],
      "source": [
        "print(Moji_main_results.to_latex(index=False))"
      ]
    },
    {
      "cell_type": "code",
      "execution_count": 23,
      "metadata": {
        "id": "EKIO6OgBNwTo"
      },
      "outputs": [],
      "source": [
        "import seaborn as sns\n",
        "import matplotlib.pyplot as plt\n",
        "from pathlib import Path\n",
        "def make_plot(plot_df, figure_name=None):\n",
        "    plot_df[\"Fairness\"] = plot_df[\"test_fairness mean\"]\n",
        "    plot_df[\"Accuracy\"] = plot_df[\"test_performance mean\"]\n",
        "\n",
        "    figure = plt.figure(figsize=(6, 6), dpi = 150) \n",
        "    with sns.axes_style(\"white\"):\n",
        "        sns.lineplot(\n",
        "            data=plot_df,\n",
        "            x=\"Accuracy\",\n",
        "            y=\"Fairness\",\n",
        "            hue=\"Models\",\n",
        "            markers=True,\n",
        "            style=\"Models\",\n",
        "        )\n",
        "    if figure_name is not None:\n",
        "        figure.savefig(Path(r\"plots\") / figure_name, dpi=960, bbox_inches=\"tight\") "
      ]
    },
    {
      "cell_type": "code",
      "execution_count": 24,
      "metadata": {
        "colab": {
          "base_uri": "https://localhost:8080/",
          "height": 789
        },
        "id": "E_dupXSDN6ve",
        "outputId": "60a6c146-8a7d-4c46-88f9-4d67caf639d7"
      },
      "outputs": [
        {
          "data": {
            "image/png": "[encoded data removed]",
            "text/plain": [
              "<Figure size 900x900 with 1 Axes>"
            ]
          },
          "metadata": {
            "needs_background": "light"
          },
          "output_type": "display_data"
        }
      ],
      "source": [
        "Moji_plot_df = analysis.final_results_df(\n",
        "    results_dict = Moji_results,\n",
        "    pareto = True,\n",
        "    # pareto = False,\n",
        "    pareto_selection = \"test\",\n",
        "    selection_criterion = None,\n",
        "    return_dev = True,\n",
        "    # Performance_threshold=0.72\n",
        "    # num_trail=20,\n",
        "    )\n",
        "make_plot(Moji_plot_df)"
      ]
    },
    {
      "cell_type": "markdown",
      "metadata": {
        "id": "Mljgl8vxCt4i"
      },
      "source": [
        "## Customized Datasets and Models"
      ]
    },
    {
      "cell_type": "code",
      "execution_count": 25,
      "metadata": {
        "id": "Dhus6EF2xvHm"
      },
      "outputs": [],
      "source": [
        "from fairlib import dataloaders"
      ]
    },
    {
      "cell_type": "code",
      "execution_count": 26,
      "metadata": {
        "id": "cTPfT0ed0kek"
      },
      "outputs": [],
      "source": [
        "class CustomizedMojiDataset(dataloaders.utils.BaseDataset):\n",
        "\n",
        "    p_aae = 0.5 # distribution of the main label, proportion of the AAE\n",
        "    n = 12345 # target size\n",
        "\n",
        "    def load_data(self):\n",
        "        # stereotyping, 0.5 is balanced \n",
        "        if self.split == \"train\":\n",
        "            self.ratio = 0.8 \n",
        "        else:\n",
        "            self.ratio = 0.5 # stereotyping, 0.5 is balanced \n",
        "\n",
        "        self.data_dir = Path(self.args.data_dir) / self.split\n",
        "\n",
        "        n_1 = int(self.n * self.p_aae * self.ratio) # happy AAE \n",
        "        n_2 = int(self.n * (1-self.p_aae) * (1-self.ratio)) # happy SAE\n",
        "        n_3 = int(self.n * self.p_aae * (1-self.ratio)) # unhappy AAE\n",
        "        n_4 = int(self.n * (1-self.p_aae) * self.ratio) # unhappy SAE\n",
        "\n",
        "\n",
        "        for file, label, protected, class_n in zip(['pos_pos', 'pos_neg', 'neg_pos', 'neg_neg'],\n",
        "                                                                    [1, 1, 0, 0],\n",
        "                                                                    [1, 0, 1, 0], \n",
        "                                                                    [n_1, n_2, n_3, n_4]\n",
        "                                                                    ):\n",
        "            data = np.load('{}/{}.npy'.format(self.data_dir, file))\n",
        "            data = list(data[:class_n])\n",
        "            self.X = self.X + data\n",
        "            self.y = self.y + [label]*len(data)\n",
        "            self.protected_label = self.protected_label + [protected]*len(data)"
      ]
    },
    {
      "cell_type": "code",
      "execution_count": 27,
      "metadata": {
        "colab": {
          "base_uri": "https://localhost:8080/"
        },
        "id": "3oCocIyD0kb4",
        "outputId": "961a96df-2f9e-402c-9e4f-bdea07206762"
      },
      "outputs": [
        {
          "name": "stdout",
          "output_type": "stream",
          "text": [
            "2022-04-08 15:04:48 [INFO ]  Unexpected args: ['-f', '/root/.local/share/jupyter/runtime/kernel-10cf02c4-e4b8-42dc-9e7d-a91b944786e0.json']\n",
            "2022-04-08 15:04:48 [INFO ]  Logging to ./results/dev/Customized/customized_dataset/output.log\n",
            "2022-04-08 15:04:48 [INFO ]  ======================================== 2022-04-08 15:04:48 ========================================\n",
            "2022-04-08 15:04:48 [INFO ]  Base directory is ./results/dev/Customized/customized_dataset\n",
            "Not implemented\n",
            "2022-04-08 15:04:48 [INFO ]  dataloaders need to be initialized!\n",
            "Loaded data shapes: (4936, 2304), (4936,), (4936,)\n",
            "Loaded data shapes: (8000, 2304), (8000,), (8000,)\n",
            "Loaded data shapes: (7996, 2304), (7996,), (7996,)\n"
          ]
        }
      ],
      "source": [
        "customized_dataset_args = {\n",
        "    # \"dataset\":Shared_options[\"dataset\"], \n",
        "    \"dataset\":\"Customized\", \n",
        "    \"data_dir\":Shared_options[\"data_dir\"],\n",
        "    \"device_id\":Shared_options[\"device_id\"],\n",
        "\n",
        "    # Give a name to the exp, which will be used in the path\n",
        "    \"exp_id\":\"customized_dataset\",\n",
        "\n",
        "    # Specify the hyperparameters for Balanced Training\n",
        "    \"BT\":\"Resampling\",\n",
        "    \"BTObj\":\"EO\",\n",
        "}\n",
        "customized_dataset_options = fairlib.BaseOptions()\n",
        "customized_dataset_state = customized_dataset_options.get_state(args=customized_dataset_args, silence=True)\n",
        "\n",
        "customized_train_data = CustomizedMojiDataset(args=customized_dataset_state, split=\"train\")\n",
        "customized_dev_data = CustomizedMojiDataset(args=customized_dataset_state, split=\"dev\")\n",
        "customized_test_data = CustomizedMojiDataset(args=customized_dataset_state, split=\"test\")\n",
        "\n",
        "# DataLoader Parameters\n",
        "tran_dataloader_params = {\n",
        "        'batch_size': customized_dataset_state.batch_size,\n",
        "        'shuffle': True,\n",
        "        'num_workers': customized_dataset_state.num_workers}\n",
        "\n",
        "eval_dataloader_params = {\n",
        "        'batch_size': customized_dataset_state.test_batch_size,\n",
        "        'shuffle': False,\n",
        "        'num_workers': customized_dataset_state.num_workers}\n",
        "\n",
        "# init dataloader\n",
        "customized_training_generator = torch.utils.data.DataLoader(customized_train_data, **tran_dataloader_params)\n",
        "customized_validation_generator = torch.utils.data.DataLoader(customized_dev_data, **eval_dataloader_params)\n",
        "customized_test_generator = torch.utils.data.DataLoader(customized_test_data, **eval_dataloader_params)"
      ]
    },
    {
      "cell_type": "code",
      "execution_count": 28,
      "metadata": {
        "colab": {
          "base_uri": "https://localhost:8080/"
        },
        "id": "QzBAhYLC27ym",
        "outputId": "e6e2b34a-673a-4a9f-8e14-ed483e3de670"
      },
      "outputs": [
        {
          "name": "stdout",
          "output_type": "stream",
          "text": [
            "2022-04-08 15:04:56 [INFO ]  MLP( \n",
            "2022-04-08 15:04:56 [INFO ]    (output_layer): Linear(in_features=300, out_features=2, bias=True)\n",
            "2022-04-08 15:04:56 [INFO ]    (AF): Tanh()\n",
            "2022-04-08 15:04:56 [INFO ]    (hidden_layers): ModuleList(\n",
            "2022-04-08 15:04:56 [INFO ]      (0): Linear(in_features=2304, out_features=300, bias=True)\n",
            "2022-04-08 15:04:56 [INFO ]      (1): Tanh()\n",
            "2022-04-08 15:04:56 [INFO ]      (2): Linear(in_features=300, out_features=300, bias=True)\n",
            "2022-04-08 15:04:56 [INFO ]      (3): Tanh()\n",
            "2022-04-08 15:04:56 [INFO ]    )\n",
            "2022-04-08 15:04:56 [INFO ]    (criterion): CrossEntropyLoss()\n",
            "2022-04-08 15:04:56 [INFO ]  )\n",
            "2022-04-08 15:04:56 [INFO ]  Total number of parameters: 782402 \n",
            "\n",
            "2022-04-08 15:04:56 [INFO ]  Epoch:    0 [      0/   4936 ( 0%)]\tLoss: 0.6933\t Data Time: 0.01s\tTrain Time: 0.16s\n",
            "2022-04-08 15:04:58 [INFO ]  Evaluation at Epoch 0\n",
            "2022-04-08 15:04:58 [INFO ]  Validation accuracy: 73.58\tmacro_fscore: 73.57\tmicro_fscore: 73.58\tTPR_GAP: 14.85\tFPR_GAP: 14.85\tPPR_GAP: 12.45\t\n",
            "2022-04-08 15:04:58 [INFO ]  Test accuracy: 73.30\tmacro_fscore: 73.30\tmicro_fscore: 73.30\tTPR_GAP: 17.45\tFPR_GAP: 17.45\tPPR_GAP: 15.28\t\n",
            "2022-04-08 15:04:58 [INFO ]  Epoch:    1 [      0/   4936 ( 0%)]\tLoss: 0.5152\t Data Time: 0.01s\tTrain Time: 0.17s\n",
            "2022-04-08 15:05:00 [INFO ]  Evaluation at Epoch 1\n",
            "2022-04-08 15:05:00 [INFO ]  Validation accuracy: 74.20\tmacro_fscore: 74.19\tmicro_fscore: 74.20\tTPR_GAP: 10.18\tFPR_GAP: 10.18\tPPR_GAP: 4.25\t\n",
            "2022-04-08 15:05:00 [INFO ]  Test accuracy: 74.37\tmacro_fscore: 74.36\tmicro_fscore: 74.37\tTPR_GAP: 12.15\tFPR_GAP: 12.15\tPPR_GAP: 6.48\t\n",
            "2022-04-08 15:05:00 [INFO ]  Epoch:    2 [      0/   4936 ( 0%)]\tLoss: 0.5035\t Data Time: 0.01s\tTrain Time: 0.17s\n",
            "2022-04-08 15:05:02 [INFO ]  Evaluation at Epoch 2\n",
            "2022-04-08 15:05:02 [INFO ]  Validation accuracy: 74.39\tmacro_fscore: 74.27\tmicro_fscore: 74.39\tTPR_GAP: 12.15\tFPR_GAP: 12.15\tPPR_GAP: 7.27\t\n",
            "2022-04-08 15:05:02 [INFO ]  Test accuracy: 74.61\tmacro_fscore: 74.48\tmicro_fscore: 74.61\tTPR_GAP: 14.01\tFPR_GAP: 14.01\tPPR_GAP: 8.85\t\n",
            "2022-04-08 15:05:03 [INFO ]  Epoch:    3 [      0/   4936 ( 0%)]\tLoss: 0.5041\t Data Time: 0.01s\tTrain Time: 0.16s\n",
            "2022-04-08 15:05:05 [INFO ]  Evaluation at Epoch 3\n",
            "2022-04-08 15:05:05 [INFO ]  Validation accuracy: 74.62\tmacro_fscore: 74.61\tmicro_fscore: 74.62\tTPR_GAP: 10.87\tFPR_GAP: 10.87\tPPR_GAP: 4.90\t\n",
            "2022-04-08 15:05:05 [INFO ]  Test accuracy: 74.19\tmacro_fscore: 74.17\tmicro_fscore: 74.19\tTPR_GAP: 12.11\tFPR_GAP: 12.11\tPPR_GAP: 6.75\t\n",
            "2022-04-08 15:05:05 [INFO ]  Epoch:    4 [      0/   4936 ( 0%)]\tLoss: 0.4603\t Data Time: 0.01s\tTrain Time: 0.17s\n",
            "2022-04-08 15:05:06 [INFO ]  Epochs since last improvement: 1\n",
            "2022-04-08 15:05:07 [INFO ]  Evaluation at Epoch 4\n",
            "2022-04-08 15:05:07 [INFO ]  Validation accuracy: 74.22\tmacro_fscore: 74.18\tmicro_fscore: 74.22\tTPR_GAP: 11.70\tFPR_GAP: 11.70\tPPR_GAP: 6.40\t\n",
            "2022-04-08 15:05:07 [INFO ]  Test accuracy: 73.99\tmacro_fscore: 73.94\tmicro_fscore: 73.99\tTPR_GAP: 12.91\tFPR_GAP: 12.91\tPPR_GAP: 7.90\t\n",
            "2022-04-08 15:05:07 [INFO ]  Epoch:    5 [      0/   4936 ( 0%)]\tLoss: 0.4464\t Data Time: 0.01s\tTrain Time: 0.16s\n",
            "2022-04-08 15:05:08 [INFO ]  Epochs since last improvement: 2\n",
            "2022-04-08 15:05:09 [INFO ]  Evaluation at Epoch 5\n",
            "2022-04-08 15:05:09 [INFO ]  Validation accuracy: 73.32\tmacro_fscore: 73.27\tmicro_fscore: 73.32\tTPR_GAP: 11.79\tFPR_GAP: 11.79\tPPR_GAP: 6.85\t\n",
            "2022-04-08 15:05:09 [INFO ]  Test accuracy: 73.26\tmacro_fscore: 73.20\tmicro_fscore: 73.26\tTPR_GAP: 12.98\tFPR_GAP: 12.98\tPPR_GAP: 8.20\t\n",
            "2022-04-08 15:05:09 [INFO ]  Epoch:    6 [      0/   4936 ( 0%)]\tLoss: 0.4167\t Data Time: 0.01s\tTrain Time: 0.16s\n",
            "2022-04-08 15:05:10 [INFO ]  Epochs since last improvement: 3\n",
            "2022-04-08 15:05:11 [INFO ]  Evaluation at Epoch 6\n",
            "2022-04-08 15:05:11 [INFO ]  Validation accuracy: 72.15\tmacro_fscore: 72.10\tmicro_fscore: 72.15\tTPR_GAP: 10.67\tFPR_GAP: 10.67\tPPR_GAP: 3.85\t\n",
            "2022-04-08 15:05:11 [INFO ]  Test accuracy: 71.90\tmacro_fscore: 71.84\tmicro_fscore: 71.90\tTPR_GAP: 11.12\tFPR_GAP: 11.12\tPPR_GAP: 5.48\t\n",
            "2022-04-08 15:05:11 [INFO ]  Epoch:    7 [      0/   4936 ( 0%)]\tLoss: 0.4061\t Data Time: 0.01s\tTrain Time: 0.16s\n",
            "2022-04-08 15:05:13 [INFO ]  Epochs since last improvement: 4\n",
            "2022-04-08 15:05:13 [INFO ]  Evaluation at Epoch 7\n",
            "2022-04-08 15:05:13 [INFO ]  Validation accuracy: 72.28\tmacro_fscore: 72.21\tmicro_fscore: 72.28\tTPR_GAP: 9.48\tFPR_GAP: 9.48\tPPR_GAP: 1.20\t\n",
            "2022-04-08 15:05:13 [INFO ]  Test accuracy: 71.55\tmacro_fscore: 71.48\tmicro_fscore: 71.55\tTPR_GAP: 10.75\tFPR_GAP: 10.75\tPPR_GAP: 1.88\t\n",
            "2022-04-08 15:05:13 [INFO ]  Epoch:    8 [      0/   4936 ( 0%)]\tLoss: 0.3949\t Data Time: 0.01s\tTrain Time: 0.16s\n",
            "2022-04-08 15:05:15 [INFO ]  Epochs since last improvement: 5\n",
            "2022-04-08 15:05:15 [INFO ]  Evaluation at Epoch 8\n",
            "2022-04-08 15:05:15 [INFO ]  Validation accuracy: 71.86\tmacro_fscore: 71.85\tmicro_fscore: 71.86\tTPR_GAP: 10.86\tFPR_GAP: 10.86\tPPR_GAP: 4.82\t\n",
            "2022-04-08 15:05:15 [INFO ]  Test accuracy: 71.26\tmacro_fscore: 71.24\tmicro_fscore: 71.26\tTPR_GAP: 10.71\tFPR_GAP: 10.71\tPPR_GAP: 5.55\t\n"
          ]
        }
      ],
      "source": [
        "model_with_customized_dataset = fairlib.networks.get_main_model(customized_dataset_state)\n",
        "model_with_customized_dataset.train_self(\n",
        "    train_generator = customized_training_generator,\n",
        "    dev_generator = customized_validation_generator,\n",
        "    test_generator = customized_test_generator,\n",
        ")"
      ]
    },
    {
      "cell_type": "code",
      "execution_count": null,
      "metadata": {
        "id": "qqg_oDv90kV5"
      },
      "outputs": [],
      "source": []
    },
    {
      "cell_type": "code",
      "execution_count": null,
      "metadata": {
        "id": "cIG97xjU0kS3"
      },
      "outputs": [],
      "source": []
    }
  ],
  "metadata": {
    "colab": {
      "collapsed_sections": [],
      "name": "Basic demo.ipynb",
      "provenance": []
    },
    "interpreter": {
      "hash": "086b6e2ac5931a4f7a51b812f0475290a145e7d51f3e22b53c52adf5c273fe30"
    },
    "kernelspec": {
      "display_name": "Python 3.7.12 ('py37')",
      "language": "python",
      "name": "python3"
    },
    "language_info": {
      "codemirror_mode": {
        "name": "ipython",
        "version": 3
      },
      "file_extension": ".py",
      "mimetype": "text/x-python",
      "name": "python",
      "nbconvert_exporter": "python",
      "pygments_lexer": "ipython3",
      "version": "3.7.12"
    },
    "orig_nbformat": 4
  },
  "nbformat": 4,
  "nbformat_minor": 0
}
